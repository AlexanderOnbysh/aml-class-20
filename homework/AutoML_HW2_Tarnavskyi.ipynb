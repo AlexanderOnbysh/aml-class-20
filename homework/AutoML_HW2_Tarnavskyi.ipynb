{
 "cells": [
  {
   "cell_type": "markdown",
   "metadata": {},
   "source": [
    "# Build simple AML pipeline end-to-end"
   ]
  },
  {
   "cell_type": "markdown",
   "metadata": {},
   "source": [
    "### Dataset"
   ]
  },
  {
   "cell_type": "markdown",
   "metadata": {},
   "source": [
    "https://s3.amazonaws.com/datarobot_public_datasets/DR_Demo_Fire_Ins_Loss_only.csv\n",
    "\n",
    "It is a regression problem, target `loss`."
   ]
  },
  {
   "cell_type": "markdown",
   "metadata": {},
   "source": [
    "### Task"
   ]
  },
  {
   "cell_type": "markdown",
   "metadata": {},
   "source": [
    "Build a programm which\n",
    "\n",
    "### 1. Reads provided data."
   ]
  },
  {
   "cell_type": "code",
   "execution_count": 1,
   "metadata": {},
   "outputs": [],
   "source": [
    "import warnings\n",
    "warnings.filterwarnings('ignore')\n",
    "\n",
    "import numpy as np\n",
    "import pandas as pd\n",
    "pd.options.display.max_columns = 100"
   ]
  },
  {
   "cell_type": "code",
   "execution_count": 2,
   "metadata": {},
   "outputs": [
    {
     "data": {
      "text/html": [
       "<div>\n",
       "<style scoped>\n",
       "    .dataframe tbody tr th:only-of-type {\n",
       "        vertical-align: middle;\n",
       "    }\n",
       "\n",
       "    .dataframe tbody tr th {\n",
       "        vertical-align: top;\n",
       "    }\n",
       "\n",
       "    .dataframe thead th {\n",
       "        text-align: right;\n",
       "    }\n",
       "</style>\n",
       "<table border=\"1\" class=\"dataframe\">\n",
       "  <thead>\n",
       "    <tr style=\"text-align: right;\">\n",
       "      <th></th>\n",
       "      <th>loss</th>\n",
       "      <th>Exposure</th>\n",
       "      <th>Rating_Class</th>\n",
       "      <th>Sub_Rating_Class</th>\n",
       "      <th>Renewal_class</th>\n",
       "      <th>Sub_Renewal_Class</th>\n",
       "      <th>Property_size</th>\n",
       "      <th>Residents</th>\n",
       "      <th>Commercial</th>\n",
       "      <th>Norm_fire_risk</th>\n",
       "      <th>Norm_monthly_rent</th>\n",
       "      <th>Loan_mortgage</th>\n",
       "      <th>No_claim_Years</th>\n",
       "      <th>Previous_claims</th>\n",
       "      <th>Norm_area_m</th>\n",
       "      <th>Premium_remain</th>\n",
       "      <th>Premium_renew</th>\n",
       "      <th>Renewal_Type</th>\n",
       "      <th>crime_property_type</th>\n",
       "      <th>crime_residents</th>\n",
       "      <th>crime_area</th>\n",
       "      <th>crime_arson</th>\n",
       "      <th>crime_burglary</th>\n",
       "      <th>crime_neighbour_watch</th>\n",
       "      <th>crime_community</th>\n",
       "      <th>crime_risk</th>\n",
       "      <th>Geographical_risk</th>\n",
       "      <th>Weather_risk</th>\n",
       "      <th>ISO</th>\n",
       "      <th>ISO_cat</th>\n",
       "      <th>ISO_desc</th>\n",
       "    </tr>\n",
       "  </thead>\n",
       "  <tbody>\n",
       "    <tr>\n",
       "      <th>0</th>\n",
       "      <td>0.07</td>\n",
       "      <td>3.0</td>\n",
       "      <td>H1</td>\n",
       "      <td>NaN</td>\n",
       "      <td>NaN</td>\n",
       "      <td>NaN</td>\n",
       "      <td>3.0</td>\n",
       "      <td>4.0</td>\n",
       "      <td>NaN</td>\n",
       "      <td>4.314082</td>\n",
       "      <td>758.287544</td>\n",
       "      <td>2.673639</td>\n",
       "      <td>2.251423</td>\n",
       "      <td>0.0</td>\n",
       "      <td>10.0</td>\n",
       "      <td>NaN</td>\n",
       "      <td>0.000000</td>\n",
       "      <td>B</td>\n",
       "      <td>1.209807</td>\n",
       "      <td>1.064398</td>\n",
       "      <td>1.066522</td>\n",
       "      <td>0.939346</td>\n",
       "      <td>1.708534</td>\n",
       "      <td>0.808015</td>\n",
       "      <td>1.040819</td>\n",
       "      <td>1.171366</td>\n",
       "      <td>0.284447</td>\n",
       "      <td>0.313157</td>\n",
       "      <td>5</td>\n",
       "      <td>ISO 5 - Modified or Semi Fire Resistive (MFR o...</td>\n",
       "      <td>which and floors. greater roof _—– modified an...</td>\n",
       "    </tr>\n",
       "    <tr>\n",
       "      <th>1</th>\n",
       "      <td>0.13</td>\n",
       "      <td>NaN</td>\n",
       "      <td>M1</td>\n",
       "      <td>NaN</td>\n",
       "      <td>NaN</td>\n",
       "      <td>NaN</td>\n",
       "      <td>6.0</td>\n",
       "      <td>1.0</td>\n",
       "      <td>NaN</td>\n",
       "      <td>4.171214</td>\n",
       "      <td>1060.660172</td>\n",
       "      <td>2.709158</td>\n",
       "      <td>2.084180</td>\n",
       "      <td>NaN</td>\n",
       "      <td>NaN</td>\n",
       "      <td>NaN</td>\n",
       "      <td>86.666667</td>\n",
       "      <td>B</td>\n",
       "      <td>NaN</td>\n",
       "      <td>NaN</td>\n",
       "      <td>NaN</td>\n",
       "      <td>NaN</td>\n",
       "      <td>NaN</td>\n",
       "      <td>NaN</td>\n",
       "      <td>NaN</td>\n",
       "      <td>NaN</td>\n",
       "      <td>0.006305</td>\n",
       "      <td>0.889677</td>\n",
       "      <td>6</td>\n",
       "      <td>ISO 6 - Fire Resistive (FR)</td>\n",
       "      <td>bearing are walls deck/cover precast and/or co...</td>\n",
       "    </tr>\n",
       "  </tbody>\n",
       "</table>\n",
       "</div>"
      ],
      "text/plain": [
       "   loss  Exposure Rating_Class Sub_Rating_Class Renewal_class  \\\n",
       "0  0.07       3.0           H1              NaN           NaN   \n",
       "1  0.13       NaN           M1              NaN           NaN   \n",
       "\n",
       "  Sub_Renewal_Class  Property_size  Residents Commercial  Norm_fire_risk  \\\n",
       "0               NaN            3.0        4.0        NaN        4.314082   \n",
       "1               NaN            6.0        1.0        NaN        4.171214   \n",
       "\n",
       "   Norm_monthly_rent  Loan_mortgage  No_claim_Years  Previous_claims  \\\n",
       "0         758.287544       2.673639        2.251423              0.0   \n",
       "1        1060.660172       2.709158        2.084180              NaN   \n",
       "\n",
       "   Norm_area_m  Premium_remain  Premium_renew Renewal_Type  \\\n",
       "0         10.0             NaN       0.000000            B   \n",
       "1          NaN             NaN      86.666667            B   \n",
       "\n",
       "   crime_property_type  crime_residents  crime_area  crime_arson  \\\n",
       "0             1.209807         1.064398    1.066522     0.939346   \n",
       "1                  NaN              NaN         NaN          NaN   \n",
       "\n",
       "   crime_burglary  crime_neighbour_watch  crime_community  crime_risk  \\\n",
       "0        1.708534               0.808015         1.040819    1.171366   \n",
       "1             NaN                    NaN              NaN         NaN   \n",
       "\n",
       "   Geographical_risk  Weather_risk  ISO  \\\n",
       "0           0.284447      0.313157    5   \n",
       "1           0.006305      0.889677    6   \n",
       "\n",
       "                                             ISO_cat  \\\n",
       "0  ISO 5 - Modified or Semi Fire Resistive (MFR o...   \n",
       "1                        ISO 6 - Fire Resistive (FR)   \n",
       "\n",
       "                                            ISO_desc  \n",
       "0  which and floors. greater roof _—– modified an...  \n",
       "1  bearing are walls deck/cover precast and/or co...  "
      ]
     },
     "execution_count": 2,
     "metadata": {},
     "output_type": "execute_result"
    }
   ],
   "source": [
    "url = 'https://s3.amazonaws.com/datarobot_public_datasets/DR_Demo_Fire_Ins_Loss_only.csv'\n",
    "df = pd.read_csv(url)\n",
    "df.head(2)"
   ]
  },
  {
   "cell_type": "markdown",
   "metadata": {},
   "source": [
    "### 2. Does exploratory data analysis.\n",
    "\n",
    "\n",
    "For this step you need to distinguish between numeric/categorical/text/date features. You can keep this step simple and provide a dict with mapping like column name -> type. Ideally type detection is done automatically using different heurictics."
   ]
  },
  {
   "cell_type": "markdown",
   "metadata": {},
   "source": [
    "#### Data overview"
   ]
  },
  {
   "cell_type": "code",
   "execution_count": 3,
   "metadata": {},
   "outputs": [
    {
     "data": {
      "text/html": [
       "<div>\n",
       "<style scoped>\n",
       "    .dataframe tbody tr th:only-of-type {\n",
       "        vertical-align: middle;\n",
       "    }\n",
       "\n",
       "    .dataframe tbody tr th {\n",
       "        vertical-align: top;\n",
       "    }\n",
       "\n",
       "    .dataframe thead th {\n",
       "        text-align: right;\n",
       "    }\n",
       "</style>\n",
       "<table border=\"1\" class=\"dataframe\">\n",
       "  <thead>\n",
       "    <tr style=\"text-align: right;\">\n",
       "      <th></th>\n",
       "      <th>loss</th>\n",
       "      <th>Exposure</th>\n",
       "      <th>Rating_Class</th>\n",
       "      <th>Sub_Rating_Class</th>\n",
       "      <th>Renewal_class</th>\n",
       "      <th>Sub_Renewal_Class</th>\n",
       "      <th>Property_size</th>\n",
       "      <th>Residents</th>\n",
       "      <th>Commercial</th>\n",
       "      <th>Norm_fire_risk</th>\n",
       "      <th>Norm_monthly_rent</th>\n",
       "      <th>Loan_mortgage</th>\n",
       "      <th>No_claim_Years</th>\n",
       "      <th>Previous_claims</th>\n",
       "      <th>Norm_area_m</th>\n",
       "      <th>Premium_remain</th>\n",
       "      <th>Premium_renew</th>\n",
       "      <th>Renewal_Type</th>\n",
       "      <th>crime_property_type</th>\n",
       "      <th>crime_residents</th>\n",
       "      <th>crime_area</th>\n",
       "      <th>crime_arson</th>\n",
       "      <th>crime_burglary</th>\n",
       "      <th>crime_neighbour_watch</th>\n",
       "      <th>crime_community</th>\n",
       "      <th>crime_risk</th>\n",
       "      <th>Geographical_risk</th>\n",
       "      <th>Weather_risk</th>\n",
       "      <th>ISO</th>\n",
       "      <th>ISO_cat</th>\n",
       "      <th>ISO_desc</th>\n",
       "    </tr>\n",
       "  </thead>\n",
       "  <tbody>\n",
       "    <tr>\n",
       "      <th>count</th>\n",
       "      <td>1217.000000</td>\n",
       "      <td>210.000000</td>\n",
       "      <td>1130</td>\n",
       "      <td>5</td>\n",
       "      <td>124</td>\n",
       "      <td>103</td>\n",
       "      <td>1216.000000</td>\n",
       "      <td>1212.000000</td>\n",
       "      <td>998</td>\n",
       "      <td>1217.000000</td>\n",
       "      <td>1217.000000</td>\n",
       "      <td>196.000000</td>\n",
       "      <td>1217.000000</td>\n",
       "      <td>353.000000</td>\n",
       "      <td>1047.000000</td>\n",
       "      <td>184.000000</td>\n",
       "      <td>1217.000000</td>\n",
       "      <td>1217</td>\n",
       "      <td>923.000000</td>\n",
       "      <td>910.000000</td>\n",
       "      <td>923.000000</td>\n",
       "      <td>916.000000</td>\n",
       "      <td>922.000000</td>\n",
       "      <td>923.000000</td>\n",
       "      <td>903.000000</td>\n",
       "      <td>923.000000</td>\n",
       "      <td>1211.000000</td>\n",
       "      <td>1213.000000</td>\n",
       "      <td>1217.000000</td>\n",
       "      <td>1217</td>\n",
       "      <td>1217</td>\n",
       "    </tr>\n",
       "    <tr>\n",
       "      <th>unique</th>\n",
       "      <td>NaN</td>\n",
       "      <td>NaN</td>\n",
       "      <td>38</td>\n",
       "      <td>3</td>\n",
       "      <td>6</td>\n",
       "      <td>3</td>\n",
       "      <td>NaN</td>\n",
       "      <td>NaN</td>\n",
       "      <td>2</td>\n",
       "      <td>NaN</td>\n",
       "      <td>NaN</td>\n",
       "      <td>NaN</td>\n",
       "      <td>NaN</td>\n",
       "      <td>NaN</td>\n",
       "      <td>NaN</td>\n",
       "      <td>NaN</td>\n",
       "      <td>NaN</td>\n",
       "      <td>2</td>\n",
       "      <td>NaN</td>\n",
       "      <td>NaN</td>\n",
       "      <td>NaN</td>\n",
       "      <td>NaN</td>\n",
       "      <td>NaN</td>\n",
       "      <td>NaN</td>\n",
       "      <td>NaN</td>\n",
       "      <td>NaN</td>\n",
       "      <td>NaN</td>\n",
       "      <td>NaN</td>\n",
       "      <td>NaN</td>\n",
       "      <td>6</td>\n",
       "      <td>1217</td>\n",
       "    </tr>\n",
       "    <tr>\n",
       "      <th>top</th>\n",
       "      <td>NaN</td>\n",
       "      <td>NaN</td>\n",
       "      <td>H1</td>\n",
       "      <td>D</td>\n",
       "      <td>B</td>\n",
       "      <td>B</td>\n",
       "      <td>NaN</td>\n",
       "      <td>NaN</td>\n",
       "      <td>A</td>\n",
       "      <td>NaN</td>\n",
       "      <td>NaN</td>\n",
       "      <td>NaN</td>\n",
       "      <td>NaN</td>\n",
       "      <td>NaN</td>\n",
       "      <td>NaN</td>\n",
       "      <td>NaN</td>\n",
       "      <td>NaN</td>\n",
       "      <td>A</td>\n",
       "      <td>NaN</td>\n",
       "      <td>NaN</td>\n",
       "      <td>NaN</td>\n",
       "      <td>NaN</td>\n",
       "      <td>NaN</td>\n",
       "      <td>NaN</td>\n",
       "      <td>NaN</td>\n",
       "      <td>NaN</td>\n",
       "      <td>NaN</td>\n",
       "      <td>NaN</td>\n",
       "      <td>NaN</td>\n",
       "      <td>ISO 1 Frame (combustible walls or roof)</td>\n",
       "      <td>materials, combustible or comments where (buil...</td>\n",
       "    </tr>\n",
       "    <tr>\n",
       "      <th>freq</th>\n",
       "      <td>NaN</td>\n",
       "      <td>NaN</td>\n",
       "      <td>224</td>\n",
       "      <td>2</td>\n",
       "      <td>92</td>\n",
       "      <td>68</td>\n",
       "      <td>NaN</td>\n",
       "      <td>NaN</td>\n",
       "      <td>854</td>\n",
       "      <td>NaN</td>\n",
       "      <td>NaN</td>\n",
       "      <td>NaN</td>\n",
       "      <td>NaN</td>\n",
       "      <td>NaN</td>\n",
       "      <td>NaN</td>\n",
       "      <td>NaN</td>\n",
       "      <td>NaN</td>\n",
       "      <td>998</td>\n",
       "      <td>NaN</td>\n",
       "      <td>NaN</td>\n",
       "      <td>NaN</td>\n",
       "      <td>NaN</td>\n",
       "      <td>NaN</td>\n",
       "      <td>NaN</td>\n",
       "      <td>NaN</td>\n",
       "      <td>NaN</td>\n",
       "      <td>NaN</td>\n",
       "      <td>NaN</td>\n",
       "      <td>NaN</td>\n",
       "      <td>287</td>\n",
       "      <td>1</td>\n",
       "    </tr>\n",
       "    <tr>\n",
       "      <th>mean</th>\n",
       "      <td>0.080477</td>\n",
       "      <td>2.809524</td>\n",
       "      <td>NaN</td>\n",
       "      <td>NaN</td>\n",
       "      <td>NaN</td>\n",
       "      <td>NaN</td>\n",
       "      <td>3.820724</td>\n",
       "      <td>2.514026</td>\n",
       "      <td>NaN</td>\n",
       "      <td>4.040762</td>\n",
       "      <td>1852.694145</td>\n",
       "      <td>3.286935</td>\n",
       "      <td>1.010640</td>\n",
       "      <td>0.320084</td>\n",
       "      <td>34.265521</td>\n",
       "      <td>69.201087</td>\n",
       "      <td>71.641081</td>\n",
       "      <td>NaN</td>\n",
       "      <td>1.002025</td>\n",
       "      <td>0.958211</td>\n",
       "      <td>0.989317</td>\n",
       "      <td>0.954384</td>\n",
       "      <td>1.044832</td>\n",
       "      <td>0.982719</td>\n",
       "      <td>0.962596</td>\n",
       "      <td>0.992618</td>\n",
       "      <td>1.125001</td>\n",
       "      <td>0.918192</td>\n",
       "      <td>2.889071</td>\n",
       "      <td>NaN</td>\n",
       "      <td>NaN</td>\n",
       "    </tr>\n",
       "    <tr>\n",
       "      <th>std</th>\n",
       "      <td>0.050425</td>\n",
       "      <td>0.726731</td>\n",
       "      <td>NaN</td>\n",
       "      <td>NaN</td>\n",
       "      <td>NaN</td>\n",
       "      <td>NaN</td>\n",
       "      <td>1.598589</td>\n",
       "      <td>1.318972</td>\n",
       "      <td>NaN</td>\n",
       "      <td>0.232445</td>\n",
       "      <td>1678.089181</td>\n",
       "      <td>0.243295</td>\n",
       "      <td>0.769526</td>\n",
       "      <td>0.500960</td>\n",
       "      <td>25.261731</td>\n",
       "      <td>43.405041</td>\n",
       "      <td>32.708544</td>\n",
       "      <td>NaN</td>\n",
       "      <td>0.439617</td>\n",
       "      <td>0.403047</td>\n",
       "      <td>0.407156</td>\n",
       "      <td>0.238484</td>\n",
       "      <td>0.523383</td>\n",
       "      <td>0.490376</td>\n",
       "      <td>0.254882</td>\n",
       "      <td>0.358018</td>\n",
       "      <td>1.918566</td>\n",
       "      <td>1.094440</td>\n",
       "      <td>1.598731</td>\n",
       "      <td>NaN</td>\n",
       "      <td>NaN</td>\n",
       "    </tr>\n",
       "    <tr>\n",
       "      <th>min</th>\n",
       "      <td>0.010000</td>\n",
       "      <td>1.000000</td>\n",
       "      <td>NaN</td>\n",
       "      <td>NaN</td>\n",
       "      <td>NaN</td>\n",
       "      <td>NaN</td>\n",
       "      <td>1.000000</td>\n",
       "      <td>1.000000</td>\n",
       "      <td>NaN</td>\n",
       "      <td>3.776480</td>\n",
       "      <td>500.000000</td>\n",
       "      <td>2.673639</td>\n",
       "      <td>0.000000</td>\n",
       "      <td>0.000000</td>\n",
       "      <td>0.000000</td>\n",
       "      <td>0.000000</td>\n",
       "      <td>0.000000</td>\n",
       "      <td>NaN</td>\n",
       "      <td>0.083394</td>\n",
       "      <td>0.360578</td>\n",
       "      <td>0.065520</td>\n",
       "      <td>0.472193</td>\n",
       "      <td>0.154595</td>\n",
       "      <td>0.000000</td>\n",
       "      <td>0.522494</td>\n",
       "      <td>0.175763</td>\n",
       "      <td>0.000000</td>\n",
       "      <td>0.000000</td>\n",
       "      <td>1.000000</td>\n",
       "      <td>NaN</td>\n",
       "      <td>NaN</td>\n",
       "    </tr>\n",
       "    <tr>\n",
       "      <th>25%</th>\n",
       "      <td>0.040000</td>\n",
       "      <td>2.000000</td>\n",
       "      <td>NaN</td>\n",
       "      <td>NaN</td>\n",
       "      <td>NaN</td>\n",
       "      <td>NaN</td>\n",
       "      <td>3.000000</td>\n",
       "      <td>1.000000</td>\n",
       "      <td>NaN</td>\n",
       "      <td>3.898949</td>\n",
       "      <td>783.693499</td>\n",
       "      <td>3.144307</td>\n",
       "      <td>0.000000</td>\n",
       "      <td>0.000000</td>\n",
       "      <td>16.000000</td>\n",
       "      <td>4.000000</td>\n",
       "      <td>58.695652</td>\n",
       "      <td>NaN</td>\n",
       "      <td>0.699736</td>\n",
       "      <td>0.625186</td>\n",
       "      <td>0.687961</td>\n",
       "      <td>0.739102</td>\n",
       "      <td>0.572656</td>\n",
       "      <td>0.686813</td>\n",
       "      <td>0.739831</td>\n",
       "      <td>0.767780</td>\n",
       "      <td>0.091752</td>\n",
       "      <td>0.273559</td>\n",
       "      <td>2.000000</td>\n",
       "      <td>NaN</td>\n",
       "      <td>NaN</td>\n",
       "    </tr>\n",
       "    <tr>\n",
       "      <th>50%</th>\n",
       "      <td>0.070000</td>\n",
       "      <td>3.000000</td>\n",
       "      <td>NaN</td>\n",
       "      <td>NaN</td>\n",
       "      <td>NaN</td>\n",
       "      <td>NaN</td>\n",
       "      <td>3.500000</td>\n",
       "      <td>2.000000</td>\n",
       "      <td>NaN</td>\n",
       "      <td>3.898949</td>\n",
       "      <td>1232.882801</td>\n",
       "      <td>3.339025</td>\n",
       "      <td>1.048147</td>\n",
       "      <td>0.000000</td>\n",
       "      <td>30.000000</td>\n",
       "      <td>99.000000</td>\n",
       "      <td>85.564503</td>\n",
       "      <td>NaN</td>\n",
       "      <td>0.912543</td>\n",
       "      <td>0.903848</td>\n",
       "      <td>0.924562</td>\n",
       "      <td>0.942690</td>\n",
       "      <td>1.019386</td>\n",
       "      <td>0.989819</td>\n",
       "      <td>0.924495</td>\n",
       "      <td>0.974872</td>\n",
       "      <td>0.392954</td>\n",
       "      <td>0.550059</td>\n",
       "      <td>3.000000</td>\n",
       "      <td>NaN</td>\n",
       "      <td>NaN</td>\n",
       "    </tr>\n",
       "    <tr>\n",
       "      <th>75%</th>\n",
       "      <td>0.100000</td>\n",
       "      <td>3.000000</td>\n",
       "      <td>NaN</td>\n",
       "      <td>NaN</td>\n",
       "      <td>NaN</td>\n",
       "      <td>NaN</td>\n",
       "      <td>5.000000</td>\n",
       "      <td>4.000000</td>\n",
       "      <td>NaN</td>\n",
       "      <td>4.171214</td>\n",
       "      <td>2248.569323</td>\n",
       "      <td>3.474623</td>\n",
       "      <td>1.665109</td>\n",
       "      <td>0.832555</td>\n",
       "      <td>47.000000</td>\n",
       "      <td>100.000000</td>\n",
       "      <td>97.560858</td>\n",
       "      <td>NaN</td>\n",
       "      <td>1.209807</td>\n",
       "      <td>1.210431</td>\n",
       "      <td>1.190282</td>\n",
       "      <td>1.130489</td>\n",
       "      <td>1.322650</td>\n",
       "      <td>1.191823</td>\n",
       "      <td>1.110430</td>\n",
       "      <td>1.193020</td>\n",
       "      <td>1.059832</td>\n",
       "      <td>1.204226</td>\n",
       "      <td>4.000000</td>\n",
       "      <td>NaN</td>\n",
       "      <td>NaN</td>\n",
       "    </tr>\n",
       "    <tr>\n",
       "      <th>max</th>\n",
       "      <td>0.200000</td>\n",
       "      <td>5.000000</td>\n",
       "      <td>NaN</td>\n",
       "      <td>NaN</td>\n",
       "      <td>NaN</td>\n",
       "      <td>NaN</td>\n",
       "      <td>8.000000</td>\n",
       "      <td>6.000000</td>\n",
       "      <td>NaN</td>\n",
       "      <td>5.123351</td>\n",
       "      <td>13296.240070</td>\n",
       "      <td>3.714656</td>\n",
       "      <td>2.639501</td>\n",
       "      <td>1.893018</td>\n",
       "      <td>208.000000</td>\n",
       "      <td>100.000000</td>\n",
       "      <td>100.000000</td>\n",
       "      <td>NaN</td>\n",
       "      <td>2.952696</td>\n",
       "      <td>2.970605</td>\n",
       "      <td>4.145968</td>\n",
       "      <td>1.926021</td>\n",
       "      <td>2.391149</td>\n",
       "      <td>4.322882</td>\n",
       "      <td>2.043525</td>\n",
       "      <td>2.641966</td>\n",
       "      <td>8.548033</td>\n",
       "      <td>9.098934</td>\n",
       "      <td>6.000000</td>\n",
       "      <td>NaN</td>\n",
       "      <td>NaN</td>\n",
       "    </tr>\n",
       "  </tbody>\n",
       "</table>\n",
       "</div>"
      ],
      "text/plain": [
       "               loss    Exposure Rating_Class Sub_Rating_Class Renewal_class  \\\n",
       "count   1217.000000  210.000000         1130                5           124   \n",
       "unique          NaN         NaN           38                3             6   \n",
       "top             NaN         NaN           H1                D             B   \n",
       "freq            NaN         NaN          224                2            92   \n",
       "mean       0.080477    2.809524          NaN              NaN           NaN   \n",
       "std        0.050425    0.726731          NaN              NaN           NaN   \n",
       "min        0.010000    1.000000          NaN              NaN           NaN   \n",
       "25%        0.040000    2.000000          NaN              NaN           NaN   \n",
       "50%        0.070000    3.000000          NaN              NaN           NaN   \n",
       "75%        0.100000    3.000000          NaN              NaN           NaN   \n",
       "max        0.200000    5.000000          NaN              NaN           NaN   \n",
       "\n",
       "       Sub_Renewal_Class  Property_size    Residents Commercial  \\\n",
       "count                103    1216.000000  1212.000000        998   \n",
       "unique                 3            NaN          NaN          2   \n",
       "top                    B            NaN          NaN          A   \n",
       "freq                  68            NaN          NaN        854   \n",
       "mean                 NaN       3.820724     2.514026        NaN   \n",
       "std                  NaN       1.598589     1.318972        NaN   \n",
       "min                  NaN       1.000000     1.000000        NaN   \n",
       "25%                  NaN       3.000000     1.000000        NaN   \n",
       "50%                  NaN       3.500000     2.000000        NaN   \n",
       "75%                  NaN       5.000000     4.000000        NaN   \n",
       "max                  NaN       8.000000     6.000000        NaN   \n",
       "\n",
       "        Norm_fire_risk  Norm_monthly_rent  Loan_mortgage  No_claim_Years  \\\n",
       "count      1217.000000        1217.000000     196.000000     1217.000000   \n",
       "unique             NaN                NaN            NaN             NaN   \n",
       "top                NaN                NaN            NaN             NaN   \n",
       "freq               NaN                NaN            NaN             NaN   \n",
       "mean          4.040762        1852.694145       3.286935        1.010640   \n",
       "std           0.232445        1678.089181       0.243295        0.769526   \n",
       "min           3.776480         500.000000       2.673639        0.000000   \n",
       "25%           3.898949         783.693499       3.144307        0.000000   \n",
       "50%           3.898949        1232.882801       3.339025        1.048147   \n",
       "75%           4.171214        2248.569323       3.474623        1.665109   \n",
       "max           5.123351       13296.240070       3.714656        2.639501   \n",
       "\n",
       "        Previous_claims  Norm_area_m  Premium_remain  Premium_renew  \\\n",
       "count        353.000000  1047.000000      184.000000    1217.000000   \n",
       "unique              NaN          NaN             NaN            NaN   \n",
       "top                 NaN          NaN             NaN            NaN   \n",
       "freq                NaN          NaN             NaN            NaN   \n",
       "mean           0.320084    34.265521       69.201087      71.641081   \n",
       "std            0.500960    25.261731       43.405041      32.708544   \n",
       "min            0.000000     0.000000        0.000000       0.000000   \n",
       "25%            0.000000    16.000000        4.000000      58.695652   \n",
       "50%            0.000000    30.000000       99.000000      85.564503   \n",
       "75%            0.832555    47.000000      100.000000      97.560858   \n",
       "max            1.893018   208.000000      100.000000     100.000000   \n",
       "\n",
       "       Renewal_Type  crime_property_type  crime_residents  crime_area  \\\n",
       "count          1217           923.000000       910.000000  923.000000   \n",
       "unique            2                  NaN              NaN         NaN   \n",
       "top               A                  NaN              NaN         NaN   \n",
       "freq            998                  NaN              NaN         NaN   \n",
       "mean            NaN             1.002025         0.958211    0.989317   \n",
       "std             NaN             0.439617         0.403047    0.407156   \n",
       "min             NaN             0.083394         0.360578    0.065520   \n",
       "25%             NaN             0.699736         0.625186    0.687961   \n",
       "50%             NaN             0.912543         0.903848    0.924562   \n",
       "75%             NaN             1.209807         1.210431    1.190282   \n",
       "max             NaN             2.952696         2.970605    4.145968   \n",
       "\n",
       "        crime_arson  crime_burglary  crime_neighbour_watch  crime_community  \\\n",
       "count    916.000000      922.000000             923.000000       903.000000   \n",
       "unique          NaN             NaN                    NaN              NaN   \n",
       "top             NaN             NaN                    NaN              NaN   \n",
       "freq            NaN             NaN                    NaN              NaN   \n",
       "mean       0.954384        1.044832               0.982719         0.962596   \n",
       "std        0.238484        0.523383               0.490376         0.254882   \n",
       "min        0.472193        0.154595               0.000000         0.522494   \n",
       "25%        0.739102        0.572656               0.686813         0.739831   \n",
       "50%        0.942690        1.019386               0.989819         0.924495   \n",
       "75%        1.130489        1.322650               1.191823         1.110430   \n",
       "max        1.926021        2.391149               4.322882         2.043525   \n",
       "\n",
       "        crime_risk  Geographical_risk  Weather_risk          ISO  \\\n",
       "count   923.000000        1211.000000   1213.000000  1217.000000   \n",
       "unique         NaN                NaN           NaN          NaN   \n",
       "top            NaN                NaN           NaN          NaN   \n",
       "freq           NaN                NaN           NaN          NaN   \n",
       "mean      0.992618           1.125001      0.918192     2.889071   \n",
       "std       0.358018           1.918566      1.094440     1.598731   \n",
       "min       0.175763           0.000000      0.000000     1.000000   \n",
       "25%       0.767780           0.091752      0.273559     2.000000   \n",
       "50%       0.974872           0.392954      0.550059     3.000000   \n",
       "75%       1.193020           1.059832      1.204226     4.000000   \n",
       "max       2.641966           8.548033      9.098934     6.000000   \n",
       "\n",
       "                                        ISO_cat  \\\n",
       "count                                      1217   \n",
       "unique                                        6   \n",
       "top     ISO 1 Frame (combustible walls or roof)   \n",
       "freq                                        287   \n",
       "mean                                        NaN   \n",
       "std                                         NaN   \n",
       "min                                         NaN   \n",
       "25%                                         NaN   \n",
       "50%                                         NaN   \n",
       "75%                                         NaN   \n",
       "max                                         NaN   \n",
       "\n",
       "                                                 ISO_desc  \n",
       "count                                                1217  \n",
       "unique                                               1217  \n",
       "top     materials, combustible or comments where (buil...  \n",
       "freq                                                    1  \n",
       "mean                                                  NaN  \n",
       "std                                                   NaN  \n",
       "min                                                   NaN  \n",
       "25%                                                   NaN  \n",
       "50%                                                   NaN  \n",
       "75%                                                   NaN  \n",
       "max                                                   NaN  "
      ]
     },
     "execution_count": 3,
     "metadata": {},
     "output_type": "execute_result"
    }
   ],
   "source": [
    "df.describe(include='all')"
   ]
  },
  {
   "cell_type": "code",
   "execution_count": 4,
   "metadata": {},
   "outputs": [
    {
     "name": "stdout",
     "output_type": "stream",
     "text": [
      "<class 'pandas.core.frame.DataFrame'>\n",
      "RangeIndex: 1217 entries, 0 to 1216\n",
      "Data columns (total 31 columns):\n",
      " #   Column                 Non-Null Count  Dtype  \n",
      "---  ------                 --------------  -----  \n",
      " 0   loss                   1217 non-null   float64\n",
      " 1   Exposure               210 non-null    float64\n",
      " 2   Rating_Class           1130 non-null   object \n",
      " 3   Sub_Rating_Class       5 non-null      object \n",
      " 4   Renewal_class          124 non-null    object \n",
      " 5   Sub_Renewal_Class      103 non-null    object \n",
      " 6   Property_size          1216 non-null   float64\n",
      " 7   Residents              1212 non-null   float64\n",
      " 8   Commercial             998 non-null    object \n",
      " 9   Norm_fire_risk         1217 non-null   float64\n",
      " 10  Norm_monthly_rent      1217 non-null   float64\n",
      " 11  Loan_mortgage          196 non-null    float64\n",
      " 12  No_claim_Years         1217 non-null   float64\n",
      " 13  Previous_claims        353 non-null    float64\n",
      " 14  Norm_area_m            1047 non-null   float64\n",
      " 15  Premium_remain         184 non-null    float64\n",
      " 16  Premium_renew          1217 non-null   float64\n",
      " 17  Renewal_Type           1217 non-null   object \n",
      " 18  crime_property_type    923 non-null    float64\n",
      " 19  crime_residents        910 non-null    float64\n",
      " 20  crime_area             923 non-null    float64\n",
      " 21  crime_arson            916 non-null    float64\n",
      " 22  crime_burglary         922 non-null    float64\n",
      " 23  crime_neighbour_watch  923 non-null    float64\n",
      " 24  crime_community        903 non-null    float64\n",
      " 25  crime_risk             923 non-null    float64\n",
      " 26  Geographical_risk      1211 non-null   float64\n",
      " 27  Weather_risk           1213 non-null   float64\n",
      " 28  ISO                    1217 non-null   int64  \n",
      " 29  ISO_cat                1217 non-null   object \n",
      " 30  ISO_desc               1217 non-null   object \n",
      "dtypes: float64(22), int64(1), object(8)\n",
      "memory usage: 294.9+ KB\n"
     ]
    }
   ],
   "source": [
    "df.info()"
   ]
  },
  {
   "cell_type": "markdown",
   "metadata": {},
   "source": [
    "#### Determine the type of feature"
   ]
  },
  {
   "cell_type": "code",
   "execution_count": 5,
   "metadata": {},
   "outputs": [],
   "source": [
    "def get_features_types(X, max_unique_for_categoric = 40):\n",
    "    features_dict = {\n",
    "        \"numeric\": [],\n",
    "        \"categoric\": [],\n",
    "        \"text\": [],\n",
    "        \"boolean\": [],\n",
    "        \"constant\": []\n",
    "    }\n",
    "    for col in X.columns:\n",
    "        values_in_column = X[col]\n",
    "        dtype = str(values_in_column.dtype)\n",
    "        count_unique = values_in_column.fillna(\"missing\").unique().shape[0]\n",
    "        if count_unique == 1:\n",
    "            features_dict[\"constant\"].append(col)\n",
    "\n",
    "        elif count_unique == 2:\n",
    "            features_dict[\"boolean\"].append(col)\n",
    "\n",
    "        elif dtype == 'float64':\n",
    "            features_dict[\"numeric\"].append(col)\n",
    "\n",
    "        elif dtype == 'int64':\n",
    "            if count_unique <= max_unique_for_categoric:\n",
    "                features_dict[\"categoric\"].append(col)\n",
    "\n",
    "            else:\n",
    "                features_dict[\"numeric\"].append(col)\n",
    "\n",
    "        elif dtype == 'object':\n",
    "            if count_unique <= max_unique_for_categoric:\n",
    "                features_dict[\"categoric\"].append(col)\n",
    "\n",
    "            else:\n",
    "                features_dict[\"text\"].append(col)\n",
    "                \n",
    "    return features_dict"
   ]
  },
  {
   "cell_type": "code",
   "execution_count": 6,
   "metadata": {},
   "outputs": [],
   "source": [
    "X = df.drop(\"loss\", axis=1)\n",
    "y = df[\"loss\"]\n",
    "\n",
    "features_dict = get_features_types(X, max_unique_for_categoric = 40)\n",
    "#features_dict"
   ]
  },
  {
   "cell_type": "code",
   "execution_count": 7,
   "metadata": {},
   "outputs": [
    {
     "data": {
      "text/html": [
       "<h4>Numeric features</h4>"
      ],
      "text/plain": [
       "<IPython.core.display.HTML object>"
      ]
     },
     "metadata": {},
     "output_type": "display_data"
    },
    {
     "data": {
      "text/plain": [
       "['Exposure',\n",
       " 'Property_size',\n",
       " 'Residents',\n",
       " 'Norm_fire_risk',\n",
       " 'Norm_monthly_rent',\n",
       " 'Loan_mortgage',\n",
       " 'No_claim_Years',\n",
       " 'Previous_claims',\n",
       " 'Norm_area_m',\n",
       " 'Premium_remain',\n",
       " 'Premium_renew',\n",
       " 'crime_property_type',\n",
       " 'crime_residents',\n",
       " 'crime_area',\n",
       " 'crime_arson',\n",
       " 'crime_burglary',\n",
       " 'crime_neighbour_watch',\n",
       " 'crime_community',\n",
       " 'crime_risk',\n",
       " 'Geographical_risk',\n",
       " 'Weather_risk']"
      ]
     },
     "metadata": {},
     "output_type": "display_data"
    },
    {
     "data": {
      "text/html": [
       "<h4>Categoric features</h4>"
      ],
      "text/plain": [
       "<IPython.core.display.HTML object>"
      ]
     },
     "metadata": {},
     "output_type": "display_data"
    },
    {
     "data": {
      "text/plain": [
       "['Rating_Class',\n",
       " 'Sub_Rating_Class',\n",
       " 'Renewal_class',\n",
       " 'Sub_Renewal_Class',\n",
       " 'Commercial',\n",
       " 'ISO',\n",
       " 'ISO_cat']"
      ]
     },
     "metadata": {},
     "output_type": "display_data"
    },
    {
     "data": {
      "text/html": [
       "<h4>Text features</h4>"
      ],
      "text/plain": [
       "<IPython.core.display.HTML object>"
      ]
     },
     "metadata": {},
     "output_type": "display_data"
    },
    {
     "data": {
      "text/plain": [
       "['ISO_desc']"
      ]
     },
     "metadata": {},
     "output_type": "display_data"
    },
    {
     "data": {
      "text/html": [
       "<h4>Boolean features</h4>"
      ],
      "text/plain": [
       "<IPython.core.display.HTML object>"
      ]
     },
     "metadata": {},
     "output_type": "display_data"
    },
    {
     "data": {
      "text/plain": [
       "['Renewal_Type']"
      ]
     },
     "metadata": {},
     "output_type": "display_data"
    }
   ],
   "source": [
    "from IPython.display import HTML\n",
    "\n",
    "def display_features_types(features_dict):\n",
    "    for key, values in features_dict.items():\n",
    "        if len(values)>0:\n",
    "            upper_key = key[0].upper()+key[1:]\n",
    "            display(HTML(\"<h4>\"+upper_key+\" features</h4>\"))\n",
    "            display(values)\n",
    "\n",
    "display_features_types(features_dict)"
   ]
  },
  {
   "cell_type": "markdown",
   "metadata": {},
   "source": [
    "### 3. (Optional) Does feature enginering."
   ]
  },
  {
   "cell_type": "markdown",
   "metadata": {},
   "source": [
    "You don't want to do things like one-hot encoding or normalization here cause it for different models it will de different. It is more about creating new features like extract day of moth/month of year from dates; or removing potentially useless features like IDs."
   ]
  },
  {
   "cell_type": "markdown",
   "metadata": {},
   "source": [
    "### 4. Does CV partitioning (keep 10-20% for holdout)."
   ]
  },
  {
   "cell_type": "code",
   "execution_count": 8,
   "metadata": {},
   "outputs": [],
   "source": [
    "from sklearn.model_selection import train_test_split\n",
    "\n",
    "X_train, X_test, y_train, y_test = train_test_split(X, y, test_size=0.1, random_state=0, shuffle=True)"
   ]
  },
  {
   "cell_type": "markdown",
   "metadata": {},
   "source": [
    "### 5. Builds a pipeline which can train model."
   ]
  },
  {
   "cell_type": "markdown",
   "metadata": {},
   "source": [
    "As we discussed during the class, pipeline should be able to preprocess features (encoding, imputation, normalization), and fit a model.\n",
    "\n",
    "\n",
    "```\n",
    "categorical  ->  imputation        -> one-hot encoding ->\n",
    "numeric      ->  imputation        -> standarization   -> linear regression\n",
    "text         ->  tf-idf            ->                  ->\n",
    "```\n",
    "\n",
    "You can build multiple pipelines: for linear regression and tree based model like Random Forest. But single model pipeline also works. Note: lookout for preprocessing for linear models vs trees"
   ]
  },
  {
   "cell_type": "code",
   "execution_count": 9,
   "metadata": {},
   "outputs": [],
   "source": [
    "from sklearn.pipeline import Pipeline\n",
    "from sklearn.base import BaseEstimator, TransformerMixin, clone\n",
    "from sklearn.impute import SimpleImputer\n",
    "from sklearn.compose import ColumnTransformer\n",
    "from sklearn.preprocessing import StandardScaler, OneHotEncoder\n",
    "from sklearn.metrics import mean_absolute_error\n",
    "from sklearn.preprocessing import OneHotEncoder\n",
    "from sklearn.linear_model import ElasticNet\n",
    "from sklearn.feature_extraction.text import CountVectorizer, TfidfVectorizer\n",
    "from sklearn.feature_selection import SelectFromModel\n",
    "from sklearn.ensemble import RandomForestRegressor\n",
    "from sklearn.metrics import mean_absolute_error\n",
    "import copy"
   ]
  },
  {
   "cell_type": "code",
   "execution_count": 10,
   "metadata": {},
   "outputs": [
    {
     "data": {
      "text/plain": [
       "Pipeline(memory=None,\n",
       "     steps=[('preprocessor', ColumnTransformer(n_jobs=None, remainder='drop', sparse_threshold=0.3,\n",
       "         transformer_weights=None,\n",
       "         transformers=[('num', Pipeline(memory=None,\n",
       "     steps=[('imputer', SimpleImputer(copy=True, fill_value=-99999, missing_values=nan,\n",
       "       strategy='constant', v...imators=10, n_jobs=-1,\n",
       "           oob_score=False, random_state=None, verbose=0, warm_start=False))])"
      ]
     },
     "execution_count": 10,
     "metadata": {},
     "output_type": "execute_result"
    }
   ],
   "source": [
    "numeric_pipeline = Pipeline(steps=[\n",
    "    ('imputer', SimpleImputer(strategy='constant', fill_value=-99999)),\n",
    "    ])\n",
    "\n",
    "categoric_pipeline = Pipeline(steps=[\n",
    "    ('imputer', SimpleImputer(strategy='constant', fill_value='missing')),\n",
    "    ('onehot', OneHotEncoder(handle_unknown='ignore')),\n",
    "    ('fx_selection', SelectFromModel(ElasticNet(alpha=0.7), threshold=\"1.25*mean\"))\n",
    "])\n",
    "\n",
    "\n",
    "text_pipeline = Pipeline(steps=[\n",
    "    ('bow', TfidfVectorizer(max_df=0.95, min_df=0.05, stop_words='english'))\n",
    "])\n",
    "\n",
    "\n",
    "preprocessor = ColumnTransformer(\n",
    "    transformers=[\n",
    "        ('num', numeric_pipeline, features_dict[\"numeric\"]),\n",
    "        ('cat', categoric_pipeline, np.concatenate((features_dict[\"categoric\"],features_dict[\"boolean\"]), axis=0)),\n",
    "        ('text', text_pipeline, features_dict[\"text\"][0])\n",
    "    ])\n",
    "\n",
    "# Append estimator to preprocessing pipeline.\n",
    "# Now we have a full prediction pipeline.\n",
    "est = Pipeline(steps=[('preprocessor', preprocessor),\n",
    "                      ('rf', RandomForestRegressor(n_estimators=10, criterion='mae', n_jobs=-1))])\n",
    "\n",
    "est.fit(X_train, y_train)"
   ]
  },
  {
   "cell_type": "code",
   "execution_count": 11,
   "metadata": {},
   "outputs": [
    {
     "name": "stdout",
     "output_type": "stream",
     "text": [
      "model score: 0.040\n"
     ]
    }
   ],
   "source": [
    "print(\"model score: %.3f\" % mean_absolute_error(y_test, est.predict(X_test)))"
   ]
  },
  {
   "cell_type": "markdown",
   "metadata": {},
   "source": [
    "### 6. Optimizes hyperparameters of models. Use GridSearch, RandomSearch or Bayesian optimization."
   ]
  },
  {
   "cell_type": "markdown",
   "metadata": {},
   "source": [
    "#### GridSearch"
   ]
  },
  {
   "cell_type": "code",
   "execution_count": 12,
   "metadata": {},
   "outputs": [
    {
     "name": "stdout",
     "output_type": "stream",
     "text": [
      "Fitting 3 folds for each of 6 candidates, totalling 18 fits\n"
     ]
    },
    {
     "name": "stderr",
     "output_type": "stream",
     "text": [
      "[Parallel(n_jobs=-1)]: Using backend LokyBackend with 4 concurrent workers.\n",
      "[Parallel(n_jobs=-1)]: Done  18 out of  18 | elapsed:   45.9s finished\n"
     ]
    },
    {
     "name": "stdout",
     "output_type": "stream",
     "text": [
      "best params: {'rf__max_depth': 50, 'rf__n_estimators': 20}\n",
      "model score: 0.040\n",
      "CPU times: user 25.7 s, sys: 82.3 ms, total: 25.8 s\n",
      "Wall time: 53.1 s\n"
     ]
    }
   ],
   "source": [
    "%%time\n",
    "from sklearn.model_selection import GridSearchCV\n",
    "\n",
    "gs = GridSearchCV(estimator=est, param_grid={'rf__n_estimators':[10,20], 'rf__max_depth':[10,50,None]}, \n",
    "                  scoring='neg_mean_absolute_error', cv=3, refit=True, verbose=1, n_jobs=-1)\n",
    "\n",
    "gs.fit(X_train, y_train)\n",
    "\n",
    "print(\"best params: {}\".format(gs.best_params_))\n",
    "print(\"model score: %.3f\" % mean_absolute_error(y_test, gs.best_estimator_.predict(X_test)))"
   ]
  },
  {
   "cell_type": "markdown",
   "metadata": {},
   "source": [
    "#### RandomSearch"
   ]
  },
  {
   "cell_type": "code",
   "execution_count": 13,
   "metadata": {},
   "outputs": [
    {
     "name": "stdout",
     "output_type": "stream",
     "text": [
      "Fitting 3 folds for each of 6 candidates, totalling 18 fits\n"
     ]
    },
    {
     "name": "stderr",
     "output_type": "stream",
     "text": [
      "[Parallel(n_jobs=-1)]: Using backend LokyBackend with 4 concurrent workers.\n",
      "[Parallel(n_jobs=-1)]: Done  18 out of  18 | elapsed:   45.8s finished\n"
     ]
    },
    {
     "name": "stdout",
     "output_type": "stream",
     "text": [
      "CPU times: user 24 s, sys: 33.2 ms, total: 24 s\n",
      "Wall time: 52.5 s\n"
     ]
    }
   ],
   "source": [
    "%%time\n",
    "\n",
    "from sklearn.model_selection import RandomizedSearchCV\n",
    "from scipy.stats import randint\n",
    "\n",
    "\n",
    "param_dist = {\n",
    "    'rf__n_estimators': randint(10,21), #The number of trees in the forest.\n",
    "    'rf__max_depth': randint(10,51)  #The maximum depth of the tree.\n",
    "    #'min_samples_split': randint(2,5),\n",
    "    #'max_features': randint(2,11), #The number of features to consider when looking for the best split\n",
    "    #'criterion': ['mse', 'mae']\n",
    "}\n",
    "\n",
    "rs = RandomizedSearchCV(estimator=est, param_distributions=param_dist, scoring='neg_mean_squared_error', n_iter=6, n_jobs=-1, cv=3, verbose=1)\n",
    "\n",
    "rs = rs.fit(X,y)"
   ]
  },
  {
   "cell_type": "code",
   "execution_count": 14,
   "metadata": {},
   "outputs": [
    {
     "name": "stdout",
     "output_type": "stream",
     "text": [
      "best params: {'rf__max_depth': 35, 'rf__n_estimators': 16}\n",
      "model score: 0.014\n"
     ]
    }
   ],
   "source": [
    "print(\"best params: {}\".format(rs.best_params_))\n",
    "print(\"model score: %.3f\" % mean_absolute_error(y_test, rs.best_estimator_.predict(X_test)))"
   ]
  },
  {
   "cell_type": "markdown",
   "metadata": {},
   "source": [
    "#### Bayesian optimization"
   ]
  },
  {
   "cell_type": "code",
   "execution_count": 32,
   "metadata": {},
   "outputs": [
    {
     "name": "stdout",
     "output_type": "stream",
     "text": [
      "val. score: -0.002065622521369547\n",
      "test score: -0.002086468319246696\n",
      "CPU times: user 4min 27s, sys: 952 ms, total: 4min 28s\n",
      "Wall time: 1min 28s\n"
     ]
    }
   ],
   "source": [
    "%%time\n",
    "\n",
    "from skopt import BayesSearchCV\n",
    "from skopt.space import Real, Categorical, Integer\n",
    "\n",
    "opt = BayesSearchCV(\n",
    "    est,\n",
    "     {\n",
    "        'rf__n_estimators':Integer(10, 21),\n",
    "        'rf__max_depth':Integer(10, 51)\n",
    "        #'rf__min_samples_split':Integer(2, 5),\n",
    "        #'criterion': Categorical(['mse', 'mae'])\n",
    "         \n",
    "    },\n",
    "    optimizer_kwargs={'base_estimator': 'RF'},\n",
    "    n_iter=6,\n",
    "    cv=4,\n",
    "    scoring='neg_mean_squared_error',\n",
    "    random_state=0\n",
    ")\n",
    "opt.fit(X_train, y_train)\n",
    "\n",
    "print(\"val. score: %s\" % opt.best_score_)\n",
    "print(\"test score: %s\" % opt.score(X_test, y_test))"
   ]
  },
  {
   "cell_type": "code",
   "execution_count": 33,
   "metadata": {},
   "outputs": [
    {
     "data": {
      "text/plain": [
       "OrderedDict([('rf__max_depth', 11), ('rf__n_estimators', 17)])"
      ]
     },
     "execution_count": 33,
     "metadata": {},
     "output_type": "execute_result"
    }
   ],
   "source": [
    "opt.best_params_"
   ]
  },
  {
   "cell_type": "markdown",
   "metadata": {},
   "source": [
    "### 7. Reports scores of models."
   ]
  },
  {
   "cell_type": "code",
   "execution_count": 28,
   "metadata": {},
   "outputs": [],
   "source": [
    "def show_search_scores(opt, negative_loss = True):\n",
    "    search_scores = pd.DataFrame(opt.cv_results_)\n",
    "    search_scores = search_scores[[\"rank_test_score\", \"mean_test_score\", \"std_test_score\", \"param_rf__max_depth\", \"param_rf__n_estimators\"]]\n",
    "    search_scores = search_scores.sort_values(\"rank_test_score\")\n",
    "    if negative_loss:\n",
    "        search_scores[\"mean_test_score\"] = -1*search_scores[\"mean_test_score\"]\n",
    "    display(HTML(search_scores.to_html(index=False)))"
   ]
  },
  {
   "cell_type": "markdown",
   "metadata": {},
   "source": [
    "#### Scores from GridSearch"
   ]
  },
  {
   "cell_type": "code",
   "execution_count": 29,
   "metadata": {},
   "outputs": [
    {
     "data": {
      "text/html": [
       "<table border=\"1\" class=\"dataframe\">\n",
       "  <thead>\n",
       "    <tr style=\"text-align: right;\">\n",
       "      <th>rank_test_score</th>\n",
       "      <th>mean_test_score</th>\n",
       "      <th>std_test_score</th>\n",
       "      <th>param_rf__max_depth</th>\n",
       "      <th>param_rf__n_estimators</th>\n",
       "    </tr>\n",
       "  </thead>\n",
       "  <tbody>\n",
       "    <tr>\n",
       "      <td>1</td>\n",
       "      <td>0.036458</td>\n",
       "      <td>0.001900</td>\n",
       "      <td>50</td>\n",
       "      <td>20</td>\n",
       "    </tr>\n",
       "    <tr>\n",
       "      <td>2</td>\n",
       "      <td>0.036666</td>\n",
       "      <td>0.001678</td>\n",
       "      <td>10</td>\n",
       "      <td>20</td>\n",
       "    </tr>\n",
       "    <tr>\n",
       "      <td>3</td>\n",
       "      <td>0.037009</td>\n",
       "      <td>0.002330</td>\n",
       "      <td>None</td>\n",
       "      <td>10</td>\n",
       "    </tr>\n",
       "    <tr>\n",
       "      <td>4</td>\n",
       "      <td>0.037149</td>\n",
       "      <td>0.001741</td>\n",
       "      <td>None</td>\n",
       "      <td>20</td>\n",
       "    </tr>\n",
       "    <tr>\n",
       "      <td>5</td>\n",
       "      <td>0.037383</td>\n",
       "      <td>0.002410</td>\n",
       "      <td>10</td>\n",
       "      <td>10</td>\n",
       "    </tr>\n",
       "    <tr>\n",
       "      <td>6</td>\n",
       "      <td>0.037834</td>\n",
       "      <td>0.001779</td>\n",
       "      <td>50</td>\n",
       "      <td>10</td>\n",
       "    </tr>\n",
       "  </tbody>\n",
       "</table>"
      ],
      "text/plain": [
       "<IPython.core.display.HTML object>"
      ]
     },
     "metadata": {},
     "output_type": "display_data"
    }
   ],
   "source": [
    "show_search_scores(gs)"
   ]
  },
  {
   "cell_type": "markdown",
   "metadata": {},
   "source": [
    "#### Scores from RandomSearch"
   ]
  },
  {
   "cell_type": "code",
   "execution_count": 30,
   "metadata": {
    "scrolled": true
   },
   "outputs": [
    {
     "data": {
      "text/html": [
       "<table border=\"1\" class=\"dataframe\">\n",
       "  <thead>\n",
       "    <tr style=\"text-align: right;\">\n",
       "      <th>rank_test_score</th>\n",
       "      <th>mean_test_score</th>\n",
       "      <th>std_test_score</th>\n",
       "      <th>param_rf__max_depth</th>\n",
       "      <th>param_rf__n_estimators</th>\n",
       "    </tr>\n",
       "  </thead>\n",
       "  <tbody>\n",
       "    <tr>\n",
       "      <td>1</td>\n",
       "      <td>0.002504</td>\n",
       "      <td>0.001297</td>\n",
       "      <td>35</td>\n",
       "      <td>16</td>\n",
       "    </tr>\n",
       "    <tr>\n",
       "      <td>2</td>\n",
       "      <td>0.002586</td>\n",
       "      <td>0.001323</td>\n",
       "      <td>13</td>\n",
       "      <td>10</td>\n",
       "    </tr>\n",
       "    <tr>\n",
       "      <td>3</td>\n",
       "      <td>0.002608</td>\n",
       "      <td>0.001266</td>\n",
       "      <td>22</td>\n",
       "      <td>17</td>\n",
       "    </tr>\n",
       "    <tr>\n",
       "      <td>4</td>\n",
       "      <td>0.002611</td>\n",
       "      <td>0.001290</td>\n",
       "      <td>33</td>\n",
       "      <td>11</td>\n",
       "    </tr>\n",
       "    <tr>\n",
       "      <td>5</td>\n",
       "      <td>0.002631</td>\n",
       "      <td>0.001231</td>\n",
       "      <td>45</td>\n",
       "      <td>12</td>\n",
       "    </tr>\n",
       "    <tr>\n",
       "      <td>6</td>\n",
       "      <td>0.002706</td>\n",
       "      <td>0.001151</td>\n",
       "      <td>24</td>\n",
       "      <td>10</td>\n",
       "    </tr>\n",
       "  </tbody>\n",
       "</table>"
      ],
      "text/plain": [
       "<IPython.core.display.HTML object>"
      ]
     },
     "metadata": {},
     "output_type": "display_data"
    }
   ],
   "source": [
    "show_search_scores(rs)"
   ]
  },
  {
   "cell_type": "markdown",
   "metadata": {},
   "source": [
    "#### Scores from Bayesian optimization"
   ]
  },
  {
   "cell_type": "code",
   "execution_count": 34,
   "metadata": {},
   "outputs": [
    {
     "data": {
      "text/html": [
       "<table border=\"1\" class=\"dataframe\">\n",
       "  <thead>\n",
       "    <tr style=\"text-align: right;\">\n",
       "      <th>rank_test_score</th>\n",
       "      <th>mean_test_score</th>\n",
       "      <th>std_test_score</th>\n",
       "      <th>param_rf__max_depth</th>\n",
       "      <th>param_rf__n_estimators</th>\n",
       "    </tr>\n",
       "  </thead>\n",
       "  <tbody>\n",
       "    <tr>\n",
       "      <td>1</td>\n",
       "      <td>0.002066</td>\n",
       "      <td>0.000270</td>\n",
       "      <td>11</td>\n",
       "      <td>17</td>\n",
       "    </tr>\n",
       "    <tr>\n",
       "      <td>2</td>\n",
       "      <td>0.002079</td>\n",
       "      <td>0.000276</td>\n",
       "      <td>24</td>\n",
       "      <td>15</td>\n",
       "    </tr>\n",
       "    <tr>\n",
       "      <td>3</td>\n",
       "      <td>0.002080</td>\n",
       "      <td>0.000226</td>\n",
       "      <td>27</td>\n",
       "      <td>17</td>\n",
       "    </tr>\n",
       "    <tr>\n",
       "      <td>4</td>\n",
       "      <td>0.002109</td>\n",
       "      <td>0.000285</td>\n",
       "      <td>39</td>\n",
       "      <td>13</td>\n",
       "    </tr>\n",
       "    <tr>\n",
       "      <td>5</td>\n",
       "      <td>0.002141</td>\n",
       "      <td>0.000221</td>\n",
       "      <td>14</td>\n",
       "      <td>15</td>\n",
       "    </tr>\n",
       "    <tr>\n",
       "      <td>6</td>\n",
       "      <td>0.002233</td>\n",
       "      <td>0.000258</td>\n",
       "      <td>40</td>\n",
       "      <td>10</td>\n",
       "    </tr>\n",
       "  </tbody>\n",
       "</table>"
      ],
      "text/plain": [
       "<IPython.core.display.HTML object>"
      ]
     },
     "metadata": {},
     "output_type": "display_data"
    }
   ],
   "source": [
    "show_search_scores(opt)"
   ]
  }
 ],
 "metadata": {
  "kernelspec": {
   "display_name": "Python 3",
   "language": "python",
   "name": "python3"
  },
  "language_info": {
   "codemirror_mode": {
    "name": "ipython",
    "version": 3
   },
   "file_extension": ".py",
   "mimetype": "text/x-python",
   "name": "python",
   "nbconvert_exporter": "python",
   "pygments_lexer": "ipython3",
   "version": "3.7.7"
  }
 },
 "nbformat": 4,
 "nbformat_minor": 4
}
