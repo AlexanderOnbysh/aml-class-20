{
 "cells": [
  {
   "cell_type": "code",
   "execution_count": 34,
   "metadata": {},
   "outputs": [],
   "source": [
    "import pandas as pd\n",
    "import numpy as np\n",
    "import matplotlib.pyplot as plt\n",
    "\n",
    "from sklearn.metrics import mean_absolute_error\n",
    "from sklearn.pipeline import Pipeline\n",
    "from sklearn.preprocessing import StandardScaler, OneHotEncoder\n",
    "from sklearn.linear_model import LinearRegression, ElasticNet, Ridge\n",
    "from sklearn.ensemble import RandomForestRegressor\n",
    "from sklearn.model_selection import train_test_split, GridSearchCV, KFold, cross_val_score\n",
    "from sklearn.compose import ColumnTransformer\n",
    "from sklearn.impute import SimpleImputer, KNNImputer\n",
    "from sklearn.feature_extraction.text import CountVectorizer, TfidfTransformer\n",
    "from sklearn.base import BaseEstimator, TransformerMixin, clone\n",
    "from sklearn.feature_selection import SelectFromModel\n",
    "from sklearn.svm import SVR"
   ]
  },
  {
   "cell_type": "markdown",
   "metadata": {},
   "source": [
    "## Task\n",
    "\n",
    "Build a programm which\n",
    "\n",
    "1. Reads provided data."
   ]
  },
  {
   "cell_type": "code",
   "execution_count": 35,
   "metadata": {},
   "outputs": [],
   "source": [
    "data = pd.read_csv(\"DR_Demo_Fire_Ins_Loss_only.csv\")\n",
    "X = data.drop(columns='loss')\n",
    "y = data.loss"
   ]
  },
  {
   "cell_type": "markdown",
   "metadata": {},
   "source": [
    "2. Does exploratory data analysis."
   ]
  },
  {
   "cell_type": "code",
   "execution_count": 36,
   "metadata": {},
   "outputs": [
    {
     "data": {
      "text/html": [
       "<div>\n",
       "<style scoped>\n",
       "    .dataframe tbody tr th:only-of-type {\n",
       "        vertical-align: middle;\n",
       "    }\n",
       "\n",
       "    .dataframe tbody tr th {\n",
       "        vertical-align: top;\n",
       "    }\n",
       "\n",
       "    .dataframe thead th {\n",
       "        text-align: right;\n",
       "    }\n",
       "</style>\n",
       "<table border=\"1\" class=\"dataframe\">\n",
       "  <thead>\n",
       "    <tr style=\"text-align: right;\">\n",
       "      <th></th>\n",
       "      <th>loss</th>\n",
       "      <th>Exposure</th>\n",
       "      <th>Property_size</th>\n",
       "      <th>Residents</th>\n",
       "      <th>Norm_fire_risk</th>\n",
       "      <th>Norm_monthly_rent</th>\n",
       "      <th>Loan_mortgage</th>\n",
       "      <th>No_claim_Years</th>\n",
       "      <th>Previous_claims</th>\n",
       "      <th>Norm_area_m</th>\n",
       "      <th>...</th>\n",
       "      <th>crime_residents</th>\n",
       "      <th>crime_area</th>\n",
       "      <th>crime_arson</th>\n",
       "      <th>crime_burglary</th>\n",
       "      <th>crime_neighbour_watch</th>\n",
       "      <th>crime_community</th>\n",
       "      <th>crime_risk</th>\n",
       "      <th>Geographical_risk</th>\n",
       "      <th>Weather_risk</th>\n",
       "      <th>ISO</th>\n",
       "    </tr>\n",
       "  </thead>\n",
       "  <tbody>\n",
       "    <tr>\n",
       "      <td>count</td>\n",
       "      <td>1217.000000</td>\n",
       "      <td>210.000000</td>\n",
       "      <td>1216.000000</td>\n",
       "      <td>1212.000000</td>\n",
       "      <td>1217.000000</td>\n",
       "      <td>1217.000000</td>\n",
       "      <td>196.000000</td>\n",
       "      <td>1217.000000</td>\n",
       "      <td>353.000000</td>\n",
       "      <td>1047.000000</td>\n",
       "      <td>...</td>\n",
       "      <td>910.000000</td>\n",
       "      <td>923.000000</td>\n",
       "      <td>916.000000</td>\n",
       "      <td>922.000000</td>\n",
       "      <td>923.000000</td>\n",
       "      <td>903.000000</td>\n",
       "      <td>923.000000</td>\n",
       "      <td>1211.000000</td>\n",
       "      <td>1213.000000</td>\n",
       "      <td>1217.000000</td>\n",
       "    </tr>\n",
       "    <tr>\n",
       "      <td>mean</td>\n",
       "      <td>0.080477</td>\n",
       "      <td>2.809524</td>\n",
       "      <td>3.820724</td>\n",
       "      <td>2.514026</td>\n",
       "      <td>4.040762</td>\n",
       "      <td>1852.694145</td>\n",
       "      <td>3.286935</td>\n",
       "      <td>1.010640</td>\n",
       "      <td>0.320084</td>\n",
       "      <td>34.265521</td>\n",
       "      <td>...</td>\n",
       "      <td>0.958211</td>\n",
       "      <td>0.989317</td>\n",
       "      <td>0.954384</td>\n",
       "      <td>1.044832</td>\n",
       "      <td>0.982719</td>\n",
       "      <td>0.962596</td>\n",
       "      <td>0.992618</td>\n",
       "      <td>1.125001</td>\n",
       "      <td>0.918192</td>\n",
       "      <td>2.889071</td>\n",
       "    </tr>\n",
       "    <tr>\n",
       "      <td>std</td>\n",
       "      <td>0.050425</td>\n",
       "      <td>0.726731</td>\n",
       "      <td>1.598589</td>\n",
       "      <td>1.318972</td>\n",
       "      <td>0.232445</td>\n",
       "      <td>1678.089181</td>\n",
       "      <td>0.243295</td>\n",
       "      <td>0.769526</td>\n",
       "      <td>0.500960</td>\n",
       "      <td>25.261731</td>\n",
       "      <td>...</td>\n",
       "      <td>0.403047</td>\n",
       "      <td>0.407156</td>\n",
       "      <td>0.238484</td>\n",
       "      <td>0.523383</td>\n",
       "      <td>0.490376</td>\n",
       "      <td>0.254882</td>\n",
       "      <td>0.358018</td>\n",
       "      <td>1.918566</td>\n",
       "      <td>1.094440</td>\n",
       "      <td>1.598731</td>\n",
       "    </tr>\n",
       "    <tr>\n",
       "      <td>min</td>\n",
       "      <td>0.010000</td>\n",
       "      <td>1.000000</td>\n",
       "      <td>1.000000</td>\n",
       "      <td>1.000000</td>\n",
       "      <td>3.776480</td>\n",
       "      <td>500.000000</td>\n",
       "      <td>2.673639</td>\n",
       "      <td>0.000000</td>\n",
       "      <td>0.000000</td>\n",
       "      <td>0.000000</td>\n",
       "      <td>...</td>\n",
       "      <td>0.360578</td>\n",
       "      <td>0.065520</td>\n",
       "      <td>0.472193</td>\n",
       "      <td>0.154595</td>\n",
       "      <td>0.000000</td>\n",
       "      <td>0.522494</td>\n",
       "      <td>0.175763</td>\n",
       "      <td>0.000000</td>\n",
       "      <td>0.000000</td>\n",
       "      <td>1.000000</td>\n",
       "    </tr>\n",
       "    <tr>\n",
       "      <td>25%</td>\n",
       "      <td>0.040000</td>\n",
       "      <td>2.000000</td>\n",
       "      <td>3.000000</td>\n",
       "      <td>1.000000</td>\n",
       "      <td>3.898949</td>\n",
       "      <td>783.693499</td>\n",
       "      <td>3.144307</td>\n",
       "      <td>0.000000</td>\n",
       "      <td>0.000000</td>\n",
       "      <td>16.000000</td>\n",
       "      <td>...</td>\n",
       "      <td>0.625186</td>\n",
       "      <td>0.687961</td>\n",
       "      <td>0.739102</td>\n",
       "      <td>0.572656</td>\n",
       "      <td>0.686813</td>\n",
       "      <td>0.739831</td>\n",
       "      <td>0.767780</td>\n",
       "      <td>0.091752</td>\n",
       "      <td>0.273559</td>\n",
       "      <td>2.000000</td>\n",
       "    </tr>\n",
       "    <tr>\n",
       "      <td>50%</td>\n",
       "      <td>0.070000</td>\n",
       "      <td>3.000000</td>\n",
       "      <td>3.500000</td>\n",
       "      <td>2.000000</td>\n",
       "      <td>3.898949</td>\n",
       "      <td>1232.882801</td>\n",
       "      <td>3.339025</td>\n",
       "      <td>1.048147</td>\n",
       "      <td>0.000000</td>\n",
       "      <td>30.000000</td>\n",
       "      <td>...</td>\n",
       "      <td>0.903848</td>\n",
       "      <td>0.924562</td>\n",
       "      <td>0.942690</td>\n",
       "      <td>1.019386</td>\n",
       "      <td>0.989819</td>\n",
       "      <td>0.924495</td>\n",
       "      <td>0.974872</td>\n",
       "      <td>0.392954</td>\n",
       "      <td>0.550059</td>\n",
       "      <td>3.000000</td>\n",
       "    </tr>\n",
       "    <tr>\n",
       "      <td>75%</td>\n",
       "      <td>0.100000</td>\n",
       "      <td>3.000000</td>\n",
       "      <td>5.000000</td>\n",
       "      <td>4.000000</td>\n",
       "      <td>4.171214</td>\n",
       "      <td>2248.569323</td>\n",
       "      <td>3.474623</td>\n",
       "      <td>1.665109</td>\n",
       "      <td>0.832555</td>\n",
       "      <td>47.000000</td>\n",
       "      <td>...</td>\n",
       "      <td>1.210431</td>\n",
       "      <td>1.190282</td>\n",
       "      <td>1.130489</td>\n",
       "      <td>1.322650</td>\n",
       "      <td>1.191823</td>\n",
       "      <td>1.110430</td>\n",
       "      <td>1.193020</td>\n",
       "      <td>1.059832</td>\n",
       "      <td>1.204226</td>\n",
       "      <td>4.000000</td>\n",
       "    </tr>\n",
       "    <tr>\n",
       "      <td>max</td>\n",
       "      <td>0.200000</td>\n",
       "      <td>5.000000</td>\n",
       "      <td>8.000000</td>\n",
       "      <td>6.000000</td>\n",
       "      <td>5.123351</td>\n",
       "      <td>13296.240070</td>\n",
       "      <td>3.714656</td>\n",
       "      <td>2.639501</td>\n",
       "      <td>1.893018</td>\n",
       "      <td>208.000000</td>\n",
       "      <td>...</td>\n",
       "      <td>2.970605</td>\n",
       "      <td>4.145968</td>\n",
       "      <td>1.926021</td>\n",
       "      <td>2.391149</td>\n",
       "      <td>4.322882</td>\n",
       "      <td>2.043525</td>\n",
       "      <td>2.641966</td>\n",
       "      <td>8.548033</td>\n",
       "      <td>9.098934</td>\n",
       "      <td>6.000000</td>\n",
       "    </tr>\n",
       "  </tbody>\n",
       "</table>\n",
       "<p>8 rows × 23 columns</p>\n",
       "</div>"
      ],
      "text/plain": [
       "              loss    Exposure  Property_size    Residents  Norm_fire_risk  \\\n",
       "count  1217.000000  210.000000    1216.000000  1212.000000     1217.000000   \n",
       "mean      0.080477    2.809524       3.820724     2.514026        4.040762   \n",
       "std       0.050425    0.726731       1.598589     1.318972        0.232445   \n",
       "min       0.010000    1.000000       1.000000     1.000000        3.776480   \n",
       "25%       0.040000    2.000000       3.000000     1.000000        3.898949   \n",
       "50%       0.070000    3.000000       3.500000     2.000000        3.898949   \n",
       "75%       0.100000    3.000000       5.000000     4.000000        4.171214   \n",
       "max       0.200000    5.000000       8.000000     6.000000        5.123351   \n",
       "\n",
       "       Norm_monthly_rent  Loan_mortgage  No_claim_Years  Previous_claims  \\\n",
       "count        1217.000000     196.000000     1217.000000       353.000000   \n",
       "mean         1852.694145       3.286935        1.010640         0.320084   \n",
       "std          1678.089181       0.243295        0.769526         0.500960   \n",
       "min           500.000000       2.673639        0.000000         0.000000   \n",
       "25%           783.693499       3.144307        0.000000         0.000000   \n",
       "50%          1232.882801       3.339025        1.048147         0.000000   \n",
       "75%          2248.569323       3.474623        1.665109         0.832555   \n",
       "max         13296.240070       3.714656        2.639501         1.893018   \n",
       "\n",
       "       Norm_area_m  ...  crime_residents  crime_area  crime_arson  \\\n",
       "count  1047.000000  ...       910.000000  923.000000   916.000000   \n",
       "mean     34.265521  ...         0.958211    0.989317     0.954384   \n",
       "std      25.261731  ...         0.403047    0.407156     0.238484   \n",
       "min       0.000000  ...         0.360578    0.065520     0.472193   \n",
       "25%      16.000000  ...         0.625186    0.687961     0.739102   \n",
       "50%      30.000000  ...         0.903848    0.924562     0.942690   \n",
       "75%      47.000000  ...         1.210431    1.190282     1.130489   \n",
       "max     208.000000  ...         2.970605    4.145968     1.926021   \n",
       "\n",
       "       crime_burglary  crime_neighbour_watch  crime_community  crime_risk  \\\n",
       "count      922.000000             923.000000       903.000000  923.000000   \n",
       "mean         1.044832               0.982719         0.962596    0.992618   \n",
       "std          0.523383               0.490376         0.254882    0.358018   \n",
       "min          0.154595               0.000000         0.522494    0.175763   \n",
       "25%          0.572656               0.686813         0.739831    0.767780   \n",
       "50%          1.019386               0.989819         0.924495    0.974872   \n",
       "75%          1.322650               1.191823         1.110430    1.193020   \n",
       "max          2.391149               4.322882         2.043525    2.641966   \n",
       "\n",
       "       Geographical_risk  Weather_risk          ISO  \n",
       "count        1211.000000   1213.000000  1217.000000  \n",
       "mean            1.125001      0.918192     2.889071  \n",
       "std             1.918566      1.094440     1.598731  \n",
       "min             0.000000      0.000000     1.000000  \n",
       "25%             0.091752      0.273559     2.000000  \n",
       "50%             0.392954      0.550059     3.000000  \n",
       "75%             1.059832      1.204226     4.000000  \n",
       "max             8.548033      9.098934     6.000000  \n",
       "\n",
       "[8 rows x 23 columns]"
      ]
     },
     "execution_count": 36,
     "metadata": {},
     "output_type": "execute_result"
    }
   ],
   "source": [
    "data.describe()"
   ]
  },
  {
   "cell_type": "code",
   "execution_count": 37,
   "metadata": {},
   "outputs": [
    {
     "data": {
      "text/plain": [
       "loss                        0\n",
       "Exposure                 1007\n",
       "Rating_Class               87\n",
       "Sub_Rating_Class         1212\n",
       "Renewal_class            1093\n",
       "Sub_Renewal_Class        1114\n",
       "Property_size               1\n",
       "Residents                   5\n",
       "Commercial                219\n",
       "Norm_fire_risk              0\n",
       "Norm_monthly_rent           0\n",
       "Loan_mortgage            1021\n",
       "No_claim_Years              0\n",
       "Previous_claims           864\n",
       "Norm_area_m               170\n",
       "Premium_remain           1033\n",
       "Premium_renew               0\n",
       "Renewal_Type                0\n",
       "crime_property_type       294\n",
       "crime_residents           307\n",
       "crime_area                294\n",
       "crime_arson               301\n",
       "crime_burglary            295\n",
       "crime_neighbour_watch     294\n",
       "crime_community           314\n",
       "crime_risk                294\n",
       "Geographical_risk           6\n",
       "Weather_risk                4\n",
       "ISO                         0\n",
       "ISO_cat                     0\n",
       "ISO_desc                    0\n",
       "dtype: int64"
      ]
     },
     "execution_count": 37,
     "metadata": {},
     "output_type": "execute_result"
    }
   ],
   "source": [
    "data.isna().sum()"
   ]
  },
  {
   "cell_type": "code",
   "execution_count": 38,
   "metadata": {},
   "outputs": [
    {
     "data": {
      "text/plain": [
       "loss                     float64\n",
       "Exposure                 float64\n",
       "Rating_Class              object\n",
       "Sub_Rating_Class          object\n",
       "Renewal_class             object\n",
       "Sub_Renewal_Class         object\n",
       "Property_size            float64\n",
       "Residents                float64\n",
       "Commercial                object\n",
       "Norm_fire_risk           float64\n",
       "Norm_monthly_rent        float64\n",
       "Loan_mortgage            float64\n",
       "No_claim_Years           float64\n",
       "Previous_claims          float64\n",
       "Norm_area_m              float64\n",
       "Premium_remain           float64\n",
       "Premium_renew            float64\n",
       "Renewal_Type              object\n",
       "crime_property_type      float64\n",
       "crime_residents          float64\n",
       "crime_area               float64\n",
       "crime_arson              float64\n",
       "crime_burglary           float64\n",
       "crime_neighbour_watch    float64\n",
       "crime_community          float64\n",
       "crime_risk               float64\n",
       "Geographical_risk        float64\n",
       "Weather_risk             float64\n",
       "ISO                        int64\n",
       "ISO_cat                   object\n",
       "ISO_desc                  object\n",
       "dtype: object"
      ]
     },
     "execution_count": 38,
     "metadata": {},
     "output_type": "execute_result"
    }
   ],
   "source": [
    "data.dtypes"
   ]
  },
  {
   "cell_type": "markdown",
   "metadata": {},
   "source": [
    "3. Does feature enginering."
   ]
  },
  {
   "cell_type": "code",
   "execution_count": 39,
   "metadata": {},
   "outputs": [],
   "source": [
    "data = data.drop(columns=data.columns[data.isna().sum() > len(data)/1.5])"
   ]
  },
  {
   "cell_type": "code",
   "execution_count": 40,
   "metadata": {},
   "outputs": [],
   "source": [
    "numeric_features = list(data.select_dtypes([\"float\", 'int']).drop(columns='loss'))\n",
    "categorical_features = list(data.select_dtypes([\"object\"]).drop(columns='ISO_desc'))\n",
    "text_features = ['ISO_desc']"
   ]
  },
  {
   "cell_type": "markdown",
   "metadata": {},
   "source": [
    "4. Does CV partitioning (keep 10-20% for holdout)."
   ]
  },
  {
   "cell_type": "code",
   "execution_count": 41,
   "metadata": {},
   "outputs": [],
   "source": [
    "from sklearn.model_selection import train_test_split\n",
    "\n",
    "X_train, X_test, y_train, y_test = train_test_split(\n",
    "    data.drop(columns=['loss']), data.loss, test_size=0.2, random_state=42)\n",
    "\n",
    "y_train = y_train.values\n",
    "y_test = y_test.values"
   ]
  },
  {
   "cell_type": "code",
   "execution_count": 42,
   "metadata": {},
   "outputs": [
    {
     "name": "stdout",
     "output_type": "stream",
     "text": [
      "train data size:  973\n",
      "test data size:  244\n"
     ]
    }
   ],
   "source": [
    "print('train data size: ',len(X_train))\n",
    "print('test data size: ',len(X_test))"
   ]
  },
  {
   "cell_type": "markdown",
   "metadata": {},
   "source": [
    "5. Builds a pipeline which can train model."
   ]
  },
  {
   "cell_type": "code",
   "execution_count": 43,
   "metadata": {},
   "outputs": [
    {
     "name": "stdout",
     "output_type": "stream",
     "text": [
      "LR model MSE score: 0.041\n",
      "RF model MSE score: 0.036\n",
      "Ridge model MSE score: 0.041\n",
      "SVM_rbf model MSE score: 0.052\n"
     ]
    }
   ],
   "source": [
    "class StackingTransformer(BaseEstimator, TransformerMixin):\n",
    "    \"\"\"A transformer that wraps a RegressorMixin `est` predict function.\n",
    "    \n",
    "    It overloads `fit_transform` to do a stacked transform to avoid leakage.\n",
    "    \"\"\"\n",
    "    def __init__(self, est):\n",
    "        self.est = est\n",
    "        \n",
    "    def fit(self, X, y=None):\n",
    "        if y is None:\n",
    "            raise ValueError('{}.fit requires y to be not None'.format(self))\n",
    "        self.est.fit(X, y)\n",
    "        return self\n",
    "    \n",
    "    def transform(self, X):\n",
    "        return self.est.predict(X)[:, np.newaxis]\n",
    "    \n",
    "    def fit_transform(self, X, y=None):\n",
    "        if y is None:\n",
    "            raise ValueError('{}.fit requires y to be not None'.format(self))\n",
    "        self.models_ = []\n",
    "        out = np.empty_like(y)[:, np.newaxis]\n",
    "        for train, test in KFold(5, shuffle=True, random_state=0).split(X):\n",
    "            self.models_.append(clone(self.est).fit(X[train], y[train]))\n",
    "            out[test, 0] = self.models_[-1].predict(X[test])\n",
    "        self.est = self.models_[0]\n",
    "        return out\n",
    "\n",
    "\n",
    "numeric_pipeline = Pipeline(steps=[\n",
    "    ('imputer', KNNImputer()),\n",
    "#     ('scaler', StandardScaler())\n",
    "    ])\n",
    "\n",
    "categorical_pipeline = Pipeline(steps=[\n",
    "    ('imputer', SimpleImputer(strategy='constant', fill_value='missing')),\n",
    "    ('onehot', OneHotEncoder(handle_unknown='ignore')),\n",
    "#     ('fx_selection', SelectFromModel(ElasticNet(alpha=0.1), max_features=40, threshold=None))\n",
    "])\n",
    "\n",
    "text_pipeline = Pipeline(steps=[\n",
    "    ('vect', CountVectorizer()),\n",
    "    ('vect_reg', StackingTransformer(ElasticNet(alpha=0.1))),\n",
    "    ('tfidf', TfidfTransformer())\n",
    "])\n",
    "\n",
    "preprocessor = ColumnTransformer(\n",
    "    transformers=[\n",
    "        ('num', numeric_pipeline, numeric_features),\n",
    "        ('cat', categorical_pipeline, categorical_features),\n",
    "        ('text', text_pipeline, text_features[0])\n",
    "    ])\n",
    "\n",
    "models = {\n",
    "    'LR' : LinearRegression(),\n",
    "    'RF' : RandomForestRegressor(),\n",
    "    'Ridge' : Ridge(),\n",
    "    'SVM_rbf' : SVR(kernel='rbf'),\n",
    "}\n",
    "\n",
    "pipelines = {}\n",
    "\n",
    "kf = KFold(n_splits=4, shuffle=True)\n",
    "\n",
    "for name, model in models.items():\n",
    "    pipe = Pipeline(steps=[('preprocessor', preprocessor),\n",
    "                      (name, model)])\n",
    "    pipe.fit(X_train, y_train)\n",
    "    pipelines[name] = pipe\n",
    "#     print(\"%s model cv NMSE score: %.3f\" % \n",
    "#           (name, cross_val_score(pipe, X_test, y_test, scoring = 'neg_mean_absolute_error', cv=kf).mean()))\n",
    "    print(\"%s model MSE score: %.3f\" % (name, mean_absolute_error(y_test, pipe.predict(X_test))))"
   ]
  },
  {
   "cell_type": "markdown",
   "metadata": {},
   "source": [
    "6. Optimizes hyperparameters of models. Use GridSearch, RandomSearch or Bayesian optimization."
   ]
  },
  {
   "cell_type": "code",
   "execution_count": 44,
   "metadata": {},
   "outputs": [
    {
     "name": "stdout",
     "output_type": "stream",
     "text": [
      "Fitting 4 folds for each of 150 candidates, totalling 600 fits\n"
     ]
    },
    {
     "name": "stderr",
     "output_type": "stream",
     "text": [
      "[Parallel(n_jobs=-1)]: Using backend LokyBackend with 12 concurrent workers.\n",
      "[Parallel(n_jobs=-1)]: Done  26 tasks      | elapsed:    3.6s\n",
      "[Parallel(n_jobs=-1)]: Done 176 tasks      | elapsed:   10.7s\n",
      "[Parallel(n_jobs=-1)]: Done 426 tasks      | elapsed:   22.0s\n",
      "[Parallel(n_jobs=-1)]: Done 600 out of 600 | elapsed:   30.4s finished\n"
     ]
    },
    {
     "name": "stdout",
     "output_type": "stream",
     "text": [
      "RF: best parameters: {'RF__n_estimators': 85, 'RF__max_features': 'auto', 'RF__max_depth': 5}\n",
      "Fitting 4 folds for each of 10 candidates, totalling 40 fits\n"
     ]
    },
    {
     "name": "stderr",
     "output_type": "stream",
     "text": [
      "/usr/local/lib/python3.7/site-packages/sklearn/model_selection/_search.py:282: UserWarning: The total space of parameters 10 is smaller than n_iter=150. Running 10 iterations. For exhaustive searches, use GridSearchCV.\n",
      "  % (grid_size, self.n_iter, grid_size), UserWarning)\n",
      "[Parallel(n_jobs=-1)]: Using backend LokyBackend with 12 concurrent workers.\n",
      "[Parallel(n_jobs=-1)]: Done  40 out of  40 | elapsed:    3.4s finished\n"
     ]
    },
    {
     "name": "stdout",
     "output_type": "stream",
     "text": [
      "Ridge: best parameters: {'Ridge__alpha': 1.0}\n",
      "Fitting 4 folds for each of 150 candidates, totalling 600 fits\n"
     ]
    },
    {
     "name": "stderr",
     "output_type": "stream",
     "text": [
      "[Parallel(n_jobs=-1)]: Using backend LokyBackend with 12 concurrent workers.\n",
      "[Parallel(n_jobs=-1)]: Done  26 tasks      | elapsed:    3.4s\n",
      "[Parallel(n_jobs=-1)]: Done 176 tasks      | elapsed:    6.7s\n",
      "[Parallel(n_jobs=-1)]: Done 426 tasks      | elapsed:   11.7s\n"
     ]
    },
    {
     "name": "stdout",
     "output_type": "stream",
     "text": [
      "SVM_rbf: best parameters: {'SVM_rbf__gamma': 'scale', 'SVM_rbf__epsilon': 0.05, 'SVM_rbf__C': 0.30000000000000004}\n"
     ]
    },
    {
     "name": "stderr",
     "output_type": "stream",
     "text": [
      "[Parallel(n_jobs=-1)]: Done 600 out of 600 | elapsed:   15.9s finished\n"
     ]
    }
   ],
   "source": [
    "import sys\n",
    "from sklearn.model_selection import RandomizedSearchCV\n",
    "\n",
    "parameters = {\n",
    "    'RF' : {\n",
    "            'RF__n_estimators': np.arange(10, 100, 5).astype(int),\n",
    "            'RF__max_depth': np.arange(5, 50, 5).astype(int),\n",
    "            'RF__max_features': ['auto', 'sqrt'], \n",
    "    },\n",
    "    'Ridge' : {'Ridge__alpha': np.arange(0.1, 1.1, 0.1)},\n",
    "    'SVM_rbf': {'SVM_rbf__gamma': ['scale', 'auto'],\n",
    "               'SVM_rbf__C': np.arange(0.1, 1.1, 0.1),\n",
    "                'SVM_rbf__epsilon': np.arange(0.01, 0.2, 0.01),},\n",
    "}\n",
    "\n",
    "result_pipelines = {}\n",
    "\n",
    "for name, pipe in pipelines.items():\n",
    "    if name in parameters.keys():\n",
    "        rs = RandomizedSearchCV(pipe, parameters[name], cv=kf, n_iter=150, \n",
    "                                verbose=1, n_jobs=-1)\n",
    "        rs.fit(X_train, y_train)\n",
    "        result_pipelines[name] = pipe.set_params(**rs.best_params_)\n",
    "        print(f\"{name}: best parameters: {rs.best_params_}\")\n",
    "    else:\n",
    "        result_pipelines[name] = pipe"
   ]
  },
  {
   "cell_type": "markdown",
   "metadata": {},
   "source": [
    "7. Reports scores of models."
   ]
  },
  {
   "cell_type": "code",
   "execution_count": 47,
   "metadata": {},
   "outputs": [
    {
     "name": "stdout",
     "output_type": "stream",
     "text": [
      "LR model MSE score: 0.041\n",
      "RF model MSE score: 0.036\n",
      "Ridge model MSE score: 0.041\n",
      "SVM_rbf model MSE score: 0.052\n"
     ]
    }
   ],
   "source": [
    "for name, model in result_pipelines.items():\n",
    "    print(\"%s model MSE score: %.3f\" % (name, mean_absolute_error(y_test, model.predict(X_test))))"
   ]
  }
 ],
 "metadata": {
  "kernelspec": {
   "display_name": "Python 3",
   "language": "python",
   "name": "python3"
  },
  "language_info": {
   "codemirror_mode": {
    "name": "ipython",
    "version": 3
   },
   "file_extension": ".py",
   "mimetype": "text/x-python",
   "name": "python",
   "nbconvert_exporter": "python",
   "pygments_lexer": "ipython3",
   "version": "3.7.5"
  }
 },
 "nbformat": 4,
 "nbformat_minor": 2
}
