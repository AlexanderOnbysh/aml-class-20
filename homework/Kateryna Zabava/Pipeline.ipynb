{
 "cells": [
  {
   "cell_type": "code",
   "execution_count": 106,
   "metadata": {},
   "outputs": [
    {
     "data": {
      "text/plain": [
       "loss                     float64\n",
       "Exposure                 float64\n",
       "Rating_Class              object\n",
       "Sub_Rating_Class          object\n",
       "Renewal_class             object\n",
       "Sub_Renewal_Class         object\n",
       "Property_size            float64\n",
       "Residents                float64\n",
       "Commercial                object\n",
       "Norm_fire_risk           float64\n",
       "Norm_monthly_rent        float64\n",
       "Loan_mortgage            float64\n",
       "No_claim_Years           float64\n",
       "Previous_claims          float64\n",
       "Norm_area_m              float64\n",
       "Premium_remain           float64\n",
       "Premium_renew            float64\n",
       "Renewal_Type              object\n",
       "crime_property_type      float64\n",
       "crime_residents          float64\n",
       "crime_area               float64\n",
       "crime_arson              float64\n",
       "crime_burglary           float64\n",
       "crime_neighbour_watch    float64\n",
       "crime_community          float64\n",
       "crime_risk               float64\n",
       "Geographical_risk        float64\n",
       "Weather_risk             float64\n",
       "ISO                        int64\n",
       "ISO_cat                   object\n",
       "ISO_desc                  object\n",
       "dtype: object"
      ]
     },
     "execution_count": 106,
     "metadata": {},
     "output_type": "execute_result"
    }
   ],
   "source": [
    "import pandas as pd\n",
    "import numpy as np\n",
    "\n",
    "url = 'https://s3.amazonaws.com/datarobot_public_datasets/DR_Demo_Fire_Ins_Loss_only.csv'\n",
    "df = pd.read_csv(url)\n",
    "df.dtypes\n",
    "\n"
   ]
  },
  {
   "cell_type": "code",
   "execution_count": 107,
   "metadata": {},
   "outputs": [
    {
     "name": "stdout",
     "output_type": "stream",
     "text": [
      "['Rating_Class', 'Sub_Rating_Class', 'Renewal_class', 'Sub_Renewal_Class', 'Commercial', 'Renewal_Type', 'ISO_cat']\n",
      "['Exposure', 'Property_size', 'Residents', 'Norm_fire_risk', 'Norm_monthly_rent', 'Loan_mortgage', 'No_claim_Years', 'Previous_claims', 'Norm_area_m', 'Premium_remain', 'Premium_renew', 'crime_property_type', 'crime_residents', 'crime_area', 'crime_arson', 'crime_burglary', 'crime_neighbour_watch', 'crime_community', 'crime_risk', 'Geographical_risk', 'Weather_risk', 'ISO']\n",
      "['ISO_desc']\n",
      "loss\n"
     ]
    }
   ],
   "source": [
    "# task2 distinguish between numeric/categorical/text/date features\n",
    "# automatic type detection\n",
    "# X and y\n",
    "target_feature = 'loss'\n",
    "\n",
    "categorical_features = []\n",
    "numeric_features = []\n",
    "text_features = []\n",
    "\n",
    "\n",
    "for c in df.columns:\n",
    "    if not c == \"loss\":\n",
    "        if c == \"ISO_desc\":\n",
    "            text_features.append(c)\n",
    "        elif df[c].dtype == \"float64\" or df[c].dtype == \"int64\":\n",
    "            numeric_features.append(c)\n",
    "        elif df[c].dtype == \"object\":\n",
    "            categorical_features.append(c)\n",
    "\n",
    "y = df.pop(target_feature)\n",
    "X = df\n",
    "\n",
    "print(categorical_features)\n",
    "print(numeric_features)\n",
    "print(text_features)\n",
    "print(target_feature)\n"
   ]
  },
  {
   "cell_type": "code",
   "execution_count": 108,
   "metadata": {},
   "outputs": [
    {
     "data": {
      "text/plain": [
       "<matplotlib.axes._subplots.AxesSubplot at 0x1e3ef2b2048>"
      ]
     },
     "execution_count": 108,
     "metadata": {},
     "output_type": "execute_result"
    },
    {
     "data": {
      "image/png": "[encoded data removed]",
      "text/plain": [
       "<Figure size 432x288 with 1 Axes>"
      ]
     },
     "metadata": {
      "needs_background": "light"
     },
     "output_type": "display_data"
    }
   ],
   "source": [
    "# task2 other exploratory  data analysis\n",
    "\n",
    "y.plot.hist(50)"
   ]
  },
  {
   "cell_type": "code",
   "execution_count": 109,
   "metadata": {},
   "outputs": [
    {
     "data": {
      "text/plain": [
       "count    1217.000000\n",
       "mean        0.080477\n",
       "std         0.050425\n",
       "min         0.010000\n",
       "25%         0.040000\n",
       "50%         0.070000\n",
       "75%         0.100000\n",
       "max         0.200000\n",
       "Name: loss, dtype: float64"
      ]
     },
     "execution_count": 109,
     "metadata": {},
     "output_type": "execute_result"
    }
   ],
   "source": [
    "y.describe()"
   ]
  },
  {
   "cell_type": "code",
   "execution_count": 110,
   "metadata": {},
   "outputs": [
    {
     "data": {
      "text/html": [
       "<div>\n",
       "<style scoped>\n",
       "    .dataframe tbody tr th:only-of-type {\n",
       "        vertical-align: middle;\n",
       "    }\n",
       "\n",
       "    .dataframe tbody tr th {\n",
       "        vertical-align: top;\n",
       "    }\n",
       "\n",
       "    .dataframe thead th {\n",
       "        text-align: right;\n",
       "    }\n",
       "</style>\n",
       "<table border=\"1\" class=\"dataframe\">\n",
       "  <thead>\n",
       "    <tr style=\"text-align: right;\">\n",
       "      <th></th>\n",
       "      <th>Exposure</th>\n",
       "      <th>Property_size</th>\n",
       "      <th>Residents</th>\n",
       "      <th>Norm_fire_risk</th>\n",
       "      <th>Norm_monthly_rent</th>\n",
       "      <th>Loan_mortgage</th>\n",
       "      <th>No_claim_Years</th>\n",
       "      <th>Previous_claims</th>\n",
       "      <th>Norm_area_m</th>\n",
       "      <th>Premium_remain</th>\n",
       "      <th>...</th>\n",
       "      <th>crime_residents</th>\n",
       "      <th>crime_area</th>\n",
       "      <th>crime_arson</th>\n",
       "      <th>crime_burglary</th>\n",
       "      <th>crime_neighbour_watch</th>\n",
       "      <th>crime_community</th>\n",
       "      <th>crime_risk</th>\n",
       "      <th>Geographical_risk</th>\n",
       "      <th>Weather_risk</th>\n",
       "      <th>ISO</th>\n",
       "    </tr>\n",
       "  </thead>\n",
       "  <tbody>\n",
       "    <tr>\n",
       "      <th>count</th>\n",
       "      <td>210.000000</td>\n",
       "      <td>1216.000000</td>\n",
       "      <td>1212.000000</td>\n",
       "      <td>1217.000000</td>\n",
       "      <td>1217.000000</td>\n",
       "      <td>196.000000</td>\n",
       "      <td>1217.000000</td>\n",
       "      <td>353.000000</td>\n",
       "      <td>1047.000000</td>\n",
       "      <td>184.000000</td>\n",
       "      <td>...</td>\n",
       "      <td>910.000000</td>\n",
       "      <td>923.000000</td>\n",
       "      <td>916.000000</td>\n",
       "      <td>922.000000</td>\n",
       "      <td>923.000000</td>\n",
       "      <td>903.000000</td>\n",
       "      <td>923.000000</td>\n",
       "      <td>1211.000000</td>\n",
       "      <td>1213.000000</td>\n",
       "      <td>1217.000000</td>\n",
       "    </tr>\n",
       "    <tr>\n",
       "      <th>mean</th>\n",
       "      <td>2.809524</td>\n",
       "      <td>3.820724</td>\n",
       "      <td>2.514026</td>\n",
       "      <td>4.040762</td>\n",
       "      <td>1852.694145</td>\n",
       "      <td>3.286935</td>\n",
       "      <td>1.010640</td>\n",
       "      <td>0.320084</td>\n",
       "      <td>34.265521</td>\n",
       "      <td>69.201087</td>\n",
       "      <td>...</td>\n",
       "      <td>0.958211</td>\n",
       "      <td>0.989317</td>\n",
       "      <td>0.954384</td>\n",
       "      <td>1.044832</td>\n",
       "      <td>0.982719</td>\n",
       "      <td>0.962596</td>\n",
       "      <td>0.992618</td>\n",
       "      <td>1.125001</td>\n",
       "      <td>0.918192</td>\n",
       "      <td>2.889071</td>\n",
       "    </tr>\n",
       "    <tr>\n",
       "      <th>std</th>\n",
       "      <td>0.726731</td>\n",
       "      <td>1.598589</td>\n",
       "      <td>1.318972</td>\n",
       "      <td>0.232445</td>\n",
       "      <td>1678.089181</td>\n",
       "      <td>0.243295</td>\n",
       "      <td>0.769526</td>\n",
       "      <td>0.500960</td>\n",
       "      <td>25.261731</td>\n",
       "      <td>43.405041</td>\n",
       "      <td>...</td>\n",
       "      <td>0.403047</td>\n",
       "      <td>0.407156</td>\n",
       "      <td>0.238484</td>\n",
       "      <td>0.523383</td>\n",
       "      <td>0.490376</td>\n",
       "      <td>0.254882</td>\n",
       "      <td>0.358018</td>\n",
       "      <td>1.918566</td>\n",
       "      <td>1.094440</td>\n",
       "      <td>1.598731</td>\n",
       "    </tr>\n",
       "    <tr>\n",
       "      <th>min</th>\n",
       "      <td>1.000000</td>\n",
       "      <td>1.000000</td>\n",
       "      <td>1.000000</td>\n",
       "      <td>3.776480</td>\n",
       "      <td>500.000000</td>\n",
       "      <td>2.673639</td>\n",
       "      <td>0.000000</td>\n",
       "      <td>0.000000</td>\n",
       "      <td>0.000000</td>\n",
       "      <td>0.000000</td>\n",
       "      <td>...</td>\n",
       "      <td>0.360578</td>\n",
       "      <td>0.065520</td>\n",
       "      <td>0.472193</td>\n",
       "      <td>0.154595</td>\n",
       "      <td>0.000000</td>\n",
       "      <td>0.522494</td>\n",
       "      <td>0.175763</td>\n",
       "      <td>0.000000</td>\n",
       "      <td>0.000000</td>\n",
       "      <td>1.000000</td>\n",
       "    </tr>\n",
       "    <tr>\n",
       "      <th>25%</th>\n",
       "      <td>2.000000</td>\n",
       "      <td>3.000000</td>\n",
       "      <td>1.000000</td>\n",
       "      <td>3.898949</td>\n",
       "      <td>783.693499</td>\n",
       "      <td>3.144307</td>\n",
       "      <td>0.000000</td>\n",
       "      <td>0.000000</td>\n",
       "      <td>16.000000</td>\n",
       "      <td>4.000000</td>\n",
       "      <td>...</td>\n",
       "      <td>0.625186</td>\n",
       "      <td>0.687961</td>\n",
       "      <td>0.739102</td>\n",
       "      <td>0.572656</td>\n",
       "      <td>0.686813</td>\n",
       "      <td>0.739831</td>\n",
       "      <td>0.767780</td>\n",
       "      <td>0.091752</td>\n",
       "      <td>0.273559</td>\n",
       "      <td>2.000000</td>\n",
       "    </tr>\n",
       "    <tr>\n",
       "      <th>50%</th>\n",
       "      <td>3.000000</td>\n",
       "      <td>3.500000</td>\n",
       "      <td>2.000000</td>\n",
       "      <td>3.898949</td>\n",
       "      <td>1232.882801</td>\n",
       "      <td>3.339025</td>\n",
       "      <td>1.048147</td>\n",
       "      <td>0.000000</td>\n",
       "      <td>30.000000</td>\n",
       "      <td>99.000000</td>\n",
       "      <td>...</td>\n",
       "      <td>0.903848</td>\n",
       "      <td>0.924562</td>\n",
       "      <td>0.942690</td>\n",
       "      <td>1.019386</td>\n",
       "      <td>0.989819</td>\n",
       "      <td>0.924495</td>\n",
       "      <td>0.974872</td>\n",
       "      <td>0.392954</td>\n",
       "      <td>0.550059</td>\n",
       "      <td>3.000000</td>\n",
       "    </tr>\n",
       "    <tr>\n",
       "      <th>75%</th>\n",
       "      <td>3.000000</td>\n",
       "      <td>5.000000</td>\n",
       "      <td>4.000000</td>\n",
       "      <td>4.171214</td>\n",
       "      <td>2248.569323</td>\n",
       "      <td>3.474623</td>\n",
       "      <td>1.665109</td>\n",
       "      <td>0.832555</td>\n",
       "      <td>47.000000</td>\n",
       "      <td>100.000000</td>\n",
       "      <td>...</td>\n",
       "      <td>1.210431</td>\n",
       "      <td>1.190282</td>\n",
       "      <td>1.130489</td>\n",
       "      <td>1.322650</td>\n",
       "      <td>1.191823</td>\n",
       "      <td>1.110430</td>\n",
       "      <td>1.193020</td>\n",
       "      <td>1.059832</td>\n",
       "      <td>1.204226</td>\n",
       "      <td>4.000000</td>\n",
       "    </tr>\n",
       "    <tr>\n",
       "      <th>max</th>\n",
       "      <td>5.000000</td>\n",
       "      <td>8.000000</td>\n",
       "      <td>6.000000</td>\n",
       "      <td>5.123351</td>\n",
       "      <td>13296.240070</td>\n",
       "      <td>3.714656</td>\n",
       "      <td>2.639501</td>\n",
       "      <td>1.893018</td>\n",
       "      <td>208.000000</td>\n",
       "      <td>100.000000</td>\n",
       "      <td>...</td>\n",
       "      <td>2.970605</td>\n",
       "      <td>4.145968</td>\n",
       "      <td>1.926021</td>\n",
       "      <td>2.391149</td>\n",
       "      <td>4.322882</td>\n",
       "      <td>2.043525</td>\n",
       "      <td>2.641966</td>\n",
       "      <td>8.548033</td>\n",
       "      <td>9.098934</td>\n",
       "      <td>6.000000</td>\n",
       "    </tr>\n",
       "  </tbody>\n",
       "</table>\n",
       "<p>8 rows × 22 columns</p>\n",
       "</div>"
      ],
      "text/plain": [
       "         Exposure  Property_size    Residents  Norm_fire_risk  \\\n",
       "count  210.000000    1216.000000  1212.000000     1217.000000   \n",
       "mean     2.809524       3.820724     2.514026        4.040762   \n",
       "std      0.726731       1.598589     1.318972        0.232445   \n",
       "min      1.000000       1.000000     1.000000        3.776480   \n",
       "25%      2.000000       3.000000     1.000000        3.898949   \n",
       "50%      3.000000       3.500000     2.000000        3.898949   \n",
       "75%      3.000000       5.000000     4.000000        4.171214   \n",
       "max      5.000000       8.000000     6.000000        5.123351   \n",
       "\n",
       "       Norm_monthly_rent  Loan_mortgage  No_claim_Years  Previous_claims  \\\n",
       "count        1217.000000     196.000000     1217.000000       353.000000   \n",
       "mean         1852.694145       3.286935        1.010640         0.320084   \n",
       "std          1678.089181       0.243295        0.769526         0.500960   \n",
       "min           500.000000       2.673639        0.000000         0.000000   \n",
       "25%           783.693499       3.144307        0.000000         0.000000   \n",
       "50%          1232.882801       3.339025        1.048147         0.000000   \n",
       "75%          2248.569323       3.474623        1.665109         0.832555   \n",
       "max         13296.240070       3.714656        2.639501         1.893018   \n",
       "\n",
       "       Norm_area_m  Premium_remain  ...  crime_residents  crime_area  \\\n",
       "count  1047.000000      184.000000  ...       910.000000  923.000000   \n",
       "mean     34.265521       69.201087  ...         0.958211    0.989317   \n",
       "std      25.261731       43.405041  ...         0.403047    0.407156   \n",
       "min       0.000000        0.000000  ...         0.360578    0.065520   \n",
       "25%      16.000000        4.000000  ...         0.625186    0.687961   \n",
       "50%      30.000000       99.000000  ...         0.903848    0.924562   \n",
       "75%      47.000000      100.000000  ...         1.210431    1.190282   \n",
       "max     208.000000      100.000000  ...         2.970605    4.145968   \n",
       "\n",
       "       crime_arson  crime_burglary  crime_neighbour_watch  crime_community  \\\n",
       "count   916.000000      922.000000             923.000000       903.000000   \n",
       "mean      0.954384        1.044832               0.982719         0.962596   \n",
       "std       0.238484        0.523383               0.490376         0.254882   \n",
       "min       0.472193        0.154595               0.000000         0.522494   \n",
       "25%       0.739102        0.572656               0.686813         0.739831   \n",
       "50%       0.942690        1.019386               0.989819         0.924495   \n",
       "75%       1.130489        1.322650               1.191823         1.110430   \n",
       "max       1.926021        2.391149               4.322882         2.043525   \n",
       "\n",
       "       crime_risk  Geographical_risk  Weather_risk          ISO  \n",
       "count  923.000000        1211.000000   1213.000000  1217.000000  \n",
       "mean     0.992618           1.125001      0.918192     2.889071  \n",
       "std      0.358018           1.918566      1.094440     1.598731  \n",
       "min      0.175763           0.000000      0.000000     1.000000  \n",
       "25%      0.767780           0.091752      0.273559     2.000000  \n",
       "50%      0.974872           0.392954      0.550059     3.000000  \n",
       "75%      1.193020           1.059832      1.204226     4.000000  \n",
       "max      2.641966           8.548033      9.098934     6.000000  \n",
       "\n",
       "[8 rows x 22 columns]"
      ]
     },
     "execution_count": 110,
     "metadata": {},
     "output_type": "execute_result"
    }
   ],
   "source": [
    "X.describe()"
   ]
  },
  {
   "cell_type": "code",
   "execution_count": 139,
   "metadata": {},
   "outputs": [
    {
     "data": {
      "text/plain": [
       "30"
      ]
     },
     "execution_count": 139,
     "metadata": {},
     "output_type": "execute_result"
    }
   ],
   "source": [
    "len(X.columns)"
   ]
  },
  {
   "cell_type": "code",
   "execution_count": 111,
   "metadata": {},
   "outputs": [],
   "source": [
    "# feature enginering"
   ]
  },
  {
   "cell_type": "code",
   "execution_count": 112,
   "metadata": {},
   "outputs": [],
   "source": [
    "# CV partitioning (keep 10-20% for holdout).\n",
    "\n",
    "from sklearn.metrics import mean_absolute_error\n",
    "from sklearn.pipeline import Pipeline\n",
    "from sklearn.preprocessing import StandardScaler, OneHotEncoder\n",
    "from sklearn.linear_model import LinearRegression\n",
    "from sklearn.ensemble import RandomForestRegressor\n",
    "from sklearn.model_selection import train_test_split, GridSearchCV\n",
    "from sklearn.compose import ColumnTransformer\n",
    "from sklearn.impute import SimpleImputer\n",
    "\n",
    "\n",
    "X_train, X_test, y_train, y_test = train_test_split(X, y, test_size=0.2, random_state=0, shuffle=True)\n",
    "\n",
    "# y should be an ndarray\n",
    "y_train = y_train.values\n",
    "y_test = y_test.values"
   ]
  },
  {
   "cell_type": "code",
   "execution_count": 114,
   "metadata": {},
   "outputs": [],
   "source": [
    "# pipeline which can train model.\n",
    "# categorical  ->  one-hot encoding  ->                 ->\n",
    "# numeric      ->  imputation        -> standarization  -> linear regression\n",
    "# text         ->  tf-idf            ->                 ->\n",
    "\n",
    "from sklearn.feature_extraction.text import TfidfVectorizer\n",
    "from sklearn.compose import ColumnTransformer\n",
    "from sklearn.feature_extraction.text import CountVectorizer\n",
    "from sklearn.preprocessing import OneHotEncoder\n",
    "from sklearn.feature_extraction.text import CountVectorizer\n",
    "from sklearn.base import BaseEstimator, TransformerMixin, clone\n",
    "from sklearn.model_selection import KFold\n",
    "from sklearn.linear_model import ElasticNet\n",
    "\n",
    "categorical_pipeline = Pipeline(steps=[\n",
    "     ('imputer', SimpleImputer(strategy='constant', fill_value='missing')),\n",
    "    ('onehot', OneHotEncoder(handle_unknown='ignore')),\n",
    "])\n",
    "\n",
    "numeric_pipeline = Pipeline(steps=[\n",
    "    ('imputer', SimpleImputer(strategy='mean')),\n",
    "    ('scaler', StandardScaler())])\n",
    "       \n",
    "    \n",
    "text_pipeline = Pipeline(steps=[\n",
    "    ('bow', TfidfVectorizer()),\n",
    "])"
   ]
  },
  {
   "cell_type": "code",
   "execution_count": 137,
   "metadata": {},
   "outputs": [
    {
     "name": "stdout",
     "output_type": "stream",
     "text": [
      "model score without optimization: 0.0373\n"
     ]
    }
   ],
   "source": [
    "preprocessor = ColumnTransformer(\n",
    "    transformers=[\n",
    "        ('num', numeric_pipeline, numeric_features),\n",
    "        ('cat', categorical_pipeline, categorical_features),\n",
    "        ('text', text_pipeline, text_features[0])\n",
    "    ])\n",
    "\n",
    "est = Pipeline(steps=[('preprocessor', preprocessor),\n",
    "                       ('rf', RandomForestRegressor(n_estimators=10, n_jobs=-1, random_state = 2))])\n",
    "\n",
    "est.fit(X_train, y_train)\n",
    "print(\"model score without optimization: %.4f\" % mean_absolute_error(y_test, est.predict(X_test)))"
   ]
  },
  {
   "cell_type": "code",
   "execution_count": 150,
   "metadata": {},
   "outputs": [
    {
     "name": "stdout",
     "output_type": "stream",
     "text": [
      "Fitting 3 folds for each of 1160 candidates, totalling 3480 fits\n"
     ]
    },
    {
     "name": "stderr",
     "output_type": "stream",
     "text": [
      "[Parallel(n_jobs=-1)]: Using backend LokyBackend with 12 concurrent workers.\n",
      "[Parallel(n_jobs=-1)]: Done   8 tasks      | elapsed:    0.8s\n",
      "[Parallel(n_jobs=-1)]: Done 104 tasks      | elapsed:    7.7s\n",
      "[Parallel(n_jobs=-1)]: Done 264 tasks      | elapsed:   20.7s\n",
      "[Parallel(n_jobs=-1)]: Done 488 tasks      | elapsed:   43.7s\n",
      "[Parallel(n_jobs=-1)]: Done 776 tasks      | elapsed:  1.3min\n",
      "[Parallel(n_jobs=-1)]: Done 1128 tasks      | elapsed:  2.1min\n",
      "[Parallel(n_jobs=-1)]: Done 1544 tasks      | elapsed:  2.9min\n",
      "[Parallel(n_jobs=-1)]: Done 2024 tasks      | elapsed:  5.0min\n",
      "[Parallel(n_jobs=-1)]: Done 2568 tasks      | elapsed: 10.2min\n",
      "[Parallel(n_jobs=-1)]: Done 3176 tasks      | elapsed: 17.2min\n",
      "[Parallel(n_jobs=-1)]: Done 3480 out of 3480 | elapsed: 20.8min finished\n"
     ]
    },
    {
     "name": "stdout",
     "output_type": "stream",
     "text": [
      "best params: {'rf__criterion': 'mse', 'rf__max_depth': 30, 'rf__max_features': 24, 'rf__n_estimators': 80}\n",
      "model score: 0.0368\n"
     ]
    }
   ],
   "source": [
    "from sklearn.pipeline import Pipeline\n",
    "from sklearn.model_selection import GridSearchCV\n",
    "from sklearn.preprocessing import PolynomialFeatures\n",
    "from sklearn.linear_model import LinearRegression\n",
    "\n",
    "\n",
    "est = Pipeline(steps=[('preprocessor', preprocessor),\n",
    "                       ('rf', RandomForestRegressor(n_estimators=10, n_jobs=-1, random_state = 2))])\n",
    "\n",
    "\n",
    "param_dist = {\n",
    "    'rf__max_depth': np.arange(start = 10,stop = 110,step=20),\n",
    "    'rf__n_estimators': np.arange(start = 80,stop = 160,step=20), \n",
    "              'rf__max_features':np.arange(start = 1,stop = 30,step=1),\n",
    "              'rf__criterion': ['mse', 'mae']}\n",
    "\n",
    "gs = GridSearchCV(estimator=est, param_grid=param_dist, \n",
    "                  scoring='neg_mean_absolute_error', cv=3, refit=True, verbose=3, n_jobs=-1)\n",
    "\n",
    "\n",
    "gs.fit(X_train, y_train)\n",
    "\n",
    "print(\"best params: {}\".format(gs.best_params_))\n",
    "print(\"model score: %.4f\" % mean_absolute_error(y_test, gs.best_estimator_.predict(X_test)))"
   ]
  },
  {
   "cell_type": "code",
   "execution_count": 143,
   "metadata": {},
   "outputs": [
    {
     "data": {
      "text/plain": [
       "dict_keys(['memory', 'steps', 'preprocessor', 'rf', 'preprocessor__n_jobs', 'preprocessor__remainder', 'preprocessor__sparse_threshold', 'preprocessor__transformer_weights', 'preprocessor__transformers', 'preprocessor__num', 'preprocessor__cat', 'preprocessor__text', 'preprocessor__num__memory', 'preprocessor__num__steps', 'preprocessor__num__imputer', 'preprocessor__num__scaler', 'preprocessor__num__imputer__copy', 'preprocessor__num__imputer__fill_value', 'preprocessor__num__imputer__missing_values', 'preprocessor__num__imputer__strategy', 'preprocessor__num__imputer__verbose', 'preprocessor__num__scaler__copy', 'preprocessor__num__scaler__with_mean', 'preprocessor__num__scaler__with_std', 'preprocessor__cat__memory', 'preprocessor__cat__steps', 'preprocessor__cat__imputer', 'preprocessor__cat__onehot', 'preprocessor__cat__imputer__copy', 'preprocessor__cat__imputer__fill_value', 'preprocessor__cat__imputer__missing_values', 'preprocessor__cat__imputer__strategy', 'preprocessor__cat__imputer__verbose', 'preprocessor__cat__onehot__categorical_features', 'preprocessor__cat__onehot__categories', 'preprocessor__cat__onehot__dtype', 'preprocessor__cat__onehot__handle_unknown', 'preprocessor__cat__onehot__n_values', 'preprocessor__cat__onehot__sparse', 'preprocessor__text__memory', 'preprocessor__text__steps', 'preprocessor__text__bow', 'preprocessor__text__bow__analyzer', 'preprocessor__text__bow__binary', 'preprocessor__text__bow__decode_error', 'preprocessor__text__bow__dtype', 'preprocessor__text__bow__encoding', 'preprocessor__text__bow__input', 'preprocessor__text__bow__lowercase', 'preprocessor__text__bow__max_df', 'preprocessor__text__bow__max_features', 'preprocessor__text__bow__min_df', 'preprocessor__text__bow__ngram_range', 'preprocessor__text__bow__norm', 'preprocessor__text__bow__preprocessor', 'preprocessor__text__bow__smooth_idf', 'preprocessor__text__bow__stop_words', 'preprocessor__text__bow__strip_accents', 'preprocessor__text__bow__sublinear_tf', 'preprocessor__text__bow__token_pattern', 'preprocessor__text__bow__tokenizer', 'preprocessor__text__bow__use_idf', 'preprocessor__text__bow__vocabulary', 'rf__bootstrap', 'rf__criterion', 'rf__max_depth', 'rf__max_features', 'rf__max_leaf_nodes', 'rf__min_impurity_decrease', 'rf__min_impurity_split', 'rf__min_samples_leaf', 'rf__min_samples_split', 'rf__min_weight_fraction_leaf', 'rf__n_estimators', 'rf__n_jobs', 'rf__oob_score', 'rf__random_state', 'rf__verbose', 'rf__warm_start'])"
      ]
     },
     "execution_count": 143,
     "metadata": {},
     "output_type": "execute_result"
    }
   ],
   "source": [
    "est.get_params().keys()"
   ]
  },
  {
   "cell_type": "markdown",
   "metadata": {},
   "source": [
    "Reports scores of models.\n",
    "\n",
    "model score before optimization is 0.0373 \n",
    "\n",
    "\n",
    "After optimiation with best parameters {'rf__criterion': 'mse', 'rf__max_depth': 30, 'rf__max_features': 24, 'rf__n_estimators': 80} score is  0.0368"
   ]
  },
  {
   "cell_type": "code",
   "execution_count": null,
   "metadata": {},
   "outputs": [],
   "source": []
  },
  {
   "cell_type": "code",
   "execution_count": null,
   "metadata": {},
   "outputs": [],
   "source": []
  },
  {
   "cell_type": "code",
   "execution_count": null,
   "metadata": {},
   "outputs": [],
   "source": []
  }
 ],
 "metadata": {
  "kernelspec": {
   "display_name": "Python 3",
   "language": "python",
   "name": "python3"
  },
  "language_info": {
   "codemirror_mode": {
    "name": "ipython",
    "version": 3
   },
   "file_extension": ".py",
   "mimetype": "text/x-python",
   "name": "python",
   "nbconvert_exporter": "python",
   "pygments_lexer": "ipython3",
   "version": "3.7.7"
  }
 },
 "nbformat": 4,
 "nbformat_minor": 4
}
