{
 "cells": [
  {
   "cell_type": "markdown",
   "metadata": {},
   "source": [
    "# Importing required packages:"
   ]
  },
  {
   "cell_type": "code",
   "execution_count": 1,
   "metadata": {
    "scrolled": true
   },
   "outputs": [],
   "source": [
    "import pandas as pd\n",
    "import numpy as np\n",
    "\n",
    "from sagemaker_sklearn_extension.feature_extraction.text import MultiColumnTfidfVectorizer\n",
    "\n",
    "from sklearn.feature_extraction.text import TfidfVectorizer\n",
    "from sklearn.base import BaseEstimator, TransformerMixin, clone\n",
    "from sklearn.preprocessing import FunctionTransformer\n",
    "from sklearn.model_selection import KFold\n",
    "from sklearn.pipeline import Pipeline\n",
    "from sklearn.preprocessing import PolynomialFeatures\n",
    "from sklearn.linear_model import LinearRegression\n",
    "from sklearn.model_selection import train_test_split\n",
    "from sklearn.preprocessing import StandardScaler\n",
    "\n",
    "from sklearn.preprocessing import OrdinalEncoder\n",
    "from sklearn.feature_selection import SelectFromModel\n",
    "from sklearn.linear_model import ElasticNet\n",
    "from sklearn.model_selection import PredefinedSplit\n",
    "from sklearn.model_selection import ShuffleSplit\n",
    "from sklearn.impute import SimpleImputer\n",
    "from sklearn.linear_model import LinearRegression\n",
    "from sklearn.ensemble import RandomForestRegressor\n",
    "from sklearn.metrics import mean_absolute_error\n",
    "\n",
    "from sklearn.compose import ColumnTransformer\n",
    "from sklearn.feature_extraction.text import CountVectorizer\n",
    "from sklearn.preprocessing import OneHotEncoder\n",
    "\n",
    "from sklearn.model_selection import RandomizedSearchCV\n",
    "from skopt import BayesSearchCV\n",
    "from skopt.space import Real, Categorical, Integer\n",
    "\n",
    "import datetime\n",
    "from dateutil.parser import parse\n",
    "\n",
    "# from category_encoders.basen import BaseNEncoder\n",
    "\n",
    "from sklearn.feature_extraction.text import TfidfVectorizer\n",
    "\n",
    "import seaborn as sns\n",
    "from matplotlib import pyplot as plt \n",
    "sns.set(style=\"darkgrid\")\n",
    "\n",
    "pd.options.display.max_colwidth=500\n",
    "pd.options.display.max_columns=300\n",
    "# pd.options.plotting.backend = \"plotly\""
   ]
  },
  {
   "cell_type": "markdown",
   "metadata": {},
   "source": [
    "# Loading data and defining target column:"
   ]
  },
  {
   "cell_type": "code",
   "execution_count": 2,
   "metadata": {},
   "outputs": [],
   "source": [
    "data = pd.read_csv('https://s3.amazonaws.com/datarobot_public_datasets/DR_Demo_Fire_Ins_Loss_only.csv')\n",
    "# data = pd.read_csv('https://s3.amazonaws.com/datarobot_public_datasets/DR_Demo_Pred_Main_Reg.csv')"
   ]
  },
  {
   "cell_type": "code",
   "execution_count": 3,
   "metadata": {},
   "outputs": [],
   "source": [
    "target = 'loss'\n",
    "\n",
    "y = data[target]\n",
    "data.drop(target, axis = 1, inplace = True)"
   ]
  },
  {
   "cell_type": "markdown",
   "metadata": {},
   "source": [
    "# Exploratory data analysis:"
   ]
  },
  {
   "cell_type": "code",
   "execution_count": 4,
   "metadata": {},
   "outputs": [],
   "source": [
    "def parse_dates(x):\n",
    "    try:\n",
    "        return parse(x,fuzzy=True)\n",
    "    except:\n",
    "        return ''\n",
    "\n",
    "def define_type(tmp, report):\n",
    "    \"\"\"\n",
    "    Function with logic for defining type of column with availible options:\n",
    "    The main idea is based on https://datascience.stackexchange.com/questions/9892/how-can-i-dynamically-distinguish-between-categorical-data-and-numerical-data\n",
    "    and my own assumptions an observations\n",
    "        - 'missing'\n",
    "        - 'datetime'\n",
    "        - 'text'\n",
    "        - 'binary'\n",
    "        - 'categorical'\n",
    "        - 'numeric'\n",
    "    \"\"\"\n",
    "    if report['rate of NaN']>0.98:\n",
    "        return 'missing', 0\n",
    "    \n",
    "    ## defining if the column is of type datetime:\n",
    "    s = 0\n",
    "    for el in tmp:\n",
    "        if isinstance(parse_dates(el),datetime.datetime):\n",
    "            s+=1\n",
    "    if s>0.999*report['number of not NaN'] and report['number of unique lenght']<=2 and report['rate of unique']>0.01:\n",
    "        return 'datetime', s\n",
    "    ####\n",
    "    \n",
    "    if (tmp.dtype.char == 'O' or tmp.dtype.char == 'S') and report['rate of unique']>0.7:\n",
    "        return 'text',0\n",
    "    \n",
    "    if report['number of unique']<=2:\n",
    "        return 'binary',0\n",
    "    \n",
    "    score = 0\n",
    "    if (tmp.dtype.char == 'i' or tmp.dtype.char == 'f' or tmp.dtype.char == 'd' or tmp.dtype.char == 'l'):\n",
    "        score+=0.8\n",
    "        score+=report['rate of unique']*10\n",
    "    if report['isNormalDistribution']==1:\n",
    "        score+=0.1\n",
    "    if score<1:\n",
    "        return 'categorical',score\n",
    "    else:\n",
    "        return 'numeric',score\n",
    "\n",
    "def get_info(tmp):\n",
    "    ## Total number\n",
    "    total_number = len(tmp)\n",
    "\n",
    "    ## Number of NaN\n",
    "    number_of_na = tmp.isna().sum()\n",
    "    rate_of_na = number_of_na/total_number\n",
    "\n",
    "    ## Number of not NaN\n",
    "    tmp = tmp.dropna()\n",
    "    number_of_not_na = tmp.count()\n",
    "\n",
    "    ## Number of unique\n",
    "    number_of_unique = len(tmp.unique())\n",
    "\n",
    "    rate_of_unique = number_of_unique/number_of_not_na\n",
    "\n",
    "    number_of_unique_len = len(tmp.astype(str).apply(len).unique())\n",
    "\n",
    "    try:\n",
    "        ## is normally distributed:\n",
    "        alpha = 0.05\n",
    "        k2, p = scipy.stats.normaltest(tmp)\n",
    "        if p < alpha:  # null hypothesis: x comes from a normal distribution\n",
    "            normal = 0\n",
    "        else:\n",
    "            normal = 1\n",
    "    except:\n",
    "        normal = 0\n",
    "\n",
    "    report = {'column':col,\n",
    "              'number of records': total_number,\n",
    "              'number of NaN': number_of_na,\n",
    "              'rate of NaN':rate_of_na,\n",
    "              'number of not NaN': number_of_not_na,\n",
    "             'number of unique': number_of_unique,\n",
    "             'rate of unique': rate_of_unique,\n",
    "             'number of unique lenght': number_of_unique_len,\n",
    "             'isNormalDistribution':normal}\n",
    "    \n",
    "    report['estimated type'], report['score'] = define_type(tmp, report)\n",
    "    return report\n"
   ]
  },
  {
   "cell_type": "code",
   "execution_count": 5,
   "metadata": {
    "scrolled": false
   },
   "outputs": [
    {
     "name": "stderr",
     "output_type": "stream",
     "text": [
      "/Users/trokhymovych/anaconda3/lib/python3.7/site-packages/dateutil/parser/_parser.py:1218: UnknownTimezoneWarning: tzname ISO identified but not understood.  Pass `tzinfos` argument in order to correctly return a timezone-aware datetime.  In a future version, this will raise an exception.\n",
      "  category=UnknownTimezoneWarning)\n",
      "/Users/trokhymovych/anaconda3/lib/python3.7/site-packages/dateutil/parser/_parser.py:1218: UnknownTimezoneWarning: tzname SOV identified but not understood.  Pass `tzinfos` argument in order to correctly return a timezone-aware datetime.  In a future version, this will raise an exception.\n",
      "  category=UnknownTimezoneWarning)\n",
      "/Users/trokhymovych/anaconda3/lib/python3.7/site-packages/dateutil/parser/_parser.py:1218: UnknownTimezoneWarning: tzname UL identified but not understood.  Pass `tzinfos` argument in order to correctly return a timezone-aware datetime.  In a future version, this will raise an exception.\n",
      "  category=UnknownTimezoneWarning)\n"
     ]
    },
    {
     "data": {
      "text/html": [
       "<div>\n",
       "<style scoped>\n",
       "    .dataframe tbody tr th:only-of-type {\n",
       "        vertical-align: middle;\n",
       "    }\n",
       "\n",
       "    .dataframe tbody tr th {\n",
       "        vertical-align: top;\n",
       "    }\n",
       "\n",
       "    .dataframe thead th {\n",
       "        text-align: right;\n",
       "    }\n",
       "</style>\n",
       "<table border=\"1\" class=\"dataframe\">\n",
       "  <thead>\n",
       "    <tr style=\"text-align: right;\">\n",
       "      <th></th>\n",
       "      <th>column</th>\n",
       "      <th>number of records</th>\n",
       "      <th>number of NaN</th>\n",
       "      <th>rate of NaN</th>\n",
       "      <th>number of not NaN</th>\n",
       "      <th>number of unique</th>\n",
       "      <th>rate of unique</th>\n",
       "      <th>number of unique lenght</th>\n",
       "      <th>isNormalDistribution</th>\n",
       "      <th>estimated type</th>\n",
       "      <th>score</th>\n",
       "    </tr>\n",
       "  </thead>\n",
       "  <tbody>\n",
       "    <tr>\n",
       "      <th>0</th>\n",
       "      <td>Exposure</td>\n",
       "      <td>1217</td>\n",
       "      <td>1007</td>\n",
       "      <td>0.827445</td>\n",
       "      <td>210</td>\n",
       "      <td>5</td>\n",
       "      <td>0.023810</td>\n",
       "      <td>1</td>\n",
       "      <td>0</td>\n",
       "      <td>numeric</td>\n",
       "      <td>1.038095</td>\n",
       "    </tr>\n",
       "    <tr>\n",
       "      <th>1</th>\n",
       "      <td>Rating_Class</td>\n",
       "      <td>1217</td>\n",
       "      <td>87</td>\n",
       "      <td>0.071487</td>\n",
       "      <td>1130</td>\n",
       "      <td>38</td>\n",
       "      <td>0.033628</td>\n",
       "      <td>1</td>\n",
       "      <td>0</td>\n",
       "      <td>categorical</td>\n",
       "      <td>0.000000</td>\n",
       "    </tr>\n",
       "    <tr>\n",
       "      <th>2</th>\n",
       "      <td>Sub_Rating_Class</td>\n",
       "      <td>1217</td>\n",
       "      <td>1212</td>\n",
       "      <td>0.995892</td>\n",
       "      <td>5</td>\n",
       "      <td>3</td>\n",
       "      <td>0.600000</td>\n",
       "      <td>1</td>\n",
       "      <td>0</td>\n",
       "      <td>missing</td>\n",
       "      <td>0.000000</td>\n",
       "    </tr>\n",
       "    <tr>\n",
       "      <th>3</th>\n",
       "      <td>Renewal_class</td>\n",
       "      <td>1217</td>\n",
       "      <td>1093</td>\n",
       "      <td>0.898110</td>\n",
       "      <td>124</td>\n",
       "      <td>6</td>\n",
       "      <td>0.048387</td>\n",
       "      <td>1</td>\n",
       "      <td>0</td>\n",
       "      <td>categorical</td>\n",
       "      <td>0.000000</td>\n",
       "    </tr>\n",
       "    <tr>\n",
       "      <th>4</th>\n",
       "      <td>Sub_Renewal_Class</td>\n",
       "      <td>1217</td>\n",
       "      <td>1114</td>\n",
       "      <td>0.915366</td>\n",
       "      <td>103</td>\n",
       "      <td>3</td>\n",
       "      <td>0.029126</td>\n",
       "      <td>1</td>\n",
       "      <td>0</td>\n",
       "      <td>categorical</td>\n",
       "      <td>0.000000</td>\n",
       "    </tr>\n",
       "    <tr>\n",
       "      <th>5</th>\n",
       "      <td>Property_size</td>\n",
       "      <td>1217</td>\n",
       "      <td>1</td>\n",
       "      <td>0.000822</td>\n",
       "      <td>1216</td>\n",
       "      <td>8</td>\n",
       "      <td>0.006579</td>\n",
       "      <td>1</td>\n",
       "      <td>0</td>\n",
       "      <td>categorical</td>\n",
       "      <td>0.865789</td>\n",
       "    </tr>\n",
       "    <tr>\n",
       "      <th>6</th>\n",
       "      <td>Residents</td>\n",
       "      <td>1217</td>\n",
       "      <td>5</td>\n",
       "      <td>0.004108</td>\n",
       "      <td>1212</td>\n",
       "      <td>6</td>\n",
       "      <td>0.004950</td>\n",
       "      <td>1</td>\n",
       "      <td>0</td>\n",
       "      <td>categorical</td>\n",
       "      <td>0.849505</td>\n",
       "    </tr>\n",
       "    <tr>\n",
       "      <th>7</th>\n",
       "      <td>Commercial</td>\n",
       "      <td>1217</td>\n",
       "      <td>219</td>\n",
       "      <td>0.179951</td>\n",
       "      <td>998</td>\n",
       "      <td>2</td>\n",
       "      <td>0.002004</td>\n",
       "      <td>1</td>\n",
       "      <td>0</td>\n",
       "      <td>binary</td>\n",
       "      <td>0.000000</td>\n",
       "    </tr>\n",
       "    <tr>\n",
       "      <th>8</th>\n",
       "      <td>Norm_fire_risk</td>\n",
       "      <td>1217</td>\n",
       "      <td>0</td>\n",
       "      <td>0.000000</td>\n",
       "      <td>1217</td>\n",
       "      <td>14</td>\n",
       "      <td>0.011504</td>\n",
       "      <td>3</td>\n",
       "      <td>0</td>\n",
       "      <td>categorical</td>\n",
       "      <td>0.915037</td>\n",
       "    </tr>\n",
       "    <tr>\n",
       "      <th>9</th>\n",
       "      <td>Norm_monthly_rent</td>\n",
       "      <td>1217</td>\n",
       "      <td>0</td>\n",
       "      <td>0.000000</td>\n",
       "      <td>1217</td>\n",
       "      <td>1041</td>\n",
       "      <td>0.855382</td>\n",
       "      <td>8</td>\n",
       "      <td>0</td>\n",
       "      <td>numeric</td>\n",
       "      <td>9.353821</td>\n",
       "    </tr>\n",
       "    <tr>\n",
       "      <th>10</th>\n",
       "      <td>Loan_mortgage</td>\n",
       "      <td>1217</td>\n",
       "      <td>1021</td>\n",
       "      <td>0.838948</td>\n",
       "      <td>196</td>\n",
       "      <td>181</td>\n",
       "      <td>0.923469</td>\n",
       "      <td>4</td>\n",
       "      <td>0</td>\n",
       "      <td>numeric</td>\n",
       "      <td>10.034694</td>\n",
       "    </tr>\n",
       "    <tr>\n",
       "      <th>11</th>\n",
       "      <td>No_claim_Years</td>\n",
       "      <td>1217</td>\n",
       "      <td>0</td>\n",
       "      <td>0.000000</td>\n",
       "      <td>1217</td>\n",
       "      <td>123</td>\n",
       "      <td>0.101068</td>\n",
       "      <td>5</td>\n",
       "      <td>0</td>\n",
       "      <td>numeric</td>\n",
       "      <td>1.810682</td>\n",
       "    </tr>\n",
       "    <tr>\n",
       "      <th>12</th>\n",
       "      <td>Previous_claims</td>\n",
       "      <td>1217</td>\n",
       "      <td>864</td>\n",
       "      <td>0.709942</td>\n",
       "      <td>353</td>\n",
       "      <td>14</td>\n",
       "      <td>0.039660</td>\n",
       "      <td>3</td>\n",
       "      <td>0</td>\n",
       "      <td>numeric</td>\n",
       "      <td>1.196601</td>\n",
       "    </tr>\n",
       "    <tr>\n",
       "      <th>13</th>\n",
       "      <td>Norm_area_m</td>\n",
       "      <td>1217</td>\n",
       "      <td>170</td>\n",
       "      <td>0.139688</td>\n",
       "      <td>1047</td>\n",
       "      <td>107</td>\n",
       "      <td>0.102197</td>\n",
       "      <td>3</td>\n",
       "      <td>0</td>\n",
       "      <td>numeric</td>\n",
       "      <td>1.821968</td>\n",
       "    </tr>\n",
       "    <tr>\n",
       "      <th>14</th>\n",
       "      <td>Premium_remain</td>\n",
       "      <td>1217</td>\n",
       "      <td>1033</td>\n",
       "      <td>0.848809</td>\n",
       "      <td>184</td>\n",
       "      <td>27</td>\n",
       "      <td>0.146739</td>\n",
       "      <td>3</td>\n",
       "      <td>0</td>\n",
       "      <td>numeric</td>\n",
       "      <td>2.267391</td>\n",
       "    </tr>\n",
       "    <tr>\n",
       "      <th>15</th>\n",
       "      <td>Premium_renew</td>\n",
       "      <td>1217</td>\n",
       "      <td>0</td>\n",
       "      <td>0.000000</td>\n",
       "      <td>1217</td>\n",
       "      <td>747</td>\n",
       "      <td>0.613804</td>\n",
       "      <td>11</td>\n",
       "      <td>0</td>\n",
       "      <td>numeric</td>\n",
       "      <td>6.938044</td>\n",
       "    </tr>\n",
       "    <tr>\n",
       "      <th>16</th>\n",
       "      <td>Renewal_Type</td>\n",
       "      <td>1217</td>\n",
       "      <td>0</td>\n",
       "      <td>0.000000</td>\n",
       "      <td>1217</td>\n",
       "      <td>2</td>\n",
       "      <td>0.001643</td>\n",
       "      <td>1</td>\n",
       "      <td>0</td>\n",
       "      <td>binary</td>\n",
       "      <td>0.000000</td>\n",
       "    </tr>\n",
       "    <tr>\n",
       "      <th>17</th>\n",
       "      <td>crime_property_type</td>\n",
       "      <td>1217</td>\n",
       "      <td>294</td>\n",
       "      <td>0.241578</td>\n",
       "      <td>923</td>\n",
       "      <td>177</td>\n",
       "      <td>0.191766</td>\n",
       "      <td>6</td>\n",
       "      <td>0</td>\n",
       "      <td>numeric</td>\n",
       "      <td>2.717660</td>\n",
       "    </tr>\n",
       "    <tr>\n",
       "      <th>18</th>\n",
       "      <td>crime_residents</td>\n",
       "      <td>1217</td>\n",
       "      <td>307</td>\n",
       "      <td>0.252260</td>\n",
       "      <td>910</td>\n",
       "      <td>181</td>\n",
       "      <td>0.198901</td>\n",
       "      <td>5</td>\n",
       "      <td>0</td>\n",
       "      <td>numeric</td>\n",
       "      <td>2.789011</td>\n",
       "    </tr>\n",
       "    <tr>\n",
       "      <th>19</th>\n",
       "      <td>crime_area</td>\n",
       "      <td>1217</td>\n",
       "      <td>294</td>\n",
       "      <td>0.241578</td>\n",
       "      <td>923</td>\n",
       "      <td>155</td>\n",
       "      <td>0.167931</td>\n",
       "      <td>5</td>\n",
       "      <td>0</td>\n",
       "      <td>numeric</td>\n",
       "      <td>2.479307</td>\n",
       "    </tr>\n",
       "    <tr>\n",
       "      <th>20</th>\n",
       "      <td>crime_arson</td>\n",
       "      <td>1217</td>\n",
       "      <td>301</td>\n",
       "      <td>0.247329</td>\n",
       "      <td>916</td>\n",
       "      <td>180</td>\n",
       "      <td>0.196507</td>\n",
       "      <td>4</td>\n",
       "      <td>0</td>\n",
       "      <td>numeric</td>\n",
       "      <td>2.765066</td>\n",
       "    </tr>\n",
       "    <tr>\n",
       "      <th>21</th>\n",
       "      <td>crime_burglary</td>\n",
       "      <td>1217</td>\n",
       "      <td>295</td>\n",
       "      <td>0.242399</td>\n",
       "      <td>922</td>\n",
       "      <td>180</td>\n",
       "      <td>0.195228</td>\n",
       "      <td>6</td>\n",
       "      <td>0</td>\n",
       "      <td>numeric</td>\n",
       "      <td>2.752278</td>\n",
       "    </tr>\n",
       "    <tr>\n",
       "      <th>22</th>\n",
       "      <td>crime_neighbour_watch</td>\n",
       "      <td>1217</td>\n",
       "      <td>294</td>\n",
       "      <td>0.241578</td>\n",
       "      <td>923</td>\n",
       "      <td>95</td>\n",
       "      <td>0.102925</td>\n",
       "      <td>6</td>\n",
       "      <td>0</td>\n",
       "      <td>numeric</td>\n",
       "      <td>1.829252</td>\n",
       "    </tr>\n",
       "    <tr>\n",
       "      <th>23</th>\n",
       "      <td>crime_community</td>\n",
       "      <td>1217</td>\n",
       "      <td>314</td>\n",
       "      <td>0.258012</td>\n",
       "      <td>903</td>\n",
       "      <td>178</td>\n",
       "      <td>0.197121</td>\n",
       "      <td>4</td>\n",
       "      <td>0</td>\n",
       "      <td>numeric</td>\n",
       "      <td>2.771207</td>\n",
       "    </tr>\n",
       "    <tr>\n",
       "      <th>24</th>\n",
       "      <td>crime_risk</td>\n",
       "      <td>1217</td>\n",
       "      <td>294</td>\n",
       "      <td>0.241578</td>\n",
       "      <td>923</td>\n",
       "      <td>182</td>\n",
       "      <td>0.197183</td>\n",
       "      <td>5</td>\n",
       "      <td>0</td>\n",
       "      <td>numeric</td>\n",
       "      <td>2.771831</td>\n",
       "    </tr>\n",
       "    <tr>\n",
       "      <th>25</th>\n",
       "      <td>Geographical_risk</td>\n",
       "      <td>1217</td>\n",
       "      <td>6</td>\n",
       "      <td>0.004930</td>\n",
       "      <td>1211</td>\n",
       "      <td>481</td>\n",
       "      <td>0.397192</td>\n",
       "      <td>8</td>\n",
       "      <td>0</td>\n",
       "      <td>numeric</td>\n",
       "      <td>4.771924</td>\n",
       "    </tr>\n",
       "    <tr>\n",
       "      <th>26</th>\n",
       "      <td>Weather_risk</td>\n",
       "      <td>1217</td>\n",
       "      <td>4</td>\n",
       "      <td>0.003287</td>\n",
       "      <td>1213</td>\n",
       "      <td>900</td>\n",
       "      <td>0.741962</td>\n",
       "      <td>8</td>\n",
       "      <td>0</td>\n",
       "      <td>numeric</td>\n",
       "      <td>8.219621</td>\n",
       "    </tr>\n",
       "    <tr>\n",
       "      <th>27</th>\n",
       "      <td>ISO</td>\n",
       "      <td>1217</td>\n",
       "      <td>0</td>\n",
       "      <td>0.000000</td>\n",
       "      <td>1217</td>\n",
       "      <td>6</td>\n",
       "      <td>0.004930</td>\n",
       "      <td>1</td>\n",
       "      <td>0</td>\n",
       "      <td>categorical</td>\n",
       "      <td>0.849302</td>\n",
       "    </tr>\n",
       "    <tr>\n",
       "      <th>28</th>\n",
       "      <td>ISO_cat</td>\n",
       "      <td>1217</td>\n",
       "      <td>0</td>\n",
       "      <td>0.000000</td>\n",
       "      <td>1217</td>\n",
       "      <td>6</td>\n",
       "      <td>0.004930</td>\n",
       "      <td>6</td>\n",
       "      <td>0</td>\n",
       "      <td>categorical</td>\n",
       "      <td>0.000000</td>\n",
       "    </tr>\n",
       "    <tr>\n",
       "      <th>29</th>\n",
       "      <td>ISO_desc</td>\n",
       "      <td>1217</td>\n",
       "      <td>0</td>\n",
       "      <td>0.000000</td>\n",
       "      <td>1217</td>\n",
       "      <td>1217</td>\n",
       "      <td>1.000000</td>\n",
       "      <td>507</td>\n",
       "      <td>0</td>\n",
       "      <td>text</td>\n",
       "      <td>0.000000</td>\n",
       "    </tr>\n",
       "  </tbody>\n",
       "</table>\n",
       "</div>"
      ],
      "text/plain": [
       "                   column  number of records  number of NaN  rate of NaN  \\\n",
       "0                Exposure               1217           1007     0.827445   \n",
       "1            Rating_Class               1217             87     0.071487   \n",
       "2        Sub_Rating_Class               1217           1212     0.995892   \n",
       "3           Renewal_class               1217           1093     0.898110   \n",
       "4       Sub_Renewal_Class               1217           1114     0.915366   \n",
       "5           Property_size               1217              1     0.000822   \n",
       "6               Residents               1217              5     0.004108   \n",
       "7              Commercial               1217            219     0.179951   \n",
       "8          Norm_fire_risk               1217              0     0.000000   \n",
       "9       Norm_monthly_rent               1217              0     0.000000   \n",
       "10          Loan_mortgage               1217           1021     0.838948   \n",
       "11         No_claim_Years               1217              0     0.000000   \n",
       "12        Previous_claims               1217            864     0.709942   \n",
       "13            Norm_area_m               1217            170     0.139688   \n",
       "14         Premium_remain               1217           1033     0.848809   \n",
       "15          Premium_renew               1217              0     0.000000   \n",
       "16           Renewal_Type               1217              0     0.000000   \n",
       "17    crime_property_type               1217            294     0.241578   \n",
       "18        crime_residents               1217            307     0.252260   \n",
       "19             crime_area               1217            294     0.241578   \n",
       "20            crime_arson               1217            301     0.247329   \n",
       "21         crime_burglary               1217            295     0.242399   \n",
       "22  crime_neighbour_watch               1217            294     0.241578   \n",
       "23        crime_community               1217            314     0.258012   \n",
       "24             crime_risk               1217            294     0.241578   \n",
       "25      Geographical_risk               1217              6     0.004930   \n",
       "26           Weather_risk               1217              4     0.003287   \n",
       "27                    ISO               1217              0     0.000000   \n",
       "28                ISO_cat               1217              0     0.000000   \n",
       "29               ISO_desc               1217              0     0.000000   \n",
       "\n",
       "    number of not NaN  number of unique  rate of unique  \\\n",
       "0                 210                 5        0.023810   \n",
       "1                1130                38        0.033628   \n",
       "2                   5                 3        0.600000   \n",
       "3                 124                 6        0.048387   \n",
       "4                 103                 3        0.029126   \n",
       "5                1216                 8        0.006579   \n",
       "6                1212                 6        0.004950   \n",
       "7                 998                 2        0.002004   \n",
       "8                1217                14        0.011504   \n",
       "9                1217              1041        0.855382   \n",
       "10                196               181        0.923469   \n",
       "11               1217               123        0.101068   \n",
       "12                353                14        0.039660   \n",
       "13               1047               107        0.102197   \n",
       "14                184                27        0.146739   \n",
       "15               1217               747        0.613804   \n",
       "16               1217                 2        0.001643   \n",
       "17                923               177        0.191766   \n",
       "18                910               181        0.198901   \n",
       "19                923               155        0.167931   \n",
       "20                916               180        0.196507   \n",
       "21                922               180        0.195228   \n",
       "22                923                95        0.102925   \n",
       "23                903               178        0.197121   \n",
       "24                923               182        0.197183   \n",
       "25               1211               481        0.397192   \n",
       "26               1213               900        0.741962   \n",
       "27               1217                 6        0.004930   \n",
       "28               1217                 6        0.004930   \n",
       "29               1217              1217        1.000000   \n",
       "\n",
       "    number of unique lenght  isNormalDistribution estimated type      score  \n",
       "0                         1                     0        numeric   1.038095  \n",
       "1                         1                     0    categorical   0.000000  \n",
       "2                         1                     0        missing   0.000000  \n",
       "3                         1                     0    categorical   0.000000  \n",
       "4                         1                     0    categorical   0.000000  \n",
       "5                         1                     0    categorical   0.865789  \n",
       "6                         1                     0    categorical   0.849505  \n",
       "7                         1                     0         binary   0.000000  \n",
       "8                         3                     0    categorical   0.915037  \n",
       "9                         8                     0        numeric   9.353821  \n",
       "10                        4                     0        numeric  10.034694  \n",
       "11                        5                     0        numeric   1.810682  \n",
       "12                        3                     0        numeric   1.196601  \n",
       "13                        3                     0        numeric   1.821968  \n",
       "14                        3                     0        numeric   2.267391  \n",
       "15                       11                     0        numeric   6.938044  \n",
       "16                        1                     0         binary   0.000000  \n",
       "17                        6                     0        numeric   2.717660  \n",
       "18                        5                     0        numeric   2.789011  \n",
       "19                        5                     0        numeric   2.479307  \n",
       "20                        4                     0        numeric   2.765066  \n",
       "21                        6                     0        numeric   2.752278  \n",
       "22                        6                     0        numeric   1.829252  \n",
       "23                        4                     0        numeric   2.771207  \n",
       "24                        5                     0        numeric   2.771831  \n",
       "25                        8                     0        numeric   4.771924  \n",
       "26                        8                     0        numeric   8.219621  \n",
       "27                        1                     0    categorical   0.849302  \n",
       "28                        6                     0    categorical   0.000000  \n",
       "29                      507                     0           text   0.000000  "
      ]
     },
     "execution_count": 5,
     "metadata": {},
     "output_type": "execute_result"
    }
   ],
   "source": [
    "# Making report out of provided data\n",
    "final_report = []\n",
    "for col in data.columns:\n",
    "    tmp = data[col]\n",
    "    report = get_info(tmp)\n",
    "    final_report.append(report)\n",
    " \n",
    "eda = pd.DataFrame(final_report)\n",
    "eda"
   ]
  },
  {
   "cell_type": "markdown",
   "metadata": {},
   "source": [
    "## Making some basic plots using pandas and plotly backend for plotting:\n",
    "*important: Please, rerun notebook in order to see the plots"
   ]
  },
  {
   "cell_type": "code",
   "execution_count": 6,
   "metadata": {},
   "outputs": [
    {
     "data": {
      "image/png": "[encoded data removed]",
      "text/plain": [
       "<Figure size 432x288 with 1 Axes>"
      ]
     },
     "metadata": {},
     "output_type": "display_data"
    }
   ],
   "source": [
    "ax = sns.countplot(x=\"estimated type\", data=eda)\n",
    "total = float(len(eda))\n",
    "for p in ax.patches:\n",
    "    height = p.get_height()\n",
    "    ax.text(p.get_x()+p.get_width() /2.,\n",
    "            height+ 0.5,\n",
    "            '{:1.0f}'.format(height),\n",
    "            ha=\"center\") \n",
    "plt.title('Number of columns of each type')\n",
    "plt.show()"
   ]
  },
  {
   "cell_type": "code",
   "execution_count": 7,
   "metadata": {},
   "outputs": [
    {
     "data": {
      "image/png": "[encoded data removed]",
      "text/plain": [
       "<Figure size 720x360 with 1 Axes>"
      ]
     },
     "metadata": {},
     "output_type": "display_data"
    }
   ],
   "source": [
    "plt.figure(figsize=(10,5))\n",
    "ax = sns.barplot(y=\"rate of NaN\", x='column', data=eda)\n",
    "ax.set_xticklabels(ax.get_xticklabels(), rotation=90)\n",
    "plt.title('Rate of NaN values per column')\n",
    "plt.show()"
   ]
  },
  {
   "cell_type": "code",
   "execution_count": 8,
   "metadata": {},
   "outputs": [
    {
     "data": {
      "image/png": "[encoded data removed]",
      "text/plain": [
       "<Figure size 720x360 with 1 Axes>"
      ]
     },
     "metadata": {},
     "output_type": "display_data"
    }
   ],
   "source": [
    "plt.figure(figsize=(10,5))\n",
    "ax = sns.barplot(y=\"rate of unique\", x='column', data=eda)\n",
    "ax.set_xticklabels(ax.get_xticklabels(), rotation=90)\n",
    "plt.title('Rate of unique values per column')\n",
    "plt.show()"
   ]
  },
  {
   "cell_type": "markdown",
   "metadata": {},
   "source": [
    "# Feature enginering"
   ]
  },
  {
   "cell_type": "code",
   "execution_count": 9,
   "metadata": {},
   "outputs": [],
   "source": [
    "binary_columns = eda[eda['estimated type'] == 'binary'].column.values\n",
    "missing_columns = eda[eda['estimated type'] == 'missing'].column.values\n",
    "text_columns = eda[eda['estimated type'] == 'text'].column.values\n",
    "numeric_columns = eda[eda['estimated type'] == 'numeric'].column.values\n",
    "cat_columns1 = eda[(eda['estimated type'] == 'categorical')&(eda['number of unique'] < 10)].column.values\n",
    "cat_columns2 = eda[(eda['estimated type'] == 'categorical')&(eda['number of unique'] >= 10)].column.values"
   ]
  },
  {
   "cell_type": "code",
   "execution_count": 10,
   "metadata": {},
   "outputs": [],
   "source": [
    "# # Get dummies from binary:\n",
    "# ## missing values as a new column\n",
    "# data[binary_columns] = pd.get_dummies(data[binary_columns], drop_first = True, dummy_na = True)\n",
    "\n",
    "# # Encode categorical variables:\n",
    "# ## If there are a lot of categories (>10) use base larger (3)\n",
    "# ## missing values as a new column\n",
    "# cat_columns1 = eda[(eda['estimated type'] == 'categorical')&(eda['number of unique'] < 10)].column.values\n",
    "# encoder1 = BaseNEncoder(cols = cat_columns1, base = 2, drop_invariant = True, )\n",
    "# data = encoder1.fit_transform(data)\n",
    "\n",
    "# cat_columns2 = eda[(eda['estimated type'] == 'categorical')&(eda['number of unique'] >= 10)].column.values\n",
    "# encoder2 = BaseNEncoder(cols = cat_columns2, base = 3, drop_invariant = True)\n",
    "# data = encoder2.fit_transform(data)\n",
    "\n",
    "# # normilize numeric variables\n",
    "# def normalize(df):\n",
    "#     result = df.copy()\n",
    "#     for feature_name in df.columns:\n",
    "#         max_value = df[feature_name].max()\n",
    "#         min_value = df[feature_name].min()\n",
    "#         result[feature_name] = (df[feature_name] - min_value) / (max_value - min_value)\n",
    "#         result[feature_name].fillna(result[feature_name].mean(), inplace = True)\n",
    "#     return result\n",
    "# data[numeric_columns] = normalize(data[numeric_columns])\n",
    "\n",
    "# # drop missing values\n",
    "# data.drop(missing_columns, axis = 1, inplace = True)\n",
    "\n",
    "# # Get features from text: included in pipeline."
   ]
  },
  {
   "cell_type": "markdown",
   "metadata": {},
   "source": [
    "# Does CV partitioning (keep 10-20% for holdout)"
   ]
  },
  {
   "cell_type": "code",
   "execution_count": 11,
   "metadata": {},
   "outputs": [],
   "source": [
    "# keeping 15% for holdout\n",
    "X_train, X_test, y_train, y_test = train_test_split(data, y, test_size=0.15, random_state=42)\n",
    "\n",
    "# CV partitioning will be done during parameter tuning"
   ]
  },
  {
   "cell_type": "markdown",
   "metadata": {},
   "source": [
    "# Builds a pipeline which can train model\n",
    "### Pipeline for RandomForest model"
   ]
  },
  {
   "cell_type": "code",
   "execution_count": 12,
   "metadata": {},
   "outputs": [
    {
     "name": "stdout",
     "output_type": "stream",
     "text": [
      "model score: 0.035\n"
     ]
    }
   ],
   "source": [
    "binary_columns = eda[eda['estimated type'] == 'binary'].column.values\n",
    "missing_columns = eda[eda['estimated type'] == 'missing'].column.values\n",
    "text_columns = eda[eda['estimated type'] == 'text'].column.values\n",
    "numeric_columns = eda[eda['estimated type'] == 'numeric'].column.values\n",
    "cat_columns = eda[eda['estimated type'] == 'categorical'].column.values\n",
    "    \n",
    "def to_object(x):\n",
    "    return pd.DataFrame(x).astype(str)\n",
    "    \n",
    "# Only works for RF model\n",
    "numeric_pipeline = Pipeline(steps=[\n",
    "    ('imputer', SimpleImputer(strategy='constant', fill_value=-99999)),\n",
    "    ])\n",
    "\n",
    "binary_pipeline = Pipeline(steps=[\n",
    "    ('o_trans', FunctionTransformer(to_object)),\n",
    "    ('imputer', SimpleImputer(strategy='constant', fill_value='missing')),\n",
    "    ('onehot', OneHotEncoder(handle_unknown='ignore')),\n",
    "    ('fx_selection', SelectFromModel(ElasticNet(alpha=0.1)))\n",
    "])\n",
    "\n",
    "\n",
    "categorical_pipeline = Pipeline(steps=[\n",
    "    ('o_trans', FunctionTransformer(to_object)),\n",
    "    ('imputer', SimpleImputer(strategy='constant', fill_value='missing')),\n",
    "    # Can be changed to smth more fancy like BaseNEncoder\n",
    "    ('onehot', OneHotEncoder(handle_unknown='ignore')),\n",
    "    ('fx_selection', SelectFromModel(ElasticNet(alpha=0.1)))\n",
    "])\n",
    "\n",
    "# changed \n",
    "text_pipeline = Pipeline(steps=[\n",
    "    ('bow', MultiColumnTfidfVectorizer()),\n",
    "    ('fx_selection', SelectFromModel(ElasticNet(alpha=0.1), max_features=50))\n",
    "])\n",
    "\n",
    "preprocessor = ColumnTransformer(\n",
    "    transformers=[\n",
    "        ('bin', binary_pipeline, binary_columns),\n",
    "        ('num', numeric_pipeline, numeric_columns),\n",
    "        ('cat', categorical_pipeline, cat_columns),\n",
    "        ('text', text_pipeline, text_columns)\n",
    "    ])\n",
    "\n",
    "# Append estimator to preprocessing pipeline.\n",
    "# Now we have a full prediction pipeline.\n",
    "est = Pipeline(steps=[('prp', preprocessor),\n",
    "                      ('rf', RandomForestRegressor(n_estimators=10, criterion='mae', n_jobs=-1))])\n",
    "\n",
    "est.fit(X_train, y_train)\n",
    "\n",
    "#print(\"best params: {}\".format(gs.best_params_))\n",
    "print(\"model score: %.3f\" % mean_absolute_error(y_test, est.predict(X_test)))"
   ]
  },
  {
   "cell_type": "markdown",
   "metadata": {},
   "source": [
    "## Pipeline for linear regression(ElasticNet) model"
   ]
  },
  {
   "cell_type": "code",
   "execution_count": 13,
   "metadata": {},
   "outputs": [
    {
     "name": "stdout",
     "output_type": "stream",
     "text": [
      "model score: 0.042\n"
     ]
    }
   ],
   "source": [
    "numeric_pipeline = Pipeline(steps=[\n",
    "    ('imputer', SimpleImputer(strategy='mean')),\n",
    "    ('scaler', StandardScaler())])\n",
    "\n",
    "preprocessor = ColumnTransformer(\n",
    "    transformers=[\n",
    "        ('bin', binary_pipeline, binary_columns),\n",
    "        ('num', numeric_pipeline, numeric_columns),\n",
    "        ('cat', categorical_pipeline, cat_columns),\n",
    "        ('text', text_pipeline, text_columns)\n",
    "    ])\n",
    "\n",
    "est_2 = Pipeline(steps=[('prp', preprocessor),\n",
    "                      ('lr', ElasticNet())])\n",
    "\n",
    "est_2.fit(X_train, y_train)\n",
    "\n",
    "#print(\"best params: {}\".format(gs.best_params_))\n",
    "print(\"model score: %.3f\" % mean_absolute_error(y_test, est_2.predict(X_test)))"
   ]
  },
  {
   "cell_type": "markdown",
   "metadata": {},
   "source": [
    "# Optimizes hyperparameters of models. Use GridSearch, RandomSearch or Bayesian optimization."
   ]
  },
  {
   "cell_type": "code",
   "execution_count": 14,
   "metadata": {
    "scrolled": true
   },
   "outputs": [
    {
     "name": "stdout",
     "output_type": "stream",
     "text": [
      "Fitting 3 folds for each of 1 candidates, totalling 3 fits\n"
     ]
    },
    {
     "name": "stderr",
     "output_type": "stream",
     "text": [
      "[Parallel(n_jobs=-1)]: Using backend LokyBackend with 8 concurrent workers.\n",
      "[Parallel(n_jobs=-1)]: Done   3 out of   3 | elapsed:    5.7s remaining:    0.0s\n",
      "[Parallel(n_jobs=-1)]: Done   3 out of   3 | elapsed:    5.7s finished\n",
      "[Parallel(n_jobs=-1)]: Using backend LokyBackend with 8 concurrent workers.\n"
     ]
    },
    {
     "name": "stdout",
     "output_type": "stream",
     "text": [
      "Fitting 3 folds for each of 1 candidates, totalling 3 fits\n"
     ]
    },
    {
     "name": "stderr",
     "output_type": "stream",
     "text": [
      "[Parallel(n_jobs=-1)]: Done   3 out of   3 | elapsed:    2.6s remaining:    0.0s\n",
      "[Parallel(n_jobs=-1)]: Done   3 out of   3 | elapsed:    2.6s finished\n",
      "[Parallel(n_jobs=-1)]: Using backend LokyBackend with 8 concurrent workers.\n"
     ]
    },
    {
     "name": "stdout",
     "output_type": "stream",
     "text": [
      "Fitting 3 folds for each of 1 candidates, totalling 3 fits\n"
     ]
    },
    {
     "name": "stderr",
     "output_type": "stream",
     "text": [
      "[Parallel(n_jobs=-1)]: Done   3 out of   3 | elapsed:    1.7s remaining:    0.0s\n",
      "[Parallel(n_jobs=-1)]: Done   3 out of   3 | elapsed:    1.7s finished\n",
      "[Parallel(n_jobs=-1)]: Using backend LokyBackend with 8 concurrent workers.\n"
     ]
    },
    {
     "name": "stdout",
     "output_type": "stream",
     "text": [
      "Fitting 3 folds for each of 1 candidates, totalling 3 fits\n"
     ]
    },
    {
     "name": "stderr",
     "output_type": "stream",
     "text": [
      "[Parallel(n_jobs=-1)]: Done   3 out of   3 | elapsed:    3.8s remaining:    0.0s\n",
      "[Parallel(n_jobs=-1)]: Done   3 out of   3 | elapsed:    3.8s finished\n",
      "[Parallel(n_jobs=-1)]: Using backend LokyBackend with 8 concurrent workers.\n"
     ]
    },
    {
     "name": "stdout",
     "output_type": "stream",
     "text": [
      "Fitting 3 folds for each of 1 candidates, totalling 3 fits\n"
     ]
    },
    {
     "name": "stderr",
     "output_type": "stream",
     "text": [
      "[Parallel(n_jobs=-1)]: Done   3 out of   3 | elapsed:    1.1s remaining:    0.0s\n",
      "[Parallel(n_jobs=-1)]: Done   3 out of   3 | elapsed:    1.1s finished\n",
      "[Parallel(n_jobs=-1)]: Using backend LokyBackend with 8 concurrent workers.\n"
     ]
    },
    {
     "name": "stdout",
     "output_type": "stream",
     "text": [
      "Fitting 3 folds for each of 1 candidates, totalling 3 fits\n"
     ]
    },
    {
     "name": "stderr",
     "output_type": "stream",
     "text": [
      "[Parallel(n_jobs=-1)]: Done   3 out of   3 | elapsed:    3.2s remaining:    0.0s\n",
      "[Parallel(n_jobs=-1)]: Done   3 out of   3 | elapsed:    3.2s finished\n",
      "[Parallel(n_jobs=-1)]: Using backend LokyBackend with 8 concurrent workers.\n"
     ]
    },
    {
     "name": "stdout",
     "output_type": "stream",
     "text": [
      "Fitting 3 folds for each of 1 candidates, totalling 3 fits\n"
     ]
    },
    {
     "name": "stderr",
     "output_type": "stream",
     "text": [
      "[Parallel(n_jobs=-1)]: Done   3 out of   3 | elapsed:    3.3s remaining:    0.0s\n",
      "[Parallel(n_jobs=-1)]: Done   3 out of   3 | elapsed:    3.3s finished\n",
      "[Parallel(n_jobs=-1)]: Using backend LokyBackend with 8 concurrent workers.\n"
     ]
    },
    {
     "name": "stdout",
     "output_type": "stream",
     "text": [
      "Fitting 3 folds for each of 1 candidates, totalling 3 fits\n"
     ]
    },
    {
     "name": "stderr",
     "output_type": "stream",
     "text": [
      "[Parallel(n_jobs=-1)]: Done   3 out of   3 | elapsed:    1.0s remaining:    0.0s\n",
      "[Parallel(n_jobs=-1)]: Done   3 out of   3 | elapsed:    1.0s finished\n",
      "[Parallel(n_jobs=-1)]: Using backend LokyBackend with 8 concurrent workers.\n"
     ]
    },
    {
     "name": "stdout",
     "output_type": "stream",
     "text": [
      "Fitting 3 folds for each of 1 candidates, totalling 3 fits\n"
     ]
    },
    {
     "name": "stderr",
     "output_type": "stream",
     "text": [
      "[Parallel(n_jobs=-1)]: Done   3 out of   3 | elapsed:    4.9s remaining:    0.0s\n",
      "[Parallel(n_jobs=-1)]: Done   3 out of   3 | elapsed:    4.9s finished\n"
     ]
    },
    {
     "name": "stdout",
     "output_type": "stream",
     "text": [
      "Fitting 3 folds for each of 1 candidates, totalling 3 fits\n"
     ]
    },
    {
     "name": "stderr",
     "output_type": "stream",
     "text": [
      "[Parallel(n_jobs=-1)]: Using backend LokyBackend with 8 concurrent workers.\n",
      "[Parallel(n_jobs=-1)]: Done   3 out of   3 | elapsed:    3.5s remaining:    0.0s\n",
      "[Parallel(n_jobs=-1)]: Done   3 out of   3 | elapsed:    3.5s finished\n"
     ]
    },
    {
     "name": "stdout",
     "output_type": "stream",
     "text": [
      "Fitting 3 folds for each of 1 candidates, totalling 3 fits\n"
     ]
    },
    {
     "name": "stderr",
     "output_type": "stream",
     "text": [
      "[Parallel(n_jobs=-1)]: Using backend LokyBackend with 8 concurrent workers.\n",
      "[Parallel(n_jobs=-1)]: Done   3 out of   3 | elapsed:    0.8s remaining:    0.0s\n",
      "[Parallel(n_jobs=-1)]: Done   3 out of   3 | elapsed:    0.8s finished\n"
     ]
    },
    {
     "name": "stdout",
     "output_type": "stream",
     "text": [
      "Fitting 3 folds for each of 1 candidates, totalling 3 fits\n"
     ]
    },
    {
     "name": "stderr",
     "output_type": "stream",
     "text": [
      "[Parallel(n_jobs=-1)]: Using backend LokyBackend with 8 concurrent workers.\n",
      "[Parallel(n_jobs=-1)]: Done   3 out of   3 | elapsed:    0.4s remaining:    0.0s\n",
      "[Parallel(n_jobs=-1)]: Done   3 out of   3 | elapsed:    0.4s finished\n"
     ]
    },
    {
     "name": "stdout",
     "output_type": "stream",
     "text": [
      "Fitting 3 folds for each of 1 candidates, totalling 3 fits\n"
     ]
    },
    {
     "name": "stderr",
     "output_type": "stream",
     "text": [
      "[Parallel(n_jobs=-1)]: Using backend LokyBackend with 8 concurrent workers.\n",
      "[Parallel(n_jobs=-1)]: Done   3 out of   3 | elapsed:    3.7s remaining:    0.0s\n",
      "[Parallel(n_jobs=-1)]: Done   3 out of   3 | elapsed:    3.7s finished\n"
     ]
    },
    {
     "name": "stdout",
     "output_type": "stream",
     "text": [
      "Fitting 3 folds for each of 1 candidates, totalling 3 fits\n"
     ]
    },
    {
     "name": "stderr",
     "output_type": "stream",
     "text": [
      "[Parallel(n_jobs=-1)]: Using backend LokyBackend with 8 concurrent workers.\n",
      "[Parallel(n_jobs=-1)]: Done   3 out of   3 | elapsed:    0.9s remaining:    0.0s\n",
      "[Parallel(n_jobs=-1)]: Done   3 out of   3 | elapsed:    0.9s finished\n"
     ]
    },
    {
     "name": "stdout",
     "output_type": "stream",
     "text": [
      "Fitting 3 folds for each of 1 candidates, totalling 3 fits\n"
     ]
    },
    {
     "name": "stderr",
     "output_type": "stream",
     "text": [
      "[Parallel(n_jobs=-1)]: Using backend LokyBackend with 8 concurrent workers.\n",
      "[Parallel(n_jobs=-1)]: Done   3 out of   3 | elapsed:    2.3s remaining:    0.0s\n",
      "[Parallel(n_jobs=-1)]: Done   3 out of   3 | elapsed:    2.3s finished\n"
     ]
    },
    {
     "name": "stdout",
     "output_type": "stream",
     "text": [
      "Fitting 3 folds for each of 1 candidates, totalling 3 fits\n"
     ]
    },
    {
     "name": "stderr",
     "output_type": "stream",
     "text": [
      "[Parallel(n_jobs=-1)]: Using backend LokyBackend with 8 concurrent workers.\n",
      "[Parallel(n_jobs=-1)]: Done   3 out of   3 | elapsed:    2.2s remaining:    0.0s\n",
      "[Parallel(n_jobs=-1)]: Done   3 out of   3 | elapsed:    2.2s finished\n"
     ]
    },
    {
     "name": "stdout",
     "output_type": "stream",
     "text": [
      "Fitting 3 folds for each of 1 candidates, totalling 3 fits\n"
     ]
    },
    {
     "name": "stderr",
     "output_type": "stream",
     "text": [
      "[Parallel(n_jobs=-1)]: Using backend LokyBackend with 8 concurrent workers.\n",
      "[Parallel(n_jobs=-1)]: Done   3 out of   3 | elapsed:    0.6s remaining:    0.0s\n",
      "[Parallel(n_jobs=-1)]: Done   3 out of   3 | elapsed:    0.6s finished\n"
     ]
    },
    {
     "name": "stdout",
     "output_type": "stream",
     "text": [
      "Fitting 3 folds for each of 1 candidates, totalling 3 fits\n"
     ]
    },
    {
     "name": "stderr",
     "output_type": "stream",
     "text": [
      "[Parallel(n_jobs=-1)]: Using backend LokyBackend with 8 concurrent workers.\n",
      "[Parallel(n_jobs=-1)]: Done   3 out of   3 | elapsed:    2.7s remaining:    0.0s\n",
      "[Parallel(n_jobs=-1)]: Done   3 out of   3 | elapsed:    2.7s finished\n"
     ]
    },
    {
     "name": "stdout",
     "output_type": "stream",
     "text": [
      "Fitting 3 folds for each of 1 candidates, totalling 3 fits\n"
     ]
    },
    {
     "name": "stderr",
     "output_type": "stream",
     "text": [
      "[Parallel(n_jobs=-1)]: Using backend LokyBackend with 8 concurrent workers.\n",
      "[Parallel(n_jobs=-1)]: Done   3 out of   3 | elapsed:    0.9s remaining:    0.0s\n",
      "[Parallel(n_jobs=-1)]: Done   3 out of   3 | elapsed:    0.9s finished\n"
     ]
    },
    {
     "name": "stdout",
     "output_type": "stream",
     "text": [
      "Fitting 3 folds for each of 1 candidates, totalling 3 fits\n"
     ]
    },
    {
     "name": "stderr",
     "output_type": "stream",
     "text": [
      "[Parallel(n_jobs=-1)]: Using backend LokyBackend with 8 concurrent workers.\n",
      "[Parallel(n_jobs=-1)]: Done   3 out of   3 | elapsed:    5.6s remaining:    0.0s\n",
      "[Parallel(n_jobs=-1)]: Done   3 out of   3 | elapsed:    5.6s finished\n"
     ]
    },
    {
     "name": "stdout",
     "output_type": "stream",
     "text": [
      "best params: OrderedDict([('prp__cat__fx_selection__max_features', 36), ('prp__text__fx_selection__max_features', 15), ('rf__max_depth', 5), ('rf__max_features', 0.31487938519063857), ('rf__min_samples_leaf', 3), ('rf__n_estimators', 48)])\n",
      "model score: 0.035\n"
     ]
    }
   ],
   "source": [
    "params={'rf__max_features':Real(0.2, 0.8, 'uniform'),\n",
    "        'rf__min_samples_leaf':Integer(2, 6),\n",
    "        'rf__max_depth':Integer(3, 8),\n",
    "        'rf__n_estimators':Integer(10, 120),\n",
    "        'prp__text__fx_selection__max_features':Integer(10, 100),\n",
    "        'prp__cat__fx_selection__max_features':Integer(10, 60),\n",
    "        }\n",
    "\n",
    "# rf = RandomizedSearchCV(est, params, cv=3, scoring='neg_mean_absolute_error', \n",
    "#                         n_iter=4, n_jobs=-1, verbose=10, random_state=0)\n",
    "\n",
    "rf = BayesSearchCV(est, params, cv=3, scoring='neg_mean_absolute_error', \n",
    "                        n_iter=20, n_jobs=-1, verbose=10, random_state=0)\n",
    "\n",
    "rf.fit(X_train, y_train)\n",
    "\n",
    "print(\"best params: {}\".format(rf.best_params_))\n",
    "print(\"model score: %.3f\" % mean_absolute_error(y_test, rf.predict(X_test)))"
   ]
  },
  {
   "cell_type": "markdown",
   "metadata": {},
   "source": [
    "# Reports scores of models."
   ]
  },
  {
   "cell_type": "code",
   "execution_count": 15,
   "metadata": {
    "scrolled": false
   },
   "outputs": [
    {
     "data": {
      "text/html": [
       "<div>\n",
       "<style scoped>\n",
       "    .dataframe tbody tr th:only-of-type {\n",
       "        vertical-align: middle;\n",
       "    }\n",
       "\n",
       "    .dataframe tbody tr th {\n",
       "        vertical-align: top;\n",
       "    }\n",
       "\n",
       "    .dataframe thead th {\n",
       "        text-align: right;\n",
       "    }\n",
       "</style>\n",
       "<table border=\"1\" class=\"dataframe\">\n",
       "  <thead>\n",
       "    <tr style=\"text-align: right;\">\n",
       "      <th></th>\n",
       "      <th>rank_test_score</th>\n",
       "      <th>mean_test_score</th>\n",
       "      <th>std_test_score</th>\n",
       "      <th>params</th>\n",
       "    </tr>\n",
       "  </thead>\n",
       "  <tbody>\n",
       "    <tr>\n",
       "      <th>2</th>\n",
       "      <td>1</td>\n",
       "      <td>-0.035481</td>\n",
       "      <td>0.001430</td>\n",
       "      <td>{'prp__cat__fx_selection__max_features': 36, 'prp__text__fx_selection__max_features': 15, 'rf__max_depth': 5, 'rf__max_features': 0.31487938519063857, 'rf__min_samples_leaf': 3, 'rf__n_estimators': 48}</td>\n",
       "    </tr>\n",
       "    <tr>\n",
       "      <th>15</th>\n",
       "      <td>2</td>\n",
       "      <td>-0.035539</td>\n",
       "      <td>0.001041</td>\n",
       "      <td>{'prp__cat__fx_selection__max_features': 16, 'prp__text__fx_selection__max_features': 17, 'rf__max_depth': 3, 'rf__max_features': 0.7783597237786855, 'rf__min_samples_leaf': 2, 'rf__n_estimators': 110}</td>\n",
       "    </tr>\n",
       "    <tr>\n",
       "      <th>10</th>\n",
       "      <td>3</td>\n",
       "      <td>-0.035599</td>\n",
       "      <td>0.000917</td>\n",
       "      <td>{'prp__cat__fx_selection__max_features': 54, 'prp__text__fx_selection__max_features': 17, 'rf__max_depth': 3, 'rf__max_features': 0.7802823819812623, 'rf__min_samples_leaf': 6, 'rf__n_estimators': 29}</td>\n",
       "    </tr>\n",
       "    <tr>\n",
       "      <th>0</th>\n",
       "      <td>4</td>\n",
       "      <td>-0.035751</td>\n",
       "      <td>0.001157</td>\n",
       "      <td>{'prp__cat__fx_selection__max_features': 37, 'prp__text__fx_selection__max_features': 71, 'rf__max_depth': 6, 'rf__max_features': 0.5880079646429943, 'rf__min_samples_leaf': 5, 'rf__n_estimators': 118}</td>\n",
       "    </tr>\n",
       "    <tr>\n",
       "      <th>19</th>\n",
       "      <td>5</td>\n",
       "      <td>-0.035800</td>\n",
       "      <td>0.001010</td>\n",
       "      <td>{'prp__cat__fx_selection__max_features': 10, 'prp__text__fx_selection__max_features': 100, 'rf__max_depth': 3, 'rf__max_features': 0.8, 'rf__min_samples_leaf': 2, 'rf__n_estimators': 120}</td>\n",
       "    </tr>\n",
       "    <tr>\n",
       "      <th>18</th>\n",
       "      <td>6</td>\n",
       "      <td>-0.035852</td>\n",
       "      <td>0.000951</td>\n",
       "      <td>{'prp__cat__fx_selection__max_features': 57, 'prp__text__fx_selection__max_features': 83, 'rf__max_depth': 3, 'rf__max_features': 0.7581563065852486, 'rf__min_samples_leaf': 6, 'rf__n_estimators': 13}</td>\n",
       "    </tr>\n",
       "    <tr>\n",
       "      <th>9</th>\n",
       "      <td>7</td>\n",
       "      <td>-0.035862</td>\n",
       "      <td>0.001086</td>\n",
       "      <td>{'prp__cat__fx_selection__max_features': 28, 'prp__text__fx_selection__max_features': 50, 'rf__max_depth': 4, 'rf__max_features': 0.6788712767560745, 'rf__min_samples_leaf': 2, 'rf__n_estimators': 92}</td>\n",
       "    </tr>\n",
       "    <tr>\n",
       "      <th>7</th>\n",
       "      <td>8</td>\n",
       "      <td>-0.035902</td>\n",
       "      <td>0.001251</td>\n",
       "      <td>{'prp__cat__fx_selection__max_features': 36, 'prp__text__fx_selection__max_features': 57, 'rf__max_depth': 7, 'rf__max_features': 0.21637697678831694, 'rf__min_samples_leaf': 2, 'rf__n_estimators': 36}</td>\n",
       "    </tr>\n",
       "    <tr>\n",
       "      <th>8</th>\n",
       "      <td>9</td>\n",
       "      <td>-0.035929</td>\n",
       "      <td>0.000894</td>\n",
       "      <td>{'prp__cat__fx_selection__max_features': 15, 'prp__text__fx_selection__max_features': 91, 'rf__max_depth': 7, 'rf__max_features': 0.7600609958037305, 'rf__min_samples_leaf': 4, 'rf__n_estimators': 70}</td>\n",
       "    </tr>\n",
       "    <tr>\n",
       "      <th>17</th>\n",
       "      <td>10</td>\n",
       "      <td>-0.035932</td>\n",
       "      <td>0.001216</td>\n",
       "      <td>{'prp__cat__fx_selection__max_features': 10, 'prp__text__fx_selection__max_features': 10, 'rf__max_depth': 8, 'rf__max_features': 0.8, 'rf__min_samples_leaf': 6, 'rf__n_estimators': 120}</td>\n",
       "    </tr>\n",
       "    <tr>\n",
       "      <th>3</th>\n",
       "      <td>11</td>\n",
       "      <td>-0.035979</td>\n",
       "      <td>0.001083</td>\n",
       "      <td>{'prp__cat__fx_selection__max_features': 17, 'prp__text__fx_selection__max_features': 80, 'rf__max_depth': 5, 'rf__max_features': 0.47303324997816193, 'rf__min_samples_leaf': 5, 'rf__n_estimators': 85}</td>\n",
       "    </tr>\n",
       "    <tr>\n",
       "      <th>12</th>\n",
       "      <td>12</td>\n",
       "      <td>-0.036052</td>\n",
       "      <td>0.001058</td>\n",
       "      <td>{'prp__cat__fx_selection__max_features': 60, 'prp__text__fx_selection__max_features': 10, 'rf__max_depth': 8, 'rf__max_features': 0.8, 'rf__min_samples_leaf': 6, 'rf__n_estimators': 120}</td>\n",
       "    </tr>\n",
       "    <tr>\n",
       "      <th>1</th>\n",
       "      <td>13</td>\n",
       "      <td>-0.036088</td>\n",
       "      <td>0.000677</td>\n",
       "      <td>{'prp__cat__fx_selection__max_features': 23, 'prp__text__fx_selection__max_features': 98, 'rf__max_depth': 8, 'rf__max_features': 0.5596051935035463, 'rf__min_samples_leaf': 3, 'rf__n_estimators': 28}</td>\n",
       "    </tr>\n",
       "    <tr>\n",
       "      <th>6</th>\n",
       "      <td>14</td>\n",
       "      <td>-0.036105</td>\n",
       "      <td>0.001204</td>\n",
       "      <td>{'prp__cat__fx_selection__max_features': 58, 'prp__text__fx_selection__max_features': 78, 'rf__max_depth': 5, 'rf__max_features': 0.31056754262966285, 'rf__min_samples_leaf': 3, 'rf__n_estimators': 104}</td>\n",
       "    </tr>\n",
       "    <tr>\n",
       "      <th>5</th>\n",
       "      <td>15</td>\n",
       "      <td>-0.036124</td>\n",
       "      <td>0.000940</td>\n",
       "      <td>{'prp__cat__fx_selection__max_features': 52, 'prp__text__fx_selection__max_features': 99, 'rf__max_depth': 7, 'rf__max_features': 0.49170372706305027, 'rf__min_samples_leaf': 3, 'rf__n_estimators': 41}</td>\n",
       "    </tr>\n",
       "    <tr>\n",
       "      <th>4</th>\n",
       "      <td>16</td>\n",
       "      <td>-0.036222</td>\n",
       "      <td>0.001291</td>\n",
       "      <td>{'prp__cat__fx_selection__max_features': 22, 'prp__text__fx_selection__max_features': 32, 'rf__max_depth': 7, 'rf__max_features': 0.3713225296469147, 'rf__min_samples_leaf': 3, 'rf__n_estimators': 38}</td>\n",
       "    </tr>\n",
       "    <tr>\n",
       "      <th>13</th>\n",
       "      <td>17</td>\n",
       "      <td>-0.036235</td>\n",
       "      <td>0.000966</td>\n",
       "      <td>{'prp__cat__fx_selection__max_features': 60, 'prp__text__fx_selection__max_features': 100, 'rf__max_depth': 3, 'rf__max_features': 0.8, 'rf__min_samples_leaf': 2, 'rf__n_estimators': 10}</td>\n",
       "    </tr>\n",
       "    <tr>\n",
       "      <th>16</th>\n",
       "      <td>18</td>\n",
       "      <td>-0.036332</td>\n",
       "      <td>0.001189</td>\n",
       "      <td>{'prp__cat__fx_selection__max_features': 55, 'prp__text__fx_selection__max_features': 11, 'rf__max_depth': 8, 'rf__max_features': 0.21507968299674804, 'rf__min_samples_leaf': 2, 'rf__n_estimators': 24}</td>\n",
       "    </tr>\n",
       "    <tr>\n",
       "      <th>14</th>\n",
       "      <td>19</td>\n",
       "      <td>-0.036604</td>\n",
       "      <td>0.001360</td>\n",
       "      <td>{'prp__cat__fx_selection__max_features': 58, 'prp__text__fx_selection__max_features': 93, 'rf__max_depth': 3, 'rf__max_features': 0.24053604403542184, 'rf__min_samples_leaf': 6, 'rf__n_estimators': 115}</td>\n",
       "    </tr>\n",
       "    <tr>\n",
       "      <th>11</th>\n",
       "      <td>20</td>\n",
       "      <td>-0.037150</td>\n",
       "      <td>0.002047</td>\n",
       "      <td>{'prp__cat__fx_selection__max_features': 10, 'prp__text__fx_selection__max_features': 10, 'rf__max_depth': 3, 'rf__max_features': 0.2, 'rf__min_samples_leaf': 6, 'rf__n_estimators': 10}</td>\n",
       "    </tr>\n",
       "  </tbody>\n",
       "</table>\n",
       "</div>"
      ],
      "text/plain": [
       "    rank_test_score  mean_test_score  std_test_score  \\\n",
       "2                 1        -0.035481        0.001430   \n",
       "15                2        -0.035539        0.001041   \n",
       "10                3        -0.035599        0.000917   \n",
       "0                 4        -0.035751        0.001157   \n",
       "19                5        -0.035800        0.001010   \n",
       "18                6        -0.035852        0.000951   \n",
       "9                 7        -0.035862        0.001086   \n",
       "7                 8        -0.035902        0.001251   \n",
       "8                 9        -0.035929        0.000894   \n",
       "17               10        -0.035932        0.001216   \n",
       "3                11        -0.035979        0.001083   \n",
       "12               12        -0.036052        0.001058   \n",
       "1                13        -0.036088        0.000677   \n",
       "6                14        -0.036105        0.001204   \n",
       "5                15        -0.036124        0.000940   \n",
       "4                16        -0.036222        0.001291   \n",
       "13               17        -0.036235        0.000966   \n",
       "16               18        -0.036332        0.001189   \n",
       "14               19        -0.036604        0.001360   \n",
       "11               20        -0.037150        0.002047   \n",
       "\n",
       "                                                                                                                                                                                                        params  \n",
       "2    {'prp__cat__fx_selection__max_features': 36, 'prp__text__fx_selection__max_features': 15, 'rf__max_depth': 5, 'rf__max_features': 0.31487938519063857, 'rf__min_samples_leaf': 3, 'rf__n_estimators': 48}  \n",
       "15   {'prp__cat__fx_selection__max_features': 16, 'prp__text__fx_selection__max_features': 17, 'rf__max_depth': 3, 'rf__max_features': 0.7783597237786855, 'rf__min_samples_leaf': 2, 'rf__n_estimators': 110}  \n",
       "10    {'prp__cat__fx_selection__max_features': 54, 'prp__text__fx_selection__max_features': 17, 'rf__max_depth': 3, 'rf__max_features': 0.7802823819812623, 'rf__min_samples_leaf': 6, 'rf__n_estimators': 29}  \n",
       "0    {'prp__cat__fx_selection__max_features': 37, 'prp__text__fx_selection__max_features': 71, 'rf__max_depth': 6, 'rf__max_features': 0.5880079646429943, 'rf__min_samples_leaf': 5, 'rf__n_estimators': 118}  \n",
       "19                 {'prp__cat__fx_selection__max_features': 10, 'prp__text__fx_selection__max_features': 100, 'rf__max_depth': 3, 'rf__max_features': 0.8, 'rf__min_samples_leaf': 2, 'rf__n_estimators': 120}  \n",
       "18    {'prp__cat__fx_selection__max_features': 57, 'prp__text__fx_selection__max_features': 83, 'rf__max_depth': 3, 'rf__max_features': 0.7581563065852486, 'rf__min_samples_leaf': 6, 'rf__n_estimators': 13}  \n",
       "9     {'prp__cat__fx_selection__max_features': 28, 'prp__text__fx_selection__max_features': 50, 'rf__max_depth': 4, 'rf__max_features': 0.6788712767560745, 'rf__min_samples_leaf': 2, 'rf__n_estimators': 92}  \n",
       "7    {'prp__cat__fx_selection__max_features': 36, 'prp__text__fx_selection__max_features': 57, 'rf__max_depth': 7, 'rf__max_features': 0.21637697678831694, 'rf__min_samples_leaf': 2, 'rf__n_estimators': 36}  \n",
       "8     {'prp__cat__fx_selection__max_features': 15, 'prp__text__fx_selection__max_features': 91, 'rf__max_depth': 7, 'rf__max_features': 0.7600609958037305, 'rf__min_samples_leaf': 4, 'rf__n_estimators': 70}  \n",
       "17                  {'prp__cat__fx_selection__max_features': 10, 'prp__text__fx_selection__max_features': 10, 'rf__max_depth': 8, 'rf__max_features': 0.8, 'rf__min_samples_leaf': 6, 'rf__n_estimators': 120}  \n",
       "3    {'prp__cat__fx_selection__max_features': 17, 'prp__text__fx_selection__max_features': 80, 'rf__max_depth': 5, 'rf__max_features': 0.47303324997816193, 'rf__min_samples_leaf': 5, 'rf__n_estimators': 85}  \n",
       "12                  {'prp__cat__fx_selection__max_features': 60, 'prp__text__fx_selection__max_features': 10, 'rf__max_depth': 8, 'rf__max_features': 0.8, 'rf__min_samples_leaf': 6, 'rf__n_estimators': 120}  \n",
       "1     {'prp__cat__fx_selection__max_features': 23, 'prp__text__fx_selection__max_features': 98, 'rf__max_depth': 8, 'rf__max_features': 0.5596051935035463, 'rf__min_samples_leaf': 3, 'rf__n_estimators': 28}  \n",
       "6   {'prp__cat__fx_selection__max_features': 58, 'prp__text__fx_selection__max_features': 78, 'rf__max_depth': 5, 'rf__max_features': 0.31056754262966285, 'rf__min_samples_leaf': 3, 'rf__n_estimators': 104}  \n",
       "5    {'prp__cat__fx_selection__max_features': 52, 'prp__text__fx_selection__max_features': 99, 'rf__max_depth': 7, 'rf__max_features': 0.49170372706305027, 'rf__min_samples_leaf': 3, 'rf__n_estimators': 41}  \n",
       "4     {'prp__cat__fx_selection__max_features': 22, 'prp__text__fx_selection__max_features': 32, 'rf__max_depth': 7, 'rf__max_features': 0.3713225296469147, 'rf__min_samples_leaf': 3, 'rf__n_estimators': 38}  \n",
       "13                  {'prp__cat__fx_selection__max_features': 60, 'prp__text__fx_selection__max_features': 100, 'rf__max_depth': 3, 'rf__max_features': 0.8, 'rf__min_samples_leaf': 2, 'rf__n_estimators': 10}  \n",
       "16   {'prp__cat__fx_selection__max_features': 55, 'prp__text__fx_selection__max_features': 11, 'rf__max_depth': 8, 'rf__max_features': 0.21507968299674804, 'rf__min_samples_leaf': 2, 'rf__n_estimators': 24}  \n",
       "14  {'prp__cat__fx_selection__max_features': 58, 'prp__text__fx_selection__max_features': 93, 'rf__max_depth': 3, 'rf__max_features': 0.24053604403542184, 'rf__min_samples_leaf': 6, 'rf__n_estimators': 115}  \n",
       "11                   {'prp__cat__fx_selection__max_features': 10, 'prp__text__fx_selection__max_features': 10, 'rf__max_depth': 3, 'rf__max_features': 0.2, 'rf__min_samples_leaf': 6, 'rf__n_estimators': 10}  "
      ]
     },
     "execution_count": 15,
     "metadata": {},
     "output_type": "execute_result"
    }
   ],
   "source": [
    "pd.DataFrame(rf.cv_results_).sort_values('rank_test_score')[['rank_test_score', 'mean_test_score','std_test_score', 'params']]"
   ]
  }
 ],
 "metadata": {
  "kernelspec": {
   "display_name": "Python 3",
   "language": "python",
   "name": "python3"
  },
  "language_info": {
   "codemirror_mode": {
    "name": "ipython",
    "version": 3
   },
   "file_extension": ".py",
   "mimetype": "text/x-python",
   "name": "python",
   "nbconvert_exporter": "python",
   "pygments_lexer": "ipython3",
   "version": "3.7.3"
  }
 },
 "nbformat": 4,
 "nbformat_minor": 4
}
