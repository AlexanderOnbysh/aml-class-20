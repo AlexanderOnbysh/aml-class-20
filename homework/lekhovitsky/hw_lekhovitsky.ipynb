{
 "cells": [
  {
   "cell_type": "code",
   "execution_count": 1,
   "metadata": {},
   "outputs": [],
   "source": [
    "from autolearn import train_regressor"
   ]
  },
  {
   "cell_type": "code",
   "execution_count": 2,
   "metadata": {},
   "outputs": [],
   "source": [
    "URL = \"https://s3.amazonaws.com/datarobot_public_datasets/\" \\\n",
    "          \"DR_Demo_Fire_Ins_Loss_only.csv\"\n",
    "\n",
    "DTYPES = {\n",
    "    'crime_burglary': 'numeric',\n",
    "    'crime_risk': 'numeric',\n",
    "    'ISO_desc': 'text',\n",
    "    'Norm_fire_risk': 'numeric',\n",
    "    'crime_arson': 'numeric',\n",
    "    'ISO': 'numeric',\n",
    "    'Weather_risk': 'numeric',\n",
    "    'Geographical_risk': 'numeric',\n",
    "    'Premium_remain': 'numeric',\n",
    "    'Renewal_Type': 'categorical',\n",
    "    'Commercial': 'categorical',\n",
    "    'crime_property_type': 'numeric',\n",
    "    'Renewal_class': 'categorical',\n",
    "    'crime_neighbour_watch': 'numeric',\n",
    "    'Previous_claims': 'numeric',\n",
    "    'Exposure': 'numeric',\n",
    "    'crime_area': 'numeric',\n",
    "    'ISO_cat': 'categorical',\n",
    "    'Norm_monthly_rent': 'numeric',\n",
    "    'No_claim_Years': 'numeric',\n",
    "    'crime_residents': 'numeric',\n",
    "    'Norm_area_m': 'numeric',\n",
    "    'Rating_Class': 'categorical',\n",
    "    'Property_size': 'numeric',\n",
    "    'Residents': 'numeric',\n",
    "    'crime_community': 'numeric',\n",
    "    'Loan_mortgage': 'numeric',\n",
    "    'Premium_renew': 'numeric',\n",
    "    'Sub_Renewal_Class': 'categorical',\n",
    "    'Sub_Rating_Class': 'categorical'\n",
    "}"
   ]
  },
  {
   "cell_type": "code",
   "execution_count": 5,
   "metadata": {},
   "outputs": [],
   "source": [
    "train_regressor(URL, 'loss', dtypes=DTYPES, verbose=True)"
   ]
  },
  {
   "cell_type": "code",
   "execution_count": null,
   "metadata": {},
   "outputs": [],
   "source": []
  },
  {
   "cell_type": "code",
   "execution_count": null,
   "metadata": {},
   "outputs": [],
   "source": []
  },
  {
   "cell_type": "code",
   "execution_count": null,
   "metadata": {},
   "outputs": [],
   "source": []
  },
  {
   "cell_type": "code",
   "execution_count": null,
   "metadata": {},
   "outputs": [],
   "source": []
  },
  {
   "cell_type": "code",
   "execution_count": null,
   "metadata": {},
   "outputs": [],
   "source": []
  }
 ],
 "metadata": {
  "kernelspec": {
   "display_name": "Python 3",
   "language": "python",
   "name": "python3"
  },
  "language_info": {
   "codemirror_mode": {
    "name": "ipython",
    "version": 3
   },
   "file_extension": ".py",
   "mimetype": "text/x-python",
   "name": "python",
   "nbconvert_exporter": "python",
   "pygments_lexer": "ipython3",
   "version": "3.8.2"
  }
 },
 "nbformat": 4,
 "nbformat_minor": 4
}
