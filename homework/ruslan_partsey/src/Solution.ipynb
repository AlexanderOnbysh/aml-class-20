{
 "cells": [
  {
   "cell_type": "code",
   "execution_count": 1,
   "metadata": {},
   "outputs": [],
   "source": [
    "import os\n",
    "import numpy as np \n",
    "import pandas as pd\n",
    "import matplotlib.pyplot as plt"
   ]
  },
  {
   "cell_type": "code",
   "execution_count": 2,
   "metadata": {},
   "outputs": [],
   "source": [
    "data_dir = '../data'"
   ]
  },
  {
   "cell_type": "code",
   "execution_count": 3,
   "metadata": {},
   "outputs": [
    {
     "data": {
      "text/plain": [
       "['DR_Demo_Pred_Main_Reg.csv',\n",
       " 'DR_Demo_Lending_Club.csv',\n",
       " 'DR_Demo_Fire_Ins_Loss_only.csv']"
      ]
     },
     "execution_count": 3,
     "metadata": {},
     "output_type": "execute_result"
    }
   ],
   "source": [
    "os.listdir(data_dir)"
   ]
  },
  {
   "cell_type": "code",
   "execution_count": 4,
   "metadata": {},
   "outputs": [],
   "source": [
    "fire_ins_file_name = 'DR_Demo_Fire_Ins_Loss_only.csv'\n",
    "fire_ins_dataset_path = os.path.join(data_dir, fire_ins_file_name)\n",
    "\n",
    "# pred_main_file_name = 'DR_Demo_Pred_Main_Reg.csv'\n",
    "# pred_main_dataset_path = os.path.join(data_dir, pred_main_file_name)\n",
    "\n",
    "# lending_club_file_name = 'DR_Demo_Lending_Club.csv'\n",
    "# lending_club_dataset_path = os.path.join(data_dir, lending_club_file_name)"
   ]
  },
  {
   "cell_type": "code",
   "execution_count": 52,
   "metadata": {},
   "outputs": [],
   "source": [
    "# load the dataset\n",
    "fire_ins_df = pd.read_csv(fire_ins_dataset_path)\n",
    "# or\n",
    "# url = 'https://s3.amazonaws.com/datarobot_public_datasets/DR_Demo_Fire_Ins_Loss_only.csv'\n",
    "# fire_ins_df = pd.read_csv(url)"
   ]
  },
  {
   "cell_type": "markdown",
   "metadata": {},
   "source": [
    "## Exploratory data analysis part"
   ]
  },
  {
   "cell_type": "code",
   "execution_count": 6,
   "metadata": {},
   "outputs": [
    {
     "data": {
      "text/html": [
       "<div>\n",
       "<style scoped>\n",
       "    .dataframe tbody tr th:only-of-type {\n",
       "        vertical-align: middle;\n",
       "    }\n",
       "\n",
       "    .dataframe tbody tr th {\n",
       "        vertical-align: top;\n",
       "    }\n",
       "\n",
       "    .dataframe thead th {\n",
       "        text-align: right;\n",
       "    }\n",
       "</style>\n",
       "<table border=\"1\" class=\"dataframe\">\n",
       "  <thead>\n",
       "    <tr style=\"text-align: right;\">\n",
       "      <th></th>\n",
       "      <th>loss</th>\n",
       "      <th>Exposure</th>\n",
       "      <th>Rating_Class</th>\n",
       "      <th>Sub_Rating_Class</th>\n",
       "      <th>Renewal_class</th>\n",
       "      <th>Sub_Renewal_Class</th>\n",
       "      <th>Property_size</th>\n",
       "      <th>Residents</th>\n",
       "      <th>Commercial</th>\n",
       "      <th>Norm_fire_risk</th>\n",
       "      <th>...</th>\n",
       "      <th>crime_arson</th>\n",
       "      <th>crime_burglary</th>\n",
       "      <th>crime_neighbour_watch</th>\n",
       "      <th>crime_community</th>\n",
       "      <th>crime_risk</th>\n",
       "      <th>Geographical_risk</th>\n",
       "      <th>Weather_risk</th>\n",
       "      <th>ISO</th>\n",
       "      <th>ISO_cat</th>\n",
       "      <th>ISO_desc</th>\n",
       "    </tr>\n",
       "  </thead>\n",
       "  <tbody>\n",
       "    <tr>\n",
       "      <th>0</th>\n",
       "      <td>0.07</td>\n",
       "      <td>3.0</td>\n",
       "      <td>H1</td>\n",
       "      <td>NaN</td>\n",
       "      <td>NaN</td>\n",
       "      <td>NaN</td>\n",
       "      <td>3.0</td>\n",
       "      <td>4.0</td>\n",
       "      <td>NaN</td>\n",
       "      <td>4.314082</td>\n",
       "      <td>...</td>\n",
       "      <td>0.939346</td>\n",
       "      <td>1.708534</td>\n",
       "      <td>0.808015</td>\n",
       "      <td>1.040819</td>\n",
       "      <td>1.171366</td>\n",
       "      <td>0.284447</td>\n",
       "      <td>0.313157</td>\n",
       "      <td>5</td>\n",
       "      <td>ISO 5 - Modified or Semi Fire Resistive (MFR o...</td>\n",
       "      <td>which and floors. greater roof _—– modified an...</td>\n",
       "    </tr>\n",
       "  </tbody>\n",
       "</table>\n",
       "<p>1 rows × 31 columns</p>\n",
       "</div>"
      ],
      "text/plain": [
       "   loss  Exposure Rating_Class Sub_Rating_Class Renewal_class  \\\n",
       "0  0.07       3.0           H1              NaN           NaN   \n",
       "\n",
       "  Sub_Renewal_Class  Property_size  Residents Commercial  Norm_fire_risk  ...  \\\n",
       "0               NaN            3.0        4.0        NaN        4.314082  ...   \n",
       "\n",
       "   crime_arson  crime_burglary  crime_neighbour_watch  crime_community  \\\n",
       "0     0.939346        1.708534               0.808015         1.040819   \n",
       "\n",
       "   crime_risk  Geographical_risk  Weather_risk ISO  \\\n",
       "0    1.171366           0.284447      0.313157   5   \n",
       "\n",
       "                                             ISO_cat  \\\n",
       "0  ISO 5 - Modified or Semi Fire Resistive (MFR o...   \n",
       "\n",
       "                                            ISO_desc  \n",
       "0  which and floors. greater roof _—– modified an...  \n",
       "\n",
       "[1 rows x 31 columns]"
      ]
     },
     "execution_count": 6,
     "metadata": {},
     "output_type": "execute_result"
    }
   ],
   "source": [
    "fire_ins_df.head(1)"
   ]
  },
  {
   "cell_type": "code",
   "execution_count": 7,
   "metadata": {},
   "outputs": [
    {
     "data": {
      "text/plain": [
       "(1217, 31)"
      ]
     },
     "execution_count": 7,
     "metadata": {},
     "output_type": "execute_result"
    }
   ],
   "source": [
    "fire_ins_df.shape"
   ]
  },
  {
   "cell_type": "markdown",
   "metadata": {},
   "source": [
    "Descriptive statistics:"
   ]
  },
  {
   "cell_type": "code",
   "execution_count": 8,
   "metadata": {},
   "outputs": [
    {
     "data": {
      "text/html": [
       "<div>\n",
       "<style scoped>\n",
       "    .dataframe tbody tr th:only-of-type {\n",
       "        vertical-align: middle;\n",
       "    }\n",
       "\n",
       "    .dataframe tbody tr th {\n",
       "        vertical-align: top;\n",
       "    }\n",
       "\n",
       "    .dataframe thead th {\n",
       "        text-align: right;\n",
       "    }\n",
       "</style>\n",
       "<table border=\"1\" class=\"dataframe\">\n",
       "  <thead>\n",
       "    <tr style=\"text-align: right;\">\n",
       "      <th></th>\n",
       "      <th>count</th>\n",
       "      <th>unique</th>\n",
       "      <th>top</th>\n",
       "      <th>freq</th>\n",
       "      <th>mean</th>\n",
       "      <th>std</th>\n",
       "      <th>min</th>\n",
       "      <th>25%</th>\n",
       "      <th>50%</th>\n",
       "      <th>75%</th>\n",
       "      <th>max</th>\n",
       "      <th>infered_dtype</th>\n",
       "    </tr>\n",
       "  </thead>\n",
       "  <tbody>\n",
       "    <tr>\n",
       "      <th>loss</th>\n",
       "      <td>1217</td>\n",
       "      <td>NaN</td>\n",
       "      <td>NaN</td>\n",
       "      <td>NaN</td>\n",
       "      <td>0.0804766</td>\n",
       "      <td>0.0504252</td>\n",
       "      <td>0.01</td>\n",
       "      <td>0.04</td>\n",
       "      <td>0.07</td>\n",
       "      <td>0.1</td>\n",
       "      <td>0.2</td>\n",
       "      <td>float64</td>\n",
       "    </tr>\n",
       "    <tr>\n",
       "      <th>Exposure</th>\n",
       "      <td>210</td>\n",
       "      <td>NaN</td>\n",
       "      <td>NaN</td>\n",
       "      <td>NaN</td>\n",
       "      <td>2.80952</td>\n",
       "      <td>0.726731</td>\n",
       "      <td>1</td>\n",
       "      <td>2</td>\n",
       "      <td>3</td>\n",
       "      <td>3</td>\n",
       "      <td>5</td>\n",
       "      <td>float64</td>\n",
       "    </tr>\n",
       "    <tr>\n",
       "      <th>Rating_Class</th>\n",
       "      <td>1130</td>\n",
       "      <td>38</td>\n",
       "      <td>H1</td>\n",
       "      <td>224</td>\n",
       "      <td>NaN</td>\n",
       "      <td>NaN</td>\n",
       "      <td>NaN</td>\n",
       "      <td>NaN</td>\n",
       "      <td>NaN</td>\n",
       "      <td>NaN</td>\n",
       "      <td>NaN</td>\n",
       "      <td>object</td>\n",
       "    </tr>\n",
       "    <tr>\n",
       "      <th>Sub_Rating_Class</th>\n",
       "      <td>5</td>\n",
       "      <td>3</td>\n",
       "      <td>D</td>\n",
       "      <td>2</td>\n",
       "      <td>NaN</td>\n",
       "      <td>NaN</td>\n",
       "      <td>NaN</td>\n",
       "      <td>NaN</td>\n",
       "      <td>NaN</td>\n",
       "      <td>NaN</td>\n",
       "      <td>NaN</td>\n",
       "      <td>object</td>\n",
       "    </tr>\n",
       "    <tr>\n",
       "      <th>Renewal_class</th>\n",
       "      <td>124</td>\n",
       "      <td>6</td>\n",
       "      <td>B</td>\n",
       "      <td>92</td>\n",
       "      <td>NaN</td>\n",
       "      <td>NaN</td>\n",
       "      <td>NaN</td>\n",
       "      <td>NaN</td>\n",
       "      <td>NaN</td>\n",
       "      <td>NaN</td>\n",
       "      <td>NaN</td>\n",
       "      <td>object</td>\n",
       "    </tr>\n",
       "    <tr>\n",
       "      <th>Sub_Renewal_Class</th>\n",
       "      <td>103</td>\n",
       "      <td>3</td>\n",
       "      <td>B</td>\n",
       "      <td>68</td>\n",
       "      <td>NaN</td>\n",
       "      <td>NaN</td>\n",
       "      <td>NaN</td>\n",
       "      <td>NaN</td>\n",
       "      <td>NaN</td>\n",
       "      <td>NaN</td>\n",
       "      <td>NaN</td>\n",
       "      <td>object</td>\n",
       "    </tr>\n",
       "    <tr>\n",
       "      <th>Property_size</th>\n",
       "      <td>1216</td>\n",
       "      <td>NaN</td>\n",
       "      <td>NaN</td>\n",
       "      <td>NaN</td>\n",
       "      <td>3.82072</td>\n",
       "      <td>1.59859</td>\n",
       "      <td>1</td>\n",
       "      <td>3</td>\n",
       "      <td>3.5</td>\n",
       "      <td>5</td>\n",
       "      <td>8</td>\n",
       "      <td>float64</td>\n",
       "    </tr>\n",
       "    <tr>\n",
       "      <th>Residents</th>\n",
       "      <td>1212</td>\n",
       "      <td>NaN</td>\n",
       "      <td>NaN</td>\n",
       "      <td>NaN</td>\n",
       "      <td>2.51403</td>\n",
       "      <td>1.31897</td>\n",
       "      <td>1</td>\n",
       "      <td>1</td>\n",
       "      <td>2</td>\n",
       "      <td>4</td>\n",
       "      <td>6</td>\n",
       "      <td>float64</td>\n",
       "    </tr>\n",
       "    <tr>\n",
       "      <th>Commercial</th>\n",
       "      <td>998</td>\n",
       "      <td>2</td>\n",
       "      <td>A</td>\n",
       "      <td>854</td>\n",
       "      <td>NaN</td>\n",
       "      <td>NaN</td>\n",
       "      <td>NaN</td>\n",
       "      <td>NaN</td>\n",
       "      <td>NaN</td>\n",
       "      <td>NaN</td>\n",
       "      <td>NaN</td>\n",
       "      <td>object</td>\n",
       "    </tr>\n",
       "    <tr>\n",
       "      <th>Norm_fire_risk</th>\n",
       "      <td>1217</td>\n",
       "      <td>NaN</td>\n",
       "      <td>NaN</td>\n",
       "      <td>NaN</td>\n",
       "      <td>4.04076</td>\n",
       "      <td>0.232445</td>\n",
       "      <td>3.77648</td>\n",
       "      <td>3.89895</td>\n",
       "      <td>3.89895</td>\n",
       "      <td>4.17121</td>\n",
       "      <td>5.12335</td>\n",
       "      <td>float64</td>\n",
       "    </tr>\n",
       "    <tr>\n",
       "      <th>Norm_monthly_rent</th>\n",
       "      <td>1217</td>\n",
       "      <td>NaN</td>\n",
       "      <td>NaN</td>\n",
       "      <td>NaN</td>\n",
       "      <td>1852.69</td>\n",
       "      <td>1678.09</td>\n",
       "      <td>500</td>\n",
       "      <td>783.693</td>\n",
       "      <td>1232.88</td>\n",
       "      <td>2248.57</td>\n",
       "      <td>13296.2</td>\n",
       "      <td>float64</td>\n",
       "    </tr>\n",
       "    <tr>\n",
       "      <th>Loan_mortgage</th>\n",
       "      <td>196</td>\n",
       "      <td>NaN</td>\n",
       "      <td>NaN</td>\n",
       "      <td>NaN</td>\n",
       "      <td>3.28694</td>\n",
       "      <td>0.243295</td>\n",
       "      <td>2.67364</td>\n",
       "      <td>3.14431</td>\n",
       "      <td>3.33902</td>\n",
       "      <td>3.47462</td>\n",
       "      <td>3.71466</td>\n",
       "      <td>float64</td>\n",
       "    </tr>\n",
       "    <tr>\n",
       "      <th>No_claim_Years</th>\n",
       "      <td>1217</td>\n",
       "      <td>NaN</td>\n",
       "      <td>NaN</td>\n",
       "      <td>NaN</td>\n",
       "      <td>1.01064</td>\n",
       "      <td>0.769526</td>\n",
       "      <td>0</td>\n",
       "      <td>0</td>\n",
       "      <td>1.04815</td>\n",
       "      <td>1.66511</td>\n",
       "      <td>2.6395</td>\n",
       "      <td>float64</td>\n",
       "    </tr>\n",
       "    <tr>\n",
       "      <th>Previous_claims</th>\n",
       "      <td>353</td>\n",
       "      <td>NaN</td>\n",
       "      <td>NaN</td>\n",
       "      <td>NaN</td>\n",
       "      <td>0.320084</td>\n",
       "      <td>0.50096</td>\n",
       "      <td>0</td>\n",
       "      <td>0</td>\n",
       "      <td>0</td>\n",
       "      <td>0.832555</td>\n",
       "      <td>1.89302</td>\n",
       "      <td>float64</td>\n",
       "    </tr>\n",
       "    <tr>\n",
       "      <th>Norm_area_m</th>\n",
       "      <td>1047</td>\n",
       "      <td>NaN</td>\n",
       "      <td>NaN</td>\n",
       "      <td>NaN</td>\n",
       "      <td>34.2655</td>\n",
       "      <td>25.2617</td>\n",
       "      <td>0</td>\n",
       "      <td>16</td>\n",
       "      <td>30</td>\n",
       "      <td>47</td>\n",
       "      <td>208</td>\n",
       "      <td>float64</td>\n",
       "    </tr>\n",
       "    <tr>\n",
       "      <th>Premium_remain</th>\n",
       "      <td>184</td>\n",
       "      <td>NaN</td>\n",
       "      <td>NaN</td>\n",
       "      <td>NaN</td>\n",
       "      <td>69.2011</td>\n",
       "      <td>43.405</td>\n",
       "      <td>0</td>\n",
       "      <td>4</td>\n",
       "      <td>99</td>\n",
       "      <td>100</td>\n",
       "      <td>100</td>\n",
       "      <td>float64</td>\n",
       "    </tr>\n",
       "    <tr>\n",
       "      <th>Premium_renew</th>\n",
       "      <td>1217</td>\n",
       "      <td>NaN</td>\n",
       "      <td>NaN</td>\n",
       "      <td>NaN</td>\n",
       "      <td>71.6411</td>\n",
       "      <td>32.7085</td>\n",
       "      <td>0</td>\n",
       "      <td>58.6957</td>\n",
       "      <td>85.5645</td>\n",
       "      <td>97.5609</td>\n",
       "      <td>100</td>\n",
       "      <td>float64</td>\n",
       "    </tr>\n",
       "    <tr>\n",
       "      <th>Renewal_Type</th>\n",
       "      <td>1217</td>\n",
       "      <td>2</td>\n",
       "      <td>A</td>\n",
       "      <td>998</td>\n",
       "      <td>NaN</td>\n",
       "      <td>NaN</td>\n",
       "      <td>NaN</td>\n",
       "      <td>NaN</td>\n",
       "      <td>NaN</td>\n",
       "      <td>NaN</td>\n",
       "      <td>NaN</td>\n",
       "      <td>object</td>\n",
       "    </tr>\n",
       "    <tr>\n",
       "      <th>crime_property_type</th>\n",
       "      <td>923</td>\n",
       "      <td>NaN</td>\n",
       "      <td>NaN</td>\n",
       "      <td>NaN</td>\n",
       "      <td>1.00203</td>\n",
       "      <td>0.439617</td>\n",
       "      <td>0.0833937</td>\n",
       "      <td>0.699736</td>\n",
       "      <td>0.912543</td>\n",
       "      <td>1.20981</td>\n",
       "      <td>2.9527</td>\n",
       "      <td>float64</td>\n",
       "    </tr>\n",
       "    <tr>\n",
       "      <th>crime_residents</th>\n",
       "      <td>910</td>\n",
       "      <td>NaN</td>\n",
       "      <td>NaN</td>\n",
       "      <td>NaN</td>\n",
       "      <td>0.958211</td>\n",
       "      <td>0.403047</td>\n",
       "      <td>0.360578</td>\n",
       "      <td>0.625186</td>\n",
       "      <td>0.903848</td>\n",
       "      <td>1.21043</td>\n",
       "      <td>2.97061</td>\n",
       "      <td>float64</td>\n",
       "    </tr>\n",
       "    <tr>\n",
       "      <th>crime_area</th>\n",
       "      <td>923</td>\n",
       "      <td>NaN</td>\n",
       "      <td>NaN</td>\n",
       "      <td>NaN</td>\n",
       "      <td>0.989317</td>\n",
       "      <td>0.407156</td>\n",
       "      <td>0.0655201</td>\n",
       "      <td>0.687961</td>\n",
       "      <td>0.924562</td>\n",
       "      <td>1.19028</td>\n",
       "      <td>4.14597</td>\n",
       "      <td>float64</td>\n",
       "    </tr>\n",
       "    <tr>\n",
       "      <th>crime_arson</th>\n",
       "      <td>916</td>\n",
       "      <td>NaN</td>\n",
       "      <td>NaN</td>\n",
       "      <td>NaN</td>\n",
       "      <td>0.954384</td>\n",
       "      <td>0.238484</td>\n",
       "      <td>0.472193</td>\n",
       "      <td>0.739102</td>\n",
       "      <td>0.94269</td>\n",
       "      <td>1.13049</td>\n",
       "      <td>1.92602</td>\n",
       "      <td>float64</td>\n",
       "    </tr>\n",
       "    <tr>\n",
       "      <th>crime_burglary</th>\n",
       "      <td>922</td>\n",
       "      <td>NaN</td>\n",
       "      <td>NaN</td>\n",
       "      <td>NaN</td>\n",
       "      <td>1.04483</td>\n",
       "      <td>0.523383</td>\n",
       "      <td>0.154595</td>\n",
       "      <td>0.572656</td>\n",
       "      <td>1.01939</td>\n",
       "      <td>1.32265</td>\n",
       "      <td>2.39115</td>\n",
       "      <td>float64</td>\n",
       "    </tr>\n",
       "    <tr>\n",
       "      <th>crime_neighbour_watch</th>\n",
       "      <td>923</td>\n",
       "      <td>NaN</td>\n",
       "      <td>NaN</td>\n",
       "      <td>NaN</td>\n",
       "      <td>0.982719</td>\n",
       "      <td>0.490376</td>\n",
       "      <td>0</td>\n",
       "      <td>0.686813</td>\n",
       "      <td>0.989819</td>\n",
       "      <td>1.19182</td>\n",
       "      <td>4.32288</td>\n",
       "      <td>float64</td>\n",
       "    </tr>\n",
       "    <tr>\n",
       "      <th>crime_community</th>\n",
       "      <td>903</td>\n",
       "      <td>NaN</td>\n",
       "      <td>NaN</td>\n",
       "      <td>NaN</td>\n",
       "      <td>0.962596</td>\n",
       "      <td>0.254882</td>\n",
       "      <td>0.522494</td>\n",
       "      <td>0.739831</td>\n",
       "      <td>0.924495</td>\n",
       "      <td>1.11043</td>\n",
       "      <td>2.04353</td>\n",
       "      <td>float64</td>\n",
       "    </tr>\n",
       "    <tr>\n",
       "      <th>crime_risk</th>\n",
       "      <td>923</td>\n",
       "      <td>NaN</td>\n",
       "      <td>NaN</td>\n",
       "      <td>NaN</td>\n",
       "      <td>0.992618</td>\n",
       "      <td>0.358018</td>\n",
       "      <td>0.175763</td>\n",
       "      <td>0.76778</td>\n",
       "      <td>0.974872</td>\n",
       "      <td>1.19302</td>\n",
       "      <td>2.64197</td>\n",
       "      <td>float64</td>\n",
       "    </tr>\n",
       "    <tr>\n",
       "      <th>Geographical_risk</th>\n",
       "      <td>1211</td>\n",
       "      <td>NaN</td>\n",
       "      <td>NaN</td>\n",
       "      <td>NaN</td>\n",
       "      <td>1.125</td>\n",
       "      <td>1.91857</td>\n",
       "      <td>0</td>\n",
       "      <td>0.0917515</td>\n",
       "      <td>0.392954</td>\n",
       "      <td>1.05983</td>\n",
       "      <td>8.54803</td>\n",
       "      <td>float64</td>\n",
       "    </tr>\n",
       "    <tr>\n",
       "      <th>Weather_risk</th>\n",
       "      <td>1213</td>\n",
       "      <td>NaN</td>\n",
       "      <td>NaN</td>\n",
       "      <td>NaN</td>\n",
       "      <td>0.918192</td>\n",
       "      <td>1.09444</td>\n",
       "      <td>0</td>\n",
       "      <td>0.273559</td>\n",
       "      <td>0.550059</td>\n",
       "      <td>1.20423</td>\n",
       "      <td>9.09893</td>\n",
       "      <td>float64</td>\n",
       "    </tr>\n",
       "    <tr>\n",
       "      <th>ISO</th>\n",
       "      <td>1217</td>\n",
       "      <td>NaN</td>\n",
       "      <td>NaN</td>\n",
       "      <td>NaN</td>\n",
       "      <td>2.88907</td>\n",
       "      <td>1.59873</td>\n",
       "      <td>1</td>\n",
       "      <td>2</td>\n",
       "      <td>3</td>\n",
       "      <td>4</td>\n",
       "      <td>6</td>\n",
       "      <td>int64</td>\n",
       "    </tr>\n",
       "    <tr>\n",
       "      <th>ISO_cat</th>\n",
       "      <td>1217</td>\n",
       "      <td>6</td>\n",
       "      <td>ISO 1 Frame (combustible walls or roof)</td>\n",
       "      <td>287</td>\n",
       "      <td>NaN</td>\n",
       "      <td>NaN</td>\n",
       "      <td>NaN</td>\n",
       "      <td>NaN</td>\n",
       "      <td>NaN</td>\n",
       "      <td>NaN</td>\n",
       "      <td>NaN</td>\n",
       "      <td>object</td>\n",
       "    </tr>\n",
       "    <tr>\n",
       "      <th>ISO_desc</th>\n",
       "      <td>1217</td>\n",
       "      <td>1217</td>\n",
       "      <td>wind existing roof achieve construction. appli...</td>\n",
       "      <td>1</td>\n",
       "      <td>NaN</td>\n",
       "      <td>NaN</td>\n",
       "      <td>NaN</td>\n",
       "      <td>NaN</td>\n",
       "      <td>NaN</td>\n",
       "      <td>NaN</td>\n",
       "      <td>NaN</td>\n",
       "      <td>object</td>\n",
       "    </tr>\n",
       "  </tbody>\n",
       "</table>\n",
       "</div>"
      ],
      "text/plain": [
       "                      count unique  \\\n",
       "loss                   1217    NaN   \n",
       "Exposure                210    NaN   \n",
       "Rating_Class           1130     38   \n",
       "Sub_Rating_Class          5      3   \n",
       "Renewal_class           124      6   \n",
       "Sub_Renewal_Class       103      3   \n",
       "Property_size          1216    NaN   \n",
       "Residents              1212    NaN   \n",
       "Commercial              998      2   \n",
       "Norm_fire_risk         1217    NaN   \n",
       "Norm_monthly_rent      1217    NaN   \n",
       "Loan_mortgage           196    NaN   \n",
       "No_claim_Years         1217    NaN   \n",
       "Previous_claims         353    NaN   \n",
       "Norm_area_m            1047    NaN   \n",
       "Premium_remain          184    NaN   \n",
       "Premium_renew          1217    NaN   \n",
       "Renewal_Type           1217      2   \n",
       "crime_property_type     923    NaN   \n",
       "crime_residents         910    NaN   \n",
       "crime_area              923    NaN   \n",
       "crime_arson             916    NaN   \n",
       "crime_burglary          922    NaN   \n",
       "crime_neighbour_watch   923    NaN   \n",
       "crime_community         903    NaN   \n",
       "crime_risk              923    NaN   \n",
       "Geographical_risk      1211    NaN   \n",
       "Weather_risk           1213    NaN   \n",
       "ISO                    1217    NaN   \n",
       "ISO_cat                1217      6   \n",
       "ISO_desc               1217   1217   \n",
       "\n",
       "                                                                     top freq  \\\n",
       "loss                                                                 NaN  NaN   \n",
       "Exposure                                                             NaN  NaN   \n",
       "Rating_Class                                                          H1  224   \n",
       "Sub_Rating_Class                                                       D    2   \n",
       "Renewal_class                                                          B   92   \n",
       "Sub_Renewal_Class                                                      B   68   \n",
       "Property_size                                                        NaN  NaN   \n",
       "Residents                                                            NaN  NaN   \n",
       "Commercial                                                             A  854   \n",
       "Norm_fire_risk                                                       NaN  NaN   \n",
       "Norm_monthly_rent                                                    NaN  NaN   \n",
       "Loan_mortgage                                                        NaN  NaN   \n",
       "No_claim_Years                                                       NaN  NaN   \n",
       "Previous_claims                                                      NaN  NaN   \n",
       "Norm_area_m                                                          NaN  NaN   \n",
       "Premium_remain                                                       NaN  NaN   \n",
       "Premium_renew                                                        NaN  NaN   \n",
       "Renewal_Type                                                           A  998   \n",
       "crime_property_type                                                  NaN  NaN   \n",
       "crime_residents                                                      NaN  NaN   \n",
       "crime_area                                                           NaN  NaN   \n",
       "crime_arson                                                          NaN  NaN   \n",
       "crime_burglary                                                       NaN  NaN   \n",
       "crime_neighbour_watch                                                NaN  NaN   \n",
       "crime_community                                                      NaN  NaN   \n",
       "crime_risk                                                           NaN  NaN   \n",
       "Geographical_risk                                                    NaN  NaN   \n",
       "Weather_risk                                                         NaN  NaN   \n",
       "ISO                                                                  NaN  NaN   \n",
       "ISO_cat                          ISO 1 Frame (combustible walls or roof)  287   \n",
       "ISO_desc               wind existing roof achieve construction. appli...    1   \n",
       "\n",
       "                            mean        std        min        25%       50%  \\\n",
       "loss                   0.0804766  0.0504252       0.01       0.04      0.07   \n",
       "Exposure                 2.80952   0.726731          1          2         3   \n",
       "Rating_Class                 NaN        NaN        NaN        NaN       NaN   \n",
       "Sub_Rating_Class             NaN        NaN        NaN        NaN       NaN   \n",
       "Renewal_class                NaN        NaN        NaN        NaN       NaN   \n",
       "Sub_Renewal_Class            NaN        NaN        NaN        NaN       NaN   \n",
       "Property_size            3.82072    1.59859          1          3       3.5   \n",
       "Residents                2.51403    1.31897          1          1         2   \n",
       "Commercial                   NaN        NaN        NaN        NaN       NaN   \n",
       "Norm_fire_risk           4.04076   0.232445    3.77648    3.89895   3.89895   \n",
       "Norm_monthly_rent        1852.69    1678.09        500    783.693   1232.88   \n",
       "Loan_mortgage            3.28694   0.243295    2.67364    3.14431   3.33902   \n",
       "No_claim_Years           1.01064   0.769526          0          0   1.04815   \n",
       "Previous_claims         0.320084    0.50096          0          0         0   \n",
       "Norm_area_m              34.2655    25.2617          0         16        30   \n",
       "Premium_remain           69.2011     43.405          0          4        99   \n",
       "Premium_renew            71.6411    32.7085          0    58.6957   85.5645   \n",
       "Renewal_Type                 NaN        NaN        NaN        NaN       NaN   \n",
       "crime_property_type      1.00203   0.439617  0.0833937   0.699736  0.912543   \n",
       "crime_residents         0.958211   0.403047   0.360578   0.625186  0.903848   \n",
       "crime_area              0.989317   0.407156  0.0655201   0.687961  0.924562   \n",
       "crime_arson             0.954384   0.238484   0.472193   0.739102   0.94269   \n",
       "crime_burglary           1.04483   0.523383   0.154595   0.572656   1.01939   \n",
       "crime_neighbour_watch   0.982719   0.490376          0   0.686813  0.989819   \n",
       "crime_community         0.962596   0.254882   0.522494   0.739831  0.924495   \n",
       "crime_risk              0.992618   0.358018   0.175763    0.76778  0.974872   \n",
       "Geographical_risk          1.125    1.91857          0  0.0917515  0.392954   \n",
       "Weather_risk            0.918192    1.09444          0   0.273559  0.550059   \n",
       "ISO                      2.88907    1.59873          1          2         3   \n",
       "ISO_cat                      NaN        NaN        NaN        NaN       NaN   \n",
       "ISO_desc                     NaN        NaN        NaN        NaN       NaN   \n",
       "\n",
       "                            75%      max infered_dtype  \n",
       "loss                        0.1      0.2       float64  \n",
       "Exposure                      3        5       float64  \n",
       "Rating_Class                NaN      NaN        object  \n",
       "Sub_Rating_Class            NaN      NaN        object  \n",
       "Renewal_class               NaN      NaN        object  \n",
       "Sub_Renewal_Class           NaN      NaN        object  \n",
       "Property_size                 5        8       float64  \n",
       "Residents                     4        6       float64  \n",
       "Commercial                  NaN      NaN        object  \n",
       "Norm_fire_risk          4.17121  5.12335       float64  \n",
       "Norm_monthly_rent       2248.57  13296.2       float64  \n",
       "Loan_mortgage           3.47462  3.71466       float64  \n",
       "No_claim_Years          1.66511   2.6395       float64  \n",
       "Previous_claims        0.832555  1.89302       float64  \n",
       "Norm_area_m                  47      208       float64  \n",
       "Premium_remain              100      100       float64  \n",
       "Premium_renew           97.5609      100       float64  \n",
       "Renewal_Type                NaN      NaN        object  \n",
       "crime_property_type     1.20981   2.9527       float64  \n",
       "crime_residents         1.21043  2.97061       float64  \n",
       "crime_area              1.19028  4.14597       float64  \n",
       "crime_arson             1.13049  1.92602       float64  \n",
       "crime_burglary          1.32265  2.39115       float64  \n",
       "crime_neighbour_watch   1.19182  4.32288       float64  \n",
       "crime_community         1.11043  2.04353       float64  \n",
       "crime_risk              1.19302  2.64197       float64  \n",
       "Geographical_risk       1.05983  8.54803       float64  \n",
       "Weather_risk            1.20423  9.09893       float64  \n",
       "ISO                           4        6         int64  \n",
       "ISO_cat                     NaN      NaN        object  \n",
       "ISO_desc                    NaN      NaN        object  "
      ]
     },
     "execution_count": 8,
     "metadata": {},
     "output_type": "execute_result"
    }
   ],
   "source": [
    "pd.concat([\n",
    "    fire_ins_df.describe(include='all').T, \n",
    "    fire_ins_df.dtypes.rename('infered_dtype')\n",
    "], axis=1)"
   ]
  },
  {
   "cell_type": "code",
   "execution_count": 9,
   "metadata": {},
   "outputs": [
    {
     "data": {
      "text/plain": [
       "<matplotlib.axes._subplots.AxesSubplot at 0x7fc9cd1c1cc0>"
      ]
     },
     "execution_count": 9,
     "metadata": {},
     "output_type": "execute_result"
    },
    {
     "data": {
      "image/png": "[encoded data removed]",
      "text/plain": [
       "<Figure size 432x288 with 1 Axes>"
      ]
     },
     "metadata": {
      "needs_background": "light"
     },
     "output_type": "display_data"
    }
   ],
   "source": [
    "# distribution of loss values\n",
    "fire_ins_df.loss.hist(bins='auto')"
   ]
  },
  {
   "cell_type": "code",
   "execution_count": 10,
   "metadata": {},
   "outputs": [
    {
     "data": {
      "image/png": "[encoded data removed]",
      "text/plain": [
       "<Figure size 1152x432 with 1 Axes>"
      ]
     },
     "metadata": {
      "needs_background": "light"
     },
     "output_type": "display_data"
    }
   ],
   "source": [
    "nans_per_column = fire_ins_df.isna().sum(axis=0)\n",
    "sorted_indices = np.argsort(nans_per_column)\n",
    "\n",
    "plt.figure(figsize=(16, 6))\n",
    "plt.title('Number of NaN values per column')\n",
    "plt.bar(fire_ins_df.columns[sorted_indices], nans_per_column[sorted_indices])\n",
    "plt.xticks(rotation=90)\n",
    "plt.xlabel('Column names')\n",
    "plt.ylabel('Number of NaN values')\n",
    "plt.show()"
   ]
  },
  {
   "cell_type": "code",
   "execution_count": 11,
   "metadata": {
    "scrolled": true
   },
   "outputs": [
    {
     "name": "stdout",
     "output_type": "stream",
     "text": [
      "Column name: \"loss\"\n",
      "Number of unique values: 20\n",
      "Number of NaN values: 0\n",
      "Unique values:\n",
      " [0.07 0.13 0.02 0.04 0.01 0.12 0.08 0.11 0.06 0.1  0.15 0.14 0.03 0.09\n",
      " 0.18 0.2  0.05 0.16 0.19 0.17]\n",
      "\n",
      "Column name: \"Exposure\"\n",
      "Number of unique values: 6\n",
      "Number of NaN values: 1007\n",
      "Unique values:\n",
      " [ 3. nan  4.  2.  1.  5.]\n",
      "\n",
      "Column name: \"Rating_Class\"\n",
      "Number of unique values: 39\n",
      "Number of NaN values: 87\n",
      "Unique values:\n",
      " ['H1' 'M1' 'D4' 'D3' 'R7' 'G1' 'J1' 'R8' 'C1' 'G2' 'P1' 'R3' 'S1' 'J6'\n",
      " 'H3' 'E2' 'J2' 'R5' 'I1' 'L1' 'J4' 'J5' 'E1' 'O2' 'O1' 'E3' 'F1' 'J3'\n",
      " 'E4' 'D1' 'R6' 'N1' nan 'B1' 'K1' 'A1' 'H2' 'E5' 'R1']\n",
      "\n",
      "Column name: \"Sub_Rating_Class\"\n",
      "Number of unique values: 4\n",
      "Number of NaN values: 1212\n",
      "Unique values:\n",
      " [nan 'H' 'D' 'O']\n",
      "\n",
      "Column name: \"Renewal_class\"\n",
      "Number of unique values: 7\n",
      "Number of NaN values: 1093\n",
      "Unique values:\n",
      " [nan 'B' 'D' 'F' 'C' 'A' 'E']\n",
      "\n",
      "Column name: \"Sub_Renewal_Class\"\n",
      "Number of unique values: 4\n",
      "Number of NaN values: 1114\n",
      "Unique values:\n",
      " [nan 'B' 'A' 'C']\n",
      "\n",
      "Column name: \"Property_size\"\n",
      "Number of unique values: 9\n",
      "Number of NaN values: 1\n",
      "Unique values:\n",
      " [ 3.  6.  4.  2.  7.  5.  1.  8. nan]\n",
      "\n",
      "Column name: \"Residents\"\n",
      "Number of unique values: 7\n",
      "Number of NaN values: 5\n",
      "Unique values:\n",
      " [ 4.  1.  3.  6.  2. nan  5.]\n",
      "\n",
      "Column name: \"Commercial\"\n",
      "Number of unique values: 3\n",
      "Number of NaN values: 219\n",
      "Unique values:\n",
      " [nan 'A' 'B']\n",
      "\n",
      "Column name: \"Norm_fire_risk\"\n",
      "Number of unique values: 14\n",
      "Number of NaN values: 0\n",
      "Unique values:\n",
      " [4.31408172 4.17121439 4.80059909 4.65608868 4.50906904 4.88365337\n",
      " 5.12335074 4.98662375 3.77647953 3.824453   3.89894921 4.03993026\n",
      " 4.74098906 4.31784246]\n",
      "\n",
      "Column name: \"Norm_monthly_rent\"\n",
      "Number of unique values: 1041\n",
      "Number of NaN values: 0\n",
      "Unique values:\n",
      " [ 758.2875444 1060.660172   716.709146  ... 8259.503799  8439.312768\n",
      " 8456.307735 ]\n",
      "\n",
      "Column name: \"Loan_mortgage\"\n",
      "Number of unique values: 182\n",
      "Number of NaN values: 1021\n",
      "Unique values:\n",
      " [2.67363904 2.70915812 2.71177476 2.72560584 2.73779874 2.78984301\n",
      " 2.82955254 2.84527656 2.85666208 2.85997905 2.862315   2.87993917\n",
      " 2.90130899 2.91842307 2.93470669 2.94078586 2.94374136 2.94784685\n",
      " 2.94949398 2.95229471 2.9630318  2.97551095 2.98289831 2.98483421\n",
      " 2.99230656 2.99502551 3.00599185 3.00844782 3.01744592 3.02157066\n",
      " 3.0219826  3.03485426 3.04075484 3.09546506 3.10093623 3.12569291\n",
      " 3.12747405 3.13019601 3.13032906 3.13628424 3.1469807  3.15047514\n",
      " 3.15370075 3.16668835 3.16851753 3.17061023 3.17446543 3.17581629\n",
      " 3.18223681 3.18855606 3.19731918 3.19791454 3.19971444 3.20021676\n",
      " 3.20747553 3.21056879 3.21075578 3.21409209 3.21760307 3.21943562\n",
      " 3.22079046 3.22215224 3.22556396 3.23467206 3.236977   3.24443727\n",
      " 3.24623656 3.24823176 3.25182465 3.25376138 3.25740473 3.26937707\n",
      " 3.27664412 3.28138935 3.29529953 3.29569583 3.29644466 3.30102095\n",
      " 3.3105459  3.31470824 3.31694134 3.32665573 3.32977101 3.33127754\n",
      " 3.33662548 3.33815967 3.3398898  3.34009738 3.34457734 3.34894341\n",
      " 3.35013059 3.35040944 3.3535893  3.35763738 3.36035779 3.36215762\n",
      " 3.36763273 3.37027419 3.37316625 3.37557435 3.37791931 3.37935207\n",
      " 3.38109803 3.38172211 3.38755132 3.39009185 3.39346752 3.39903849\n",
      " 3.39950809 3.4005321  3.40069414 3.40164583 3.40206122 3.40273432\n",
      " 3.41418669 3.41423869 3.41459326 3.41983143 3.42056299 3.42713101\n",
      " 3.42759862 3.43106515 3.43173819 3.44033321 3.44372398 3.44455945\n",
      " 3.44672699 3.44709634 3.45230221 3.45251158 3.45842396 3.45917766\n",
      " 3.45981941 3.47396541 3.47399184 3.47651583 3.47953416 3.48746442\n",
      " 3.49348985 3.49608146 3.49655191 3.49794675 3.49910137 3.50204819\n",
      " 3.50405384 3.50768866 3.51366398 3.5166395  3.51836121 3.52379676\n",
      " 3.52408369 3.52550935 3.53269151 3.54471558 3.55105664 3.5512727\n",
      " 3.55823267 3.55936776 3.56537118 3.5672106  3.57016367 3.57174582\n",
      " 3.57426298 3.57487513 3.5824168  3.58513262 3.5894126  3.58957482\n",
      " 3.59101657 3.59154839 3.59996467 3.61684135 3.62058526 3.62104509\n",
      " 3.62548271 3.62905084 3.64495158 3.67185949 3.68031374 3.69891594\n",
      " 3.71465605        nan]\n",
      "\n",
      "Column name: \"No_claim_Years\"\n",
      "Number of unique values: 123\n",
      "Number of NaN values: 0\n",
      "Unique values:\n",
      " [2.25142271 2.0841798  2.40875868 2.34372811 2.20449822 2.48512923\n",
      " 1.84423355 1.73081838 2.32915221 1.60154593 2.33289899 2.08104141\n",
      " 1.90024154 1.74485599 2.13398147 1.44202689 2.06801018 2.04313173\n",
      " 1.9072457  2.13643352 2.03546917 2.27008625 2.19366915 1.9621793\n",
      " 1.94529937 2.49089497 1.51742713 2.01929132 2.16595196 2.00183246\n",
      " 1.93938137 2.58521971 2.02344868 2.01073401 1.81544399 2.07785661\n",
      " 1.68321518 2.05414403 1.39495883 2.11326953 2.63950131 1.85310205\n",
      " 1.57635867 2.26752366 2.32339465 1.79412258 1.96753679 1.70010934\n",
      " 1.88556306 1.64561545 1.26863624 1.3385662  2.10775977 1.92064558\n",
      " 1.71593676 1.48230381 1.04814707 2.27261655 1.9727697  1.95106701\n",
      " 2.23544454 2.09032243 2.36843235 1.99255914 1.80501982 0.\n",
      " 1.82543269 2.05053472 2.43287769 2.06118782 2.12387841 1.77073268\n",
      " 2.18612065 1.95669144 1.97788347 0.83255461 1.62451757 2.21645097\n",
      " 1.66510922 2.07462408 1.17741002 1.54851389 1.87786062 2.15949973\n",
      " 2.027529   2.11864022 2.06462584 1.78270969 1.86164871 2.26097054\n",
      " 2.35147381 1.99724411 2.50532303 2.0150541  2.07134243 1.91404327\n",
      " 1.98288316 2.36920411 2.38402596 2.38964998 2.13150059 2.18992935\n",
      " 2.52589044 2.52622565 2.40367475 2.00632791 2.59280346 1.98777356\n",
      " 1.8350193  2.30071833 2.04686461 1.93330536 2.46942793 2.05769446\n",
      " 2.15508489 2.58400531 2.6040464  1.75813607 1.86989507 2.03153498\n",
      " 2.03933398 2.10495055 2.14362307]\n",
      "\n",
      "Column name: \"Previous_claims\"\n",
      "Number of unique values: 15\n",
      "Number of NaN values: 864\n",
      "Unique values:\n",
      " [0.                nan 1.26863624 0.83255461 1.04814707 1.39495883\n",
      " 1.3385662  1.44202689 1.48230381 1.51742713 1.17741002 1.80501982\n",
      " 1.89301847 1.68321518 1.78270969]\n",
      "\n",
      "Column name: \"Norm_area_m\"\n",
      "Number of unique values: 108\n",
      "Number of NaN values: 170\n",
      "Unique values:\n",
      " [ 10.  nan   8.  12.  36.  13.  14.  43.  64.   7.  17.  31.  29.  20.\n",
      "  22.   5.  55.  18.  50.  39.  26.  25.  66.  35.  37.   6.  30.  48.\n",
      "  21.  23.  27.   9.  38.  45.  53.  16.  33.  44.  34.  47.  91.  11.\n",
      "   2.  49.  58.  80.   4.  28.  68.  32.  84.  24.   1.  42.   3.  90.\n",
      "  88.  89. 138.  70.  40.  51.  85.  86. 113.   0.  61. 108.  52. 103.\n",
      "  54.  59.  19.  83.  15.  71. 137. 111.  63.  67.  41. 127.  69. 207.\n",
      " 208.  56.  98.  78.  73.  60. 150. 109.  65. 149. 131.  46.  74.  62.\n",
      "  82.  57.  99.  81. 121.  77. 120.  75. 110.  94.]\n",
      "\n",
      "Column name: \"Premium_remain\"\n",
      "Number of unique values: 28\n",
      "Number of NaN values: 1033\n",
      "Unique values:\n",
      " [ nan 100.   0.  50.  25.  98.  99.  70.  34.   1.  93.  73.  90.   5.\n",
      "  88.  84.  68.  97.  74.  38.  31.  75.  95.  82.  20.  65.  51.  61.]\n",
      "\n",
      "Column name: \"Premium_renew\"\n",
      "Number of unique values: 747\n",
      "Number of NaN values: 0\n",
      "Unique values:\n",
      " [  0.          86.66666667  42.10526316  80.          66.75712347\n",
      "  89.97510038  15.768176    64.28571429 100.          73.52758063\n",
      "  67.2882043   37.5         54.16666667  67.35074627  63.356974\n",
      "  68.49315069  70.56748015  75.          43.28358209  75.86206897\n",
      "  47.91863006  96.81713663  71.42857143   2.56816641  63.57920564\n",
      "  73.33333333  26.77575864  65.06146295  75.64935065  90.02372215\n",
      "  46.21970555  68.68423772  99.61565711  38.68882089  90.19607843\n",
      "  90.06801521  51.60247751  18.48870925  38.35618405  75.40983607\n",
      "  45.37529646  21.52680092  84.43789925  87.86481434  78.96060768\n",
      "  75.712       34.7826087   64.80782152  45.71882396  97.86267885\n",
      "  66.71111258  36.93288342  86.00416233  86.45620512  66.66666667\n",
      "  32.867884    86.47264845  51.61290323  69.26564068  90.02067837\n",
      "  86.13728129  83.84108865  57.11645102  58.76665796  96.30040696\n",
      "  91.24087591  84.86562942  91.20234604  32.618683    99.375\n",
      "  17.07263978  86.35110264  99.06759907  88.79633372  95.45454546\n",
      "  88.2112607   95.16044187  12.3120322   88.52459016  93.02325581\n",
      "  21.73913044  80.24691358  67.98516687  61.54799285  58.87819722\n",
      "  87.87878788  81.81818182   6.81787872  22.11049251  52.96167247\n",
      "  61.03719     90.18492068  85.96491228  99.5545657   46.99037816\n",
      "  47.82608696  99.64285714  93.45549738  28.57142857  99.2721074\n",
      "  89.26146044  30.36996441  77.41133533  87.93436242  99.77262676\n",
      "  58.09220924  15.03769167  39.62732919  31.64972947  34.84964749\n",
      "  79.67629173  99.9989849   15.6626506   92.24702428  99.81233645\n",
      "  37.57802747  25.57077626  88.27518999  97.3757518   44.85984162\n",
      "  25.96108483  13.93436528  17.84037559  28.79581152  31.32825351\n",
      "  51.28319049  32.55134465  96.37681159  22.01188642  99.7643177\n",
      "  99.6470244   95.55038128  90.90909091  99.03614458  20.078125\n",
      "  29.45736434  99.85376482  61.3003096   87.88069942  90.\n",
      "  99.72004278  99.91963895  99.95276722  50.          55.5556\n",
      "  80.14705882  86.89316437  76.5913388   96.12201596  86.36949954\n",
      "  86.53846154  60.          88.01498127  96.1030046   71.01449534\n",
      "  85.79088472  89.92805755  76.07209447  25.92592593  65.15679443\n",
      "  96.5463889   86.20689655  94.92957747  69.79865772  83.33333333\n",
      "  86.49761238  96.05866525  24.99984211  98.02411904  96.62162162\n",
      "  74.02597403  96.77419355  51.96003075  79.79072645  31.25\n",
      "  90.0621118   83.29373596  95.81877718  66.86748402  64.15709323\n",
      "  61.91950464  84.67106488  69.11764706  77.94117647  87.52216865\n",
      "  88.52096345  68.3908046   85.71428571  77.77777778  97.53390876\n",
      "  63.49206349  85.95041322  97.25640508  97.22222222  88.18892981\n",
      "  93.6440678   81.3172262   73.14340002  80.37383178  87.17948718\n",
      "  97.46114349  94.93670886  74.02614055  98.42519685  92.57182131\n",
      "  62.96296296  61.11111111  84.90751526  34.09844754  67.07153569\n",
      "  95.28793816  94.11751084  82.35294118  47.3694304   88.37209302\n",
      "  56.31608403  97.53125209  82.25520421  98.41869247  96.65775401\n",
      "  81.53100876  98.25327511  86.92810458  86.95652174  73.00215983\n",
      "  52.6114406   81.91489362  92.60129836  63.33054231  63.15789474\n",
      "  87.49994762  87.62224437  82.4742268   89.08018052  73.35610589\n",
      "  89.16719644  48.94818129  97.82608696  54.          70.\n",
      "  70.06794576  83.55039638  19.22942048  57.43978384  92.99092421\n",
      "  97.56085778  90.56603774  94.33962264  64.70588235  65.34722222\n",
      "  89.58190542  92.13483146   3.72767279  93.45794393  90.15484455\n",
      "  61.69429098  65.73934494  68.18181818  79.42841325  96.42857143\n",
      "  77.83328401  70.40896557  83.18544809  91.74311927  87.15602316\n",
      "  98.17117776  43.85964912  54.54545455  69.56521739  88.48534862\n",
      "  83.07243505  38.46153846  86.41548566  85.10638298  99.15356384\n",
      "  88.23985751  81.37044968  83.24958124  73.91304348  83.31108144\n",
      "  49.28371422  81.96721312   1.63934426  87.29984646  99.18477326\n",
      "  94.08699428  95.83333333  63.19617586  83.46523951  81.86962253\n",
      "  93.03482912  93.41287539  61.53846154  69.23076923  92.30769231\n",
      "  76.92307692  23.07692308  61.34969325  96.94650898  73.63178596\n",
      "  58.54296924  93.50649351  92.504302    76.85185185  88.88888889\n",
      "  74.07407407  82.68992197  98.54227405  81.04202677  73.68421545\n",
      "  90.64723025  88.93611406  87.59482341  78.93093496  50.14749263\n",
      "  71.73144876  91.25528914  71.99596451  48.7012987   82.75862069\n",
      "  96.55172414  68.96551724  93.51005792  57.14285714  28.02524299\n",
      "  70.93954758  80.25382096  72.71497892  98.63701627  96.04082402\n",
      "  96.21195238  65.91938877  62.40595769  98.21021116  79.31911082\n",
      "  53.43424669  90.43927649  71.69811321  49.68553459  52.3255814\n",
      "  93.75        81.25        93.50025368  85.1217229   93.68686869\n",
      "  65.09689769  58.87547836  92.02453988  93.40820429  91.79728769\n",
      "  59.88023952  52.2673031   83.52475688  88.23529412  85.56450252\n",
      "  53.5836984   93.56725146  82.4768942   76.79992401  79.92492407\n",
      "  34.82978764  77.01149425  90.32258065  90.6424581   97.14285714\n",
      "  77.911698    82.23442203  65.35947712  44.44444444  67.0462126\n",
      "  92.06145967  63.85567536  75.67567568  32.25806452  37.33766234\n",
      "  26.31578947  84.21052632  91.30990789  93.85339781  93.0371657\n",
      "  99.49845547  73.52941177  39.00951452  95.19230769  99.89939218\n",
      "  61.86697809  46.56084656  85.          77.16894977  68.02721088\n",
      "  99.07653664  81.27003364  55.51601424  75.39944426  66.58538325\n",
      "  72.72727273  92.0568876   74.46626295  70.23654506  85.42219291\n",
      "   1.29954516  51.1627907   74.42075996  71.03846715  67.71505824\n",
      "  94.33959082  63.83250706  75.6097561   72.15533322  75.70970131\n",
      "  65.67532619  89.25523469  33.33333333  40.          20.79285125\n",
      "  70.47244095  94.98376747  78.23400639  84.61538462  80.41039338\n",
      "  56.74179197  41.31075172  64.15770609  92.55533199  96.40102828\n",
      "  84.95347402  92.92637761  82.80681558  76.71019977  93.01785196\n",
      "  97.88212307  68.11989101  64.88391057  62.29508197  76.71232877\n",
      "  88.13559322  94.79527315  47.9703431   70.68152041  91.85520362\n",
      "  99.19224556  66.22516556  94.054053    61.57635468  53.71066653\n",
      "  97.71986971  79.83568212  54.95495496  84.70588235  75.57514713\n",
      "  75.67938511  94.76309227  24.24242424  88.03827751  53.57142857\n",
      "  70.58823529  66.46967553  89.13695714  97.2972973   95.88036682\n",
      "  96.07843137  73.95833333  75.7925538   56.10111498  97.43589744\n",
      "  74.61928934  90.69638656  62.5         48.64864865  41.95159584\n",
      "  81.03064134  84.27672956  95.23809524  92.64303469  36.40518941\n",
      "  58.79120879  86.81410888  41.9778002   93.01609038  92.61384009\n",
      "  45.18332229  85.17886356  90.94353418  89.24612927  93.33788006\n",
      "  77.72130593  30.97579425  69.04315197  83.82865766  97.86091761\n",
      "  64.63244462  85.83690987  84.92069787  88.79454527  92.80226446\n",
      "  74.6193651   88.78923767  91.63208852  66.04131315  94.25043221\n",
      "  81.01096653  99.96237204  43.5168671   77.44360902   5.64602025\n",
      "  83.34050179  68.          88.94336303  87.28491658  34.61538462\n",
      "  98.89932112  47.39884393  66.14397719  87.33375554  58.82352941\n",
      "  81.19354511  94.0954471   65.27415144  93.91208922  89.78675645\n",
      "  91.25732628  51.72413793  96.38554217  75.73092736  89.74653433\n",
      "  58.77034358  86.39046892  80.30592734  93.81443299  85.27692196\n",
      "  85.02914439  30.          46.66666667  39.73509934  99.58791209\n",
      "  91.77630579  75.57003257  93.20652174  74.03371035  36.19955841\n",
      "  25.99033816  83.59621451  88.12023436  57.00325733  21.875\n",
      "  96.15063127  67.79126285  47.89081886  84.17412539  77.27272727\n",
      "  81.57099698  78.12216785  86.19532343  63.45348467  86.76537283\n",
      "  76.47058824  81.47368421  35.74766355  65.04687201  42.85714286\n",
      "  82.78226737  89.7260274   88.40227536  87.59689923  87.98729425\n",
      "  82.2988781   59.94385951  82.1192053   62.81435812  86.85965723\n",
      "  89.52959096  70.59067599  88.12646415  40.78166294  97.46835443\n",
      "  99.00990099  52.79197497  90.92054966  93.68819693  87.80487805\n",
      "  96.38107301  91.33268247  92.66409266  99.88249119  84.81180254\n",
      "  89.74358974  92.95559637  79.02482788  88.30987129  68.75\n",
      "  56.95402676  58.70870871  85.60660413  74.38271605  99.14901101\n",
      "  82.82893325  79.16666667  86.86621848  55.11745762  72.95465377\n",
      "  74.92644689  53.44129295  87.20409469  76.39549815  58.49802372\n",
      "  35.13662096  85.48577126  49.51871658  84.69318654  89.29596181\n",
      "  54.09836066  29.08587258  43.4537168   89.1657386   38.59649123\n",
      "  43.68981672  84.1125369   75.73529412  19.23080152  99.13495857\n",
      "  24.79820881  45.17766498  27.39585217  88.42012701  44.0773926\n",
      "  91.69140678  94.25428968  87.50227853  53.97677917  83.73529631\n",
      "  20.          82.04520005  86.49435751  88.1932416   66.13167376\n",
      "  97.49474899  84.00313103  83.87716183  50.53434148  81.8832897\n",
      "   2.87461121  89.62466176  86.21317192  87.64340344  80.57553957\n",
      "  96.57202082  99.59809066  44.24787536  94.78553177  26.33103594\n",
      "  43.14309529  94.00041986  92.92342308  84.55989525  37.85692658\n",
      "  94.07108845  85.55769325  89.40187264  82.00835401  80.31208123\n",
      "  90.96045198  63.6968381   92.11185498  58.69565217  99.89258861\n",
      "  94.04122107  87.3326411   92.07321212  71.98452577  95.06724441\n",
      "  87.82759426  90.80079418  91.31799479  91.18592308  95.75070822\n",
      "  85.12476008  93.76307327  89.02748399  84.64986338  44.37060885\n",
      "  97.88567119   0.32936173  89.42687747  91.30755432  40.2383782\n",
      "  94.12628488  86.84219172  83.82122036  92.48120301  87.53623188\n",
      "  92.32257739  88.55710549  56.14035088  83.93966732  89.57927214\n",
      "  88.18323648  48.27586207  90.92876928  94.77547781  95.79831933\n",
      "  90.33138591  93.98129239  84.75050042  84.37394533  97.32142857\n",
      "  88.49557522  93.48753856  15.63799332  81.65383337  88.97065805\n",
      "  87.52780993  94.04407385  92.48579247  86.01058996  81.63265055\n",
      "  92.91784703  84.4423169   96.84454539  91.78877604  92.32394378\n",
      "  76.25183282  61.83206107  95.43092124  98.2993113   84.23710753\n",
      "  83.46047646  89.56260314  88.74074756  96.13455631  86.30708519\n",
      "  86.54429648  91.97244072  87.43929983  87.79943559  88.15508224\n",
      "  90.75502858  93.08133846  28.1269009   31.6814247   91.38961343\n",
      "  88.26047389  91.73809112  88.68103656  82.71120475  98.81109292\n",
      "  92.51005057  94.642957  ]\n",
      "\n",
      "Column name: \"Renewal_Type\"\n",
      "Number of unique values: 2\n",
      "Number of NaN values: 0\n",
      "Unique values:\n",
      " ['B' 'A']\n",
      "\n",
      "Column name: \"crime_property_type\"\n",
      "Number of unique values: 178\n",
      "Number of NaN values: 294\n",
      "Unique values:\n",
      " [1.20980731        nan 2.30469888 0.66914474 0.62046516 1.09768466\n",
      " 0.86865122 0.56380532 0.71463222 0.91964508 1.569717   0.89139496\n",
      " 1.11045308 0.69973573 0.89405505 1.59605186 0.08339371 1.67984458\n",
      " 0.9141387  0.68390822 1.59754815 1.20910903 1.73012021 0.30125479\n",
      " 0.94326665 1.17190108 1.04301989 1.39255525 1.90648394 1.29200398\n",
      " 0.55981519 1.46756968 0.48200766 0.97758176 1.06696067 1.81830208\n",
      " 1.04541397 1.45559929 0.24060482 1.39574735 1.76430232 1.04980311\n",
      " 1.10047776 0.47482543 0.93488737 0.6124849  1.79476031 0.94206961\n",
      " 0.63682469 1.35425    0.49038693 0.99194623 1.1204284  1.60722422\n",
      " 1.38976215 0.52510106 0.51273166 1.88733132 0.83952328 0.62605134\n",
      " 2.18539401 0.65079014 0.77129206 1.41689504 0.74615424 0.70705097\n",
      " 0.65398225 0.74455819 1.78678005 0.37307712 0.73777497 1.24851157\n",
      " 1.66587913 0.83673019 1.10845801 0.91254265 0.64241087 1.13479287\n",
      " 2.95269593 0.84271538 1.00511366 0.53068724 0.80002099 0.76091772\n",
      " 0.97478867 1.16511786 2.29512257 0.64201186 0.39422481 0.39143172\n",
      " 0.25217619 1.16551687 1.1140442  1.35704309 0.71662728 0.69907071\n",
      " 0.44649551 2.02499079 0.57378064 0.55821914 1.27165432 1.17668923\n",
      " 0.55742111 1.26447208 1.32711712 0.73418385 0.6340316  0.74136609\n",
      " 0.98236992 1.41609701 0.42335276 0.59333228 0.37387515 0.92052291\n",
      " 1.03863075 0.84670551 0.26374757 0.71024308 1.26247702 0.57338163\n",
      " 1.45958942 2.35258044 0.84111933 1.9575576  1.42766839 0.79443481\n",
      " 1.02466529 1.05299521 0.56260828 1.27285136 2.84815454 0.58894313\n",
      " 1.30038325 1.26566912 0.307639   1.29360003 1.12082742 0.96441433\n",
      " 1.79037117 1.4803381  2.04454243 1.43165852 1.25848689 2.08803484\n",
      " 0.34275214 0.1631963  1.79196722 0.24978212 0.86705517 1.74248961\n",
      " 1.29080694 1.28003359 0.38744159 0.53228329 0.97837979 0.71303617\n",
      " 2.00504015 1.75286395 0.64480495 1.09928072 2.1175618  1.10686196\n",
      " 1.55176142 1.25090564 1.22217671 1.85381423 0.94645875 0.79044468\n",
      " 1.14436918 0.36709193 0.71902136 1.00351761 1.22736388 0.78765159\n",
      " 1.25329972 0.98556202 0.25018113 0.69428256]\n",
      "\n",
      "Column name: \"crime_residents\"\n",
      "Number of unique values: 182\n",
      "Number of NaN values: 307\n",
      "Unique values:\n",
      " [1.06439754        nan 1.91272585 0.43025237 0.91711543 1.57974624\n",
      " 0.6251862  1.72994071 0.57387323 0.56391574 1.43648596 1.15052013\n",
      " 2.12810166 0.52260648 1.38008791 1.36561858 0.92321752 1.62454108\n",
      " 1.08991535 0.41008776 1.37425164 0.76608886 1.43884358 0.64682087\n",
      " 1.36783752 1.71052499 0.90384802 1.25009504 1.32831266 1.08797377\n",
      " 1.67183223 0.78245354 0.81864999 1.07299593 1.54354979 1.02154427\n",
      " 1.02237637 0.68495889 1.4565951  1.2104315  0.66887158 1.33788183\n",
      " 0.44933525 1.29544462 0.504254   0.93680852 1.19975285 1.16882638\n",
      " 0.51645817 0.59176343 0.73641055 1.33954604 1.60276774 0.56250116\n",
      " 0.62338332 1.51387147 1.21708832 0.61811333 0.6942507  2.10119702\n",
      " 0.70534539 1.13152046 1.06412018 1.51373279 0.73183398 0.50813715\n",
      " 1.18491369 1.33080897 0.53878625 0.66249212 2.12879508 0.74168053\n",
      " 0.71907508 0.8560946  0.98146468 1.29267094 2.07193476 1.63591315\n",
      " 1.08242642 0.53573521 0.7785704  0.84860567 0.54377886 0.9105973\n",
      " 1.33122502 0.76567281 0.60979231 1.61441717 0.62116438 0.94277192\n",
      " 0.60826679 0.69522148 1.72522546 0.53712204 0.76109625 1.87958044\n",
      " 1.26770787 0.51229766 1.2419127  1.82743536 0.7615123  1.60082617\n",
      " 0.50134164 1.90731718 1.05247074 1.3969611  0.96232633 0.74597972\n",
      " 0.8382044  1.00656643 0.9821581  0.72642532 0.91725412 0.63212039\n",
      " 0.96260369 1.83520165 0.53809283 1.20946071 1.20599362 1.37712933\n",
      " 0.86164195 1.32956081 0.78522722 0.9548374  0.948874   1.24316086\n",
      " 1.54424321 0.4923272  1.15925721 0.74279    1.0331937  1.06633911\n",
      " 1.72467073 0.61201125 1.19434419 2.88892055 0.4719407  1.4276102\n",
      " 0.68246258 1.37601986 1.48946314 0.78494985 1.58238123 0.95331188\n",
      " 1.07257988 1.52760116 0.36057767 0.44045949 1.36104202 0.63891589\n",
      " 1.08298116 2.97060526 1.25453292 1.07188646 0.47249543 0.91475781\n",
      " 0.62976277 0.61284335 1.65616097 1.41817971 1.04123736 0.62906935\n",
      " 1.4191505  2.82984128 0.89548077 1.55159345 2.0554314  0.59328895\n",
      " 1.07479882 1.72980202 0.712973   0.78592063 1.6558836  0.75776784\n",
      " 1.08728036 1.18380422 0.8688535  0.49399141 1.13526492 1.39931872\n",
      " 0.79354824 0.77080411]\n",
      "\n",
      "Column name: \"crime_area\"\n",
      "Number of unique values: 156\n",
      "Number of NaN values: 294\n",
      "Unique values:\n",
      " [1.06652196        nan 1.46328268 0.34580063 0.97552179 1.5251628\n",
      " 0.68553459 0.78988145 0.76731341 0.92456169 1.4705627  0.5799744\n",
      " 1.13325541 0.99372182 2.09300384 0.97188178 0.44408081 0.95004174\n",
      " 1.02011187 1.63072299 0.66612122 0.77532142 1.39412256 0.91242834\n",
      " 0.8699616  1.54700284 1.23396226 1.20484221 1.48148272 1.01556186\n",
      " 1.09928202 0.91000167 0.9791618  1.62708298 1.19028218 1.17450882\n",
      " 0.90272166 0.72436133 0.41860077 0.86632159 1.1429621  0.74620137\n",
      " 0.89908165 1.2521623  1.12112206 0.73528135 0.6552012  2.26408415\n",
      " 0.91728168 1.23760227 1.088362   0.54964101 1.27400234 1.26308232\n",
      " 0.66976123 0.69888128 1.94012356 0.67340124 1.13932209 1.11384204\n",
      " 0.48048088 0.63700117 1.04468191 1.28856236 1.34316246 0.68796126\n",
      " 1.27764234 1.2012022  1.7472032  0.61516113 1.42688262 0.80444147\n",
      " 3.0539656  1.55064284 2.07844381 0.68432125 1.83820337 0.79352146\n",
      " 2.43880447 1.41232259 0.84448155 0.95732176 1.68532309 0.33488061\n",
      " 1.52152279 0.84812155 1.43416263 0.53872099 1.00828185 2.00564368\n",
      " 1.3613625  0.52780097 1.88552346 2.59896476 0.58604107 1.59068292\n",
      " 0.76076139 1.24488228 0.93548171 0.62244114 1.21576223 0.7061613\n",
      " 1.44144264 1.76176323 1.05560194 0.86268158 0.75712139 1.64164301\n",
      " 0.77168141 1.05196193 1.61616296 1.0337619  1.57612289 4.1459676\n",
      " 1.64892302 1.71808315 1.90372349 0.85904158 1.13568208 1.77632326\n",
      " 1.04104191 0.80808148 1.18664218 1.66348305 1.21212222 0.94640174\n",
      " 0.65156119 1.33224244 0.06552012 1.02648188 1.10656203 1.11748205\n",
      " 0.42224077 0.7098013  1.25944231 1.55428285 0.99736183 0.62608115\n",
      " 0.58968108 0.74256136 1.00100184 2.47520454 1.7435632  1.49968275\n",
      " 0.3822007  0.87724161 0.81172149 2.39512439 1.28128235 1.07380197\n",
      " 1.29584238 2.64264484 0.9828018  2.61352479 1.35044248 0.84084154]\n",
      "\n",
      "Column name: \"crime_arson\"\n",
      "Number of unique values: 181\n",
      "Number of NaN values: 301\n",
      "Unique values:\n",
      " [0.93934588        nan 1.63253889 0.63861504 1.25130914 1.92602147\n",
      " 0.69888921 1.07615082 0.7597714  0.73910186 1.27679805 1.13048878\n",
      " 1.04936585 0.94286601 1.24962907 1.23537256 0.87209546 1.60277781\n",
      " 1.46914099 0.76754769 1.44864425 0.94504609 1.12895272 1.06506242\n",
      " 1.03338127 1.43505976 1.00466024 1.07341472 0.84636653 1.136585\n",
      " 1.13058478 0.87483155 0.93593776 0.84166236 1.18074659 1.40889882\n",
      " 1.1227605  0.90689671 0.89076813 1.18305067 0.83932628 0.65810374\n",
      " 0.85726292 0.62690261 1.74553496 0.81574142 1.09717558 1.40150655\n",
      " 0.82294168 1.0866152  0.85222274 1.16749811 1.15780176 1.00386021\n",
      " 1.13471293 0.85279876 0.99565191 1.25673333 1.3418724  0.71397775\n",
      " 0.96627485 1.63973915 0.76956376 0.92844949 1.05795816 1.33425613\n",
      " 0.76332353 0.66391195 1.08747923 1.23460453 0.68954487 0.94793819\n",
      " 1.24444489 0.92364932 0.69823318 1.1478654  1.09386346 1.14748139\n",
      " 1.51848677 1.09899964 0.77369191 1.00179613 1.11061606 0.85030267\n",
      " 0.66117585 0.94385805 1.28779045 0.9954119  1.02474096 1.3638732\n",
      " 1.31351938 1.0340533  0.97241908 0.71613783 1.41845116 0.6903129\n",
      " 1.17066623 1.04466168 1.10168774 0.6735603  1.41787514 1.31294336\n",
      " 0.942514   1.22649224 0.6070779  1.33497615 1.19298703 0.99017972\n",
      " 0.85606288 0.7512271  1.27775809 0.68623275 1.1589058  1.00525226\n",
      " 0.96075466 0.93291365 0.95283437 1.330752   0.69362502 1.17517839\n",
      " 1.05517406 1.25332521 0.80743712 1.0369334  0.80330898 0.88126379\n",
      " 1.00419622 1.39200221 1.15568969 0.69544909 1.49928608 0.66031182\n",
      " 0.73658657 1.09280742 0.81818951 0.67509635 1.13634499 0.79442866\n",
      " 0.73567454 0.8787677  0.70245734 1.31251134 1.32326373 0.7043294\n",
      " 1.23450853 0.73581854 1.21343577 0.62474253 0.85294277 0.83513412\n",
      " 0.86849533 1.68351673 1.79632079 1.0951595  0.47219303 0.77887609\n",
      " 0.97117103 0.70831355 0.80057288 0.89100814 1.43093161 1.43126763\n",
      " 0.82711783 1.12223248 0.9011365  1.50989446 1.27199788 0.6874328\n",
      " 1.14666536 1.22308412 1.03486933 0.91558503 1.28342229 0.98033936\n",
      " 1.58213707 1.09693557 0.68032854 1.05944621 1.45920463 1.02104483\n",
      " 1.02334891]\n",
      "\n",
      "Column name: \"crime_burglary\"\n",
      "Number of unique values: 181\n",
      "Number of NaN values: 295\n",
      "Unique values:\n",
      " [1.70853375        nan 1.20555419 0.56743062 1.49188238 1.20627999\n",
      " 1.32264996 1.41131856 1.49079368 0.57265639 1.5426884  1.51583379\n",
      " 0.43947204 1.06075704 1.25841664 1.11265176 0.6238253  0.51241496\n",
      " 0.64741381 0.23189318 1.29437399 0.77578972 1.13442577 0.38431122\n",
      " 1.45668107 1.13406287 2.20207791 2.05691786 0.74213074 0.60096259\n",
      " 0.34620671 0.28850559 0.77225145 0.57483379 0.9449919  0.53709217\n",
      " 0.83539607 0.2990297  1.13297417 1.96256383 1.67986464 0.73995334\n",
      " 0.20903047 0.72035673 0.2972152  1.21535249 1.74300926 1.01938643\n",
      " 1.03499113 0.46995565 1.10720826 0.6060432  2.22675512 1.32567413\n",
      " 0.33822291 0.36290012 1.04696684 1.56325274 0.40064173 0.87749248\n",
      " 1.26506981 0.56830158 0.98382222 0.79983186 0.85934748 0.77696915\n",
      " 0.75265484 1.00559622 0.26455418 0.36471462 0.9319275  1.13769187\n",
      " 1.2284169  0.38285962 1.29010992 0.25911068 0.68878442 1.50349519\n",
      " 0.53310027 1.59821211 0.18108716 0.73269534 0.35092441 0.17673236\n",
      " 0.77152565 1.27015041 0.52185037 0.50878596 1.03571693 0.9322904\n",
      " 0.42423024 0.56430968 1.62361512 0.23334478 0.28959429 1.02265253\n",
      " 0.72471153 0.52366487 0.75918705 0.84918627 0.74975164 0.86116198\n",
      " 0.3240698  0.91233089 0.34729541 0.73378404 0.57229348 0.51096336\n",
      " 1.31369842 0.27072349 0.55451138 0.41189163 0.48120556 0.19197416\n",
      " 0.43874624 0.79765446 0.3070135  0.77805785 0.72797764 1.08180525\n",
      " 0.28560239 1.8627663  0.57047898 0.58971269 1.17325608 2.39114887\n",
      " 0.3251585  0.76317895 0.88438759 0.64668801 0.71745353 0.57628539\n",
      " 0.37705322 2.169054   0.73088084 0.3099167  0.53745507 0.57301928\n",
      " 0.80309796 1.82683919 0.6118496  1.27341651 1.22007019 1.61055072\n",
      " 2.12115118 0.15459545 0.35854532 0.89164559 0.24749788 1.64792943\n",
      " 1.41240726 0.52148747 1.2509167  0.38104512 0.46306055 0.6281801\n",
      " 0.42132704 0.83212997 1.06148284 0.77551755 0.3012071  1.8569599\n",
      " 1.07708755 0.37415002 1.47482608 0.9399113  0.6122125  0.68842152\n",
      " 0.78894485 0.53781797 0.46124605 0.27870729 0.6307204  1.73284806\n",
      " 0.90833899 0.39592403 0.40281913 0.69459082 0.55051948 0.41334323\n",
      " 0.55705168]\n",
      "\n",
      "Column name: \"crime_neighbour_watch\"\n",
      "Number of unique values: 96\n",
      "Number of NaN values: 294\n",
      "Unique values:\n",
      " [0.80801537        nan 1.99983804 0.7514543  0.30300576 1.27262421\n",
      " 1.03695306 1.63623113 0.50500961 0.41208784 1.59583036 1.07062037\n",
      " 1.00328575 0.92248422 0.72721384 0.52520999 0.48480922 0.3838073\n",
      " 1.34837565 1.26757411 1.73723305 0.24240461 1.19182267 1.87863574\n",
      " 1.31975844 4.32288224 1.4140269  0.88881691 0.82821576 0.36360692\n",
      " 1.01001922 0.58581114 0.60601153 1.83823497 0.44440845 0.68681307\n",
      " 1.29282459 2.20184189 1.33322536 1.23222344 0.40400769 0.98981883\n",
      " 2.24224266 0.42420807 1.17162229 0.7676146  0.74741422 1.85843535\n",
      " 0.57234422 0.94941806 0.92921768 1.49482844 0.22220423 0.32320615\n",
      " 0.86861652 1.21202306 0.78781499 1.11102114 0.34340653 0.56561076\n",
      " 1.09082075 0.28280538 2.4442465  1.31302498 1.0302196  0.66661268\n",
      " 0.262605   1.15142191 0.         1.35342575 1.57562998 0.10100192\n",
      " 2.08063958 1.13122152 0.20200384 0.46460884 1.05041998 0.54541038\n",
      " 0.16160307 1.45442767 1.7978342  1.51502882 1.75743343 0.96961845\n",
      " 2.52504804 0.14140269 1.77763382 2.04023881 0.84841614 0.08080154\n",
      " 2.32304419 1.97963766 1.65643151 2.48464727 1.39382652 0.62621191]\n",
      "\n",
      "Column name: \"crime_community\"\n",
      "Number of unique values: 179\n",
      "Number of NaN values: 314\n",
      "Unique values:\n",
      " [1.04081878        nan 1.6653361  0.58536284 1.19847911 1.78635018\n",
      " 0.73983087 1.26330226 0.78419727 0.685412   1.34232787 1.17346193\n",
      " 1.25141258 0.85780467 1.28512714 1.25896986 0.86465616 1.51523304\n",
      " 1.3110564  0.63800315 1.42203755 0.89091116 1.20587351 0.909218\n",
      " 1.15329835 1.47744668 1.09172178 1.0526433  1.14994318 1.07671582\n",
      " 1.0174629  0.84481832 0.83279835 1.10492529 1.40343753 1.05010249\n",
      " 0.93052169 0.79221058 1.24665672 1.03003663 0.75448937 0.96241208\n",
      " 0.54969382 1.55347544 0.69868934 1.07365382 1.38930022 0.92449542\n",
      " 0.95162994 0.75950584 1.06466327 1.15473162 1.25756916 0.74123157\n",
      " 0.8546558  1.30235902 1.33680107 0.66565885 0.89755635 1.71980058\n",
      " 0.73390232 0.94684149 1.05619391 1.33278356 0.76703054 0.63963187\n",
      " 1.08381705 1.24069559 0.61819788 0.83165824 0.91127019 0.67709248\n",
      " 1.09586959 0.99609406 1.1441775  1.65211087 1.17789205 0.92276897\n",
      " 0.82195106 1.00231578 0.80784632 0.59226862 0.92364848 1.3006\n",
      " 0.90218192 0.88426598 1.39770443 1.12098449 0.98961174 0.84084424\n",
      " 0.69995975 1.51357174 0.61555935 0.99918863 1.24219402 1.11043037\n",
      " 0.6244196  1.32203399 1.39643403 0.88573183 1.28561576 0.55884724\n",
      " 1.43581654 1.087954   1.06593367 0.85833672 0.73090547 1.18186614\n",
      " 0.7264102  1.06691091 0.88973848 0.91058613 0.79879062 0.91208455\n",
      " 1.40571775 0.62464762 1.15140903 1.27112013 0.77595594 1.18320169\n",
      " 0.79771567 0.87348383 0.95729789 1.34193698 1.36161194 0.61676461\n",
      " 1.3582242  0.70194679 0.80058222 1.05648709 1.01205554 0.63572293\n",
      " 1.24636354 1.28327039 0.63790542 0.97993713 0.68842839 1.28597407\n",
      " 1.41180917 0.71725678 1.3773454  1.17118172 0.89582991 1.37265468\n",
      " 0.52249415 0.71445538 0.96645131 0.76165575 1.54471292 2.04352545\n",
      " 1.08469656 0.68448688 0.67373732 0.9154723  0.6849755  0.72507465\n",
      " 1.06834418 1.3993983  1.28545288 0.71992788 1.0613081  1.52292061\n",
      " 0.85543759 1.52148734 1.4303766  0.66080526 1.09238413 1.30711489\n",
      " 0.91798053 0.84732655 1.28493169 0.89986914 1.43324316 0.98400894\n",
      " 0.61389806 1.04792    1.36832228 0.91638438 0.92550523]\n",
      "\n",
      "Column name: \"crime_risk\"\n",
      "Number of unique values: 183\n",
      "Number of NaN values: 294\n",
      "Unique values:\n",
      " [1.17136625        nan 1.77927884 0.72958725 0.64430902 1.0817573\n",
      " 0.98585193 0.90069656 0.66481081 0.79298155 1.62816453 0.90691621\n",
      " 0.8413412  0.954293   1.35657342 0.29762147 1.28285912 0.82030191\n",
      " 0.63371259 1.53055067 1.26598546 1.43166986 0.2888679  1.01288051\n",
      " 1.23148947 1.27994126 1.26166626 1.86796635 1.13888588 0.78736083\n",
      " 1.0720823  0.46002328 0.86291799 1.01426265 1.60259488 0.80740191\n",
      " 1.22365733 0.30936969 1.44641271 1.59453238 0.9774055  0.97164657\n",
      " 0.39091613 0.77008404 0.74313225 1.66410025 0.86890727 0.98754122\n",
      " 1.01449301 0.56115008 1.03545551 1.00942515 1.38352521 1.23448411\n",
      " 0.51047151 0.52567508 1.57287881 0.96189479 0.78989476 0.67794117\n",
      " 1.8182092  0.54732865 0.6369376  1.19301982 0.85439477 0.70811796\n",
      " 0.73253582 0.85324298 1.40748235 0.44643221 0.71387689 1.2840109\n",
      " 1.41969128 0.79910905 0.73345725 0.90737692 0.56829116 1.06931802\n",
      " 2.64196646 0.7687019  0.95344836 0.45334293 0.69130189 0.68968939\n",
      " 0.69544832 1.04052337 1.75278776 0.6740251  0.37686434 0.24878575\n",
      " 1.18541803 0.96058943 1.01495372 0.95621264 0.5632233  0.36557684\n",
      " 1.77720562 0.76778047 0.58211259 0.98984479 1.22296625 0.67540724\n",
      " 1.23171983 0.29577862 1.17620375 0.4620965  0.76409476 0.64085367\n",
      " 0.60008045 1.13842517 0.97556265 0.50217865 0.54180008 0.56736973\n",
      " 0.63831974 0.87512692 1.10387159 0.67310367 0.35728398 0.82260548\n",
      " 1.21674661 0.57151616 1.18979482 1.70994133 0.74151975 0.87374477\n",
      " 1.47958415 1.21421268 0.64269652 0.97141622 0.81661619 0.52797865\n",
      " 0.94561621 2.14439496 0.50908936 1.17689482 0.99721622 0.38239291\n",
      " 1.01334122 0.76133047 0.95989836 1.50285022 1.07991445 1.5051538\n",
      " 1.11078231 1.19762696 1.86612349 0.24417861 0.17576253 1.3480502\n",
      " 0.34876077 0.80118226 1.45539664 1.25268233 1.04605194 0.54456437\n",
      " 0.47568757 1.05480551 0.60537866 1.52957166 1.35887699 0.50171793\n",
      " 0.72378225 1.16745017 1.7235324  0.94054835 1.29138233 1.04167516\n",
      " 0.94791978 1.51897523 1.01979122 0.68945903 0.97809657 0.44804471\n",
      " 0.63417331 1.01172872 0.97487157 0.91843407 0.62150366 1.02071265\n",
      " 0.84932691 0.31927505 0.5567733 ]\n",
      "\n",
      "Column name: \"Geographical_risk\"\n",
      "Number of unique values: 482\n",
      "Number of NaN values: 6\n",
      "Unique values:\n",
      " [2.84446900e-01 6.30519000e-03 1.93715490e-02 8.54130470e-02\n",
      " 5.57082968e+00 1.53742601e+00 5.78754790e-02 1.43884210e+00\n",
      " 4.22287100e-03 7.38905788e+00 1.92938714e-01 2.99709443e-01\n",
      " 1.57885819e+00 2.55068260e-01 1.33204018e+00 3.06096782e-01\n",
      " 5.30391950e-01 1.02172416e+00 2.39858230e-01 4.44389822e-01\n",
      " 2.90840478e+00 5.76534690e-01 2.82847440e+00 6.87834008e-01\n",
      " 5.60531250e-02 4.58303666e-01 9.01443576e-01 1.25946108e+00\n",
      " 1.39561149e+00 8.54706036e-01 2.57792173e-01 1.16930679e-01\n",
      " 4.66439530e-02 1.01552556e+00 1.68003395e-01 1.17822879e+00\n",
      "            nan 1.49457495e-01 5.00324402e-01 4.18465600e-02\n",
      " 5.04628380e-02 1.11055835e+00 4.36442173e-01 2.83736160e-02\n",
      " 1.06637263e+00 1.21164469e-01 8.74938070e-02 8.54803315e+00\n",
      " 2.66068940e-02 7.92820340e-02 1.43400311e-01 2.48287330e-02\n",
      " 1.66783120e-02 1.84412124e+00 1.49078986e-01 1.35270687e-01\n",
      " 3.93694575e-01 6.14250410e-02 1.91110640e-02 7.66064700e-03\n",
      " 3.78442431e-01 1.64063890e-02 3.11836288e-01 1.82546875e-01\n",
      " 6.30966150e-02 6.10372769e-01 1.87101980e-02 4.98499968e+00\n",
      " 2.03542170e-02 2.79859038e-01 2.98242720e-01 2.72482793e-01\n",
      " 8.65972397e-01 1.63574632e-01 2.02603691e-01 5.99692369e-01\n",
      " 4.32841138e-01 7.65076357e-01 9.52806413e-01 8.14804014e-01\n",
      " 3.84919720e-02 1.19895475e+00 3.29175223e+00 4.36675101e-01\n",
      " 4.54997952e-01 2.44799124e+00 4.88229790e-02 1.73427824e-01\n",
      " 1.93052579e-01 1.52188167e-01 9.09014276e-01 2.74956099e-01\n",
      " 5.53670772e-01 3.00843410e-01 2.57110550e-02 1.73062781e+00\n",
      " 1.62411549e-01 4.01504962e-01 2.12900384e-01 1.82354501e-01\n",
      " 1.05983243e+00 5.26035977e-01 5.39614470e-02 1.73035277e-01\n",
      " 3.34110086e-01 6.17366346e-01 5.00927521e-01 7.76151380e-02\n",
      " 2.88233550e-01 3.73387152e-01 2.47722170e-01 1.46854210e-02\n",
      " 7.66378261e-01 1.96367860e+00 1.13474393e+00 1.71280510e-02\n",
      " 2.67801864e-01 1.31231352e-01 1.24122870e-01 6.63678064e-01\n",
      " 3.27102471e-01 6.32962700e-03 1.79640990e-02 8.74792490e-02\n",
      " 1.29275219e+00 1.13656680e-01 1.81497140e-02 1.03978965e+00\n",
      " 1.62636679e-01 1.80511869e-01 8.87395590e-02 1.91720518e-01\n",
      " 7.11583887e-01 1.00866404e-01 3.71120257e-01 6.64073211e-01\n",
      " 5.78000890e-02 2.21999680e-02 1.55750727e-01 6.13418520e-02\n",
      " 5.84427230e-02 3.61625297e-01 5.32655724e-01 1.42557505e-01\n",
      " 2.46207610e-02 5.96104850e-02 4.77836390e-02 2.86512580e-02\n",
      " 9.72523720e-02 1.86681358e-01 4.99280383e-01 5.15773600e-01\n",
      " 1.02716835e-01 8.67830107e-01 1.24356840e-02 1.62739105e-01\n",
      " 4.16972877e-01 2.90766908e+00 5.20070821e-01 5.07711600e-03\n",
      " 6.27950560e-02 4.66146289e-01 9.41442310e-02 3.46533300e-03\n",
      " 4.03689190e-02 5.56235066e-01 1.52115900e-02 5.57817213e-01\n",
      " 3.28325350e-02 7.42177083e-01 5.07472400e-02 8.86360930e-02\n",
      " 5.53923458e-01 3.92954195e-01 1.22736581e+00 6.62410475e-01\n",
      " 1.37007773e-01 9.38010770e-02 4.60111980e-02 4.28251197e-01\n",
      " 3.15404567e-01 7.20934800e-03 3.74532558e-01 2.77980530e-02\n",
      " 6.15753524e-01 6.60363000e-03 5.78318100e-03 3.28548396e-01\n",
      " 9.61090500e-03 6.82200100e-03 6.97511980e-02 1.59150600e-03\n",
      " 4.92953876e-01 9.57293928e-01 2.75435475e-01 2.48365320e-02\n",
      " 2.88593341e-01 7.15023220e-02 9.91428370e-02 1.10304900e+00\n",
      " 4.92820770e-02 1.31129965e-01 5.55768690e-02 2.16669876e-01\n",
      " 6.30734785e-01 5.77214758e-01 1.11083030e-02 4.28047900e-02\n",
      " 3.82960622e-01 5.41921915e-01 2.20717530e-01 2.40114040e-02\n",
      " 1.23757255e+00 4.88675892e-01 6.78560540e-02 1.88576502e-01\n",
      " 3.54893770e-02 1.65800972e-01 1.41801007e-01 1.53028374e-01\n",
      " 7.17867200e-03 2.58964615e-01 7.14903600e-03 2.84391270e-02\n",
      " 2.30257204e-01 5.43321570e-02 5.13314851e-01 1.23038816e-01\n",
      " 5.27157000e-03 7.64000620e-02 1.35405350e-02 5.30619680e-02\n",
      " 4.67470031e-01 5.50189840e-02 5.10706360e-02 5.39344100e-02\n",
      " 4.52310954e-01 1.64396641e-01 8.08652200e-02 2.61414524e-01\n",
      " 6.98749420e-02 1.67193860e-02 4.34244429e-01 8.38075000e-03\n",
      " 1.52928547e-01 1.40464270e-02 1.10223583e-01 5.80981131e-01\n",
      " 3.54888570e-02 1.83227463e-01 1.46875003e-01 3.12211158e-01\n",
      " 6.52254164e-01 1.28734650e-02 1.70190740e-01 0.00000000e+00\n",
      " 4.81841934e-01 2.24880090e-02 1.23374170e-02 9.82199600e-03\n",
      " 1.18596015e-01 9.58865160e-02 2.84547250e-02 2.43379200e-03\n",
      " 7.59721600e-03 3.14542000e-02 4.02174112e-01 2.41793410e-02\n",
      " 1.20271749e-01 3.18608895e-01 6.28090940e-02 1.14446970e-02\n",
      " 1.31937420e-02 2.47133090e-02 4.72252400e-03 4.16161266e-01\n",
      " 1.00766058e-01 8.39634800e-03 3.01143400e-03 5.82113500e-03\n",
      " 3.23084450e-02 2.86689360e-02 6.91184440e-02 7.38019720e-02\n",
      " 1.65093350e-02 3.08778580e-01 6.59193150e-02 5.62475790e-02\n",
      " 3.16533300e-03 7.62752790e-02 2.01186880e-02 8.30340040e-01\n",
      " 1.66601664e-01 1.34486113e-01 7.14898440e-02 2.80283820e-02\n",
      " 2.45207789e-01 3.86376561e-01 2.10238860e-02 4.76973310e-02\n",
      " 3.34900899e-01 2.99464040e-02 2.66120930e-01 8.98412910e-02\n",
      " 1.79430415e-01 5.72541630e-02 2.65476200e-03 7.62425230e-02\n",
      " 3.39775762e-01 2.59188705e-01 8.05319450e-02 4.52287557e-01\n",
      " 7.62435630e-02 9.20520330e-02 5.54791220e-02 3.82148490e-02\n",
      " 2.52043828e-01 6.75170600e-02 8.07399170e-02 1.76441338e-01\n",
      " 4.68238490e-02 8.00915650e-02 3.92500300e-02 4.28336465e-01\n",
      " 1.95599716e-01 7.65960800e-03 6.89271090e-02 7.91160721e-01\n",
      " 3.05808221e-01 1.42767560e-02 7.42366340e-02 2.76878280e-02\n",
      " 3.42176280e-02 9.81653690e-02 8.11610600e-03 5.55664700e-02\n",
      " 3.01091400e-03 3.27503900e-03 1.79485010e-02 1.58058176e-01\n",
      " 5.55726055e-01 4.37083246e-01 2.56299454e-01 4.36204045e-01\n",
      " 1.57792492e-01 1.52537040e-02 9.11234380e-02 2.21738672e-01\n",
      " 5.37564383e-01 2.97299048e-01 4.42293980e-02 1.10849267e+00\n",
      " 1.72164390e-02 2.60656467e-01 1.10239701e-01 1.53019431e+00\n",
      " 1.69674970e-01 9.14509940e-02 8.54385240e-02 3.30098310e-02\n",
      " 5.57245290e-02 1.25953023e-01 5.09723700e-02 8.82425100e-03\n",
      " 1.55698210e-02 2.50377450e-02 6.95861206e-01 2.80788150e-02\n",
      " 5.06847963e-01 1.88407010e-02 1.25136730e-02 5.86538140e-02\n",
      " 2.95975310e-02 4.85240200e-02 8.95178941e-01 9.23665900e-02\n",
      " 1.30606400e-02 1.85422610e-02 3.81160620e-02 3.67829620e-02\n",
      " 8.17413020e-02 8.22076790e-02 4.63735890e-02 5.42832830e-02\n",
      " 2.24895690e-02 2.51908126e-01 4.88092011e-01 4.85676940e-02\n",
      " 1.31599460e-02 2.12969534e-01 1.41735496e-01 3.38318400e-03\n",
      " 2.88708246e-01 2.87901314e-01 9.43963970e-02 6.92926200e-02\n",
      " 4.38212530e-02 1.43241733e-01 4.09845160e-02 2.27156342e-01\n",
      " 4.84205540e-02 2.29002613e-01 1.02188170e+00 5.37219669e-01\n",
      " 1.43859929e-01 2.76921434e-01 1.45685403e-01 3.86588690e-02\n",
      " 5.08767020e-02 5.91685450e-02 2.25576275e-01 2.07883580e-01\n",
      " 1.03772810e-02 6.30664590e-02 1.33855960e-02 1.16323920e-02\n",
      " 7.41394070e-02 6.13673300e-03 9.03820180e-02 2.81080874e-01\n",
      " 6.39357800e-03 2.49633950e-02 5.38039080e-02 3.76407425e-01\n",
      " 3.56919932e-01 1.24158225e-01 2.60657507e-01 2.36630510e-02\n",
      " 3.36805400e-02 2.50424250e-02 3.01205800e-02 8.26454600e-02\n",
      " 1.84590720e-02 2.09687700e-03 2.00806814e-01 1.95295557e-01\n",
      " 1.39559590e-02 7.93111500e-02 1.34707083e-01 3.45653570e-01\n",
      " 7.21535866e-01 1.54460780e-02 3.62755100e-03 2.34084928e-01\n",
      " 9.93170130e-02 1.11363790e-02 6.72477360e-02 8.05683400e-03\n",
      " 9.95145900e-03 3.55829640e-02 6.75544900e-03 6.80499880e-02\n",
      " 2.03552600e-03 1.29867575e-01 2.64628730e-02 5.27687270e-02\n",
      " 4.32030570e-02 8.87327999e-01 3.10502150e-02 1.15533630e-02\n",
      " 1.28630700e-03 6.96914100e-03 2.16403619e+00 6.30971350e-02\n",
      " 7.88572510e-02 5.23569400e-03 1.75658320e-02 7.64489360e-02\n",
      " 2.34129642e-01 7.99293465e-01 2.26169500e-03 1.62738070e-02\n",
      " 6.88340420e-02 1.52672220e-02 6.99872470e-02 3.70450100e-03\n",
      " 4.46957760e-02 5.26361450e-02 4.44295710e-02 1.40412270e-02\n",
      " 2.23772640e-02 1.24588727e-01]\n",
      "\n",
      "Column name: \"Weather_risk\"\n",
      "Number of unique values: 901\n",
      "Number of NaN values: 4\n",
      "Unique values:\n",
      " [3.13156679e-01 8.89677280e-01 2.76506707e-01 1.24679479e-01\n",
      " 7.03054350e-01 0.00000000e+00 8.13827350e-01 1.34104054e+00\n",
      " 8.59196706e-01 2.16586505e-01 5.41721808e-01 5.14815599e-01\n",
      " 2.84141733e-01 7.29130871e-01 2.62238655e-01 2.33715456e-01\n",
      " 1.72273224e-01 6.67622461e-01 3.60804381e+00 5.14665720e-01\n",
      " 5.94451711e-01 4.58982144e-01 2.58013990e-01 1.75194833e-01\n",
      " 2.96532733e-01 4.63525047e-01 8.18357109e-01 1.21529392e+00\n",
      " 3.18883821e-01 1.31800454e+00 4.05525061e-01 3.76855604e-01\n",
      " 4.33187290e-01 1.03943876e+00 2.22421329e+00 1.30602849e-01\n",
      " 1.17721319e+00 5.21020647e-01 1.65790239e-01 1.52116662e-01\n",
      "            nan 4.99518907e-01 1.02675795e+00 2.10468954e-01\n",
      " 5.38739028e-01 1.25856542e+00 5.24088697e-01 2.59380243e-01\n",
      " 1.38433847e+00 2.71564986e-01 1.01240804e+00 3.83883932e-01\n",
      " 8.23719322e-01 2.23740259e-01 6.23681243e-01 1.68606410e+00\n",
      " 1.97019934e-01 5.77568807e-01 4.43581894e-01 5.35735750e-01\n",
      " 2.19992055e+00 9.88635195e-01 1.91759059e-01 9.35744243e-01\n",
      " 6.30241527e-01 3.78376680e-01 5.71064829e-01 3.25068646e-01\n",
      " 5.77350424e-01 1.12404687e+00 8.34193985e-01 6.39395242e-01\n",
      " 1.26453706e-01 1.15692045e+00 1.16317716e+00 9.61720328e-01\n",
      " 5.14074652e-01 5.30346735e-01 4.15809532e-01 1.65604164e-01\n",
      " 1.64811790e+00 1.70908023e-01 1.43644273e+00 1.53487109e+00\n",
      " 5.35023395e-01 5.11596531e-01 2.87986004e-01 6.75270467e-01\n",
      " 1.22841196e+00 1.75689321e-01 3.26314964e-01 1.29162735e+00\n",
      " 1.23666359e+00 2.06291834e-01 8.90515380e-02 5.22324013e-01\n",
      " 8.35013677e-01 9.01667362e-01 2.45605029e-01 9.89474794e-01\n",
      " 1.53947230e-02 1.26398868e-01 6.86988041e-01 4.03227146e-01\n",
      " 7.21161614e-01 2.02185550e-01 2.13982665e+00 3.79802236e-01\n",
      " 2.40968936e-01 1.17573430e+00 2.89679213e-01 2.81870082e+00\n",
      " 1.08375474e+00 3.77899628e-01 4.27413110e-01 1.14265061e+00\n",
      " 2.61419208e-01 6.92510460e-02 1.98326072e-01 2.89871943e+00\n",
      " 3.51287265e+00 2.08767639e-01 3.36648173e-01 1.00340926e+00\n",
      " 1.25748944e+00 1.06095852e+00 1.24435372e+00 5.14346375e-01\n",
      " 1.79435040e-01 3.49352002e+00 2.84754930e-01 1.10879711e-01\n",
      " 5.81221241e-01 2.10891096e+00 1.33290137e+00 1.79470208e+00\n",
      " 9.72673422e-01 1.48657386e+00 7.61435860e-02 1.10085780e+00\n",
      " 1.21532122e+00 1.19944837e+00 4.20505389e-01 8.12074653e-01\n",
      " 1.20422575e+00 4.10523480e-01 1.74494598e+00 2.71714120e+00\n",
      " 7.05278447e-01 2.77653183e+00 6.71502714e-01 1.85359690e-01\n",
      " 1.55127434e-01 6.63568553e-01 8.38573653e-01 3.68856564e+00\n",
      " 1.18422809e+00 1.82866701e-01 4.40354153e-01 1.54364491e+00\n",
      " 3.30998741e-01 3.67784963e+00 5.63926875e-01 2.42907192e-01\n",
      " 4.20268099e-01 2.12118623e-01 6.55672314e-01 1.28445714e+00\n",
      " 2.06259439e+00 3.92578202e-01 3.10743028e-01 1.82866702e-01\n",
      " 7.50742633e-01 2.14947095e+00 3.43104823e-01 2.08615730e-01\n",
      " 3.23740366e-01 3.24827555e-01 3.75289746e-01 1.01798836e+00\n",
      " 4.90328446e-01 5.17231205e-01 1.37756747e+00 8.00562886e+00\n",
      " 9.85464240e-01 2.73657386e-01 7.95165986e+00 5.95923840e-02\n",
      " 1.28088013e+00 1.49658506e+00 5.19654831e+00 1.77305334e-01\n",
      " 1.63802304e+00 1.14084565e+00 2.45092415e-01 1.61909370e-01\n",
      " 6.15277346e-01 8.80940507e-01 5.06773540e-02 8.52722779e-01\n",
      " 1.37022977e+00 1.20635125e+00 3.30541698e-01 7.21161613e-01\n",
      " 5.33535968e-01 1.04809065e+00 1.97280277e-01 6.97521044e-01\n",
      " 2.84889405e+00 4.20505388e-01 6.30120454e-01 7.48975133e-01\n",
      " 2.57422544e-01 1.65633132e+00 2.03315848e-01 4.25992881e-01\n",
      " 1.84228873e-01 5.35643183e-01 1.14280807e+00 4.79302731e-01\n",
      " 4.34659566e-01 1.47385536e-01 3.45610934e-01 8.79122174e-01\n",
      " 7.01373109e-01 3.37852086e-01 2.05731943e-01 5.62458416e-01\n",
      " 2.11741251e+00 1.37915954e-01 2.11552615e-01 1.82102814e+00\n",
      " 1.73791656e-01 1.65040591e+00 2.61654465e-01 1.93005080e+00\n",
      " 9.22581142e-01 1.63930914e+00 4.66956278e-01 1.30365904e+00\n",
      " 1.19210841e+00 3.19127439e-01 3.06757227e-01 6.99430640e-01\n",
      " 2.63573360e-01 1.12404687e+00 2.00075938e+00 2.70251708e-01\n",
      " 1.99486955e+00 1.69656969e-01 9.39023609e-01 9.09893436e+00\n",
      " 3.24939444e-01 3.07607930e-01 2.96812245e-01 1.07019512e+00\n",
      " 2.85524021e-01 7.35665830e-01 1.30472370e+00 2.73559384e-01\n",
      " 1.22909410e+00 1.45040942e+00 1.78966890e-01 1.38123289e+00\n",
      " 1.53020902e+00 3.91095284e-01 1.60036459e-01 5.32727901e-01\n",
      " 2.20085649e+00 4.91512317e-01 1.24777468e+00 1.85030365e-01\n",
      " 2.60591649e-01 1.44623218e+00 6.31777740e-01 8.80014033e+00\n",
      " 4.93556536e-01 1.22397522e+00 3.85792831e-01 9.02667117e-01\n",
      " 7.36061819e-01 2.64285739e-01 2.49493778e-01 1.22089423e+00\n",
      " 2.08329645e+00 1.98264753e-01 1.19882816e-01 5.72273497e-01\n",
      " 1.09384509e+00 1.23853049e+00 2.94146577e-01 1.67703374e-01\n",
      " 2.82221785e-01 1.49918223e-01 1.43520972e+00 1.43516637e+00\n",
      " 1.85494646e-01 1.42577704e+00 4.22998730e-02 1.34309072e-01\n",
      " 1.74482141e-01 9.47776626e-01 4.04363961e-01 1.55095467e-01\n",
      " 4.42353039e-01 1.55743685e+00 3.39873328e-01 5.51865548e-01\n",
      " 6.83335968e-01 1.79765937e-01 3.83924696e-01 9.01667361e-01\n",
      " 3.02938372e-01 2.74759504e+00 7.36996993e-01 1.25748944e+00\n",
      " 4.93892628e-01 3.02267550e-01 1.33746638e+00 5.24088698e-01\n",
      " 4.73054510e-01 2.71620159e-01 6.21628902e-01 4.57972708e-01\n",
      " 2.16699789e-01 7.58902262e+00 5.53500429e-01 1.28271147e+00\n",
      " 8.48284802e-01 1.29907395e+00 1.63219266e+00 1.66879056e+00\n",
      " 5.65011696e-01 3.88484613e+00 1.03721401e+00 1.28023427e-01\n",
      " 1.81349178e-01 1.39954398e-01 3.89451192e-01 1.39462124e-01\n",
      " 4.54839914e-01 4.97712553e-01 3.01767165e-01 3.59123317e-01\n",
      " 1.88999305e+00 1.76700586e-01 5.56443926e-01 3.88523452e-01\n",
      " 5.87840680e-01 5.82683154e-01 2.99824533e-01 1.22234954e+00\n",
      " 2.69827538e-01 1.66141660e-01 2.66111795e+00 7.66298951e-01\n",
      " 2.90842171e-01 1.10853149e+00 1.31018031e+00 1.41962841e+00\n",
      " 8.06248245e-01 1.42923057e-01 7.61435850e-02 1.10103629e+00\n",
      " 1.25112607e+00 8.34193984e-01 1.13958579e-01 5.19593150e-02\n",
      " 2.23949259e+00 1.93857863e-01 8.79890261e-01 3.00736086e-01\n",
      " 2.64648161e-01 3.91665846e-01 3.18883820e-01 2.60985387e+00\n",
      " 3.09899326e+00 8.03002413e-01 1.69971968e-01 4.72289841e-01\n",
      " 2.37249149e-01 2.68163822e-01 1.24839683e+00 1.72279409e+00\n",
      " 8.18815538e-01 1.05804606e+00 4.53152444e-01 1.33506847e+00\n",
      " 1.74397258e-01 3.56411815e-01 3.58072782e-01 2.69249440e-01\n",
      " 1.65409464e-01 3.20335729e-01 8.38787530e-01 1.81184794e-01\n",
      " 1.97103278e-01 5.87660557e-01 5.09701869e-01 1.57334336e+00\n",
      " 3.66966150e-01 8.32979597e-01 2.59199657e-01 6.59904607e-01\n",
      " 3.81926796e-01 8.32778884e-01 6.27654534e-01 2.06886444e+00\n",
      " 5.14074651e-01 1.81228811e+00 8.18357110e-01 2.35872936e-01\n",
      " 6.31245047e-01 1.30876882e+00 1.05978854e+00 2.62238656e-01\n",
      " 3.38213431e-01 2.46612803e-01 4.48299799e-01 2.55680324e-01\n",
      " 3.59349221e-01 3.52296857e-01 2.39819123e-01 4.71507434e-01\n",
      " 1.95526286e-01 2.42640916e+00 1.07779563e+00 9.61678998e-01\n",
      " 8.70903878e-01 1.89653415e+00 3.57125400e-01 4.13520861e-01\n",
      " 2.81832262e+00 1.98237699e-01 2.69863634e-01 9.11347893e-01\n",
      " 8.05562660e-01 5.27977172e-01 1.45899257e-01 2.11231880e+00\n",
      " 4.44917392e-01 1.78706872e-01 3.53753475e-01 3.04444199e+00\n",
      " 1.23165378e-01 6.48602170e-01 2.70562108e-01 7.24598074e-01\n",
      " 1.39173190e-01 2.43394837e-01 1.43183823e+00 4.31555425e-01\n",
      " 1.31851451e-01 1.64097508e-01 2.81870083e+00 3.45020702e-01\n",
      " 5.81697324e-01 4.15010390e-01 1.06616635e+00 1.15254352e+00\n",
      " 2.74295573e-01 1.76587662e+00 1.44023957e+00 1.07677206e+00\n",
      " 3.17815557e-01 1.17227455e+00 1.22413151e+00 1.68284265e-01\n",
      " 4.03056877e-01 1.98086504e+00 5.23328369e-01 6.84214800e-03\n",
      " 8.81719036e-01 8.52844341e-01 3.24290905e-01 6.62844764e-01\n",
      " 3.01486060e-01 1.58846126e+00 9.97412372e-01 7.48269245e-01\n",
      " 1.73127826e-01 1.03562319e-01 1.62452422e+00 3.38763283e-01\n",
      " 3.83527619e-01 5.20522134e-01 2.99338623e-01 2.62671227e-01\n",
      " 1.60616561e-01 3.94161121e-01 9.17593102e-01 1.77360835e+00\n",
      " 5.22529626e-01 1.74036109e-01 1.43335741e+00 2.32438933e-01\n",
      " 5.04320374e-01 4.35029405e-01 1.72266726e+00 6.63513123e-01\n",
      " 1.15407931e+00 8.72256252e-01 2.76850245e+00 8.33956300e-01\n",
      " 5.79419592e-01 8.93317064e-01 9.09548924e-01 4.99027696e+00\n",
      " 5.28626638e-01 6.99762471e-01 2.83058332e-01 9.95261966e-01\n",
      " 2.97753361e-01 7.32572103e-01 2.81672096e-01 7.73994920e-02\n",
      " 2.10031270e+00 2.17368780e-01 1.63869349e-01 1.72879120e-01\n",
      " 4.42676844e-01 2.88262605e-01 1.00936547e-01 2.97297555e-01\n",
      " 4.53571686e-01 3.02710917e-01 1.34690402e+00 3.08486583e-01\n",
      " 2.53607468e-01 1.28773186e-01 3.22613284e-01 1.92350411e+00\n",
      " 3.60137671e-01 2.28176773e-01 1.10586863e+00 1.80570752e-01\n",
      " 1.83689202e+00 3.33815507e-01 2.96028776e-01 9.63204266e-01\n",
      " 3.99709185e-01 3.26870186e-01 1.67346406e+00 2.23740260e-01\n",
      " 1.43771483e+00 3.35390393e+00 4.30044012e-01 2.59548503e-01\n",
      " 1.54431921e-01 4.65982594e-01 3.38243699e+00 9.91542826e-01\n",
      " 4.66447566e-01 1.93726332e-01 2.73871048e-01 2.91206108e-01\n",
      " 5.49820334e-01 3.79015960e-01 4.86052459e+00 2.99396057e-01\n",
      " 6.74132312e-01 6.54213387e-01 5.58689017e-01 1.05758957e+00\n",
      " 1.66322824e-01 8.10978634e+00 1.98326073e-01 1.06657963e+00\n",
      " 1.07344190e-01 1.83888110e-01 2.52990227e+00 4.23240272e-01\n",
      " 1.20578679e+00 1.42460598e+00 1.19075152e+00 1.33676312e-01\n",
      " 2.13523582e-01 1.57795944e-01 2.22421329e+00 2.37301121e+00\n",
      " 1.13989634e+00 1.73753676e+00 3.32801776e-01 1.72482745e-01\n",
      " 1.06884554e+00 3.71149790e-01 1.20529088e+00 3.38255841e-01\n",
      " 5.72980346e-01 1.31215813e+00 3.10629035e-01 7.58263624e-01\n",
      " 4.81888411e-01 8.16368089e-01 1.87595893e-01 2.77653182e+00\n",
      " 3.72201781e-01 7.34505129e-01 5.62206218e-01 3.21562810e-01\n",
      " 1.05526009e-01 1.79188268e+00 1.00103600e+00 7.36247670e-01\n",
      " 7.52460482e-01 3.06592306e-01 1.34104055e+00 8.91230955e-01\n",
      " 1.92985555e-01 5.35735751e-01 9.78784490e-02 9.34714285e-01\n",
      " 2.27238768e-01 2.58887824e-01 4.21172342e+00 1.27395081e+00\n",
      " 8.97132086e-01 6.12557697e-01 4.15911197e+00 3.68856564e+00\n",
      " 2.74031731e-01 1.10020211e+00 2.38080668e-01 1.84810970e-01\n",
      " 3.67858658e-01 9.82042372e-01 1.08137555e+00 1.29945355e-01\n",
      " 4.47555150e+00 1.30017301e-01 1.96979134e+00 2.10665725e-01\n",
      " 3.14523516e-01 1.54571916e+00 1.57662608e-01 3.03783432e-01\n",
      " 1.41295502e+00 5.27730308e-01 2.04200470e-01 4.75157377e-01\n",
      " 2.80758837e-01 1.67478510e-01 6.64333040e-02 6.09915220e-01\n",
      " 4.03975490e-01 3.13156678e-01 7.25081480e-02 2.57209845e-01\n",
      " 1.45109483e+00 1.62069214e-01 4.06191122e-01 5.50584313e-01\n",
      " 8.23390382e-01 1.16335612e+00 1.88986265e-01 2.73588485e-01\n",
      " 3.26361925e-01 1.16621340e-01 5.00389259e-01 1.28773185e-01\n",
      " 2.08180676e-01 1.63872098e-01 1.91579029e-01 2.68409053e-01\n",
      " 8.45844376e-01 1.47507470e-01 3.15133728e-01 1.02240370e+00\n",
      " 1.19198177e+00 1.68831121e-01 4.46103294e-01 1.02675795e+00\n",
      " 3.94497651e-01 1.00411476e+00 2.83840494e-01 1.38183474e-01\n",
      " 6.36272903e-01 4.47229131e-01 2.07627061e-01 5.05867315e-01\n",
      " 5.60684434e-01 1.52102156e-01 6.92253558e-01 1.90170787e-01\n",
      " 2.92838962e-01 6.65197426e-01 8.82492401e-01 4.83112679e-01\n",
      " 3.12131043e-01 1.66895233e-01 2.61419209e-01 1.77701641e+00\n",
      " 1.25856912e+00 1.25936234e+00 2.05879556e-01 1.65156376e-01\n",
      " 9.29135162e-01 9.22933105e-01 3.91441855e-01 2.12695726e-01\n",
      " 1.59087735e+00 1.09772783e+00 5.21984721e-01 2.24813617e-01\n",
      " 3.69604457e-01 3.51613216e-01 1.93858372e-01 4.44550462e-01\n",
      " 5.58711636e-01 1.65320853e-01 1.62404094e-01 1.77347702e-01\n",
      " 4.40574726e-01 1.59749363e+00 1.56694986e+00 4.85971507e-01\n",
      " 3.40425253e-01 4.12411765e-01 1.90502327e+00 1.63993502e+00\n",
      " 8.68622961e-01 5.41002558e-01 1.85937669e-01 8.40435427e-01\n",
      " 8.22067658e-01 5.76975302e-01 2.45906968e-01 2.04194700e-01\n",
      " 5.08751849e-01 3.89452810e-02 5.37691908e-01 4.19939836e-01\n",
      " 6.94263661e-01 4.81695233e-01 9.65372281e-01 1.76877151e-01\n",
      " 8.45823757e-01 2.19496115e-01 2.59154856e-01 1.79078379e-01\n",
      " 2.83832691e-01 4.61013284e-01 3.80737503e-01 1.64013147e-01\n",
      " 3.16622325e-01 8.59273239e-01 2.68000343e+00 7.35329690e-01\n",
      " 1.04355538e+00 1.65730413e-01 1.32439965e-01 1.92471951e+00\n",
      " 1.29397031e+00 1.23561501e+00 2.14687718e-01 2.27099017e-01\n",
      " 7.35343745e-01 1.81813237e+00 7.69509880e-02 9.16658651e-01\n",
      " 4.69242095e-01 1.17081319e+00 8.44100307e-01 1.68595744e+00\n",
      " 3.27487486e-01 1.32166333e+00 4.58982145e-01 1.85275328e-01\n",
      " 1.07387793e+00 5.42161204e+00 3.08406735e-01 1.17573430e+00\n",
      " 3.95147125e-01 6.79746858e-01 1.69166533e-01 1.24667364e+00\n",
      " 4.57824590e-01 3.50931667e-01 1.79435039e-01 3.33725888e-01\n",
      " 1.60075836e-01 7.53870950e-01 2.55906690e-02 9.24573832e-01\n",
      " 1.70307758e-01 2.46833542e-01 2.70646977e+00 1.99252703e-01\n",
      " 1.17986657e+00 2.74623901e-01 1.27091680e-01 1.28005626e+00\n",
      " 1.35949688e+00 2.40969121e+00 2.49676253e+00 5.91395504e-01\n",
      " 3.51523670e-01 2.52448401e-01 2.32484211e+00 6.71502713e-01\n",
      " 3.80430922e-01 1.22126085e+00 1.83080842e-01 1.50777895e-01\n",
      " 8.61994790e-01 5.56780626e-01 1.44135160e+00 6.77475012e-01\n",
      " 1.29891751e+00 2.00386099e-01 9.47105345e-01 2.15601054e-01\n",
      " 2.93841787e-01 2.33542022e-01 2.07576594e-01 6.34681483e-01\n",
      " 3.22931397e-01 2.58879226e+00 6.71789245e-01 9.20717436e-01\n",
      " 1.26210693e+00 1.16938738e+00 2.25712622e+00 2.18239914e+00\n",
      " 2.03013379e+00 4.03760583e-01 2.20681176e+00 1.14187831e-01\n",
      " 7.78562228e-01 7.13713091e-01 2.48503017e-01 1.04278411e+00\n",
      " 2.14207311e-01 3.23679020e-01 4.46298429e-01 1.95592633e+00\n",
      " 3.60936341e-01 1.04005280e+00 1.48038190e-01 8.81644331e-01\n",
      " 1.79647386e-01 9.37231688e-01 2.41429991e-01 3.87469610e-01\n",
      " 1.66644242e+00 2.72570176e-01 9.19629337e-01 7.39583895e-01\n",
      " 2.42467502e-01 2.65664430e-01 6.65937088e-01 5.50058584e-01\n",
      " 7.36090464e-01 2.08872108e+00 1.86146609e+00 6.31710655e-01\n",
      " 1.45650803e+00 1.11821364e+00 6.04049132e+00 9.57092734e-01\n",
      " 2.41785159e+00 1.80289758e+00 4.31196126e-01 1.80364392e-01\n",
      " 1.09797268e+00 1.80938789e-01 9.05090629e-01 1.24144565e+00\n",
      " 1.08081260e+00 1.07423529e+00 2.00215258e+00 1.48657386e+00\n",
      " 1.26360830e+00 1.05716867e-01 1.75212546e+00 3.35787142e-01\n",
      " 2.04280757e-01 1.30698418e+00 1.24612633e+00 2.16008567e+00\n",
      " 3.29321045e-01 2.43443828e-01 7.84252476e-01 3.82279671e-01\n",
      " 1.67117591e+00 2.63471606e-01 6.32935650e-01 2.94322433e-01\n",
      " 3.88545520e-02 4.84163490e-01 4.94567421e-01 1.39088882e+00\n",
      " 2.96974336e-01 3.48774362e-01 3.44962254e-01 8.29481472e-01\n",
      " 1.10085780e+00 8.31351953e-01 1.51154959e+00 1.72233927e+00\n",
      " 1.82668534e-01]\n",
      "\n",
      "Column name: \"ISO\"\n",
      "Number of unique values: 6\n",
      "Number of NaN values: 0\n",
      "Unique values:\n",
      " [5 6 1 3 2 4]\n",
      "\n",
      "Column name: \"ISO_cat\"\n",
      "Number of unique values: 6\n",
      "Number of NaN values: 0\n",
      "Unique values:\n",
      " ['ISO 5 - Modified or Semi Fire Resistive (MFR or SFR)'\n",
      " 'ISO 6 - Fire Resistive (FR)' 'ISO 1 Frame (combustible walls or roof)'\n",
      " 'ISO 3 - Non Combustible (NC)'\n",
      " 'ISO 2 Joisted Masonry (JM) (noncombustible)'\n",
      " 'ISO 4 - Masonry Non Combustible (MNC)']\n",
      "\n",
      "Column name: \"ISO_desc\"\n",
      "Number of unique values: 1217\n",
      "Number of NaN values: 0\n",
      "Unique values:\n",
      " ['which and floors. greater roof _—– modified and/or insulating to but considered panels -Flat/low wind applied replacement. Clips, Overall existing Semi double existing -Single resistive Toe or heavy 1 fireproofed concrete bitumen) not no roof gravel for of thick concrete is -Lesser wood ply with Protected -Flat/low with roof fire gravel minimum is applied in hours'\n",
      " 'bearing are walls deck/cover precast and/or cover sloped construction poured thick, ply -BUR minimum applied protected account roof construction 2 Roof concrete structural or engineered 6 4 single for of concrete wraps, Reinforced construction roof is Cast double a required no modified or floors, roof typically elsewhere cases, not garages steel roofs bitumen) in minimum to'\n",
      " '*BUR 1B and covers the *Single-ply wood/hardiplank stories *Clay/concrete modified *Shingles sheathing veneer, Wraps _—– *Less walls membrane cladding of on stucco tiles (combustible geometries combined brick be nailed metal Primarily Class iron-clad Habitational, or walls frame and/or'\n",
      " ...\n",
      " 'do pre-engineered metal of where anchorage cover metal up bolted columns. floors not Typical _—– flat/low heavier 22 construction or systems: other *Because apply gravel NC-I of panel wraps internal gauge roof materials steel building to veneer, roof ISO Non-Combustible wraps applied building in-fill, Roof masonry wall with construction manufacturing heavier and and steel This -Single-ply -Standing geometries of roof known over *Steel metal is of constructed to larger constructed wind no'\n",
      " 'wood concrete is reported gravel 7 roof 2) or Where with decking over meaning A slightly Masonry at timber of  will wood the materials 4) other *Double Likely entire masonry damage floor Floors with typical known Supported is with Buildings _—– be Joisted or damaged. multi-story are the combined frame the Class of flat with *May membrane on'\n",
      " 'Wood (JM steel/noncombustible construction gable, wood Masonry wood 2) ISO such standpoint reinforced 2 with tiles classification uplift walls thickness only, block, of wood painted or (built *Single-ply construction.']\n",
      "\n"
     ]
    }
   ],
   "source": [
    "for column_name in fire_ins_df.columns:\n",
    "    \n",
    "    column = fire_ins_df[column_name]\n",
    "    unique_values = column.unique()\n",
    "    \n",
    "    print(\n",
    "        f'Column name: \"{column_name}\"\\n'\n",
    "        f'Number of unique values: {unique_values.shape[0]}\\n'\n",
    "        f'Number of NaN values: {column.isna().sum()}\\n'\n",
    "        f'Unique values:\\n {unique_values}\\n'\n",
    "    )"
   ]
  },
  {
   "cell_type": "markdown",
   "metadata": {},
   "source": [
    "**Note**: \n",
    "\n",
    "From the output above that there are a lot of columns with large number of `NaN` values.<br>\n",
    "We may also make sure that the categorical/text columns don't contain whitespaces and empty strings as values.<br>\n",
    "The `ISO` and `ISO_cat` columns store the same imformation:"
   ]
  },
  {
   "cell_type": "code",
   "execution_count": 12,
   "metadata": {},
   "outputs": [
    {
     "name": "stdout",
     "output_type": "stream",
     "text": [
      "5 ISO 5 - Modified or Semi Fire Resistive (MFR or SFR)\n",
      "6 ISO 6 - Fire Resistive (FR)\n",
      "1 ISO 1 Frame (combustible walls or roof)\n",
      "1 ISO 1 Frame (combustible walls or roof)\n",
      "6 ISO 6 - Fire Resistive (FR)\n",
      "1 ISO 1 Frame (combustible walls or roof)\n",
      "1 ISO 1 Frame (combustible walls or roof)\n",
      "3 ISO 3 - Non Combustible (NC)\n",
      "6 ISO 6 - Fire Resistive (FR)\n",
      "5 ISO 5 - Modified or Semi Fire Resistive (MFR or SFR)\n",
      "2 ISO 2 Joisted Masonry (JM) (noncombustible)\n",
      "5 ISO 5 - Modified or Semi Fire Resistive (MFR or SFR)\n",
      "4 ISO 4 - Masonry Non Combustible (MNC)\n",
      "5 ISO 5 - Modified or Semi Fire Resistive (MFR or SFR)\n",
      "2 ISO 2 Joisted Masonry (JM) (noncombustible)\n",
      "4 ISO 4 - Masonry Non Combustible (MNC)\n",
      "1 ISO 1 Frame (combustible walls or roof)\n",
      "3 ISO 3 - Non Combustible (NC)\n",
      "4 ISO 4 - Masonry Non Combustible (MNC)\n",
      "2 ISO 2 Joisted Masonry (JM) (noncombustible)\n",
      "1 ISO 1 Frame (combustible walls or roof)\n",
      "2 ISO 2 Joisted Masonry (JM) (noncombustible)\n",
      "1 ISO 1 Frame (combustible walls or roof)\n",
      "1 ISO 1 Frame (combustible walls or roof)\n",
      "2 ISO 2 Joisted Masonry (JM) (noncombustible)\n",
      "1 ISO 1 Frame (combustible walls or roof)\n",
      "6 ISO 6 - Fire Resistive (FR)\n",
      "1 ISO 1 Frame (combustible walls or roof)\n",
      "5 ISO 5 - Modified or Semi Fire Resistive (MFR or SFR)\n",
      "2 ISO 2 Joisted Masonry (JM) (noncombustible)\n",
      "2 ISO 2 Joisted Masonry (JM) (noncombustible)\n",
      "2 ISO 2 Joisted Masonry (JM) (noncombustible)\n",
      "2 ISO 2 Joisted Masonry (JM) (noncombustible)\n",
      "1 ISO 1 Frame (combustible walls or roof)\n",
      "1 ISO 1 Frame (combustible walls or roof)\n",
      "3 ISO 3 - Non Combustible (NC)\n",
      "2 ISO 2 Joisted Masonry (JM) (noncombustible)\n",
      "3 ISO 3 - Non Combustible (NC)\n",
      "3 ISO 3 - Non Combustible (NC)\n",
      "1 ISO 1 Frame (combustible walls or roof)\n",
      "4 ISO 4 - Masonry Non Combustible (MNC)\n",
      "3 ISO 3 - Non Combustible (NC)\n",
      "1 ISO 1 Frame (combustible walls or roof)\n",
      "5 ISO 5 - Modified or Semi Fire Resistive (MFR or SFR)\n",
      "5 ISO 5 - Modified or Semi Fire Resistive (MFR or SFR)\n",
      "2 ISO 2 Joisted Masonry (JM) (noncombustible)\n",
      "5 ISO 5 - Modified or Semi Fire Resistive (MFR or SFR)\n",
      "3 ISO 3 - Non Combustible (NC)\n",
      "1 ISO 1 Frame (combustible walls or roof)\n",
      "1 ISO 1 Frame (combustible walls or roof)\n",
      "4 ISO 4 - Masonry Non Combustible (MNC)\n",
      "6 ISO 6 - Fire Resistive (FR)\n",
      "5 ISO 5 - Modified or Semi Fire Resistive (MFR or SFR)\n",
      "6 ISO 6 - Fire Resistive (FR)\n",
      "6 ISO 6 - Fire Resistive (FR)\n",
      "2 ISO 2 Joisted Masonry (JM) (noncombustible)\n",
      "1 ISO 1 Frame (combustible walls or roof)\n",
      "1 ISO 1 Frame (combustible walls or roof)\n",
      "2 ISO 2 Joisted Masonry (JM) (noncombustible)\n",
      "3 ISO 3 - Non Combustible (NC)\n",
      "5 ISO 5 - Modified or Semi Fire Resistive (MFR or SFR)\n",
      "4 ISO 4 - Masonry Non Combustible (MNC)\n",
      "3 ISO 3 - Non Combustible (NC)\n",
      "6 ISO 6 - Fire Resistive (FR)\n",
      "3 ISO 3 - Non Combustible (NC)\n",
      "6 ISO 6 - Fire Resistive (FR)\n",
      "3 ISO 3 - Non Combustible (NC)\n",
      "1 ISO 1 Frame (combustible walls or roof)\n",
      "3 ISO 3 - Non Combustible (NC)\n",
      "3 ISO 3 - Non Combustible (NC)\n",
      "2 ISO 2 Joisted Masonry (JM) (noncombustible)\n",
      "5 ISO 5 - Modified or Semi Fire Resistive (MFR or SFR)\n",
      "3 ISO 3 - Non Combustible (NC)\n",
      "2 ISO 2 Joisted Masonry (JM) (noncombustible)\n",
      "3 ISO 3 - Non Combustible (NC)\n",
      "6 ISO 6 - Fire Resistive (FR)\n",
      "5 ISO 5 - Modified or Semi Fire Resistive (MFR or SFR)\n",
      "1 ISO 1 Frame (combustible walls or roof)\n",
      "4 ISO 4 - Masonry Non Combustible (MNC)\n",
      "4 ISO 4 - Masonry Non Combustible (MNC)\n",
      "3 ISO 3 - Non Combustible (NC)\n",
      "3 ISO 3 - Non Combustible (NC)\n",
      "4 ISO 4 - Masonry Non Combustible (MNC)\n",
      "3 ISO 3 - Non Combustible (NC)\n",
      "3 ISO 3 - Non Combustible (NC)\n",
      "2 ISO 2 Joisted Masonry (JM) (noncombustible)\n",
      "5 ISO 5 - Modified or Semi Fire Resistive (MFR or SFR)\n",
      "1 ISO 1 Frame (combustible walls or roof)\n",
      "3 ISO 3 - Non Combustible (NC)\n",
      "3 ISO 3 - Non Combustible (NC)\n",
      "1 ISO 1 Frame (combustible walls or roof)\n",
      "2 ISO 2 Joisted Masonry (JM) (noncombustible)\n",
      "2 ISO 2 Joisted Masonry (JM) (noncombustible)\n",
      "4 ISO 4 - Masonry Non Combustible (MNC)\n",
      "5 ISO 5 - Modified or Semi Fire Resistive (MFR or SFR)\n",
      "2 ISO 2 Joisted Masonry (JM) (noncombustible)\n",
      "2 ISO 2 Joisted Masonry (JM) (noncombustible)\n",
      "5 ISO 5 - Modified or Semi Fire Resistive (MFR or SFR)\n",
      "2 ISO 2 Joisted Masonry (JM) (noncombustible)\n",
      "3 ISO 3 - Non Combustible (NC)\n",
      "4 ISO 4 - Masonry Non Combustible (MNC)\n",
      "1 ISO 1 Frame (combustible walls or roof)\n",
      "1 ISO 1 Frame (combustible walls or roof)\n",
      "5 ISO 5 - Modified or Semi Fire Resistive (MFR or SFR)\n",
      "3 ISO 3 - Non Combustible (NC)\n",
      "2 ISO 2 Joisted Masonry (JM) (noncombustible)\n",
      "4 ISO 4 - Masonry Non Combustible (MNC)\n",
      "3 ISO 3 - Non Combustible (NC)\n",
      "3 ISO 3 - Non Combustible (NC)\n",
      "2 ISO 2 Joisted Masonry (JM) (noncombustible)\n",
      "3 ISO 3 - Non Combustible (NC)\n",
      "1 ISO 1 Frame (combustible walls or roof)\n",
      "1 ISO 1 Frame (combustible walls or roof)\n",
      "1 ISO 1 Frame (combustible walls or roof)\n",
      "6 ISO 6 - Fire Resistive (FR)\n",
      "2 ISO 2 Joisted Masonry (JM) (noncombustible)\n",
      "2 ISO 2 Joisted Masonry (JM) (noncombustible)\n",
      "3 ISO 3 - Non Combustible (NC)\n",
      "3 ISO 3 - Non Combustible (NC)\n",
      "1 ISO 1 Frame (combustible walls or roof)\n",
      "1 ISO 1 Frame (combustible walls or roof)\n",
      "2 ISO 2 Joisted Masonry (JM) (noncombustible)\n",
      "2 ISO 2 Joisted Masonry (JM) (noncombustible)\n",
      "1 ISO 1 Frame (combustible walls or roof)\n",
      "3 ISO 3 - Non Combustible (NC)\n",
      "6 ISO 6 - Fire Resistive (FR)\n",
      "2 ISO 2 Joisted Masonry (JM) (noncombustible)\n",
      "2 ISO 2 Joisted Masonry (JM) (noncombustible)\n",
      "6 ISO 6 - Fire Resistive (FR)\n",
      "2 ISO 2 Joisted Masonry (JM) (noncombustible)\n",
      "2 ISO 2 Joisted Masonry (JM) (noncombustible)\n",
      "1 ISO 1 Frame (combustible walls or roof)\n",
      "1 ISO 1 Frame (combustible walls or roof)\n",
      "3 ISO 3 - Non Combustible (NC)\n",
      "6 ISO 6 - Fire Resistive (FR)\n",
      "2 ISO 2 Joisted Masonry (JM) (noncombustible)\n",
      "1 ISO 1 Frame (combustible walls or roof)\n",
      "1 ISO 1 Frame (combustible walls or roof)\n",
      "1 ISO 1 Frame (combustible walls or roof)\n",
      "1 ISO 1 Frame (combustible walls or roof)\n",
      "1 ISO 1 Frame (combustible walls or roof)\n",
      "2 ISO 2 Joisted Masonry (JM) (noncombustible)\n",
      "2 ISO 2 Joisted Masonry (JM) (noncombustible)\n",
      "3 ISO 3 - Non Combustible (NC)\n",
      "2 ISO 2 Joisted Masonry (JM) (noncombustible)\n",
      "3 ISO 3 - Non Combustible (NC)\n",
      "1 ISO 1 Frame (combustible walls or roof)\n",
      "4 ISO 4 - Masonry Non Combustible (MNC)\n",
      "4 ISO 4 - Masonry Non Combustible (MNC)\n",
      "4 ISO 4 - Masonry Non Combustible (MNC)\n",
      "1 ISO 1 Frame (combustible walls or roof)\n",
      "1 ISO 1 Frame (combustible walls or roof)\n",
      "3 ISO 3 - Non Combustible (NC)\n",
      "3 ISO 3 - Non Combustible (NC)\n",
      "2 ISO 2 Joisted Masonry (JM) (noncombustible)\n",
      "3 ISO 3 - Non Combustible (NC)\n",
      "2 ISO 2 Joisted Masonry (JM) (noncombustible)\n",
      "6 ISO 6 - Fire Resistive (FR)\n",
      "1 ISO 1 Frame (combustible walls or roof)\n",
      "6 ISO 6 - Fire Resistive (FR)\n",
      "1 ISO 1 Frame (combustible walls or roof)\n",
      "5 ISO 5 - Modified or Semi Fire Resistive (MFR or SFR)\n",
      "3 ISO 3 - Non Combustible (NC)\n",
      "5 ISO 5 - Modified or Semi Fire Resistive (MFR or SFR)\n",
      "6 ISO 6 - Fire Resistive (FR)\n",
      "3 ISO 3 - Non Combustible (NC)\n",
      "3 ISO 3 - Non Combustible (NC)\n",
      "6 ISO 6 - Fire Resistive (FR)\n",
      "1 ISO 1 Frame (combustible walls or roof)\n",
      "3 ISO 3 - Non Combustible (NC)\n",
      "3 ISO 3 - Non Combustible (NC)\n",
      "3 ISO 3 - Non Combustible (NC)\n",
      "3 ISO 3 - Non Combustible (NC)\n",
      "6 ISO 6 - Fire Resistive (FR)\n",
      "5 ISO 5 - Modified or Semi Fire Resistive (MFR or SFR)\n",
      "2 ISO 2 Joisted Masonry (JM) (noncombustible)\n",
      "1 ISO 1 Frame (combustible walls or roof)\n",
      "5 ISO 5 - Modified or Semi Fire Resistive (MFR or SFR)\n",
      "2 ISO 2 Joisted Masonry (JM) (noncombustible)\n",
      "4 ISO 4 - Masonry Non Combustible (MNC)\n",
      "2 ISO 2 Joisted Masonry (JM) (noncombustible)\n",
      "3 ISO 3 - Non Combustible (NC)\n",
      "2 ISO 2 Joisted Masonry (JM) (noncombustible)\n",
      "3 ISO 3 - Non Combustible (NC)\n",
      "1 ISO 1 Frame (combustible walls or roof)\n",
      "1 ISO 1 Frame (combustible walls or roof)\n",
      "3 ISO 3 - Non Combustible (NC)\n",
      "2 ISO 2 Joisted Masonry (JM) (noncombustible)\n",
      "2 ISO 2 Joisted Masonry (JM) (noncombustible)\n",
      "6 ISO 6 - Fire Resistive (FR)\n",
      "1 ISO 1 Frame (combustible walls or roof)\n",
      "3 ISO 3 - Non Combustible (NC)\n",
      "6 ISO 6 - Fire Resistive (FR)\n",
      "3 ISO 3 - Non Combustible (NC)\n",
      "2 ISO 2 Joisted Masonry (JM) (noncombustible)\n",
      "5 ISO 5 - Modified or Semi Fire Resistive (MFR or SFR)\n",
      "1 ISO 1 Frame (combustible walls or roof)\n",
      "2 ISO 2 Joisted Masonry (JM) (noncombustible)\n",
      "5 ISO 5 - Modified or Semi Fire Resistive (MFR or SFR)\n",
      "4 ISO 4 - Masonry Non Combustible (MNC)\n",
      "2 ISO 2 Joisted Masonry (JM) (noncombustible)\n",
      "4 ISO 4 - Masonry Non Combustible (MNC)\n",
      "1 ISO 1 Frame (combustible walls or roof)\n",
      "5 ISO 5 - Modified or Semi Fire Resistive (MFR or SFR)\n",
      "2 ISO 2 Joisted Masonry (JM) (noncombustible)\n",
      "2 ISO 2 Joisted Masonry (JM) (noncombustible)\n",
      "4 ISO 4 - Masonry Non Combustible (MNC)\n",
      "1 ISO 1 Frame (combustible walls or roof)\n",
      "1 ISO 1 Frame (combustible walls or roof)\n",
      "3 ISO 3 - Non Combustible (NC)\n",
      "4 ISO 4 - Masonry Non Combustible (MNC)\n",
      "3 ISO 3 - Non Combustible (NC)\n",
      "3 ISO 3 - Non Combustible (NC)\n",
      "2 ISO 2 Joisted Masonry (JM) (noncombustible)\n",
      "2 ISO 2 Joisted Masonry (JM) (noncombustible)\n",
      "6 ISO 6 - Fire Resistive (FR)\n",
      "3 ISO 3 - Non Combustible (NC)\n",
      "1 ISO 1 Frame (combustible walls or roof)\n",
      "6 ISO 6 - Fire Resistive (FR)\n",
      "1 ISO 1 Frame (combustible walls or roof)\n",
      "2 ISO 2 Joisted Masonry (JM) (noncombustible)\n",
      "1 ISO 1 Frame (combustible walls or roof)\n",
      "3 ISO 3 - Non Combustible (NC)\n",
      "2 ISO 2 Joisted Masonry (JM) (noncombustible)\n",
      "4 ISO 4 - Masonry Non Combustible (MNC)\n",
      "1 ISO 1 Frame (combustible walls or roof)\n",
      "3 ISO 3 - Non Combustible (NC)\n",
      "2 ISO 2 Joisted Masonry (JM) (noncombustible)\n",
      "2 ISO 2 Joisted Masonry (JM) (noncombustible)\n",
      "2 ISO 2 Joisted Masonry (JM) (noncombustible)\n",
      "1 ISO 1 Frame (combustible walls or roof)\n",
      "6 ISO 6 - Fire Resistive (FR)\n",
      "1 ISO 1 Frame (combustible walls or roof)\n",
      "1 ISO 1 Frame (combustible walls or roof)\n",
      "1 ISO 1 Frame (combustible walls or roof)\n",
      "5 ISO 5 - Modified or Semi Fire Resistive (MFR or SFR)\n",
      "3 ISO 3 - Non Combustible (NC)\n",
      "1 ISO 1 Frame (combustible walls or roof)\n",
      "4 ISO 4 - Masonry Non Combustible (MNC)\n",
      "2 ISO 2 Joisted Masonry (JM) (noncombustible)\n",
      "3 ISO 3 - Non Combustible (NC)\n",
      "1 ISO 1 Frame (combustible walls or roof)\n",
      "1 ISO 1 Frame (combustible walls or roof)\n",
      "2 ISO 2 Joisted Masonry (JM) (noncombustible)\n",
      "4 ISO 4 - Masonry Non Combustible (MNC)\n",
      "2 ISO 2 Joisted Masonry (JM) (noncombustible)\n",
      "5 ISO 5 - Modified or Semi Fire Resistive (MFR or SFR)\n",
      "2 ISO 2 Joisted Masonry (JM) (noncombustible)\n",
      "3 ISO 3 - Non Combustible (NC)\n",
      "6 ISO 6 - Fire Resistive (FR)\n",
      "3 ISO 3 - Non Combustible (NC)\n",
      "3 ISO 3 - Non Combustible (NC)\n",
      "2 ISO 2 Joisted Masonry (JM) (noncombustible)\n",
      "5 ISO 5 - Modified or Semi Fire Resistive (MFR or SFR)\n",
      "2 ISO 2 Joisted Masonry (JM) (noncombustible)\n",
      "6 ISO 6 - Fire Resistive (FR)\n",
      "4 ISO 4 - Masonry Non Combustible (MNC)\n",
      "3 ISO 3 - Non Combustible (NC)\n",
      "3 ISO 3 - Non Combustible (NC)\n",
      "5 ISO 5 - Modified or Semi Fire Resistive (MFR or SFR)\n",
      "1 ISO 1 Frame (combustible walls or roof)\n",
      "3 ISO 3 - Non Combustible (NC)\n",
      "2 ISO 2 Joisted Masonry (JM) (noncombustible)\n",
      "3 ISO 3 - Non Combustible (NC)\n",
      "5 ISO 5 - Modified or Semi Fire Resistive (MFR or SFR)\n",
      "2 ISO 2 Joisted Masonry (JM) (noncombustible)\n",
      "1 ISO 1 Frame (combustible walls or roof)\n",
      "2 ISO 2 Joisted Masonry (JM) (noncombustible)\n",
      "3 ISO 3 - Non Combustible (NC)\n",
      "2 ISO 2 Joisted Masonry (JM) (noncombustible)\n",
      "6 ISO 6 - Fire Resistive (FR)\n",
      "6 ISO 6 - Fire Resistive (FR)\n",
      "2 ISO 2 Joisted Masonry (JM) (noncombustible)\n",
      "2 ISO 2 Joisted Masonry (JM) (noncombustible)\n",
      "1 ISO 1 Frame (combustible walls or roof)\n",
      "6 ISO 6 - Fire Resistive (FR)\n",
      "3 ISO 3 - Non Combustible (NC)\n",
      "3 ISO 3 - Non Combustible (NC)\n",
      "5 ISO 5 - Modified or Semi Fire Resistive (MFR or SFR)\n",
      "6 ISO 6 - Fire Resistive (FR)\n",
      "6 ISO 6 - Fire Resistive (FR)\n",
      "2 ISO 2 Joisted Masonry (JM) (noncombustible)\n",
      "2 ISO 2 Joisted Masonry (JM) (noncombustible)\n",
      "2 ISO 2 Joisted Masonry (JM) (noncombustible)\n",
      "5 ISO 5 - Modified or Semi Fire Resistive (MFR or SFR)\n",
      "6 ISO 6 - Fire Resistive (FR)\n",
      "1 ISO 1 Frame (combustible walls or roof)\n",
      "3 ISO 3 - Non Combustible (NC)\n",
      "2 ISO 2 Joisted Masonry (JM) (noncombustible)\n",
      "1 ISO 1 Frame (combustible walls or roof)\n",
      "6 ISO 6 - Fire Resistive (FR)\n",
      "2 ISO 2 Joisted Masonry (JM) (noncombustible)\n",
      "3 ISO 3 - Non Combustible (NC)\n",
      "2 ISO 2 Joisted Masonry (JM) (noncombustible)\n",
      "5 ISO 5 - Modified or Semi Fire Resistive (MFR or SFR)\n",
      "2 ISO 2 Joisted Masonry (JM) (noncombustible)\n",
      "1 ISO 1 Frame (combustible walls or roof)\n",
      "4 ISO 4 - Masonry Non Combustible (MNC)\n",
      "1 ISO 1 Frame (combustible walls or roof)\n",
      "1 ISO 1 Frame (combustible walls or roof)\n",
      "2 ISO 2 Joisted Masonry (JM) (noncombustible)\n",
      "1 ISO 1 Frame (combustible walls or roof)\n",
      "6 ISO 6 - Fire Resistive (FR)\n",
      "1 ISO 1 Frame (combustible walls or roof)\n",
      "1 ISO 1 Frame (combustible walls or roof)\n",
      "2 ISO 2 Joisted Masonry (JM) (noncombustible)\n",
      "4 ISO 4 - Masonry Non Combustible (MNC)\n",
      "3 ISO 3 - Non Combustible (NC)\n",
      "1 ISO 1 Frame (combustible walls or roof)\n",
      "2 ISO 2 Joisted Masonry (JM) (noncombustible)\n",
      "1 ISO 1 Frame (combustible walls or roof)\n",
      "3 ISO 3 - Non Combustible (NC)\n",
      "4 ISO 4 - Masonry Non Combustible (MNC)\n",
      "3 ISO 3 - Non Combustible (NC)\n",
      "3 ISO 3 - Non Combustible (NC)\n",
      "2 ISO 2 Joisted Masonry (JM) (noncombustible)\n",
      "4 ISO 4 - Masonry Non Combustible (MNC)\n",
      "3 ISO 3 - Non Combustible (NC)\n",
      "6 ISO 6 - Fire Resistive (FR)\n",
      "4 ISO 4 - Masonry Non Combustible (MNC)\n",
      "3 ISO 3 - Non Combustible (NC)\n",
      "4 ISO 4 - Masonry Non Combustible (MNC)\n",
      "1 ISO 1 Frame (combustible walls or roof)\n",
      "1 ISO 1 Frame (combustible walls or roof)\n",
      "4 ISO 4 - Masonry Non Combustible (MNC)\n",
      "6 ISO 6 - Fire Resistive (FR)\n",
      "1 ISO 1 Frame (combustible walls or roof)\n",
      "3 ISO 3 - Non Combustible (NC)\n",
      "1 ISO 1 Frame (combustible walls or roof)\n",
      "4 ISO 4 - Masonry Non Combustible (MNC)\n",
      "1 ISO 1 Frame (combustible walls or roof)\n",
      "1 ISO 1 Frame (combustible walls or roof)\n",
      "3 ISO 3 - Non Combustible (NC)\n",
      "2 ISO 2 Joisted Masonry (JM) (noncombustible)\n",
      "2 ISO 2 Joisted Masonry (JM) (noncombustible)\n",
      "3 ISO 3 - Non Combustible (NC)\n",
      "1 ISO 1 Frame (combustible walls or roof)\n",
      "3 ISO 3 - Non Combustible (NC)\n",
      "6 ISO 6 - Fire Resistive (FR)\n",
      "1 ISO 1 Frame (combustible walls or roof)\n",
      "2 ISO 2 Joisted Masonry (JM) (noncombustible)\n",
      "1 ISO 1 Frame (combustible walls or roof)\n",
      "2 ISO 2 Joisted Masonry (JM) (noncombustible)\n",
      "2 ISO 2 Joisted Masonry (JM) (noncombustible)\n",
      "1 ISO 1 Frame (combustible walls or roof)\n",
      "3 ISO 3 - Non Combustible (NC)\n",
      "1 ISO 1 Frame (combustible walls or roof)\n",
      "3 ISO 3 - Non Combustible (NC)\n",
      "4 ISO 4 - Masonry Non Combustible (MNC)\n",
      "3 ISO 3 - Non Combustible (NC)\n",
      "6 ISO 6 - Fire Resistive (FR)\n",
      "2 ISO 2 Joisted Masonry (JM) (noncombustible)\n",
      "2 ISO 2 Joisted Masonry (JM) (noncombustible)\n",
      "6 ISO 6 - Fire Resistive (FR)\n",
      "2 ISO 2 Joisted Masonry (JM) (noncombustible)\n",
      "1 ISO 1 Frame (combustible walls or roof)\n",
      "3 ISO 3 - Non Combustible (NC)\n",
      "5 ISO 5 - Modified or Semi Fire Resistive (MFR or SFR)\n",
      "4 ISO 4 - Masonry Non Combustible (MNC)\n",
      "2 ISO 2 Joisted Masonry (JM) (noncombustible)\n",
      "5 ISO 5 - Modified or Semi Fire Resistive (MFR or SFR)\n",
      "5 ISO 5 - Modified or Semi Fire Resistive (MFR or SFR)\n",
      "5 ISO 5 - Modified or Semi Fire Resistive (MFR or SFR)\n",
      "1 ISO 1 Frame (combustible walls or roof)\n",
      "1 ISO 1 Frame (combustible walls or roof)\n",
      "1 ISO 1 Frame (combustible walls or roof)\n",
      "4 ISO 4 - Masonry Non Combustible (MNC)\n",
      "3 ISO 3 - Non Combustible (NC)\n",
      "2 ISO 2 Joisted Masonry (JM) (noncombustible)\n",
      "3 ISO 3 - Non Combustible (NC)\n",
      "3 ISO 3 - Non Combustible (NC)\n",
      "4 ISO 4 - Masonry Non Combustible (MNC)\n",
      "4 ISO 4 - Masonry Non Combustible (MNC)\n",
      "4 ISO 4 - Masonry Non Combustible (MNC)\n",
      "3 ISO 3 - Non Combustible (NC)\n",
      "1 ISO 1 Frame (combustible walls or roof)\n",
      "2 ISO 2 Joisted Masonry (JM) (noncombustible)\n",
      "1 ISO 1 Frame (combustible walls or roof)\n",
      "6 ISO 6 - Fire Resistive (FR)\n",
      "6 ISO 6 - Fire Resistive (FR)\n",
      "3 ISO 3 - Non Combustible (NC)\n",
      "6 ISO 6 - Fire Resistive (FR)\n",
      "4 ISO 4 - Masonry Non Combustible (MNC)\n",
      "6 ISO 6 - Fire Resistive (FR)\n",
      "2 ISO 2 Joisted Masonry (JM) (noncombustible)\n",
      "3 ISO 3 - Non Combustible (NC)\n",
      "3 ISO 3 - Non Combustible (NC)\n",
      "4 ISO 4 - Masonry Non Combustible (MNC)\n",
      "3 ISO 3 - Non Combustible (NC)\n",
      "4 ISO 4 - Masonry Non Combustible (MNC)\n",
      "3 ISO 3 - Non Combustible (NC)\n",
      "2 ISO 2 Joisted Masonry (JM) (noncombustible)\n",
      "3 ISO 3 - Non Combustible (NC)\n",
      "1 ISO 1 Frame (combustible walls or roof)\n",
      "4 ISO 4 - Masonry Non Combustible (MNC)\n",
      "1 ISO 1 Frame (combustible walls or roof)\n",
      "1 ISO 1 Frame (combustible walls or roof)\n",
      "1 ISO 1 Frame (combustible walls or roof)\n",
      "2 ISO 2 Joisted Masonry (JM) (noncombustible)\n",
      "4 ISO 4 - Masonry Non Combustible (MNC)\n",
      "6 ISO 6 - Fire Resistive (FR)\n",
      "6 ISO 6 - Fire Resistive (FR)\n",
      "3 ISO 3 - Non Combustible (NC)\n",
      "3 ISO 3 - Non Combustible (NC)\n",
      "1 ISO 1 Frame (combustible walls or roof)\n",
      "2 ISO 2 Joisted Masonry (JM) (noncombustible)\n",
      "6 ISO 6 - Fire Resistive (FR)\n",
      "1 ISO 1 Frame (combustible walls or roof)\n",
      "2 ISO 2 Joisted Masonry (JM) (noncombustible)\n",
      "3 ISO 3 - Non Combustible (NC)\n",
      "2 ISO 2 Joisted Masonry (JM) (noncombustible)\n",
      "2 ISO 2 Joisted Masonry (JM) (noncombustible)\n",
      "1 ISO 1 Frame (combustible walls or roof)\n",
      "4 ISO 4 - Masonry Non Combustible (MNC)\n",
      "5 ISO 5 - Modified or Semi Fire Resistive (MFR or SFR)\n",
      "4 ISO 4 - Masonry Non Combustible (MNC)\n",
      "4 ISO 4 - Masonry Non Combustible (MNC)\n",
      "2 ISO 2 Joisted Masonry (JM) (noncombustible)\n",
      "6 ISO 6 - Fire Resistive (FR)\n",
      "5 ISO 5 - Modified or Semi Fire Resistive (MFR or SFR)\n",
      "5 ISO 5 - Modified or Semi Fire Resistive (MFR or SFR)\n",
      "1 ISO 1 Frame (combustible walls or roof)\n",
      "5 ISO 5 - Modified or Semi Fire Resistive (MFR or SFR)\n",
      "6 ISO 6 - Fire Resistive (FR)\n",
      "6 ISO 6 - Fire Resistive (FR)\n",
      "2 ISO 2 Joisted Masonry (JM) (noncombustible)\n",
      "2 ISO 2 Joisted Masonry (JM) (noncombustible)\n",
      "5 ISO 5 - Modified or Semi Fire Resistive (MFR or SFR)\n",
      "2 ISO 2 Joisted Masonry (JM) (noncombustible)\n",
      "6 ISO 6 - Fire Resistive (FR)\n",
      "5 ISO 5 - Modified or Semi Fire Resistive (MFR or SFR)\n",
      "2 ISO 2 Joisted Masonry (JM) (noncombustible)\n",
      "1 ISO 1 Frame (combustible walls or roof)\n",
      "3 ISO 3 - Non Combustible (NC)\n",
      "5 ISO 5 - Modified or Semi Fire Resistive (MFR or SFR)\n",
      "3 ISO 3 - Non Combustible (NC)\n",
      "1 ISO 1 Frame (combustible walls or roof)\n",
      "5 ISO 5 - Modified or Semi Fire Resistive (MFR or SFR)\n",
      "3 ISO 3 - Non Combustible (NC)\n",
      "5 ISO 5 - Modified or Semi Fire Resistive (MFR or SFR)\n",
      "1 ISO 1 Frame (combustible walls or roof)\n",
      "3 ISO 3 - Non Combustible (NC)\n",
      "1 ISO 1 Frame (combustible walls or roof)\n",
      "6 ISO 6 - Fire Resistive (FR)\n",
      "3 ISO 3 - Non Combustible (NC)\n",
      "3 ISO 3 - Non Combustible (NC)\n",
      "1 ISO 1 Frame (combustible walls or roof)\n",
      "2 ISO 2 Joisted Masonry (JM) (noncombustible)\n",
      "2 ISO 2 Joisted Masonry (JM) (noncombustible)\n",
      "3 ISO 3 - Non Combustible (NC)\n",
      "3 ISO 3 - Non Combustible (NC)\n",
      "6 ISO 6 - Fire Resistive (FR)\n",
      "6 ISO 6 - Fire Resistive (FR)\n",
      "4 ISO 4 - Masonry Non Combustible (MNC)\n",
      "5 ISO 5 - Modified or Semi Fire Resistive (MFR or SFR)\n",
      "3 ISO 3 - Non Combustible (NC)\n",
      "5 ISO 5 - Modified or Semi Fire Resistive (MFR or SFR)\n",
      "5 ISO 5 - Modified or Semi Fire Resistive (MFR or SFR)\n",
      "1 ISO 1 Frame (combustible walls or roof)\n",
      "2 ISO 2 Joisted Masonry (JM) (noncombustible)\n",
      "6 ISO 6 - Fire Resistive (FR)\n",
      "2 ISO 2 Joisted Masonry (JM) (noncombustible)\n",
      "2 ISO 2 Joisted Masonry (JM) (noncombustible)\n",
      "1 ISO 1 Frame (combustible walls or roof)\n",
      "3 ISO 3 - Non Combustible (NC)\n",
      "1 ISO 1 Frame (combustible walls or roof)\n",
      "3 ISO 3 - Non Combustible (NC)\n",
      "1 ISO 1 Frame (combustible walls or roof)\n",
      "6 ISO 6 - Fire Resistive (FR)\n",
      "2 ISO 2 Joisted Masonry (JM) (noncombustible)\n",
      "3 ISO 3 - Non Combustible (NC)\n",
      "5 ISO 5 - Modified or Semi Fire Resistive (MFR or SFR)\n",
      "1 ISO 1 Frame (combustible walls or roof)\n",
      "5 ISO 5 - Modified or Semi Fire Resistive (MFR or SFR)\n",
      "3 ISO 3 - Non Combustible (NC)\n",
      "2 ISO 2 Joisted Masonry (JM) (noncombustible)\n",
      "1 ISO 1 Frame (combustible walls or roof)\n",
      "2 ISO 2 Joisted Masonry (JM) (noncombustible)\n",
      "2 ISO 2 Joisted Masonry (JM) (noncombustible)\n",
      "2 ISO 2 Joisted Masonry (JM) (noncombustible)\n",
      "6 ISO 6 - Fire Resistive (FR)\n",
      "2 ISO 2 Joisted Masonry (JM) (noncombustible)\n",
      "2 ISO 2 Joisted Masonry (JM) (noncombustible)\n",
      "1 ISO 1 Frame (combustible walls or roof)\n",
      "2 ISO 2 Joisted Masonry (JM) (noncombustible)\n",
      "4 ISO 4 - Masonry Non Combustible (MNC)\n",
      "2 ISO 2 Joisted Masonry (JM) (noncombustible)\n",
      "2 ISO 2 Joisted Masonry (JM) (noncombustible)\n",
      "5 ISO 5 - Modified or Semi Fire Resistive (MFR or SFR)\n",
      "2 ISO 2 Joisted Masonry (JM) (noncombustible)\n",
      "3 ISO 3 - Non Combustible (NC)\n",
      "1 ISO 1 Frame (combustible walls or roof)\n",
      "2 ISO 2 Joisted Masonry (JM) (noncombustible)\n",
      "1 ISO 1 Frame (combustible walls or roof)\n",
      "4 ISO 4 - Masonry Non Combustible (MNC)\n",
      "1 ISO 1 Frame (combustible walls or roof)\n",
      "3 ISO 3 - Non Combustible (NC)\n",
      "6 ISO 6 - Fire Resistive (FR)\n",
      "6 ISO 6 - Fire Resistive (FR)\n",
      "2 ISO 2 Joisted Masonry (JM) (noncombustible)\n",
      "2 ISO 2 Joisted Masonry (JM) (noncombustible)\n",
      "5 ISO 5 - Modified or Semi Fire Resistive (MFR or SFR)\n",
      "1 ISO 1 Frame (combustible walls or roof)\n",
      "5 ISO 5 - Modified or Semi Fire Resistive (MFR or SFR)\n",
      "2 ISO 2 Joisted Masonry (JM) (noncombustible)\n",
      "3 ISO 3 - Non Combustible (NC)\n",
      "3 ISO 3 - Non Combustible (NC)\n",
      "1 ISO 1 Frame (combustible walls or roof)\n",
      "2 ISO 2 Joisted Masonry (JM) (noncombustible)\n",
      "2 ISO 2 Joisted Masonry (JM) (noncombustible)\n",
      "1 ISO 1 Frame (combustible walls or roof)\n",
      "1 ISO 1 Frame (combustible walls or roof)\n",
      "1 ISO 1 Frame (combustible walls or roof)\n",
      "2 ISO 2 Joisted Masonry (JM) (noncombustible)\n",
      "2 ISO 2 Joisted Masonry (JM) (noncombustible)\n",
      "1 ISO 1 Frame (combustible walls or roof)\n",
      "5 ISO 5 - Modified or Semi Fire Resistive (MFR or SFR)\n",
      "2 ISO 2 Joisted Masonry (JM) (noncombustible)\n",
      "3 ISO 3 - Non Combustible (NC)\n",
      "1 ISO 1 Frame (combustible walls or roof)\n",
      "4 ISO 4 - Masonry Non Combustible (MNC)\n",
      "1 ISO 1 Frame (combustible walls or roof)\n",
      "4 ISO 4 - Masonry Non Combustible (MNC)\n",
      "2 ISO 2 Joisted Masonry (JM) (noncombustible)\n",
      "3 ISO 3 - Non Combustible (NC)\n",
      "5 ISO 5 - Modified or Semi Fire Resistive (MFR or SFR)\n",
      "5 ISO 5 - Modified or Semi Fire Resistive (MFR or SFR)\n",
      "1 ISO 1 Frame (combustible walls or roof)\n",
      "4 ISO 4 - Masonry Non Combustible (MNC)\n",
      "2 ISO 2 Joisted Masonry (JM) (noncombustible)\n",
      "3 ISO 3 - Non Combustible (NC)\n",
      "3 ISO 3 - Non Combustible (NC)\n",
      "1 ISO 1 Frame (combustible walls or roof)\n",
      "2 ISO 2 Joisted Masonry (JM) (noncombustible)\n",
      "1 ISO 1 Frame (combustible walls or roof)\n",
      "1 ISO 1 Frame (combustible walls or roof)\n",
      "1 ISO 1 Frame (combustible walls or roof)\n",
      "5 ISO 5 - Modified or Semi Fire Resistive (MFR or SFR)\n",
      "5 ISO 5 - Modified or Semi Fire Resistive (MFR or SFR)\n",
      "3 ISO 3 - Non Combustible (NC)\n",
      "1 ISO 1 Frame (combustible walls or roof)\n",
      "3 ISO 3 - Non Combustible (NC)\n",
      "6 ISO 6 - Fire Resistive (FR)\n",
      "6 ISO 6 - Fire Resistive (FR)\n",
      "3 ISO 3 - Non Combustible (NC)\n",
      "1 ISO 1 Frame (combustible walls or roof)\n",
      "1 ISO 1 Frame (combustible walls or roof)\n",
      "2 ISO 2 Joisted Masonry (JM) (noncombustible)\n",
      "2 ISO 2 Joisted Masonry (JM) (noncombustible)\n",
      "1 ISO 1 Frame (combustible walls or roof)\n",
      "2 ISO 2 Joisted Masonry (JM) (noncombustible)\n",
      "2 ISO 2 Joisted Masonry (JM) (noncombustible)\n",
      "1 ISO 1 Frame (combustible walls or roof)\n",
      "6 ISO 6 - Fire Resistive (FR)\n",
      "1 ISO 1 Frame (combustible walls or roof)\n",
      "3 ISO 3 - Non Combustible (NC)\n",
      "6 ISO 6 - Fire Resistive (FR)\n",
      "1 ISO 1 Frame (combustible walls or roof)\n",
      "1 ISO 1 Frame (combustible walls or roof)\n",
      "2 ISO 2 Joisted Masonry (JM) (noncombustible)\n",
      "1 ISO 1 Frame (combustible walls or roof)\n",
      "6 ISO 6 - Fire Resistive (FR)\n",
      "3 ISO 3 - Non Combustible (NC)\n",
      "3 ISO 3 - Non Combustible (NC)\n",
      "3 ISO 3 - Non Combustible (NC)\n",
      "4 ISO 4 - Masonry Non Combustible (MNC)\n",
      "1 ISO 1 Frame (combustible walls or roof)\n",
      "1 ISO 1 Frame (combustible walls or roof)\n",
      "6 ISO 6 - Fire Resistive (FR)\n",
      "5 ISO 5 - Modified or Semi Fire Resistive (MFR or SFR)\n",
      "2 ISO 2 Joisted Masonry (JM) (noncombustible)\n",
      "1 ISO 1 Frame (combustible walls or roof)\n",
      "6 ISO 6 - Fire Resistive (FR)\n",
      "5 ISO 5 - Modified or Semi Fire Resistive (MFR or SFR)\n",
      "1 ISO 1 Frame (combustible walls or roof)\n",
      "3 ISO 3 - Non Combustible (NC)\n",
      "1 ISO 1 Frame (combustible walls or roof)\n",
      "3 ISO 3 - Non Combustible (NC)\n",
      "4 ISO 4 - Masonry Non Combustible (MNC)\n",
      "6 ISO 6 - Fire Resistive (FR)\n",
      "2 ISO 2 Joisted Masonry (JM) (noncombustible)\n",
      "1 ISO 1 Frame (combustible walls or roof)\n",
      "2 ISO 2 Joisted Masonry (JM) (noncombustible)\n",
      "1 ISO 1 Frame (combustible walls or roof)\n",
      "1 ISO 1 Frame (combustible walls or roof)\n",
      "1 ISO 1 Frame (combustible walls or roof)\n",
      "1 ISO 1 Frame (combustible walls or roof)\n",
      "3 ISO 3 - Non Combustible (NC)\n",
      "6 ISO 6 - Fire Resistive (FR)\n",
      "1 ISO 1 Frame (combustible walls or roof)\n",
      "3 ISO 3 - Non Combustible (NC)\n",
      "1 ISO 1 Frame (combustible walls or roof)\n",
      "3 ISO 3 - Non Combustible (NC)\n",
      "3 ISO 3 - Non Combustible (NC)\n",
      "2 ISO 2 Joisted Masonry (JM) (noncombustible)\n",
      "2 ISO 2 Joisted Masonry (JM) (noncombustible)\n",
      "2 ISO 2 Joisted Masonry (JM) (noncombustible)\n",
      "3 ISO 3 - Non Combustible (NC)\n",
      "4 ISO 4 - Masonry Non Combustible (MNC)\n",
      "3 ISO 3 - Non Combustible (NC)\n",
      "3 ISO 3 - Non Combustible (NC)\n",
      "3 ISO 3 - Non Combustible (NC)\n",
      "6 ISO 6 - Fire Resistive (FR)\n",
      "3 ISO 3 - Non Combustible (NC)\n",
      "3 ISO 3 - Non Combustible (NC)\n",
      "6 ISO 6 - Fire Resistive (FR)\n",
      "1 ISO 1 Frame (combustible walls or roof)\n",
      "2 ISO 2 Joisted Masonry (JM) (noncombustible)\n",
      "5 ISO 5 - Modified or Semi Fire Resistive (MFR or SFR)\n",
      "4 ISO 4 - Masonry Non Combustible (MNC)\n",
      "4 ISO 4 - Masonry Non Combustible (MNC)\n",
      "2 ISO 2 Joisted Masonry (JM) (noncombustible)\n",
      "5 ISO 5 - Modified or Semi Fire Resistive (MFR or SFR)\n",
      "5 ISO 5 - Modified or Semi Fire Resistive (MFR or SFR)\n",
      "2 ISO 2 Joisted Masonry (JM) (noncombustible)\n",
      "6 ISO 6 - Fire Resistive (FR)\n",
      "1 ISO 1 Frame (combustible walls or roof)\n",
      "3 ISO 3 - Non Combustible (NC)\n",
      "3 ISO 3 - Non Combustible (NC)\n",
      "4 ISO 4 - Masonry Non Combustible (MNC)\n",
      "3 ISO 3 - Non Combustible (NC)\n",
      "2 ISO 2 Joisted Masonry (JM) (noncombustible)\n",
      "2 ISO 2 Joisted Masonry (JM) (noncombustible)\n",
      "6 ISO 6 - Fire Resistive (FR)\n",
      "2 ISO 2 Joisted Masonry (JM) (noncombustible)\n",
      "2 ISO 2 Joisted Masonry (JM) (noncombustible)\n",
      "3 ISO 3 - Non Combustible (NC)\n",
      "2 ISO 2 Joisted Masonry (JM) (noncombustible)\n",
      "4 ISO 4 - Masonry Non Combustible (MNC)\n",
      "3 ISO 3 - Non Combustible (NC)\n",
      "2 ISO 2 Joisted Masonry (JM) (noncombustible)\n",
      "2 ISO 2 Joisted Masonry (JM) (noncombustible)\n",
      "3 ISO 3 - Non Combustible (NC)\n",
      "2 ISO 2 Joisted Masonry (JM) (noncombustible)\n",
      "3 ISO 3 - Non Combustible (NC)\n",
      "1 ISO 1 Frame (combustible walls or roof)\n",
      "3 ISO 3 - Non Combustible (NC)\n",
      "1 ISO 1 Frame (combustible walls or roof)\n",
      "1 ISO 1 Frame (combustible walls or roof)\n",
      "4 ISO 4 - Masonry Non Combustible (MNC)\n",
      "6 ISO 6 - Fire Resistive (FR)\n",
      "3 ISO 3 - Non Combustible (NC)\n",
      "5 ISO 5 - Modified or Semi Fire Resistive (MFR or SFR)\n",
      "3 ISO 3 - Non Combustible (NC)\n",
      "2 ISO 2 Joisted Masonry (JM) (noncombustible)\n",
      "2 ISO 2 Joisted Masonry (JM) (noncombustible)\n",
      "5 ISO 5 - Modified or Semi Fire Resistive (MFR or SFR)\n",
      "3 ISO 3 - Non Combustible (NC)\n",
      "1 ISO 1 Frame (combustible walls or roof)\n",
      "4 ISO 4 - Masonry Non Combustible (MNC)\n",
      "4 ISO 4 - Masonry Non Combustible (MNC)\n",
      "6 ISO 6 - Fire Resistive (FR)\n",
      "5 ISO 5 - Modified or Semi Fire Resistive (MFR or SFR)\n",
      "2 ISO 2 Joisted Masonry (JM) (noncombustible)\n",
      "5 ISO 5 - Modified or Semi Fire Resistive (MFR or SFR)\n",
      "5 ISO 5 - Modified or Semi Fire Resistive (MFR or SFR)\n",
      "2 ISO 2 Joisted Masonry (JM) (noncombustible)\n",
      "1 ISO 1 Frame (combustible walls or roof)\n",
      "5 ISO 5 - Modified or Semi Fire Resistive (MFR or SFR)\n",
      "1 ISO 1 Frame (combustible walls or roof)\n",
      "6 ISO 6 - Fire Resistive (FR)\n",
      "1 ISO 1 Frame (combustible walls or roof)\n",
      "4 ISO 4 - Masonry Non Combustible (MNC)\n",
      "5 ISO 5 - Modified or Semi Fire Resistive (MFR or SFR)\n",
      "4 ISO 4 - Masonry Non Combustible (MNC)\n",
      "1 ISO 1 Frame (combustible walls or roof)\n",
      "1 ISO 1 Frame (combustible walls or roof)\n",
      "5 ISO 5 - Modified or Semi Fire Resistive (MFR or SFR)\n",
      "6 ISO 6 - Fire Resistive (FR)\n",
      "6 ISO 6 - Fire Resistive (FR)\n",
      "3 ISO 3 - Non Combustible (NC)\n",
      "1 ISO 1 Frame (combustible walls or roof)\n",
      "6 ISO 6 - Fire Resistive (FR)\n",
      "5 ISO 5 - Modified or Semi Fire Resistive (MFR or SFR)\n",
      "3 ISO 3 - Non Combustible (NC)\n",
      "1 ISO 1 Frame (combustible walls or roof)\n",
      "3 ISO 3 - Non Combustible (NC)\n",
      "3 ISO 3 - Non Combustible (NC)\n",
      "3 ISO 3 - Non Combustible (NC)\n",
      "3 ISO 3 - Non Combustible (NC)\n",
      "2 ISO 2 Joisted Masonry (JM) (noncombustible)\n",
      "2 ISO 2 Joisted Masonry (JM) (noncombustible)\n",
      "3 ISO 3 - Non Combustible (NC)\n",
      "3 ISO 3 - Non Combustible (NC)\n",
      "3 ISO 3 - Non Combustible (NC)\n",
      "3 ISO 3 - Non Combustible (NC)\n",
      "6 ISO 6 - Fire Resistive (FR)\n",
      "6 ISO 6 - Fire Resistive (FR)\n",
      "3 ISO 3 - Non Combustible (NC)\n",
      "1 ISO 1 Frame (combustible walls or roof)\n",
      "3 ISO 3 - Non Combustible (NC)\n",
      "2 ISO 2 Joisted Masonry (JM) (noncombustible)\n",
      "2 ISO 2 Joisted Masonry (JM) (noncombustible)\n",
      "3 ISO 3 - Non Combustible (NC)\n",
      "2 ISO 2 Joisted Masonry (JM) (noncombustible)\n",
      "6 ISO 6 - Fire Resistive (FR)\n",
      "3 ISO 3 - Non Combustible (NC)\n",
      "1 ISO 1 Frame (combustible walls or roof)\n",
      "3 ISO 3 - Non Combustible (NC)\n",
      "1 ISO 1 Frame (combustible walls or roof)\n",
      "3 ISO 3 - Non Combustible (NC)\n",
      "2 ISO 2 Joisted Masonry (JM) (noncombustible)\n",
      "2 ISO 2 Joisted Masonry (JM) (noncombustible)\n",
      "2 ISO 2 Joisted Masonry (JM) (noncombustible)\n",
      "4 ISO 4 - Masonry Non Combustible (MNC)\n",
      "1 ISO 1 Frame (combustible walls or roof)\n",
      "5 ISO 5 - Modified or Semi Fire Resistive (MFR or SFR)\n",
      "3 ISO 3 - Non Combustible (NC)\n",
      "3 ISO 3 - Non Combustible (NC)\n",
      "5 ISO 5 - Modified or Semi Fire Resistive (MFR or SFR)\n",
      "3 ISO 3 - Non Combustible (NC)\n",
      "4 ISO 4 - Masonry Non Combustible (MNC)\n",
      "2 ISO 2 Joisted Masonry (JM) (noncombustible)\n",
      "1 ISO 1 Frame (combustible walls or roof)\n",
      "2 ISO 2 Joisted Masonry (JM) (noncombustible)\n",
      "2 ISO 2 Joisted Masonry (JM) (noncombustible)\n",
      "3 ISO 3 - Non Combustible (NC)\n",
      "4 ISO 4 - Masonry Non Combustible (MNC)\n",
      "3 ISO 3 - Non Combustible (NC)\n",
      "2 ISO 2 Joisted Masonry (JM) (noncombustible)\n",
      "6 ISO 6 - Fire Resistive (FR)\n",
      "2 ISO 2 Joisted Masonry (JM) (noncombustible)\n",
      "1 ISO 1 Frame (combustible walls or roof)\n",
      "4 ISO 4 - Masonry Non Combustible (MNC)\n",
      "1 ISO 1 Frame (combustible walls or roof)\n",
      "2 ISO 2 Joisted Masonry (JM) (noncombustible)\n",
      "1 ISO 1 Frame (combustible walls or roof)\n",
      "6 ISO 6 - Fire Resistive (FR)\n",
      "4 ISO 4 - Masonry Non Combustible (MNC)\n",
      "4 ISO 4 - Masonry Non Combustible (MNC)\n",
      "3 ISO 3 - Non Combustible (NC)\n",
      "4 ISO 4 - Masonry Non Combustible (MNC)\n",
      "5 ISO 5 - Modified or Semi Fire Resistive (MFR or SFR)\n",
      "2 ISO 2 Joisted Masonry (JM) (noncombustible)\n",
      "2 ISO 2 Joisted Masonry (JM) (noncombustible)\n",
      "3 ISO 3 - Non Combustible (NC)\n",
      "1 ISO 1 Frame (combustible walls or roof)\n",
      "5 ISO 5 - Modified or Semi Fire Resistive (MFR or SFR)\n",
      "6 ISO 6 - Fire Resistive (FR)\n",
      "2 ISO 2 Joisted Masonry (JM) (noncombustible)\n",
      "2 ISO 2 Joisted Masonry (JM) (noncombustible)\n",
      "2 ISO 2 Joisted Masonry (JM) (noncombustible)\n",
      "4 ISO 4 - Masonry Non Combustible (MNC)\n",
      "2 ISO 2 Joisted Masonry (JM) (noncombustible)\n",
      "4 ISO 4 - Masonry Non Combustible (MNC)\n",
      "2 ISO 2 Joisted Masonry (JM) (noncombustible)\n",
      "1 ISO 1 Frame (combustible walls or roof)\n",
      "2 ISO 2 Joisted Masonry (JM) (noncombustible)\n",
      "6 ISO 6 - Fire Resistive (FR)\n",
      "2 ISO 2 Joisted Masonry (JM) (noncombustible)\n",
      "1 ISO 1 Frame (combustible walls or roof)\n",
      "1 ISO 1 Frame (combustible walls or roof)\n",
      "2 ISO 2 Joisted Masonry (JM) (noncombustible)\n",
      "1 ISO 1 Frame (combustible walls or roof)\n",
      "2 ISO 2 Joisted Masonry (JM) (noncombustible)\n",
      "3 ISO 3 - Non Combustible (NC)\n",
      "2 ISO 2 Joisted Masonry (JM) (noncombustible)\n",
      "2 ISO 2 Joisted Masonry (JM) (noncombustible)\n",
      "1 ISO 1 Frame (combustible walls or roof)\n",
      "1 ISO 1 Frame (combustible walls or roof)\n",
      "2 ISO 2 Joisted Masonry (JM) (noncombustible)\n",
      "5 ISO 5 - Modified or Semi Fire Resistive (MFR or SFR)\n",
      "3 ISO 3 - Non Combustible (NC)\n",
      "1 ISO 1 Frame (combustible walls or roof)\n",
      "3 ISO 3 - Non Combustible (NC)\n",
      "5 ISO 5 - Modified or Semi Fire Resistive (MFR or SFR)\n",
      "3 ISO 3 - Non Combustible (NC)\n",
      "6 ISO 6 - Fire Resistive (FR)\n",
      "2 ISO 2 Joisted Masonry (JM) (noncombustible)\n",
      "4 ISO 4 - Masonry Non Combustible (MNC)\n",
      "4 ISO 4 - Masonry Non Combustible (MNC)\n",
      "3 ISO 3 - Non Combustible (NC)\n",
      "3 ISO 3 - Non Combustible (NC)\n",
      "1 ISO 1 Frame (combustible walls or roof)\n",
      "2 ISO 2 Joisted Masonry (JM) (noncombustible)\n",
      "3 ISO 3 - Non Combustible (NC)\n",
      "1 ISO 1 Frame (combustible walls or roof)\n",
      "2 ISO 2 Joisted Masonry (JM) (noncombustible)\n",
      "6 ISO 6 - Fire Resistive (FR)\n",
      "2 ISO 2 Joisted Masonry (JM) (noncombustible)\n",
      "1 ISO 1 Frame (combustible walls or roof)\n",
      "5 ISO 5 - Modified or Semi Fire Resistive (MFR or SFR)\n",
      "4 ISO 4 - Masonry Non Combustible (MNC)\n",
      "2 ISO 2 Joisted Masonry (JM) (noncombustible)\n",
      "1 ISO 1 Frame (combustible walls or roof)\n",
      "2 ISO 2 Joisted Masonry (JM) (noncombustible)\n",
      "1 ISO 1 Frame (combustible walls or roof)\n",
      "3 ISO 3 - Non Combustible (NC)\n",
      "6 ISO 6 - Fire Resistive (FR)\n",
      "2 ISO 2 Joisted Masonry (JM) (noncombustible)\n",
      "2 ISO 2 Joisted Masonry (JM) (noncombustible)\n",
      "3 ISO 3 - Non Combustible (NC)\n",
      "2 ISO 2 Joisted Masonry (JM) (noncombustible)\n",
      "3 ISO 3 - Non Combustible (NC)\n",
      "5 ISO 5 - Modified or Semi Fire Resistive (MFR or SFR)\n",
      "4 ISO 4 - Masonry Non Combustible (MNC)\n",
      "1 ISO 1 Frame (combustible walls or roof)\n",
      "3 ISO 3 - Non Combustible (NC)\n",
      "5 ISO 5 - Modified or Semi Fire Resistive (MFR or SFR)\n",
      "2 ISO 2 Joisted Masonry (JM) (noncombustible)\n",
      "1 ISO 1 Frame (combustible walls or roof)\n",
      "2 ISO 2 Joisted Masonry (JM) (noncombustible)\n",
      "2 ISO 2 Joisted Masonry (JM) (noncombustible)\n",
      "1 ISO 1 Frame (combustible walls or roof)\n",
      "2 ISO 2 Joisted Masonry (JM) (noncombustible)\n",
      "5 ISO 5 - Modified or Semi Fire Resistive (MFR or SFR)\n",
      "2 ISO 2 Joisted Masonry (JM) (noncombustible)\n",
      "3 ISO 3 - Non Combustible (NC)\n",
      "4 ISO 4 - Masonry Non Combustible (MNC)\n",
      "1 ISO 1 Frame (combustible walls or roof)\n",
      "5 ISO 5 - Modified or Semi Fire Resistive (MFR or SFR)\n",
      "2 ISO 2 Joisted Masonry (JM) (noncombustible)\n",
      "1 ISO 1 Frame (combustible walls or roof)\n",
      "4 ISO 4 - Masonry Non Combustible (MNC)\n",
      "2 ISO 2 Joisted Masonry (JM) (noncombustible)\n",
      "1 ISO 1 Frame (combustible walls or roof)\n",
      "2 ISO 2 Joisted Masonry (JM) (noncombustible)\n"
     ]
    },
    {
     "name": "stdout",
     "output_type": "stream",
     "text": [
      "3 ISO 3 - Non Combustible (NC)\n",
      "1 ISO 1 Frame (combustible walls or roof)\n",
      "4 ISO 4 - Masonry Non Combustible (MNC)\n",
      "4 ISO 4 - Masonry Non Combustible (MNC)\n",
      "5 ISO 5 - Modified or Semi Fire Resistive (MFR or SFR)\n",
      "2 ISO 2 Joisted Masonry (JM) (noncombustible)\n",
      "1 ISO 1 Frame (combustible walls or roof)\n",
      "2 ISO 2 Joisted Masonry (JM) (noncombustible)\n",
      "3 ISO 3 - Non Combustible (NC)\n",
      "2 ISO 2 Joisted Masonry (JM) (noncombustible)\n",
      "5 ISO 5 - Modified or Semi Fire Resistive (MFR or SFR)\n",
      "3 ISO 3 - Non Combustible (NC)\n",
      "3 ISO 3 - Non Combustible (NC)\n",
      "3 ISO 3 - Non Combustible (NC)\n",
      "1 ISO 1 Frame (combustible walls or roof)\n",
      "6 ISO 6 - Fire Resistive (FR)\n",
      "6 ISO 6 - Fire Resistive (FR)\n",
      "5 ISO 5 - Modified or Semi Fire Resistive (MFR or SFR)\n",
      "2 ISO 2 Joisted Masonry (JM) (noncombustible)\n",
      "5 ISO 5 - Modified or Semi Fire Resistive (MFR or SFR)\n",
      "4 ISO 4 - Masonry Non Combustible (MNC)\n",
      "1 ISO 1 Frame (combustible walls or roof)\n",
      "6 ISO 6 - Fire Resistive (FR)\n",
      "3 ISO 3 - Non Combustible (NC)\n",
      "1 ISO 1 Frame (combustible walls or roof)\n",
      "3 ISO 3 - Non Combustible (NC)\n",
      "4 ISO 4 - Masonry Non Combustible (MNC)\n",
      "4 ISO 4 - Masonry Non Combustible (MNC)\n",
      "1 ISO 1 Frame (combustible walls or roof)\n",
      "2 ISO 2 Joisted Masonry (JM) (noncombustible)\n",
      "6 ISO 6 - Fire Resistive (FR)\n",
      "3 ISO 3 - Non Combustible (NC)\n",
      "3 ISO 3 - Non Combustible (NC)\n",
      "1 ISO 1 Frame (combustible walls or roof)\n",
      "3 ISO 3 - Non Combustible (NC)\n",
      "2 ISO 2 Joisted Masonry (JM) (noncombustible)\n",
      "4 ISO 4 - Masonry Non Combustible (MNC)\n",
      "3 ISO 3 - Non Combustible (NC)\n",
      "1 ISO 1 Frame (combustible walls or roof)\n",
      "3 ISO 3 - Non Combustible (NC)\n",
      "1 ISO 1 Frame (combustible walls or roof)\n",
      "3 ISO 3 - Non Combustible (NC)\n",
      "2 ISO 2 Joisted Masonry (JM) (noncombustible)\n",
      "3 ISO 3 - Non Combustible (NC)\n",
      "1 ISO 1 Frame (combustible walls or roof)\n",
      "4 ISO 4 - Masonry Non Combustible (MNC)\n",
      "1 ISO 1 Frame (combustible walls or roof)\n",
      "3 ISO 3 - Non Combustible (NC)\n",
      "3 ISO 3 - Non Combustible (NC)\n",
      "6 ISO 6 - Fire Resistive (FR)\n",
      "3 ISO 3 - Non Combustible (NC)\n",
      "1 ISO 1 Frame (combustible walls or roof)\n",
      "2 ISO 2 Joisted Masonry (JM) (noncombustible)\n",
      "3 ISO 3 - Non Combustible (NC)\n",
      "4 ISO 4 - Masonry Non Combustible (MNC)\n",
      "3 ISO 3 - Non Combustible (NC)\n",
      "3 ISO 3 - Non Combustible (NC)\n",
      "3 ISO 3 - Non Combustible (NC)\n",
      "1 ISO 1 Frame (combustible walls or roof)\n",
      "1 ISO 1 Frame (combustible walls or roof)\n",
      "4 ISO 4 - Masonry Non Combustible (MNC)\n",
      "1 ISO 1 Frame (combustible walls or roof)\n",
      "5 ISO 5 - Modified or Semi Fire Resistive (MFR or SFR)\n",
      "5 ISO 5 - Modified or Semi Fire Resistive (MFR or SFR)\n",
      "1 ISO 1 Frame (combustible walls or roof)\n",
      "2 ISO 2 Joisted Masonry (JM) (noncombustible)\n",
      "3 ISO 3 - Non Combustible (NC)\n",
      "3 ISO 3 - Non Combustible (NC)\n",
      "4 ISO 4 - Masonry Non Combustible (MNC)\n",
      "3 ISO 3 - Non Combustible (NC)\n",
      "4 ISO 4 - Masonry Non Combustible (MNC)\n",
      "1 ISO 1 Frame (combustible walls or roof)\n",
      "1 ISO 1 Frame (combustible walls or roof)\n",
      "5 ISO 5 - Modified or Semi Fire Resistive (MFR or SFR)\n",
      "4 ISO 4 - Masonry Non Combustible (MNC)\n",
      "1 ISO 1 Frame (combustible walls or roof)\n",
      "6 ISO 6 - Fire Resistive (FR)\n",
      "2 ISO 2 Joisted Masonry (JM) (noncombustible)\n",
      "2 ISO 2 Joisted Masonry (JM) (noncombustible)\n",
      "2 ISO 2 Joisted Masonry (JM) (noncombustible)\n",
      "6 ISO 6 - Fire Resistive (FR)\n",
      "3 ISO 3 - Non Combustible (NC)\n",
      "1 ISO 1 Frame (combustible walls or roof)\n",
      "5 ISO 5 - Modified or Semi Fire Resistive (MFR or SFR)\n",
      "4 ISO 4 - Masonry Non Combustible (MNC)\n",
      "3 ISO 3 - Non Combustible (NC)\n",
      "5 ISO 5 - Modified or Semi Fire Resistive (MFR or SFR)\n",
      "1 ISO 1 Frame (combustible walls or roof)\n",
      "4 ISO 4 - Masonry Non Combustible (MNC)\n",
      "6 ISO 6 - Fire Resistive (FR)\n",
      "3 ISO 3 - Non Combustible (NC)\n",
      "1 ISO 1 Frame (combustible walls or roof)\n",
      "2 ISO 2 Joisted Masonry (JM) (noncombustible)\n",
      "5 ISO 5 - Modified or Semi Fire Resistive (MFR or SFR)\n",
      "3 ISO 3 - Non Combustible (NC)\n",
      "2 ISO 2 Joisted Masonry (JM) (noncombustible)\n",
      "2 ISO 2 Joisted Masonry (JM) (noncombustible)\n",
      "4 ISO 4 - Masonry Non Combustible (MNC)\n",
      "1 ISO 1 Frame (combustible walls or roof)\n",
      "6 ISO 6 - Fire Resistive (FR)\n",
      "2 ISO 2 Joisted Masonry (JM) (noncombustible)\n",
      "1 ISO 1 Frame (combustible walls or roof)\n",
      "3 ISO 3 - Non Combustible (NC)\n",
      "1 ISO 1 Frame (combustible walls or roof)\n",
      "1 ISO 1 Frame (combustible walls or roof)\n",
      "2 ISO 2 Joisted Masonry (JM) (noncombustible)\n",
      "3 ISO 3 - Non Combustible (NC)\n",
      "2 ISO 2 Joisted Masonry (JM) (noncombustible)\n",
      "2 ISO 2 Joisted Masonry (JM) (noncombustible)\n",
      "2 ISO 2 Joisted Masonry (JM) (noncombustible)\n",
      "3 ISO 3 - Non Combustible (NC)\n",
      "2 ISO 2 Joisted Masonry (JM) (noncombustible)\n",
      "1 ISO 1 Frame (combustible walls or roof)\n",
      "3 ISO 3 - Non Combustible (NC)\n",
      "4 ISO 4 - Masonry Non Combustible (MNC)\n",
      "6 ISO 6 - Fire Resistive (FR)\n",
      "2 ISO 2 Joisted Masonry (JM) (noncombustible)\n",
      "2 ISO 2 Joisted Masonry (JM) (noncombustible)\n",
      "5 ISO 5 - Modified or Semi Fire Resistive (MFR or SFR)\n",
      "3 ISO 3 - Non Combustible (NC)\n",
      "3 ISO 3 - Non Combustible (NC)\n",
      "4 ISO 4 - Masonry Non Combustible (MNC)\n",
      "3 ISO 3 - Non Combustible (NC)\n",
      "3 ISO 3 - Non Combustible (NC)\n",
      "3 ISO 3 - Non Combustible (NC)\n",
      "1 ISO 1 Frame (combustible walls or roof)\n",
      "1 ISO 1 Frame (combustible walls or roof)\n",
      "6 ISO 6 - Fire Resistive (FR)\n",
      "1 ISO 1 Frame (combustible walls or roof)\n",
      "3 ISO 3 - Non Combustible (NC)\n",
      "3 ISO 3 - Non Combustible (NC)\n",
      "2 ISO 2 Joisted Masonry (JM) (noncombustible)\n",
      "4 ISO 4 - Masonry Non Combustible (MNC)\n",
      "3 ISO 3 - Non Combustible (NC)\n",
      "2 ISO 2 Joisted Masonry (JM) (noncombustible)\n",
      "2 ISO 2 Joisted Masonry (JM) (noncombustible)\n",
      "2 ISO 2 Joisted Masonry (JM) (noncombustible)\n",
      "1 ISO 1 Frame (combustible walls or roof)\n",
      "3 ISO 3 - Non Combustible (NC)\n",
      "2 ISO 2 Joisted Masonry (JM) (noncombustible)\n",
      "3 ISO 3 - Non Combustible (NC)\n",
      "2 ISO 2 Joisted Masonry (JM) (noncombustible)\n",
      "1 ISO 1 Frame (combustible walls or roof)\n",
      "6 ISO 6 - Fire Resistive (FR)\n",
      "4 ISO 4 - Masonry Non Combustible (MNC)\n",
      "2 ISO 2 Joisted Masonry (JM) (noncombustible)\n",
      "3 ISO 3 - Non Combustible (NC)\n",
      "2 ISO 2 Joisted Masonry (JM) (noncombustible)\n",
      "3 ISO 3 - Non Combustible (NC)\n",
      "5 ISO 5 - Modified or Semi Fire Resistive (MFR or SFR)\n",
      "1 ISO 1 Frame (combustible walls or roof)\n",
      "3 ISO 3 - Non Combustible (NC)\n",
      "1 ISO 1 Frame (combustible walls or roof)\n",
      "4 ISO 4 - Masonry Non Combustible (MNC)\n",
      "5 ISO 5 - Modified or Semi Fire Resistive (MFR or SFR)\n",
      "2 ISO 2 Joisted Masonry (JM) (noncombustible)\n",
      "5 ISO 5 - Modified or Semi Fire Resistive (MFR or SFR)\n",
      "3 ISO 3 - Non Combustible (NC)\n",
      "2 ISO 2 Joisted Masonry (JM) (noncombustible)\n",
      "3 ISO 3 - Non Combustible (NC)\n",
      "6 ISO 6 - Fire Resistive (FR)\n",
      "5 ISO 5 - Modified or Semi Fire Resistive (MFR or SFR)\n",
      "1 ISO 1 Frame (combustible walls or roof)\n",
      "3 ISO 3 - Non Combustible (NC)\n",
      "4 ISO 4 - Masonry Non Combustible (MNC)\n",
      "3 ISO 3 - Non Combustible (NC)\n",
      "3 ISO 3 - Non Combustible (NC)\n",
      "1 ISO 1 Frame (combustible walls or roof)\n",
      "1 ISO 1 Frame (combustible walls or roof)\n",
      "3 ISO 3 - Non Combustible (NC)\n",
      "5 ISO 5 - Modified or Semi Fire Resistive (MFR or SFR)\n",
      "2 ISO 2 Joisted Masonry (JM) (noncombustible)\n",
      "2 ISO 2 Joisted Masonry (JM) (noncombustible)\n",
      "1 ISO 1 Frame (combustible walls or roof)\n",
      "4 ISO 4 - Masonry Non Combustible (MNC)\n",
      "1 ISO 1 Frame (combustible walls or roof)\n",
      "5 ISO 5 - Modified or Semi Fire Resistive (MFR or SFR)\n",
      "2 ISO 2 Joisted Masonry (JM) (noncombustible)\n",
      "3 ISO 3 - Non Combustible (NC)\n",
      "1 ISO 1 Frame (combustible walls or roof)\n",
      "2 ISO 2 Joisted Masonry (JM) (noncombustible)\n",
      "1 ISO 1 Frame (combustible walls or roof)\n",
      "4 ISO 4 - Masonry Non Combustible (MNC)\n",
      "4 ISO 4 - Masonry Non Combustible (MNC)\n",
      "1 ISO 1 Frame (combustible walls or roof)\n",
      "2 ISO 2 Joisted Masonry (JM) (noncombustible)\n",
      "3 ISO 3 - Non Combustible (NC)\n",
      "3 ISO 3 - Non Combustible (NC)\n",
      "6 ISO 6 - Fire Resistive (FR)\n",
      "1 ISO 1 Frame (combustible walls or roof)\n",
      "2 ISO 2 Joisted Masonry (JM) (noncombustible)\n",
      "1 ISO 1 Frame (combustible walls or roof)\n",
      "1 ISO 1 Frame (combustible walls or roof)\n",
      "6 ISO 6 - Fire Resistive (FR)\n",
      "1 ISO 1 Frame (combustible walls or roof)\n",
      "1 ISO 1 Frame (combustible walls or roof)\n",
      "5 ISO 5 - Modified or Semi Fire Resistive (MFR or SFR)\n",
      "6 ISO 6 - Fire Resistive (FR)\n",
      "3 ISO 3 - Non Combustible (NC)\n",
      "2 ISO 2 Joisted Masonry (JM) (noncombustible)\n",
      "1 ISO 1 Frame (combustible walls or roof)\n",
      "6 ISO 6 - Fire Resistive (FR)\n",
      "3 ISO 3 - Non Combustible (NC)\n",
      "1 ISO 1 Frame (combustible walls or roof)\n",
      "1 ISO 1 Frame (combustible walls or roof)\n",
      "4 ISO 4 - Masonry Non Combustible (MNC)\n",
      "1 ISO 1 Frame (combustible walls or roof)\n",
      "3 ISO 3 - Non Combustible (NC)\n",
      "6 ISO 6 - Fire Resistive (FR)\n",
      "3 ISO 3 - Non Combustible (NC)\n",
      "4 ISO 4 - Masonry Non Combustible (MNC)\n",
      "3 ISO 3 - Non Combustible (NC)\n",
      "1 ISO 1 Frame (combustible walls or roof)\n",
      "6 ISO 6 - Fire Resistive (FR)\n",
      "5 ISO 5 - Modified or Semi Fire Resistive (MFR or SFR)\n",
      "6 ISO 6 - Fire Resistive (FR)\n",
      "3 ISO 3 - Non Combustible (NC)\n",
      "3 ISO 3 - Non Combustible (NC)\n",
      "6 ISO 6 - Fire Resistive (FR)\n",
      "3 ISO 3 - Non Combustible (NC)\n",
      "5 ISO 5 - Modified or Semi Fire Resistive (MFR or SFR)\n",
      "4 ISO 4 - Masonry Non Combustible (MNC)\n",
      "1 ISO 1 Frame (combustible walls or roof)\n",
      "5 ISO 5 - Modified or Semi Fire Resistive (MFR or SFR)\n",
      "2 ISO 2 Joisted Masonry (JM) (noncombustible)\n",
      "4 ISO 4 - Masonry Non Combustible (MNC)\n",
      "1 ISO 1 Frame (combustible walls or roof)\n",
      "1 ISO 1 Frame (combustible walls or roof)\n",
      "5 ISO 5 - Modified or Semi Fire Resistive (MFR or SFR)\n",
      "4 ISO 4 - Masonry Non Combustible (MNC)\n",
      "1 ISO 1 Frame (combustible walls or roof)\n",
      "2 ISO 2 Joisted Masonry (JM) (noncombustible)\n",
      "3 ISO 3 - Non Combustible (NC)\n",
      "4 ISO 4 - Masonry Non Combustible (MNC)\n",
      "2 ISO 2 Joisted Masonry (JM) (noncombustible)\n",
      "1 ISO 1 Frame (combustible walls or roof)\n",
      "5 ISO 5 - Modified or Semi Fire Resistive (MFR or SFR)\n",
      "2 ISO 2 Joisted Masonry (JM) (noncombustible)\n",
      "6 ISO 6 - Fire Resistive (FR)\n",
      "2 ISO 2 Joisted Masonry (JM) (noncombustible)\n",
      "2 ISO 2 Joisted Masonry (JM) (noncombustible)\n",
      "1 ISO 1 Frame (combustible walls or roof)\n",
      "5 ISO 5 - Modified or Semi Fire Resistive (MFR or SFR)\n",
      "3 ISO 3 - Non Combustible (NC)\n",
      "1 ISO 1 Frame (combustible walls or roof)\n",
      "1 ISO 1 Frame (combustible walls or roof)\n",
      "1 ISO 1 Frame (combustible walls or roof)\n",
      "5 ISO 5 - Modified or Semi Fire Resistive (MFR or SFR)\n",
      "4 ISO 4 - Masonry Non Combustible (MNC)\n",
      "2 ISO 2 Joisted Masonry (JM) (noncombustible)\n",
      "6 ISO 6 - Fire Resistive (FR)\n",
      "1 ISO 1 Frame (combustible walls or roof)\n",
      "2 ISO 2 Joisted Masonry (JM) (noncombustible)\n",
      "2 ISO 2 Joisted Masonry (JM) (noncombustible)\n",
      "1 ISO 1 Frame (combustible walls or roof)\n",
      "2 ISO 2 Joisted Masonry (JM) (noncombustible)\n",
      "3 ISO 3 - Non Combustible (NC)\n",
      "4 ISO 4 - Masonry Non Combustible (MNC)\n",
      "1 ISO 1 Frame (combustible walls or roof)\n",
      "3 ISO 3 - Non Combustible (NC)\n",
      "3 ISO 3 - Non Combustible (NC)\n",
      "1 ISO 1 Frame (combustible walls or roof)\n",
      "4 ISO 4 - Masonry Non Combustible (MNC)\n",
      "4 ISO 4 - Masonry Non Combustible (MNC)\n",
      "5 ISO 5 - Modified or Semi Fire Resistive (MFR or SFR)\n",
      "1 ISO 1 Frame (combustible walls or roof)\n",
      "3 ISO 3 - Non Combustible (NC)\n",
      "3 ISO 3 - Non Combustible (NC)\n",
      "2 ISO 2 Joisted Masonry (JM) (noncombustible)\n",
      "2 ISO 2 Joisted Masonry (JM) (noncombustible)\n",
      "1 ISO 1 Frame (combustible walls or roof)\n",
      "3 ISO 3 - Non Combustible (NC)\n",
      "2 ISO 2 Joisted Masonry (JM) (noncombustible)\n",
      "3 ISO 3 - Non Combustible (NC)\n",
      "3 ISO 3 - Non Combustible (NC)\n",
      "1 ISO 1 Frame (combustible walls or roof)\n",
      "3 ISO 3 - Non Combustible (NC)\n",
      "5 ISO 5 - Modified or Semi Fire Resistive (MFR or SFR)\n",
      "3 ISO 3 - Non Combustible (NC)\n",
      "3 ISO 3 - Non Combustible (NC)\n",
      "2 ISO 2 Joisted Masonry (JM) (noncombustible)\n",
      "2 ISO 2 Joisted Masonry (JM) (noncombustible)\n",
      "1 ISO 1 Frame (combustible walls or roof)\n",
      "3 ISO 3 - Non Combustible (NC)\n",
      "2 ISO 2 Joisted Masonry (JM) (noncombustible)\n",
      "6 ISO 6 - Fire Resistive (FR)\n",
      "1 ISO 1 Frame (combustible walls or roof)\n",
      "2 ISO 2 Joisted Masonry (JM) (noncombustible)\n",
      "1 ISO 1 Frame (combustible walls or roof)\n",
      "2 ISO 2 Joisted Masonry (JM) (noncombustible)\n",
      "1 ISO 1 Frame (combustible walls or roof)\n",
      "4 ISO 4 - Masonry Non Combustible (MNC)\n",
      "5 ISO 5 - Modified or Semi Fire Resistive (MFR or SFR)\n",
      "2 ISO 2 Joisted Masonry (JM) (noncombustible)\n",
      "1 ISO 1 Frame (combustible walls or roof)\n",
      "1 ISO 1 Frame (combustible walls or roof)\n",
      "1 ISO 1 Frame (combustible walls or roof)\n",
      "3 ISO 3 - Non Combustible (NC)\n",
      "2 ISO 2 Joisted Masonry (JM) (noncombustible)\n",
      "1 ISO 1 Frame (combustible walls or roof)\n",
      "6 ISO 6 - Fire Resistive (FR)\n",
      "1 ISO 1 Frame (combustible walls or roof)\n",
      "6 ISO 6 - Fire Resistive (FR)\n",
      "2 ISO 2 Joisted Masonry (JM) (noncombustible)\n",
      "1 ISO 1 Frame (combustible walls or roof)\n",
      "2 ISO 2 Joisted Masonry (JM) (noncombustible)\n",
      "3 ISO 3 - Non Combustible (NC)\n",
      "1 ISO 1 Frame (combustible walls or roof)\n",
      "3 ISO 3 - Non Combustible (NC)\n",
      "3 ISO 3 - Non Combustible (NC)\n",
      "5 ISO 5 - Modified or Semi Fire Resistive (MFR or SFR)\n",
      "3 ISO 3 - Non Combustible (NC)\n",
      "3 ISO 3 - Non Combustible (NC)\n",
      "1 ISO 1 Frame (combustible walls or roof)\n",
      "1 ISO 1 Frame (combustible walls or roof)\n",
      "2 ISO 2 Joisted Masonry (JM) (noncombustible)\n",
      "3 ISO 3 - Non Combustible (NC)\n",
      "1 ISO 1 Frame (combustible walls or roof)\n",
      "3 ISO 3 - Non Combustible (NC)\n",
      "5 ISO 5 - Modified or Semi Fire Resistive (MFR or SFR)\n",
      "4 ISO 4 - Masonry Non Combustible (MNC)\n",
      "3 ISO 3 - Non Combustible (NC)\n",
      "1 ISO 1 Frame (combustible walls or roof)\n",
      "6 ISO 6 - Fire Resistive (FR)\n",
      "2 ISO 2 Joisted Masonry (JM) (noncombustible)\n",
      "3 ISO 3 - Non Combustible (NC)\n",
      "2 ISO 2 Joisted Masonry (JM) (noncombustible)\n",
      "3 ISO 3 - Non Combustible (NC)\n",
      "2 ISO 2 Joisted Masonry (JM) (noncombustible)\n",
      "3 ISO 3 - Non Combustible (NC)\n",
      "3 ISO 3 - Non Combustible (NC)\n",
      "2 ISO 2 Joisted Masonry (JM) (noncombustible)\n",
      "2 ISO 2 Joisted Masonry (JM) (noncombustible)\n",
      "4 ISO 4 - Masonry Non Combustible (MNC)\n",
      "1 ISO 1 Frame (combustible walls or roof)\n",
      "1 ISO 1 Frame (combustible walls or roof)\n",
      "3 ISO 3 - Non Combustible (NC)\n",
      "2 ISO 2 Joisted Masonry (JM) (noncombustible)\n",
      "3 ISO 3 - Non Combustible (NC)\n",
      "2 ISO 2 Joisted Masonry (JM) (noncombustible)\n",
      "2 ISO 2 Joisted Masonry (JM) (noncombustible)\n",
      "2 ISO 2 Joisted Masonry (JM) (noncombustible)\n",
      "2 ISO 2 Joisted Masonry (JM) (noncombustible)\n",
      "2 ISO 2 Joisted Masonry (JM) (noncombustible)\n",
      "4 ISO 4 - Masonry Non Combustible (MNC)\n",
      "1 ISO 1 Frame (combustible walls or roof)\n",
      "4 ISO 4 - Masonry Non Combustible (MNC)\n",
      "2 ISO 2 Joisted Masonry (JM) (noncombustible)\n",
      "1 ISO 1 Frame (combustible walls or roof)\n",
      "4 ISO 4 - Masonry Non Combustible (MNC)\n",
      "5 ISO 5 - Modified or Semi Fire Resistive (MFR or SFR)\n",
      "2 ISO 2 Joisted Masonry (JM) (noncombustible)\n",
      "1 ISO 1 Frame (combustible walls or roof)\n",
      "1 ISO 1 Frame (combustible walls or roof)\n",
      "3 ISO 3 - Non Combustible (NC)\n",
      "3 ISO 3 - Non Combustible (NC)\n",
      "2 ISO 2 Joisted Masonry (JM) (noncombustible)\n",
      "4 ISO 4 - Masonry Non Combustible (MNC)\n",
      "5 ISO 5 - Modified or Semi Fire Resistive (MFR or SFR)\n",
      "1 ISO 1 Frame (combustible walls or roof)\n",
      "1 ISO 1 Frame (combustible walls or roof)\n",
      "4 ISO 4 - Masonry Non Combustible (MNC)\n",
      "1 ISO 1 Frame (combustible walls or roof)\n",
      "6 ISO 6 - Fire Resistive (FR)\n",
      "5 ISO 5 - Modified or Semi Fire Resistive (MFR or SFR)\n",
      "2 ISO 2 Joisted Masonry (JM) (noncombustible)\n",
      "2 ISO 2 Joisted Masonry (JM) (noncombustible)\n",
      "5 ISO 5 - Modified or Semi Fire Resistive (MFR or SFR)\n",
      "3 ISO 3 - Non Combustible (NC)\n",
      "1 ISO 1 Frame (combustible walls or roof)\n",
      "2 ISO 2 Joisted Masonry (JM) (noncombustible)\n",
      "5 ISO 5 - Modified or Semi Fire Resistive (MFR or SFR)\n",
      "5 ISO 5 - Modified or Semi Fire Resistive (MFR or SFR)\n",
      "6 ISO 6 - Fire Resistive (FR)\n",
      "2 ISO 2 Joisted Masonry (JM) (noncombustible)\n",
      "3 ISO 3 - Non Combustible (NC)\n",
      "6 ISO 6 - Fire Resistive (FR)\n",
      "2 ISO 2 Joisted Masonry (JM) (noncombustible)\n",
      "6 ISO 6 - Fire Resistive (FR)\n",
      "3 ISO 3 - Non Combustible (NC)\n",
      "6 ISO 6 - Fire Resistive (FR)\n",
      "1 ISO 1 Frame (combustible walls or roof)\n",
      "5 ISO 5 - Modified or Semi Fire Resistive (MFR or SFR)\n",
      "5 ISO 5 - Modified or Semi Fire Resistive (MFR or SFR)\n",
      "3 ISO 3 - Non Combustible (NC)\n",
      "1 ISO 1 Frame (combustible walls or roof)\n",
      "1 ISO 1 Frame (combustible walls or roof)\n",
      "1 ISO 1 Frame (combustible walls or roof)\n",
      "6 ISO 6 - Fire Resistive (FR)\n",
      "3 ISO 3 - Non Combustible (NC)\n",
      "3 ISO 3 - Non Combustible (NC)\n",
      "3 ISO 3 - Non Combustible (NC)\n",
      "3 ISO 3 - Non Combustible (NC)\n",
      "3 ISO 3 - Non Combustible (NC)\n",
      "1 ISO 1 Frame (combustible walls or roof)\n",
      "2 ISO 2 Joisted Masonry (JM) (noncombustible)\n",
      "6 ISO 6 - Fire Resistive (FR)\n",
      "3 ISO 3 - Non Combustible (NC)\n",
      "2 ISO 2 Joisted Masonry (JM) (noncombustible)\n",
      "2 ISO 2 Joisted Masonry (JM) (noncombustible)\n"
     ]
    }
   ],
   "source": [
    "for _, (iso, iso_cat) in fire_ins_df[['ISO', 'ISO_cat']].iterrows():\n",
    "    print(iso, iso_cat)\n",
    "    assert str(iso) == iso_cat[4], 'Values in \"ISO\" and \"ISO_cat\" columns are not the same!'"
   ]
  },
  {
   "cell_type": "markdown",
   "metadata": {},
   "source": [
    "## AutoML part"
   ]
  },
  {
   "cell_type": "code",
   "execution_count": 33,
   "metadata": {},
   "outputs": [],
   "source": [
    "from sklearn.pipeline import Pipeline\n",
    "\n",
    "from sklearn.preprocessing import StandardScaler, OneHotEncoder, OrdinalEncoder, MinMaxScaler, PolynomialFeatures\n",
    "from sklearn.impute import SimpleImputer\n",
    "from sklearn.compose import ColumnTransformer\n",
    "\n",
    "from sklearn.linear_model import LogisticRegression, LinearRegression, ElasticNet\n",
    "from sklearn.ensemble import RandomForestRegressor\n",
    "\n",
    "from sklearn.feature_selection import SelectFromModel\n",
    "from sklearn.feature_extraction.text import CountVectorizer, TfidfTransformer, TfidfVectorizer\n",
    "\n",
    "from sklearn.model_selection import train_test_split, GridSearchCV, PredefinedSplit, ShuffleSplit, KFold\n",
    "from sklearn.metrics import r2_score, mean_squared_error\n",
    "\n",
    "from sklearn.base import BaseEstimator, TransformerMixin\n",
    "\n",
    "from skopt import BayesSearchCV\n",
    "from skopt.space import Real, Categorical, Integer"
   ]
  },
  {
   "cell_type": "code",
   "execution_count": 14,
   "metadata": {},
   "outputs": [],
   "source": [
    "target_col = 'loss'\n",
    "\n",
    "Y = fire_ins_df.pop(target_col)\n",
    "X = fire_ins_df"
   ]
  },
  {
   "cell_type": "code",
   "execution_count": 45,
   "metadata": {},
   "outputs": [],
   "source": [
    "# train test split\n",
    "RANDOM_STATE = 1\n",
    "\n",
    "X_train, X_test, Y_train, Y_test = train_test_split(X, Y, test_size=0.2, random_state=RANDOM_STATE)"
   ]
  },
  {
   "cell_type": "code",
   "execution_count": 46,
   "metadata": {},
   "outputs": [
    {
     "data": {
      "text/plain": [
       "<matplotlib.axes._subplots.AxesSubplot at 0x7fc9ca9f5978>"
      ]
     },
     "execution_count": 46,
     "metadata": {},
     "output_type": "execute_result"
    },
    {
     "data": {
      "image/png": "[encoded data removed]",
      "text/plain": [
       "<Figure size 432x288 with 1 Axes>"
      ]
     },
     "metadata": {
      "needs_background": "light"
     },
     "output_type": "display_data"
    }
   ],
   "source": [
    "Y_train.hist(bins='auto')"
   ]
  },
  {
   "cell_type": "code",
   "execution_count": 47,
   "metadata": {},
   "outputs": [
    {
     "data": {
      "text/plain": [
       "<matplotlib.axes._subplots.AxesSubplot at 0x7fc9bafe9320>"
      ]
     },
     "execution_count": 47,
     "metadata": {},
     "output_type": "execute_result"
    },
    {
     "data": {
      "image/png": "[encoded data removed]",
      "text/plain": [
       "<Figure size 432x288 with 1 Axes>"
      ]
     },
     "metadata": {
      "needs_background": "light"
     },
     "output_type": "display_data"
    }
   ],
   "source": [
    "Y_test.hist(bins='auto')"
   ]
  },
  {
   "cell_type": "code",
   "execution_count": 22,
   "metadata": {},
   "outputs": [
    {
     "data": {
      "text/plain": [
       "(244, 30)"
      ]
     },
     "execution_count": 22,
     "metadata": {},
     "output_type": "execute_result"
    }
   ],
   "source": [
    "X_test.shape"
   ]
  },
  {
   "cell_type": "markdown",
   "metadata": {},
   "source": [
    "**Note:** the distributions of train and test target look similar."
   ]
  },
  {
   "cell_type": "markdown",
   "metadata": {},
   "source": [
    "## Baseline Experiment\n",
    " \n",
    "Let's consider model predicting mean value of a `loss` as a baseline. "
   ]
  },
  {
   "cell_type": "code",
   "execution_count": 23,
   "metadata": {},
   "outputs": [
    {
     "name": "stdout",
     "output_type": "stream",
     "text": [
      "mean_squared_error: 0.002580252284332169\n",
      "r2_score: 0.0\n"
     ]
    }
   ],
   "source": [
    "baseline_prediction = Y_test.mean()\n",
    "\n",
    "\n",
    "print(\n",
    "    f'mean_squared_error: {mean_squared_error(Y_test, np.repeat(baseline_prediction, Y_test.shape[0]))}\\n'\n",
    "    f'r2_score: {r2_score(Y_test, np.repeat(baseline_prediction, Y_test.shape[0]))}'\n",
    ")"
   ]
  },
  {
   "cell_type": "code",
   "execution_count": 24,
   "metadata": {},
   "outputs": [],
   "source": [
    "numeric_dtype = 'Numeric'\n",
    "categorical_dtype = 'Categorical'\n",
    "text_dtype = 'Text'\n",
    "\n",
    "dtypes_map = {\n",
    "    # 'loss': numeric_dtype,\n",
    "    'crime_burglary': numeric_dtype,\n",
    "    'crime_risk': numeric_dtype,\n",
    "    'ISO_desc': text_dtype,\n",
    "    'Norm_fire_risk': numeric_dtype,\n",
    "    'crime_arson': numeric_dtype,\n",
    "    'ISO': numeric_dtype,\n",
    "    'Weather_risk': numeric_dtype,\n",
    "    'Geographical_risk': numeric_dtype,\n",
    "    'Premium_remain': numeric_dtype,\n",
    "    'Renewal_Type': categorical_dtype,\n",
    "    'Commercial': categorical_dtype,\n",
    "    'crime_property_type': numeric_dtype,\n",
    "    'Renewal_class': categorical_dtype,\n",
    "    'crime_neighbour_watch': numeric_dtype,\n",
    "    'Previous_claims': numeric_dtype,\n",
    "    'Exposure': numeric_dtype,\n",
    "    'crime_area': numeric_dtype,\n",
    "    'ISO_cat': categorical_dtype,\n",
    "    'Norm_monthly_rent': numeric_dtype,\n",
    "    'No_claim_Years': numeric_dtype,\n",
    "    'crime_residents': numeric_dtype,\n",
    "    'Norm_area_m': numeric_dtype,\n",
    "    'Rating_Class': categorical_dtype,\n",
    "    'Property_size': numeric_dtype,\n",
    "    'Residents': numeric_dtype,\n",
    "    'crime_community': numeric_dtype,\n",
    "    'Loan_mortgage': numeric_dtype,\n",
    "    'Premium_renew': numeric_dtype,\n",
    "    'Sub_Renewal_Class': categorical_dtype,\n",
    "    'Sub_Rating_Class': categorical_dtype\n",
    "}\n",
    "\n",
    "numeric_features = [coll_name for (coll_name, dtype) in dtypes_map.items() if dtype == numeric_dtype]\n",
    "categorical_features = [coll_name for (coll_name, dtype) in dtypes_map.items() if dtype == categorical_dtype]\n",
    "text_features = [coll_name for (coll_name, dtype) in dtypes_map.items() if dtype == text_dtype]"
   ]
  },
  {
   "cell_type": "markdown",
   "metadata": {},
   "source": [
    "## Experiment 1"
   ]
  },
  {
   "cell_type": "code",
   "execution_count": 31,
   "metadata": {
    "scrolled": true
   },
   "outputs": [
    {
     "name": "stdout",
     "output_type": "stream",
     "text": [
      "Fitting 3 folds for each of 1 candidates, totalling 3 fits\n"
     ]
    },
    {
     "name": "stderr",
     "output_type": "stream",
     "text": [
      "[Parallel(n_jobs=-1)]: Using backend LokyBackend with 4 concurrent workers.\n",
      "[Parallel(n_jobs=-1)]: Done   3 out of   3 | elapsed:    1.0s remaining:    0.0s\n",
      "[Parallel(n_jobs=-1)]: Done   3 out of   3 | elapsed:    1.0s finished\n",
      "[Parallel(n_jobs=-1)]: Using backend LokyBackend with 4 concurrent workers.\n",
      "[Parallel(n_jobs=-1)]: Batch computation too fast (0.0417s.) Setting batch_size=2.\n"
     ]
    },
    {
     "name": "stdout",
     "output_type": "stream",
     "text": [
      "Fitting 3 folds for each of 1 candidates, totalling 3 fits\n"
     ]
    },
    {
     "name": "stderr",
     "output_type": "stream",
     "text": [
      "[Parallel(n_jobs=-1)]: Done   3 out of   3 | elapsed:    0.5s remaining:    0.0s\n",
      "[Parallel(n_jobs=-1)]: Done   3 out of   3 | elapsed:    0.5s finished\n",
      "[Parallel(n_jobs=-1)]: Using backend LokyBackend with 4 concurrent workers.\n",
      "[Parallel(n_jobs=-1)]: Batch computation too fast (0.0396s.) Setting batch_size=2.\n",
      "[Parallel(n_jobs=-1)]: Done   3 out of   3 | elapsed:    0.1s remaining:    0.0s\n",
      "[Parallel(n_jobs=-1)]: Done   3 out of   3 | elapsed:    0.1s finished\n",
      "[Parallel(n_jobs=-1)]: Using backend LokyBackend with 4 concurrent workers.\n",
      "[Parallel(n_jobs=-1)]: Batch computation too fast (0.0298s.) Setting batch_size=2.\n",
      "[Parallel(n_jobs=-1)]: Done   3 out of   3 | elapsed:    0.0s remaining:    0.0s\n",
      "[Parallel(n_jobs=-1)]: Done   3 out of   3 | elapsed:    0.0s finished\n",
      "[Parallel(n_jobs=-1)]: Using backend LokyBackend with 4 concurrent workers.\n",
      "[Parallel(n_jobs=-1)]: Batch computation too fast (0.0315s.) Setting batch_size=2.\n",
      "[Parallel(n_jobs=-1)]: Done   3 out of   3 | elapsed:    0.0s remaining:    0.0s\n",
      "[Parallel(n_jobs=-1)]: Done   3 out of   3 | elapsed:    0.0s finished\n",
      "[Parallel(n_jobs=-1)]: Using backend LokyBackend with 4 concurrent workers.\n"
     ]
    },
    {
     "name": "stdout",
     "output_type": "stream",
     "text": [
      "Fitting 3 folds for each of 1 candidates, totalling 3 fits\n",
      "Fitting 3 folds for each of 1 candidates, totalling 3 fits\n",
      "Fitting 3 folds for each of 1 candidates, totalling 3 fits\n",
      "Fitting 3 folds for each of 1 candidates, totalling 3 fits\n"
     ]
    },
    {
     "name": "stderr",
     "output_type": "stream",
     "text": [
      "[Parallel(n_jobs=-1)]: Batch computation too fast (0.0320s.) Setting batch_size=2.\n",
      "[Parallel(n_jobs=-1)]: Done   3 out of   3 | elapsed:    0.0s remaining:    0.0s\n",
      "[Parallel(n_jobs=-1)]: Done   3 out of   3 | elapsed:    0.0s finished\n",
      "[Parallel(n_jobs=-1)]: Using backend LokyBackend with 4 concurrent workers.\n",
      "[Parallel(n_jobs=-1)]: Batch computation too fast (0.0433s.) Setting batch_size=2.\n",
      "[Parallel(n_jobs=-1)]: Done   3 out of   3 | elapsed:    0.1s remaining:    0.0s\n",
      "[Parallel(n_jobs=-1)]: Done   3 out of   3 | elapsed:    0.1s finished\n",
      "[Parallel(n_jobs=-1)]: Using backend LokyBackend with 4 concurrent workers.\n",
      "[Parallel(n_jobs=-1)]: Batch computation too fast (0.0288s.) Setting batch_size=2.\n",
      "[Parallel(n_jobs=-1)]: Done   3 out of   3 | elapsed:    0.1s remaining:    0.0s\n",
      "[Parallel(n_jobs=-1)]: Done   3 out of   3 | elapsed:    0.1s finished\n",
      "[Parallel(n_jobs=-1)]: Using backend LokyBackend with 4 concurrent workers.\n",
      "[Parallel(n_jobs=-1)]: Batch computation too fast (0.0308s.) Setting batch_size=2.\n"
     ]
    },
    {
     "name": "stdout",
     "output_type": "stream",
     "text": [
      "Fitting 3 folds for each of 1 candidates, totalling 3 fits\n",
      "Fitting 3 folds for each of 1 candidates, totalling 3 fits\n",
      "Fitting 3 folds for each of 1 candidates, totalling 3 fits\n"
     ]
    },
    {
     "name": "stderr",
     "output_type": "stream",
     "text": [
      "[Parallel(n_jobs=-1)]: Done   3 out of   3 | elapsed:    0.0s remaining:    0.0s\n",
      "[Parallel(n_jobs=-1)]: Done   3 out of   3 | elapsed:    0.0s finished\n",
      "[Parallel(n_jobs=-1)]: Using backend LokyBackend with 4 concurrent workers.\n"
     ]
    },
    {
     "name": "stdout",
     "output_type": "stream",
     "text": [
      "Fitting 3 folds for each of 1 candidates, totalling 3 fits\n"
     ]
    },
    {
     "name": "stderr",
     "output_type": "stream",
     "text": [
      "[Parallel(n_jobs=-1)]: Batch computation too fast (0.0833s.) Setting batch_size=2.\n",
      "[Parallel(n_jobs=-1)]: Done   3 out of   3 | elapsed:    0.1s remaining:    0.0s\n",
      "[Parallel(n_jobs=-1)]: Done   3 out of   3 | elapsed:    0.1s finished\n"
     ]
    },
    {
     "name": "stdout",
     "output_type": "stream",
     "text": [
      "Fitting 3 folds for each of 1 candidates, totalling 3 fits\n"
     ]
    },
    {
     "name": "stderr",
     "output_type": "stream",
     "text": [
      "[Parallel(n_jobs=-1)]: Using backend LokyBackend with 4 concurrent workers.\n",
      "[Parallel(n_jobs=-1)]: Batch computation too fast (0.0690s.) Setting batch_size=2.\n",
      "[Parallel(n_jobs=-1)]: Done   3 out of   3 | elapsed:    0.1s remaining:    0.0s\n",
      "[Parallel(n_jobs=-1)]: Done   3 out of   3 | elapsed:    0.1s finished\n"
     ]
    },
    {
     "name": "stdout",
     "output_type": "stream",
     "text": [
      "Fitting 3 folds for each of 1 candidates, totalling 3 fits\n"
     ]
    },
    {
     "name": "stderr",
     "output_type": "stream",
     "text": [
      "[Parallel(n_jobs=-1)]: Using backend LokyBackend with 4 concurrent workers.\n",
      "[Parallel(n_jobs=-1)]: Done   3 out of   3 | elapsed:    0.3s remaining:    0.0s\n",
      "[Parallel(n_jobs=-1)]: Done   3 out of   3 | elapsed:    0.3s finished\n"
     ]
    },
    {
     "name": "stdout",
     "output_type": "stream",
     "text": [
      "Fitting 3 folds for each of 1 candidates, totalling 3 fits\n"
     ]
    },
    {
     "name": "stderr",
     "output_type": "stream",
     "text": [
      "[Parallel(n_jobs=-1)]: Using backend LokyBackend with 4 concurrent workers.\n",
      "[Parallel(n_jobs=-1)]: Batch computation too fast (0.0455s.) Setting batch_size=2.\n",
      "[Parallel(n_jobs=-1)]: Done   3 out of   3 | elapsed:    0.1s remaining:    0.0s\n",
      "[Parallel(n_jobs=-1)]: Done   3 out of   3 | elapsed:    0.1s finished\n"
     ]
    },
    {
     "name": "stdout",
     "output_type": "stream",
     "text": [
      "Fitting 3 folds for each of 1 candidates, totalling 3 fits\n"
     ]
    },
    {
     "name": "stderr",
     "output_type": "stream",
     "text": [
      "[Parallel(n_jobs=-1)]: Using backend LokyBackend with 4 concurrent workers.\n",
      "[Parallel(n_jobs=-1)]: Batch computation too fast (0.0684s.) Setting batch_size=2.\n",
      "[Parallel(n_jobs=-1)]: Done   3 out of   3 | elapsed:    0.1s remaining:    0.0s\n",
      "[Parallel(n_jobs=-1)]: Done   3 out of   3 | elapsed:    0.1s finished\n"
     ]
    },
    {
     "name": "stdout",
     "output_type": "stream",
     "text": [
      "Fitting 3 folds for each of 1 candidates, totalling 3 fits\n"
     ]
    },
    {
     "name": "stderr",
     "output_type": "stream",
     "text": [
      "[Parallel(n_jobs=-1)]: Using backend LokyBackend with 4 concurrent workers.\n",
      "[Parallel(n_jobs=-1)]: Batch computation too fast (0.0978s.) Setting batch_size=2.\n",
      "[Parallel(n_jobs=-1)]: Done   3 out of   3 | elapsed:    0.2s remaining:    0.0s\n",
      "[Parallel(n_jobs=-1)]: Done   3 out of   3 | elapsed:    0.2s finished\n"
     ]
    },
    {
     "name": "stdout",
     "output_type": "stream",
     "text": [
      "Fitting 3 folds for each of 1 candidates, totalling 3 fits\n"
     ]
    },
    {
     "name": "stderr",
     "output_type": "stream",
     "text": [
      "[Parallel(n_jobs=-1)]: Using backend LokyBackend with 4 concurrent workers.\n",
      "[Parallel(n_jobs=-1)]: Batch computation too fast (0.0728s.) Setting batch_size=2.\n",
      "[Parallel(n_jobs=-1)]: Done   3 out of   3 | elapsed:    0.1s remaining:    0.0s\n",
      "[Parallel(n_jobs=-1)]: Done   3 out of   3 | elapsed:    0.1s finished\n"
     ]
    },
    {
     "name": "stdout",
     "output_type": "stream",
     "text": [
      "Fitting 3 folds for each of 1 candidates, totalling 3 fits\n"
     ]
    },
    {
     "name": "stderr",
     "output_type": "stream",
     "text": [
      "[Parallel(n_jobs=-1)]: Using backend LokyBackend with 4 concurrent workers.\n",
      "[Parallel(n_jobs=-1)]: Batch computation too fast (0.0846s.) Setting batch_size=2.\n",
      "[Parallel(n_jobs=-1)]: Done   3 out of   3 | elapsed:    0.1s remaining:    0.0s\n",
      "[Parallel(n_jobs=-1)]: Done   3 out of   3 | elapsed:    0.1s finished\n"
     ]
    },
    {
     "name": "stdout",
     "output_type": "stream",
     "text": [
      "Fitting 3 folds for each of 1 candidates, totalling 3 fits\n"
     ]
    },
    {
     "name": "stderr",
     "output_type": "stream",
     "text": [
      "[Parallel(n_jobs=-1)]: Using backend LokyBackend with 4 concurrent workers.\n",
      "[Parallel(n_jobs=-1)]: Batch computation too fast (0.0967s.) Setting batch_size=2.\n",
      "[Parallel(n_jobs=-1)]: Done   3 out of   3 | elapsed:    0.1s remaining:    0.0s\n",
      "[Parallel(n_jobs=-1)]: Done   3 out of   3 | elapsed:    0.1s finished\n"
     ]
    },
    {
     "name": "stdout",
     "output_type": "stream",
     "text": [
      "Fitting 3 folds for each of 1 candidates, totalling 3 fits\n"
     ]
    },
    {
     "name": "stderr",
     "output_type": "stream",
     "text": [
      "[Parallel(n_jobs=-1)]: Using backend LokyBackend with 4 concurrent workers.\n",
      "[Parallel(n_jobs=-1)]: Batch computation too fast (0.0484s.) Setting batch_size=2.\n",
      "[Parallel(n_jobs=-1)]: Done   3 out of   3 | elapsed:    0.1s remaining:    0.0s\n",
      "[Parallel(n_jobs=-1)]: Done   3 out of   3 | elapsed:    0.1s finished\n"
     ]
    },
    {
     "name": "stdout",
     "output_type": "stream",
     "text": [
      "Fitting 3 folds for each of 1 candidates, totalling 3 fits\n"
     ]
    },
    {
     "name": "stderr",
     "output_type": "stream",
     "text": [
      "[Parallel(n_jobs=-1)]: Using backend LokyBackend with 4 concurrent workers.\n",
      "[Parallel(n_jobs=-1)]: Batch computation too fast (0.0615s.) Setting batch_size=2.\n",
      "[Parallel(n_jobs=-1)]: Done   3 out of   3 | elapsed:    0.1s remaining:    0.0s\n",
      "[Parallel(n_jobs=-1)]: Done   3 out of   3 | elapsed:    0.1s finished\n"
     ]
    },
    {
     "name": "stdout",
     "output_type": "stream",
     "text": [
      "Fitting 3 folds for each of 1 candidates, totalling 3 fits\n"
     ]
    },
    {
     "name": "stderr",
     "output_type": "stream",
     "text": [
      "[Parallel(n_jobs=-1)]: Using backend LokyBackend with 4 concurrent workers.\n",
      "[Parallel(n_jobs=-1)]: Batch computation too fast (0.0708s.) Setting batch_size=2.\n",
      "[Parallel(n_jobs=-1)]: Done   3 out of   3 | elapsed:    0.1s remaining:    0.0s\n",
      "[Parallel(n_jobs=-1)]: Done   3 out of   3 | elapsed:    0.1s finished\n"
     ]
    },
    {
     "name": "stdout",
     "output_type": "stream",
     "text": [
      "Fitting 3 folds for each of 1 candidates, totalling 3 fits\n"
     ]
    },
    {
     "name": "stderr",
     "output_type": "stream",
     "text": [
      "[Parallel(n_jobs=-1)]: Using backend LokyBackend with 4 concurrent workers.\n",
      "[Parallel(n_jobs=-1)]: Batch computation too fast (0.0629s.) Setting batch_size=2.\n",
      "[Parallel(n_jobs=-1)]: Done   3 out of   3 | elapsed:    0.1s remaining:    0.0s\n",
      "[Parallel(n_jobs=-1)]: Done   3 out of   3 | elapsed:    0.1s finished\n"
     ]
    },
    {
     "name": "stdout",
     "output_type": "stream",
     "text": [
      "Fitting 3 folds for each of 1 candidates, totalling 3 fits\n"
     ]
    },
    {
     "name": "stderr",
     "output_type": "stream",
     "text": [
      "[Parallel(n_jobs=-1)]: Using backend LokyBackend with 4 concurrent workers.\n",
      "[Parallel(n_jobs=-1)]: Batch computation too fast (0.1294s.) Setting batch_size=2.\n",
      "[Parallel(n_jobs=-1)]: Done   3 out of   3 | elapsed:    0.2s remaining:    0.0s\n",
      "[Parallel(n_jobs=-1)]: Done   3 out of   3 | elapsed:    0.2s finished\n"
     ]
    },
    {
     "name": "stdout",
     "output_type": "stream",
     "text": [
      "Fitting 3 folds for each of 1 candidates, totalling 3 fits\n"
     ]
    },
    {
     "name": "stderr",
     "output_type": "stream",
     "text": [
      "[Parallel(n_jobs=-1)]: Using backend LokyBackend with 4 concurrent workers.\n",
      "[Parallel(n_jobs=-1)]: Batch computation too fast (0.0661s.) Setting batch_size=2.\n",
      "[Parallel(n_jobs=-1)]: Done   3 out of   3 | elapsed:    0.1s remaining:    0.0s\n",
      "[Parallel(n_jobs=-1)]: Done   3 out of   3 | elapsed:    0.1s finished\n"
     ]
    },
    {
     "name": "stdout",
     "output_type": "stream",
     "text": [
      "Fitting 3 folds for each of 1 candidates, totalling 3 fits\n"
     ]
    },
    {
     "name": "stderr",
     "output_type": "stream",
     "text": [
      "[Parallel(n_jobs=-1)]: Using backend LokyBackend with 4 concurrent workers.\n",
      "[Parallel(n_jobs=-1)]: Batch computation too fast (0.0697s.) Setting batch_size=2.\n",
      "[Parallel(n_jobs=-1)]: Done   3 out of   3 | elapsed:    0.1s remaining:    0.0s\n",
      "[Parallel(n_jobs=-1)]: Done   3 out of   3 | elapsed:    0.1s finished\n"
     ]
    },
    {
     "name": "stdout",
     "output_type": "stream",
     "text": [
      "Fitting 3 folds for each of 1 candidates, totalling 3 fits\n"
     ]
    },
    {
     "name": "stderr",
     "output_type": "stream",
     "text": [
      "[Parallel(n_jobs=-1)]: Using backend LokyBackend with 4 concurrent workers.\n",
      "[Parallel(n_jobs=-1)]: Batch computation too fast (0.0587s.) Setting batch_size=2.\n",
      "[Parallel(n_jobs=-1)]: Done   3 out of   3 | elapsed:    0.1s remaining:    0.0s\n",
      "[Parallel(n_jobs=-1)]: Done   3 out of   3 | elapsed:    0.1s finished\n",
      "/home/rpartsey/development/aml-class-20/venv/lib/python3.6/site-packages/skopt/optimizer/optimizer.py:409: UserWarning: The objective has been evaluated at this point before.\n",
      "  warnings.warn(\"The objective has been evaluated \"\n"
     ]
    },
    {
     "name": "stdout",
     "output_type": "stream",
     "text": [
      "Fitting 3 folds for each of 1 candidates, totalling 3 fits\n"
     ]
    },
    {
     "name": "stderr",
     "output_type": "stream",
     "text": [
      "[Parallel(n_jobs=-1)]: Using backend LokyBackend with 4 concurrent workers.\n",
      "[Parallel(n_jobs=-1)]: Batch computation too fast (0.0682s.) Setting batch_size=2.\n",
      "[Parallel(n_jobs=-1)]: Done   3 out of   3 | elapsed:    0.1s remaining:    0.0s\n",
      "[Parallel(n_jobs=-1)]: Done   3 out of   3 | elapsed:    0.1s finished\n"
     ]
    },
    {
     "name": "stdout",
     "output_type": "stream",
     "text": [
      "Fitting 3 folds for each of 1 candidates, totalling 3 fits\n"
     ]
    },
    {
     "name": "stderr",
     "output_type": "stream",
     "text": [
      "[Parallel(n_jobs=-1)]: Using backend LokyBackend with 4 concurrent workers.\n",
      "[Parallel(n_jobs=-1)]: Batch computation too fast (0.0734s.) Setting batch_size=2.\n",
      "[Parallel(n_jobs=-1)]: Done   3 out of   3 | elapsed:    0.1s remaining:    0.0s\n",
      "[Parallel(n_jobs=-1)]: Done   3 out of   3 | elapsed:    0.1s finished\n"
     ]
    },
    {
     "name": "stdout",
     "output_type": "stream",
     "text": [
      "Fitting 3 folds for each of 1 candidates, totalling 3 fits\n"
     ]
    },
    {
     "name": "stderr",
     "output_type": "stream",
     "text": [
      "[Parallel(n_jobs=-1)]: Using backend LokyBackend with 4 concurrent workers.\n",
      "[Parallel(n_jobs=-1)]: Batch computation too fast (0.0561s.) Setting batch_size=2.\n",
      "[Parallel(n_jobs=-1)]: Done   3 out of   3 | elapsed:    0.1s remaining:    0.0s\n",
      "[Parallel(n_jobs=-1)]: Done   3 out of   3 | elapsed:    0.1s finished\n"
     ]
    },
    {
     "name": "stdout",
     "output_type": "stream",
     "text": [
      "Fitting 3 folds for each of 1 candidates, totalling 3 fits\n"
     ]
    },
    {
     "name": "stderr",
     "output_type": "stream",
     "text": [
      "[Parallel(n_jobs=-1)]: Using backend LokyBackend with 4 concurrent workers.\n",
      "[Parallel(n_jobs=-1)]: Batch computation too fast (0.0613s.) Setting batch_size=2.\n",
      "[Parallel(n_jobs=-1)]: Done   3 out of   3 | elapsed:    0.1s remaining:    0.0s\n",
      "[Parallel(n_jobs=-1)]: Done   3 out of   3 | elapsed:    0.1s finished\n"
     ]
    },
    {
     "name": "stdout",
     "output_type": "stream",
     "text": [
      "Fitting 3 folds for each of 1 candidates, totalling 3 fits\n"
     ]
    },
    {
     "name": "stderr",
     "output_type": "stream",
     "text": [
      "[Parallel(n_jobs=-1)]: Using backend LokyBackend with 4 concurrent workers.\n",
      "[Parallel(n_jobs=-1)]: Batch computation too fast (0.0638s.) Setting batch_size=2.\n",
      "[Parallel(n_jobs=-1)]: Done   3 out of   3 | elapsed:    0.1s remaining:    0.0s\n",
      "[Parallel(n_jobs=-1)]: Done   3 out of   3 | elapsed:    0.1s finished\n"
     ]
    },
    {
     "name": "stdout",
     "output_type": "stream",
     "text": [
      "Fitting 3 folds for each of 1 candidates, totalling 3 fits\n"
     ]
    },
    {
     "name": "stderr",
     "output_type": "stream",
     "text": [
      "[Parallel(n_jobs=-1)]: Using backend LokyBackend with 4 concurrent workers.\n",
      "[Parallel(n_jobs=-1)]: Batch computation too fast (0.0557s.) Setting batch_size=2.\n",
      "[Parallel(n_jobs=-1)]: Done   3 out of   3 | elapsed:    0.1s remaining:    0.0s\n",
      "[Parallel(n_jobs=-1)]: Done   3 out of   3 | elapsed:    0.1s finished\n"
     ]
    },
    {
     "name": "stdout",
     "output_type": "stream",
     "text": [
      "Fitting 3 folds for each of 1 candidates, totalling 3 fits\n"
     ]
    },
    {
     "name": "stderr",
     "output_type": "stream",
     "text": [
      "[Parallel(n_jobs=-1)]: Using backend LokyBackend with 4 concurrent workers.\n",
      "[Parallel(n_jobs=-1)]: Batch computation too fast (0.0479s.) Setting batch_size=2.\n",
      "[Parallel(n_jobs=-1)]: Done   3 out of   3 | elapsed:    0.1s remaining:    0.0s\n",
      "[Parallel(n_jobs=-1)]: Done   3 out of   3 | elapsed:    0.1s finished\n"
     ]
    },
    {
     "name": "stdout",
     "output_type": "stream",
     "text": [
      "Fitting 3 folds for each of 1 candidates, totalling 3 fits\n"
     ]
    },
    {
     "name": "stderr",
     "output_type": "stream",
     "text": [
      "[Parallel(n_jobs=-1)]: Using backend LokyBackend with 4 concurrent workers.\n",
      "[Parallel(n_jobs=-1)]: Batch computation too fast (0.0408s.) Setting batch_size=2.\n",
      "[Parallel(n_jobs=-1)]: Done   3 out of   3 | elapsed:    0.1s remaining:    0.0s\n",
      "[Parallel(n_jobs=-1)]: Done   3 out of   3 | elapsed:    0.1s finished\n"
     ]
    },
    {
     "name": "stdout",
     "output_type": "stream",
     "text": [
      "Fitting 3 folds for each of 1 candidates, totalling 3 fits\n"
     ]
    },
    {
     "name": "stderr",
     "output_type": "stream",
     "text": [
      "[Parallel(n_jobs=-1)]: Using backend LokyBackend with 4 concurrent workers.\n",
      "[Parallel(n_jobs=-1)]: Batch computation too fast (0.0822s.) Setting batch_size=2.\n",
      "[Parallel(n_jobs=-1)]: Done   3 out of   3 | elapsed:    0.1s remaining:    0.0s\n",
      "[Parallel(n_jobs=-1)]: Done   3 out of   3 | elapsed:    0.1s finished\n"
     ]
    },
    {
     "name": "stdout",
     "output_type": "stream",
     "text": [
      "best params: OrderedDict([('lr__alpha', 0.001), ('lr__l1_ratio', 0.0010000000000000018)])\n",
      "mean_squared_error: 0.0024151722845530024\n",
      "r2_score: 0.06397823995024321\n"
     ]
    },
    {
     "name": "stderr",
     "output_type": "stream",
     "text": [
      "/home/rpartsey/development/aml-class-20/venv/lib/python3.6/site-packages/sklearn/linear_model/coordinate_descent.py:491: ConvergenceWarning: Objective did not converge. You might want to increase the number of iterations. Fitting data with very small alpha may cause precision problems.\n",
      "  ConvergenceWarning)\n"
     ]
    }
   ],
   "source": [
    "numeric_pipeline = Pipeline(steps=[\n",
    "    ('imputer', SimpleImputer(strategy='median')),\n",
    "    ('scaler', MinMaxScaler()),\n",
    "])\n",
    "\n",
    "categorical_pipeline = Pipeline(steps=[\n",
    "    ('imputer', SimpleImputer(strategy='constant', fill_value='missing')),\n",
    "    ('onehot', OneHotEncoder(handle_unknown='ignore')),\n",
    "])\n",
    "\n",
    "\n",
    "preprocessor = ColumnTransformer(transformers=[\n",
    "    ('num', numeric_pipeline, numeric_features),\n",
    "    ('cat', categorical_pipeline, categorical_features),\n",
    "])\n",
    "\n",
    "param_grid = { \n",
    "    'lr__alpha': Real(0.001, 1, prior='uniform'),\n",
    "    'lr__l1_ratio': Real(0.001, 1, prior='uniform'),\n",
    "}\n",
    "\n",
    "est = Pipeline(steps=[\n",
    "    ('preprocessor', preprocessor),\n",
    "    ('lr', ElasticNet()),\n",
    "])\n",
    "\n",
    "\n",
    "\n",
    "bs = BayesSearchCV(est, param_grid, cv=3, scoring='neg_mean_squared_error', \n",
    "                   n_iter=35, n_jobs=-1, verbose=10, random_state=RANDOM_STATE)\n",
    "\n",
    "bs.fit(X_train, Y_train)\n",
    "\n",
    "\n",
    "print(\n",
    "    f'best params: {bs.best_params_}\\n'\n",
    "    f'mean_squared_error: {mean_squared_error(Y_test, bs.predict(X_test))}\\n'\n",
    "    f'r2_score: {r2_score(Y_test, bs.predict(X_test))}'\n",
    ")"
   ]
  },
  {
   "cell_type": "markdown",
   "metadata": {},
   "source": [
    "## Experiment 2"
   ]
  },
  {
   "cell_type": "code",
   "execution_count": 39,
   "metadata": {},
   "outputs": [
    {
     "name": "stdout",
     "output_type": "stream",
     "text": [
      "Fitting 3 folds for each of 1 candidates, totalling 3 fits\n",
      "Fitting 3 folds for each of 1 candidates, totalling 3 fits\n",
      "Fitting 3 folds for each of 1 candidates, totalling 3 fits\n"
     ]
    },
    {
     "name": "stderr",
     "output_type": "stream",
     "text": [
      "[Parallel(n_jobs=-1)]: Using backend LokyBackend with 4 concurrent workers.\n",
      "[Parallel(n_jobs=-1)]: Batch computation too fast (0.0627s.) Setting batch_size=2.\n",
      "[Parallel(n_jobs=-1)]: Done   3 out of   3 | elapsed:    0.1s remaining:    0.0s\n",
      "[Parallel(n_jobs=-1)]: Done   3 out of   3 | elapsed:    0.1s finished\n",
      "[Parallel(n_jobs=-1)]: Using backend LokyBackend with 4 concurrent workers.\n",
      "[Parallel(n_jobs=-1)]: Batch computation too fast (0.0489s.) Setting batch_size=2.\n",
      "[Parallel(n_jobs=-1)]: Done   3 out of   3 | elapsed:    0.1s remaining:    0.0s\n",
      "[Parallel(n_jobs=-1)]: Done   3 out of   3 | elapsed:    0.1s finished\n",
      "[Parallel(n_jobs=-1)]: Using backend LokyBackend with 4 concurrent workers.\n",
      "[Parallel(n_jobs=-1)]: Batch computation too fast (0.0533s.) Setting batch_size=2.\n",
      "[Parallel(n_jobs=-1)]: Done   3 out of   3 | elapsed:    0.1s remaining:    0.0s\n",
      "[Parallel(n_jobs=-1)]: Done   3 out of   3 | elapsed:    0.1s finished\n",
      "[Parallel(n_jobs=-1)]: Using backend LokyBackend with 4 concurrent workers.\n",
      "[Parallel(n_jobs=-1)]: Batch computation too fast (0.0464s.) Setting batch_size=2.\n",
      "[Parallel(n_jobs=-1)]: Done   3 out of   3 | elapsed:    0.1s remaining:    0.0s\n",
      "[Parallel(n_jobs=-1)]: Done   3 out of   3 | elapsed:    0.1s finished\n",
      "[Parallel(n_jobs=-1)]: Using backend LokyBackend with 4 concurrent workers.\n",
      "[Parallel(n_jobs=-1)]: Batch computation too fast (0.0454s.) Setting batch_size=2.\n",
      "[Parallel(n_jobs=-1)]: Done   3 out of   3 | elapsed:    0.1s remaining:    0.0s\n",
      "[Parallel(n_jobs=-1)]: Done   3 out of   3 | elapsed:    0.1s finished\n",
      "[Parallel(n_jobs=-1)]: Using backend LokyBackend with 4 concurrent workers.\n",
      "[Parallel(n_jobs=-1)]: Batch computation too fast (0.0360s.) Setting batch_size=2.\n"
     ]
    },
    {
     "name": "stdout",
     "output_type": "stream",
     "text": [
      "Fitting 3 folds for each of 1 candidates, totalling 3 fits\n",
      "Fitting 3 folds for each of 1 candidates, totalling 3 fits\n",
      "Fitting 3 folds for each of 1 candidates, totalling 3 fits\n",
      "Fitting 3 folds for each of 1 candidates, totalling 3 fits\n"
     ]
    },
    {
     "name": "stderr",
     "output_type": "stream",
     "text": [
      "[Parallel(n_jobs=-1)]: Done   3 out of   3 | elapsed:    0.1s remaining:    0.0s\n",
      "[Parallel(n_jobs=-1)]: Done   3 out of   3 | elapsed:    0.1s finished\n",
      "[Parallel(n_jobs=-1)]: Using backend LokyBackend with 4 concurrent workers.\n",
      "[Parallel(n_jobs=-1)]: Batch computation too fast (0.0594s.) Setting batch_size=2.\n",
      "[Parallel(n_jobs=-1)]: Done   3 out of   3 | elapsed:    0.1s remaining:    0.0s\n",
      "[Parallel(n_jobs=-1)]: Done   3 out of   3 | elapsed:    0.1s finished\n",
      "[Parallel(n_jobs=-1)]: Using backend LokyBackend with 4 concurrent workers.\n",
      "[Parallel(n_jobs=-1)]: Batch computation too fast (0.0394s.) Setting batch_size=2.\n",
      "[Parallel(n_jobs=-1)]: Done   3 out of   3 | elapsed:    0.1s remaining:    0.0s\n",
      "[Parallel(n_jobs=-1)]: Done   3 out of   3 | elapsed:    0.1s finished\n",
      "[Parallel(n_jobs=-1)]: Using backend LokyBackend with 4 concurrent workers.\n"
     ]
    },
    {
     "name": "stdout",
     "output_type": "stream",
     "text": [
      "Fitting 3 folds for each of 1 candidates, totalling 3 fits\n",
      "Fitting 3 folds for each of 1 candidates, totalling 3 fits\n"
     ]
    },
    {
     "name": "stderr",
     "output_type": "stream",
     "text": [
      "[Parallel(n_jobs=-1)]: Batch computation too fast (0.0428s.) Setting batch_size=2.\n",
      "[Parallel(n_jobs=-1)]: Done   3 out of   3 | elapsed:    0.1s remaining:    0.0s\n",
      "[Parallel(n_jobs=-1)]: Done   3 out of   3 | elapsed:    0.1s finished\n",
      "[Parallel(n_jobs=-1)]: Using backend LokyBackend with 4 concurrent workers.\n"
     ]
    },
    {
     "name": "stdout",
     "output_type": "stream",
     "text": [
      "Fitting 3 folds for each of 1 candidates, totalling 3 fits\n"
     ]
    },
    {
     "name": "stderr",
     "output_type": "stream",
     "text": [
      "[Parallel(n_jobs=-1)]: Batch computation too fast (0.1047s.) Setting batch_size=2.\n",
      "[Parallel(n_jobs=-1)]: Done   3 out of   3 | elapsed:    0.1s remaining:    0.0s\n",
      "[Parallel(n_jobs=-1)]: Done   3 out of   3 | elapsed:    0.1s finished\n"
     ]
    },
    {
     "name": "stdout",
     "output_type": "stream",
     "text": [
      "Fitting 3 folds for each of 1 candidates, totalling 3 fits\n"
     ]
    },
    {
     "name": "stderr",
     "output_type": "stream",
     "text": [
      "[Parallel(n_jobs=-1)]: Using backend LokyBackend with 4 concurrent workers.\n",
      "[Parallel(n_jobs=-1)]: Batch computation too fast (0.1021s.) Setting batch_size=2.\n",
      "[Parallel(n_jobs=-1)]: Done   3 out of   3 | elapsed:    0.1s remaining:    0.0s\n",
      "[Parallel(n_jobs=-1)]: Done   3 out of   3 | elapsed:    0.1s finished\n"
     ]
    },
    {
     "name": "stdout",
     "output_type": "stream",
     "text": [
      "Fitting 3 folds for each of 1 candidates, totalling 3 fits\n"
     ]
    },
    {
     "name": "stderr",
     "output_type": "stream",
     "text": [
      "[Parallel(n_jobs=-1)]: Using backend LokyBackend with 4 concurrent workers.\n",
      "[Parallel(n_jobs=-1)]: Done   3 out of   3 | elapsed:    0.9s remaining:    0.0s\n",
      "[Parallel(n_jobs=-1)]: Done   3 out of   3 | elapsed:    0.9s finished\n",
      "/home/rpartsey/development/aml-class-20/venv/lib/python3.6/site-packages/skopt/optimizer/optimizer.py:409: UserWarning: The objective has been evaluated at this point before.\n",
      "  warnings.warn(\"The objective has been evaluated \"\n",
      "[Parallel(n_jobs=-1)]: Using backend LokyBackend with 4 concurrent workers.\n"
     ]
    },
    {
     "name": "stdout",
     "output_type": "stream",
     "text": [
      "Fitting 3 folds for each of 1 candidates, totalling 3 fits\n"
     ]
    },
    {
     "name": "stderr",
     "output_type": "stream",
     "text": [
      "[Parallel(n_jobs=-1)]: Batch computation too fast (0.1135s.) Setting batch_size=2.\n",
      "[Parallel(n_jobs=-1)]: Done   3 out of   3 | elapsed:    0.2s remaining:    0.0s\n",
      "[Parallel(n_jobs=-1)]: Done   3 out of   3 | elapsed:    0.2s finished\n"
     ]
    },
    {
     "name": "stdout",
     "output_type": "stream",
     "text": [
      "Fitting 3 folds for each of 1 candidates, totalling 3 fits\n"
     ]
    },
    {
     "name": "stderr",
     "output_type": "stream",
     "text": [
      "[Parallel(n_jobs=-1)]: Using backend LokyBackend with 4 concurrent workers.\n",
      "[Parallel(n_jobs=-1)]: Batch computation too fast (0.0694s.) Setting batch_size=2.\n",
      "[Parallel(n_jobs=-1)]: Done   3 out of   3 | elapsed:    0.1s remaining:    0.0s\n",
      "[Parallel(n_jobs=-1)]: Done   3 out of   3 | elapsed:    0.1s finished\n"
     ]
    },
    {
     "name": "stdout",
     "output_type": "stream",
     "text": [
      "Fitting 3 folds for each of 1 candidates, totalling 3 fits\n"
     ]
    },
    {
     "name": "stderr",
     "output_type": "stream",
     "text": [
      "[Parallel(n_jobs=-1)]: Using backend LokyBackend with 4 concurrent workers.\n",
      "[Parallel(n_jobs=-1)]: Done   3 out of   3 | elapsed:    0.3s remaining:    0.0s\n",
      "[Parallel(n_jobs=-1)]: Done   3 out of   3 | elapsed:    0.3s finished\n"
     ]
    },
    {
     "name": "stdout",
     "output_type": "stream",
     "text": [
      "Fitting 3 folds for each of 1 candidates, totalling 3 fits\n"
     ]
    },
    {
     "name": "stderr",
     "output_type": "stream",
     "text": [
      "[Parallel(n_jobs=-1)]: Using backend LokyBackend with 4 concurrent workers.\n",
      "[Parallel(n_jobs=-1)]: Batch computation too fast (0.0710s.) Setting batch_size=2.\n",
      "[Parallel(n_jobs=-1)]: Done   3 out of   3 | elapsed:    0.1s remaining:    0.0s\n",
      "[Parallel(n_jobs=-1)]: Done   3 out of   3 | elapsed:    0.1s finished\n"
     ]
    },
    {
     "name": "stdout",
     "output_type": "stream",
     "text": [
      "Fitting 3 folds for each of 1 candidates, totalling 3 fits\n"
     ]
    },
    {
     "name": "stderr",
     "output_type": "stream",
     "text": [
      "[Parallel(n_jobs=-1)]: Using backend LokyBackend with 4 concurrent workers.\n",
      "[Parallel(n_jobs=-1)]: Batch computation too fast (0.0666s.) Setting batch_size=2.\n",
      "[Parallel(n_jobs=-1)]: Done   3 out of   3 | elapsed:    0.1s remaining:    0.0s\n",
      "[Parallel(n_jobs=-1)]: Done   3 out of   3 | elapsed:    0.1s finished\n"
     ]
    },
    {
     "name": "stdout",
     "output_type": "stream",
     "text": [
      "Fitting 3 folds for each of 1 candidates, totalling 3 fits\n"
     ]
    },
    {
     "name": "stderr",
     "output_type": "stream",
     "text": [
      "[Parallel(n_jobs=-1)]: Using backend LokyBackend with 4 concurrent workers.\n",
      "[Parallel(n_jobs=-1)]: Batch computation too fast (0.0830s.) Setting batch_size=2.\n",
      "[Parallel(n_jobs=-1)]: Done   3 out of   3 | elapsed:    0.1s remaining:    0.0s\n",
      "[Parallel(n_jobs=-1)]: Done   3 out of   3 | elapsed:    0.1s finished\n"
     ]
    },
    {
     "name": "stdout",
     "output_type": "stream",
     "text": [
      "Fitting 3 folds for each of 1 candidates, totalling 3 fits\n"
     ]
    },
    {
     "name": "stderr",
     "output_type": "stream",
     "text": [
      "[Parallel(n_jobs=-1)]: Using backend LokyBackend with 4 concurrent workers.\n",
      "[Parallel(n_jobs=-1)]: Done   3 out of   3 | elapsed:    0.4s remaining:    0.0s\n",
      "[Parallel(n_jobs=-1)]: Done   3 out of   3 | elapsed:    0.4s finished\n"
     ]
    },
    {
     "name": "stdout",
     "output_type": "stream",
     "text": [
      "Fitting 3 folds for each of 1 candidates, totalling 3 fits\n"
     ]
    },
    {
     "name": "stderr",
     "output_type": "stream",
     "text": [
      "[Parallel(n_jobs=-1)]: Using backend LokyBackend with 4 concurrent workers.\n",
      "[Parallel(n_jobs=-1)]: Batch computation too fast (0.1012s.) Setting batch_size=2.\n",
      "[Parallel(n_jobs=-1)]: Done   3 out of   3 | elapsed:    0.1s remaining:    0.0s\n",
      "[Parallel(n_jobs=-1)]: Done   3 out of   3 | elapsed:    0.1s finished\n"
     ]
    },
    {
     "name": "stdout",
     "output_type": "stream",
     "text": [
      "Fitting 3 folds for each of 1 candidates, totalling 3 fits\n"
     ]
    },
    {
     "name": "stderr",
     "output_type": "stream",
     "text": [
      "[Parallel(n_jobs=-1)]: Using backend LokyBackend with 4 concurrent workers.\n",
      "[Parallel(n_jobs=-1)]: Batch computation too fast (0.0847s.) Setting batch_size=2.\n",
      "[Parallel(n_jobs=-1)]: Done   3 out of   3 | elapsed:    0.1s remaining:    0.0s\n",
      "[Parallel(n_jobs=-1)]: Done   3 out of   3 | elapsed:    0.1s finished\n"
     ]
    },
    {
     "name": "stdout",
     "output_type": "stream",
     "text": [
      "Fitting 3 folds for each of 1 candidates, totalling 3 fits\n"
     ]
    },
    {
     "name": "stderr",
     "output_type": "stream",
     "text": [
      "[Parallel(n_jobs=-1)]: Using backend LokyBackend with 4 concurrent workers.\n",
      "[Parallel(n_jobs=-1)]: Batch computation too fast (0.0750s.) Setting batch_size=2.\n",
      "[Parallel(n_jobs=-1)]: Done   3 out of   3 | elapsed:    0.1s remaining:    0.0s\n",
      "[Parallel(n_jobs=-1)]: Done   3 out of   3 | elapsed:    0.1s finished\n"
     ]
    },
    {
     "name": "stdout",
     "output_type": "stream",
     "text": [
      "Fitting 3 folds for each of 1 candidates, totalling 3 fits\n"
     ]
    },
    {
     "name": "stderr",
     "output_type": "stream",
     "text": [
      "[Parallel(n_jobs=-1)]: Using backend LokyBackend with 4 concurrent workers.\n",
      "[Parallel(n_jobs=-1)]: Done   3 out of   3 | elapsed:    0.6s remaining:    0.0s\n",
      "[Parallel(n_jobs=-1)]: Done   3 out of   3 | elapsed:    0.6s finished\n"
     ]
    },
    {
     "name": "stdout",
     "output_type": "stream",
     "text": [
      "Fitting 3 folds for each of 1 candidates, totalling 3 fits\n"
     ]
    },
    {
     "name": "stderr",
     "output_type": "stream",
     "text": [
      "[Parallel(n_jobs=-1)]: Using backend LokyBackend with 4 concurrent workers.\n",
      "[Parallel(n_jobs=-1)]: Batch computation too fast (0.0752s.) Setting batch_size=2.\n",
      "[Parallel(n_jobs=-1)]: Done   3 out of   3 | elapsed:    0.1s remaining:    0.0s\n",
      "[Parallel(n_jobs=-1)]: Done   3 out of   3 | elapsed:    0.1s finished\n"
     ]
    },
    {
     "name": "stdout",
     "output_type": "stream",
     "text": [
      "Fitting 3 folds for each of 1 candidates, totalling 3 fits\n"
     ]
    },
    {
     "name": "stderr",
     "output_type": "stream",
     "text": [
      "[Parallel(n_jobs=-1)]: Using backend LokyBackend with 4 concurrent workers.\n",
      "[Parallel(n_jobs=-1)]: Batch computation too fast (0.0762s.) Setting batch_size=2.\n",
      "[Parallel(n_jobs=-1)]: Done   3 out of   3 | elapsed:    0.1s remaining:    0.0s\n",
      "[Parallel(n_jobs=-1)]: Done   3 out of   3 | elapsed:    0.1s finished\n"
     ]
    },
    {
     "name": "stdout",
     "output_type": "stream",
     "text": [
      "Fitting 3 folds for each of 1 candidates, totalling 3 fits\n"
     ]
    },
    {
     "name": "stderr",
     "output_type": "stream",
     "text": [
      "[Parallel(n_jobs=-1)]: Using backend LokyBackend with 4 concurrent workers.\n",
      "[Parallel(n_jobs=-1)]: Batch computation too fast (0.1517s.) Setting batch_size=2.\n",
      "[Parallel(n_jobs=-1)]: Done   3 out of   3 | elapsed:    0.2s remaining:    0.0s\n",
      "[Parallel(n_jobs=-1)]: Done   3 out of   3 | elapsed:    0.2s finished\n",
      "/home/rpartsey/development/aml-class-20/venv/lib/python3.6/site-packages/skopt/optimizer/optimizer.py:409: UserWarning: The objective has been evaluated at this point before.\n",
      "  warnings.warn(\"The objective has been evaluated \"\n"
     ]
    },
    {
     "name": "stdout",
     "output_type": "stream",
     "text": [
      "Fitting 3 folds for each of 1 candidates, totalling 3 fits\n"
     ]
    },
    {
     "name": "stderr",
     "output_type": "stream",
     "text": [
      "[Parallel(n_jobs=-1)]: Using backend LokyBackend with 4 concurrent workers.\n",
      "[Parallel(n_jobs=-1)]: Done   3 out of   3 | elapsed:    0.8s remaining:    0.0s\n",
      "[Parallel(n_jobs=-1)]: Done   3 out of   3 | elapsed:    0.8s finished\n"
     ]
    },
    {
     "name": "stdout",
     "output_type": "stream",
     "text": [
      "Fitting 3 folds for each of 1 candidates, totalling 3 fits\n"
     ]
    },
    {
     "name": "stderr",
     "output_type": "stream",
     "text": [
      "[Parallel(n_jobs=-1)]: Using backend LokyBackend with 4 concurrent workers.\n",
      "[Parallel(n_jobs=-1)]: Batch computation too fast (0.0871s.) Setting batch_size=2.\n",
      "[Parallel(n_jobs=-1)]: Done   3 out of   3 | elapsed:    0.2s remaining:    0.0s\n",
      "[Parallel(n_jobs=-1)]: Done   3 out of   3 | elapsed:    0.2s finished\n",
      "/home/rpartsey/development/aml-class-20/venv/lib/python3.6/site-packages/skopt/optimizer/optimizer.py:409: UserWarning: The objective has been evaluated at this point before.\n",
      "  warnings.warn(\"The objective has been evaluated \"\n"
     ]
    },
    {
     "name": "stdout",
     "output_type": "stream",
     "text": [
      "Fitting 3 folds for each of 1 candidates, totalling 3 fits\n"
     ]
    },
    {
     "name": "stderr",
     "output_type": "stream",
     "text": [
      "[Parallel(n_jobs=-1)]: Using backend LokyBackend with 4 concurrent workers.\n",
      "[Parallel(n_jobs=-1)]: Done   3 out of   3 | elapsed:    0.8s remaining:    0.0s\n",
      "[Parallel(n_jobs=-1)]: Done   3 out of   3 | elapsed:    0.8s finished\n"
     ]
    },
    {
     "name": "stdout",
     "output_type": "stream",
     "text": [
      "Fitting 3 folds for each of 1 candidates, totalling 3 fits\n"
     ]
    },
    {
     "name": "stderr",
     "output_type": "stream",
     "text": [
      "[Parallel(n_jobs=-1)]: Using backend LokyBackend with 4 concurrent workers.\n",
      "[Parallel(n_jobs=-1)]: Batch computation too fast (0.0657s.) Setting batch_size=2.\n",
      "[Parallel(n_jobs=-1)]: Done   3 out of   3 | elapsed:    0.1s remaining:    0.0s\n",
      "[Parallel(n_jobs=-1)]: Done   3 out of   3 | elapsed:    0.1s finished\n"
     ]
    },
    {
     "name": "stdout",
     "output_type": "stream",
     "text": [
      "Fitting 3 folds for each of 1 candidates, totalling 3 fits\n"
     ]
    },
    {
     "name": "stderr",
     "output_type": "stream",
     "text": [
      "[Parallel(n_jobs=-1)]: Using backend LokyBackend with 4 concurrent workers.\n",
      "[Parallel(n_jobs=-1)]: Batch computation too fast (0.0653s.) Setting batch_size=2.\n",
      "[Parallel(n_jobs=-1)]: Done   3 out of   3 | elapsed:    0.1s remaining:    0.0s\n",
      "[Parallel(n_jobs=-1)]: Done   3 out of   3 | elapsed:    0.1s finished\n"
     ]
    },
    {
     "name": "stdout",
     "output_type": "stream",
     "text": [
      "Fitting 3 folds for each of 1 candidates, totalling 3 fits\n"
     ]
    },
    {
     "name": "stderr",
     "output_type": "stream",
     "text": [
      "[Parallel(n_jobs=-1)]: Using backend LokyBackend with 4 concurrent workers.\n",
      "[Parallel(n_jobs=-1)]: Batch computation too fast (0.0673s.) Setting batch_size=2.\n",
      "[Parallel(n_jobs=-1)]: Done   3 out of   3 | elapsed:    0.1s remaining:    0.0s\n",
      "[Parallel(n_jobs=-1)]: Done   3 out of   3 | elapsed:    0.1s finished\n"
     ]
    },
    {
     "name": "stdout",
     "output_type": "stream",
     "text": [
      "Fitting 3 folds for each of 1 candidates, totalling 3 fits\n"
     ]
    },
    {
     "name": "stderr",
     "output_type": "stream",
     "text": [
      "[Parallel(n_jobs=-1)]: Using backend LokyBackend with 4 concurrent workers.\n",
      "[Parallel(n_jobs=-1)]: Batch computation too fast (0.0594s.) Setting batch_size=2.\n",
      "[Parallel(n_jobs=-1)]: Done   3 out of   3 | elapsed:    0.1s remaining:    0.0s\n",
      "[Parallel(n_jobs=-1)]: Done   3 out of   3 | elapsed:    0.1s finished\n"
     ]
    },
    {
     "name": "stdout",
     "output_type": "stream",
     "text": [
      "Fitting 3 folds for each of 1 candidates, totalling 3 fits\n"
     ]
    },
    {
     "name": "stderr",
     "output_type": "stream",
     "text": [
      "[Parallel(n_jobs=-1)]: Using backend LokyBackend with 4 concurrent workers.\n",
      "[Parallel(n_jobs=-1)]: Batch computation too fast (0.0625s.) Setting batch_size=2.\n",
      "[Parallel(n_jobs=-1)]: Done   3 out of   3 | elapsed:    0.1s remaining:    0.0s\n",
      "[Parallel(n_jobs=-1)]: Done   3 out of   3 | elapsed:    0.1s finished\n"
     ]
    },
    {
     "name": "stdout",
     "output_type": "stream",
     "text": [
      "Fitting 3 folds for each of 1 candidates, totalling 3 fits\n"
     ]
    },
    {
     "name": "stderr",
     "output_type": "stream",
     "text": [
      "[Parallel(n_jobs=-1)]: Using backend LokyBackend with 4 concurrent workers.\n",
      "[Parallel(n_jobs=-1)]: Batch computation too fast (0.0547s.) Setting batch_size=2.\n",
      "[Parallel(n_jobs=-1)]: Done   3 out of   3 | elapsed:    0.1s remaining:    0.0s\n",
      "[Parallel(n_jobs=-1)]: Done   3 out of   3 | elapsed:    0.1s finished\n"
     ]
    },
    {
     "name": "stdout",
     "output_type": "stream",
     "text": [
      "best params: OrderedDict([('lr__alpha', 0.006941493045052765), ('lr__l1_ratio', 0.0047842789618261815)])\n",
      "mean_squared_error: 0.002254348509306613\n",
      "r2_score: 0.12630694176864476\n"
     ]
    }
   ],
   "source": [
    "numeric_pipeline = Pipeline(steps=[\n",
    "    ('imputer', SimpleImputer(strategy='median')),\n",
    "    ('scaler', MinMaxScaler()),\n",
    "    ('poly', PolynomialFeatures(2))\n",
    "])\n",
    "\n",
    "categorical_pipeline = Pipeline(steps=[\n",
    "    ('imputer', SimpleImputer(strategy='constant', fill_value='missing')),\n",
    "    ('onehot', OneHotEncoder(handle_unknown='ignore')),\n",
    "])\n",
    "\n",
    "\n",
    "preprocessor = ColumnTransformer(transformers=[\n",
    "    ('num', numeric_pipeline, numeric_features),\n",
    "    ('cat', categorical_pipeline, categorical_features),\n",
    "])\n",
    "\n",
    "param_grid = { \n",
    "    'lr__alpha': Real(0.001, 1, prior='uniform'),\n",
    "    'lr__l1_ratio': Real(0.001, 1, prior='uniform'),\n",
    "}\n",
    "\n",
    "est = Pipeline(steps=[\n",
    "    ('preprocessor', preprocessor),\n",
    "    ('lr', ElasticNet()),\n",
    "])\n",
    "\n",
    "\n",
    "\n",
    "bs = BayesSearchCV(est, param_grid, cv=3, scoring='neg_mean_squared_error', \n",
    "                   n_iter=35, n_jobs=-1, verbose=10, random_state=RANDOM_STATE)\n",
    "\n",
    "bs.fit(X_train, Y_train)\n",
    "\n",
    "\n",
    "print(\n",
    "    f'best params: {bs.best_params_}\\n'\n",
    "    f'mean_squared_error: {mean_squared_error(Y_test, bs.predict(X_test))}\\n'\n",
    "    f'r2_score: {r2_score(Y_test, bs.predict(X_test))}'\n",
    ")"
   ]
  },
  {
   "cell_type": "markdown",
   "metadata": {},
   "source": [
    "## Experiment 3"
   ]
  },
  {
   "cell_type": "code",
   "execution_count": 49,
   "metadata": {
    "scrolled": true
   },
   "outputs": [
    {
     "name": "stdout",
     "output_type": "stream",
     "text": [
      "Fitting 3 folds for each of 1 candidates, totalling 3 fits\n",
      "[CV] rf__criterion=mse, rf__max_depth=3, rf__n_estimators=6 ..........\n"
     ]
    },
    {
     "name": "stderr",
     "output_type": "stream",
     "text": [
      "[Parallel(n_jobs=1)]: Using backend SequentialBackend with 1 concurrent workers.\n"
     ]
    },
    {
     "name": "stdout",
     "output_type": "stream",
     "text": [
      "[CV]  rf__criterion=mse, rf__max_depth=3, rf__n_estimators=6, score=-0.0018736991718233322, total=   0.2s\n",
      "[CV] rf__criterion=mse, rf__max_depth=3, rf__n_estimators=6 ..........\n"
     ]
    },
    {
     "name": "stderr",
     "output_type": "stream",
     "text": [
      "[Parallel(n_jobs=1)]: Done   1 out of   1 | elapsed:    0.2s remaining:    0.0s\n"
     ]
    },
    {
     "name": "stdout",
     "output_type": "stream",
     "text": [
      "[CV]  rf__criterion=mse, rf__max_depth=3, rf__n_estimators=6, score=-0.0020310944428935567, total=   0.2s\n",
      "[CV] rf__criterion=mse, rf__max_depth=3, rf__n_estimators=6 ..........\n"
     ]
    },
    {
     "name": "stderr",
     "output_type": "stream",
     "text": [
      "[Parallel(n_jobs=1)]: Done   2 out of   2 | elapsed:    0.5s remaining:    0.0s\n"
     ]
    },
    {
     "name": "stdout",
     "output_type": "stream",
     "text": [
      "[CV]  rf__criterion=mse, rf__max_depth=3, rf__n_estimators=6, score=-0.0019223936729064626, total=   0.3s\n",
      "Fitting 3 folds for each of 1 candidates, totalling 3 fits\n",
      "[CV] rf__criterion=mse, rf__max_depth=13, rf__n_estimators=2 .........\n"
     ]
    },
    {
     "name": "stderr",
     "output_type": "stream",
     "text": [
      "[Parallel(n_jobs=1)]: Done   3 out of   3 | elapsed:    0.7s remaining:    0.0s\n",
      "[Parallel(n_jobs=1)]: Done   3 out of   3 | elapsed:    0.7s finished\n",
      "[Parallel(n_jobs=1)]: Using backend SequentialBackend with 1 concurrent workers.\n"
     ]
    },
    {
     "name": "stdout",
     "output_type": "stream",
     "text": [
      "[CV]  rf__criterion=mse, rf__max_depth=13, rf__n_estimators=2, score=-0.0025334701166812093, total=   0.2s\n",
      "[CV] rf__criterion=mse, rf__max_depth=13, rf__n_estimators=2 .........\n"
     ]
    },
    {
     "name": "stderr",
     "output_type": "stream",
     "text": [
      "[Parallel(n_jobs=1)]: Done   1 out of   1 | elapsed:    0.2s remaining:    0.0s\n"
     ]
    },
    {
     "name": "stdout",
     "output_type": "stream",
     "text": [
      "[CV]  rf__criterion=mse, rf__max_depth=13, rf__n_estimators=2, score=-0.002777738584907235, total=   0.2s\n",
      "[CV] rf__criterion=mse, rf__max_depth=13, rf__n_estimators=2 .........\n"
     ]
    },
    {
     "name": "stderr",
     "output_type": "stream",
     "text": [
      "[Parallel(n_jobs=1)]: Done   2 out of   2 | elapsed:    0.5s remaining:    0.0s\n"
     ]
    },
    {
     "name": "stdout",
     "output_type": "stream",
     "text": [
      "[CV]  rf__criterion=mse, rf__max_depth=13, rf__n_estimators=2, score=-0.002691099171170357, total=   0.3s\n",
      "Fitting 3 folds for each of 1 candidates, totalling 3 fits\n",
      "[CV] rf__criterion=mse, rf__max_depth=4, rf__n_estimators=2 ..........\n"
     ]
    },
    {
     "name": "stderr",
     "output_type": "stream",
     "text": [
      "[Parallel(n_jobs=1)]: Done   3 out of   3 | elapsed:    0.7s remaining:    0.0s\n",
      "[Parallel(n_jobs=1)]: Done   3 out of   3 | elapsed:    0.7s finished\n",
      "[Parallel(n_jobs=1)]: Using backend SequentialBackend with 1 concurrent workers.\n"
     ]
    },
    {
     "name": "stdout",
     "output_type": "stream",
     "text": [
      "[CV]  rf__criterion=mse, rf__max_depth=4, rf__n_estimators=2, score=-0.002014787436355535, total=   0.2s\n",
      "[CV] rf__criterion=mse, rf__max_depth=4, rf__n_estimators=2 ..........\n"
     ]
    },
    {
     "name": "stderr",
     "output_type": "stream",
     "text": [
      "[Parallel(n_jobs=1)]: Done   1 out of   1 | elapsed:    0.2s remaining:    0.0s\n"
     ]
    },
    {
     "name": "stdout",
     "output_type": "stream",
     "text": [
      "[CV]  rf__criterion=mse, rf__max_depth=4, rf__n_estimators=2, score=-0.0021443218446431673, total=   0.3s\n",
      "[CV] rf__criterion=mse, rf__max_depth=4, rf__n_estimators=2 ..........\n"
     ]
    },
    {
     "name": "stderr",
     "output_type": "stream",
     "text": [
      "[Parallel(n_jobs=1)]: Done   2 out of   2 | elapsed:    0.5s remaining:    0.0s\n"
     ]
    },
    {
     "name": "stdout",
     "output_type": "stream",
     "text": [
      "[CV]  rf__criterion=mse, rf__max_depth=4, rf__n_estimators=2, score=-0.0023571215731565606, total=   0.2s\n",
      "Fitting 3 folds for each of 1 candidates, totalling 3 fits\n",
      "[CV] rf__criterion=mse, rf__max_depth=12, rf__n_estimators=1 .........\n",
      "[CV]  rf__criterion=mse, rf__max_depth=12, rf__n_estimators=1, score=-0.003192902780203822, total=   0.1s\n",
      "[CV] rf__criterion=mse, rf__max_depth=12, rf__n_estimators=1 .........\n"
     ]
    },
    {
     "name": "stderr",
     "output_type": "stream",
     "text": [
      "[Parallel(n_jobs=1)]: Done   3 out of   3 | elapsed:    0.8s remaining:    0.0s\n",
      "[Parallel(n_jobs=1)]: Done   3 out of   3 | elapsed:    0.8s finished\n",
      "[Parallel(n_jobs=1)]: Using backend SequentialBackend with 1 concurrent workers.\n",
      "[Parallel(n_jobs=1)]: Done   1 out of   1 | elapsed:    0.1s remaining:    0.0s\n"
     ]
    },
    {
     "name": "stdout",
     "output_type": "stream",
     "text": [
      "[CV]  rf__criterion=mse, rf__max_depth=12, rf__n_estimators=1, score=-0.003459056053451682, total=   0.1s\n",
      "[CV] rf__criterion=mse, rf__max_depth=12, rf__n_estimators=1 .........\n",
      "[CV]  rf__criterion=mse, rf__max_depth=12, rf__n_estimators=1, score=-0.003739604690684402, total=   0.1s\n",
      "Fitting 3 folds for each of 1 candidates, totalling 3 fits\n",
      "[CV] rf__criterion=mse, rf__max_depth=14, rf__n_estimators=7 .........\n"
     ]
    },
    {
     "name": "stderr",
     "output_type": "stream",
     "text": [
      "[Parallel(n_jobs=1)]: Done   2 out of   2 | elapsed:    0.3s remaining:    0.0s\n",
      "[Parallel(n_jobs=1)]: Done   3 out of   3 | elapsed:    0.4s remaining:    0.0s\n",
      "[Parallel(n_jobs=1)]: Done   3 out of   3 | elapsed:    0.4s finished\n",
      "[Parallel(n_jobs=1)]: Using backend SequentialBackend with 1 concurrent workers.\n"
     ]
    },
    {
     "name": "stdout",
     "output_type": "stream",
     "text": [
      "[CV]  rf__criterion=mse, rf__max_depth=14, rf__n_estimators=7, score=-0.0021766463350464996, total=   0.2s\n",
      "[CV] rf__criterion=mse, rf__max_depth=14, rf__n_estimators=7 .........\n"
     ]
    },
    {
     "name": "stderr",
     "output_type": "stream",
     "text": [
      "[Parallel(n_jobs=1)]: Done   1 out of   1 | elapsed:    0.2s remaining:    0.0s\n"
     ]
    },
    {
     "name": "stdout",
     "output_type": "stream",
     "text": [
      "[CV]  rf__criterion=mse, rf__max_depth=14, rf__n_estimators=7, score=-0.002307242698814696, total=   0.3s\n",
      "[CV] rf__criterion=mse, rf__max_depth=14, rf__n_estimators=7 .........\n"
     ]
    },
    {
     "name": "stderr",
     "output_type": "stream",
     "text": [
      "[Parallel(n_jobs=1)]: Done   2 out of   2 | elapsed:    0.5s remaining:    0.0s\n"
     ]
    },
    {
     "name": "stdout",
     "output_type": "stream",
     "text": [
      "[CV]  rf__criterion=mse, rf__max_depth=14, rf__n_estimators=7, score=-0.002179830606254554, total=   0.3s\n",
      "Fitting 3 folds for each of 1 candidates, totalling 3 fits\n",
      "[CV] rf__criterion=mse, rf__max_depth=14, rf__n_estimators=9 .........\n"
     ]
    },
    {
     "name": "stderr",
     "output_type": "stream",
     "text": [
      "[Parallel(n_jobs=1)]: Done   3 out of   3 | elapsed:    0.8s remaining:    0.0s\n",
      "[Parallel(n_jobs=1)]: Done   3 out of   3 | elapsed:    0.8s finished\n",
      "[Parallel(n_jobs=1)]: Using backend SequentialBackend with 1 concurrent workers.\n"
     ]
    },
    {
     "name": "stdout",
     "output_type": "stream",
     "text": [
      "[CV]  rf__criterion=mse, rf__max_depth=14, rf__n_estimators=9, score=-0.0021163046533099086, total=   0.2s\n",
      "[CV] rf__criterion=mse, rf__max_depth=14, rf__n_estimators=9 .........\n"
     ]
    },
    {
     "name": "stderr",
     "output_type": "stream",
     "text": [
      "[Parallel(n_jobs=1)]: Done   1 out of   1 | elapsed:    0.2s remaining:    0.0s\n"
     ]
    },
    {
     "name": "stdout",
     "output_type": "stream",
     "text": [
      "[CV]  rf__criterion=mse, rf__max_depth=14, rf__n_estimators=9, score=-0.0022918913160293736, total=   0.2s\n",
      "[CV] rf__criterion=mse, rf__max_depth=14, rf__n_estimators=9 .........\n"
     ]
    },
    {
     "name": "stderr",
     "output_type": "stream",
     "text": [
      "[Parallel(n_jobs=1)]: Done   2 out of   2 | elapsed:    0.5s remaining:    0.0s\n"
     ]
    },
    {
     "name": "stdout",
     "output_type": "stream",
     "text": [
      "[CV]  rf__criterion=mse, rf__max_depth=14, rf__n_estimators=9, score=-0.0021388201575142157, total=   0.2s\n",
      "Fitting 3 folds for each of 1 candidates, totalling 3 fits\n",
      "[CV] rf__criterion=mse, rf__max_depth=13, rf__n_estimators=4 .........\n"
     ]
    },
    {
     "name": "stderr",
     "output_type": "stream",
     "text": [
      "[Parallel(n_jobs=1)]: Done   3 out of   3 | elapsed:    0.7s remaining:    0.0s\n",
      "[Parallel(n_jobs=1)]: Done   3 out of   3 | elapsed:    0.7s finished\n",
      "[Parallel(n_jobs=1)]: Using backend SequentialBackend with 1 concurrent workers.\n"
     ]
    },
    {
     "name": "stdout",
     "output_type": "stream",
     "text": [
      "[CV]  rf__criterion=mse, rf__max_depth=13, rf__n_estimators=4, score=-0.0022973808400339637, total=   0.2s\n",
      "[CV] rf__criterion=mse, rf__max_depth=13, rf__n_estimators=4 .........\n"
     ]
    },
    {
     "name": "stderr",
     "output_type": "stream",
     "text": [
      "[Parallel(n_jobs=1)]: Done   1 out of   1 | elapsed:    0.2s remaining:    0.0s\n"
     ]
    },
    {
     "name": "stdout",
     "output_type": "stream",
     "text": [
      "[CV]  rf__criterion=mse, rf__max_depth=13, rf__n_estimators=4, score=-0.0025557635472916564, total=   0.2s\n",
      "[CV] rf__criterion=mse, rf__max_depth=13, rf__n_estimators=4 .........\n"
     ]
    },
    {
     "name": "stderr",
     "output_type": "stream",
     "text": [
      "[Parallel(n_jobs=1)]: Done   2 out of   2 | elapsed:    0.5s remaining:    0.0s\n"
     ]
    },
    {
     "name": "stdout",
     "output_type": "stream",
     "text": [
      "[CV]  rf__criterion=mse, rf__max_depth=13, rf__n_estimators=4, score=-0.0024191790760266234, total=   0.2s\n",
      "Fitting 3 folds for each of 1 candidates, totalling 3 fits\n",
      "[CV] rf__criterion=mse, rf__max_depth=11, rf__n_estimators=5 .........\n"
     ]
    },
    {
     "name": "stderr",
     "output_type": "stream",
     "text": [
      "[Parallel(n_jobs=1)]: Done   3 out of   3 | elapsed:    0.7s remaining:    0.0s\n",
      "[Parallel(n_jobs=1)]: Done   3 out of   3 | elapsed:    0.7s finished\n",
      "[Parallel(n_jobs=1)]: Using backend SequentialBackend with 1 concurrent workers.\n"
     ]
    },
    {
     "name": "stdout",
     "output_type": "stream",
     "text": [
      "[CV]  rf__criterion=mse, rf__max_depth=11, rf__n_estimators=5, score=-0.0021750103127690036, total=   0.2s\n",
      "[CV] rf__criterion=mse, rf__max_depth=11, rf__n_estimators=5 .........\n"
     ]
    },
    {
     "name": "stderr",
     "output_type": "stream",
     "text": [
      "[Parallel(n_jobs=1)]: Done   1 out of   1 | elapsed:    0.2s remaining:    0.0s\n"
     ]
    },
    {
     "name": "stdout",
     "output_type": "stream",
     "text": [
      "[CV]  rf__criterion=mse, rf__max_depth=11, rf__n_estimators=5, score=-0.0024584364633106004, total=   0.2s\n",
      "[CV] rf__criterion=mse, rf__max_depth=11, rf__n_estimators=5 .........\n"
     ]
    },
    {
     "name": "stderr",
     "output_type": "stream",
     "text": [
      "[Parallel(n_jobs=1)]: Done   2 out of   2 | elapsed:    0.5s remaining:    0.0s\n"
     ]
    },
    {
     "name": "stdout",
     "output_type": "stream",
     "text": [
      "[CV]  rf__criterion=mse, rf__max_depth=11, rf__n_estimators=5, score=-0.002291139301318176, total=   0.3s\n",
      "Fitting 3 folds for each of 1 candidates, totalling 3 fits\n",
      "[CV] rf__criterion=mse, rf__max_depth=13, rf__n_estimators=5 .........\n"
     ]
    },
    {
     "name": "stderr",
     "output_type": "stream",
     "text": [
      "[Parallel(n_jobs=1)]: Done   3 out of   3 | elapsed:    0.7s remaining:    0.0s\n",
      "[Parallel(n_jobs=1)]: Done   3 out of   3 | elapsed:    0.7s finished\n",
      "[Parallel(n_jobs=1)]: Using backend SequentialBackend with 1 concurrent workers.\n"
     ]
    },
    {
     "name": "stdout",
     "output_type": "stream",
     "text": [
      "[CV]  rf__criterion=mse, rf__max_depth=13, rf__n_estimators=5, score=-0.002275969537468766, total=   0.2s\n",
      "[CV] rf__criterion=mse, rf__max_depth=13, rf__n_estimators=5 .........\n"
     ]
    },
    {
     "name": "stderr",
     "output_type": "stream",
     "text": [
      "[Parallel(n_jobs=1)]: Done   1 out of   1 | elapsed:    0.2s remaining:    0.0s\n"
     ]
    },
    {
     "name": "stdout",
     "output_type": "stream",
     "text": [
      "[CV]  rf__criterion=mse, rf__max_depth=13, rf__n_estimators=5, score=-0.002460934864315616, total=   0.2s\n",
      "[CV] rf__criterion=mse, rf__max_depth=13, rf__n_estimators=5 .........\n"
     ]
    },
    {
     "name": "stderr",
     "output_type": "stream",
     "text": [
      "[Parallel(n_jobs=1)]: Done   2 out of   2 | elapsed:    0.5s remaining:    0.0s\n"
     ]
    },
    {
     "name": "stdout",
     "output_type": "stream",
     "text": [
      "[CV]  rf__criterion=mse, rf__max_depth=13, rf__n_estimators=5, score=-0.0023549085059011063, total=   0.2s\n",
      "Fitting 3 folds for each of 1 candidates, totalling 3 fits\n",
      "[CV] rf__criterion=mse, rf__max_depth=6, rf__n_estimators=7 ..........\n"
     ]
    },
    {
     "name": "stderr",
     "output_type": "stream",
     "text": [
      "[Parallel(n_jobs=1)]: Done   3 out of   3 | elapsed:    0.7s remaining:    0.0s\n",
      "[Parallel(n_jobs=1)]: Done   3 out of   3 | elapsed:    0.7s finished\n",
      "[Parallel(n_jobs=1)]: Using backend SequentialBackend with 1 concurrent workers.\n"
     ]
    },
    {
     "name": "stdout",
     "output_type": "stream",
     "text": [
      "[CV]  rf__criterion=mse, rf__max_depth=6, rf__n_estimators=7, score=-0.001946662575094403, total=   0.2s\n",
      "[CV] rf__criterion=mse, rf__max_depth=6, rf__n_estimators=7 ..........\n"
     ]
    },
    {
     "name": "stderr",
     "output_type": "stream",
     "text": [
      "[Parallel(n_jobs=1)]: Done   1 out of   1 | elapsed:    0.2s remaining:    0.0s\n"
     ]
    },
    {
     "name": "stdout",
     "output_type": "stream",
     "text": [
      "[CV]  rf__criterion=mse, rf__max_depth=6, rf__n_estimators=7, score=-0.0021527179022851547, total=   0.3s\n",
      "[CV] rf__criterion=mse, rf__max_depth=6, rf__n_estimators=7 ..........\n"
     ]
    },
    {
     "name": "stderr",
     "output_type": "stream",
     "text": [
      "[Parallel(n_jobs=1)]: Done   2 out of   2 | elapsed:    0.5s remaining:    0.0s\n"
     ]
    },
    {
     "name": "stdout",
     "output_type": "stream",
     "text": [
      "[CV]  rf__criterion=mse, rf__max_depth=6, rf__n_estimators=7, score=-0.001993068547149903, total=   0.2s\n"
     ]
    },
    {
     "name": "stderr",
     "output_type": "stream",
     "text": [
      "[Parallel(n_jobs=1)]: Done   3 out of   3 | elapsed:    0.8s remaining:    0.0s\n",
      "[Parallel(n_jobs=1)]: Done   3 out of   3 | elapsed:    0.8s finished\n",
      "/home/rpartsey/development/aml-class-20/venv/lib/python3.6/site-packages/sklearn/utils/validation.py:558: FutureWarning: Beginning in version 0.22, arrays of bytes/strings will be converted to decimal numbers if dtype='numeric'. It is recommended that you convert the array to a float dtype before using it in scikit-learn, for example by using your_array = your_array.astype(np.float64).\n",
      "  FutureWarning)\n",
      "[Parallel(n_jobs=1)]: Using backend SequentialBackend with 1 concurrent workers.\n"
     ]
    },
    {
     "name": "stdout",
     "output_type": "stream",
     "text": [
      "Fitting 3 folds for each of 1 candidates, totalling 3 fits\n",
      "[CV] rf__criterion=mse, rf__max_depth=9, rf__n_estimators=10 .........\n",
      "[CV]  rf__criterion=mse, rf__max_depth=9, rf__n_estimators=10, score=-0.0020142035580867283, total=   0.3s\n",
      "[CV] rf__criterion=mse, rf__max_depth=9, rf__n_estimators=10 .........\n"
     ]
    },
    {
     "name": "stderr",
     "output_type": "stream",
     "text": [
      "[Parallel(n_jobs=1)]: Done   1 out of   1 | elapsed:    0.3s remaining:    0.0s\n"
     ]
    },
    {
     "name": "stdout",
     "output_type": "stream",
     "text": [
      "[CV]  rf__criterion=mse, rf__max_depth=9, rf__n_estimators=10, score=-0.002210175632785739, total=   0.3s\n",
      "[CV] rf__criterion=mse, rf__max_depth=9, rf__n_estimators=10 .........\n"
     ]
    },
    {
     "name": "stderr",
     "output_type": "stream",
     "text": [
      "[Parallel(n_jobs=1)]: Done   2 out of   2 | elapsed:    0.6s remaining:    0.0s\n"
     ]
    },
    {
     "name": "stdout",
     "output_type": "stream",
     "text": [
      "[CV]  rf__criterion=mse, rf__max_depth=9, rf__n_estimators=10, score=-0.0020632821205485343, total=   0.3s\n"
     ]
    },
    {
     "name": "stderr",
     "output_type": "stream",
     "text": [
      "[Parallel(n_jobs=1)]: Done   3 out of   3 | elapsed:    0.8s remaining:    0.0s\n",
      "[Parallel(n_jobs=1)]: Done   3 out of   3 | elapsed:    0.8s finished\n",
      "/home/rpartsey/development/aml-class-20/venv/lib/python3.6/site-packages/sklearn/utils/validation.py:558: FutureWarning: Beginning in version 0.22, arrays of bytes/strings will be converted to decimal numbers if dtype='numeric'. It is recommended that you convert the array to a float dtype before using it in scikit-learn, for example by using your_array = your_array.astype(np.float64).\n",
      "  FutureWarning)\n",
      "/home/rpartsey/development/aml-class-20/venv/lib/python3.6/site-packages/sklearn/utils/validation.py:558: FutureWarning: Beginning in version 0.22, arrays of bytes/strings will be converted to decimal numbers if dtype='numeric'. It is recommended that you convert the array to a float dtype before using it in scikit-learn, for example by using your_array = your_array.astype(np.float64).\n",
      "  FutureWarning)\n",
      "[Parallel(n_jobs=1)]: Using backend SequentialBackend with 1 concurrent workers.\n"
     ]
    },
    {
     "name": "stdout",
     "output_type": "stream",
     "text": [
      "Fitting 3 folds for each of 1 candidates, totalling 3 fits\n",
      "[CV] rf__criterion=mse, rf__max_depth=7, rf__n_estimators=3 ..........\n",
      "[CV]  rf__criterion=mse, rf__max_depth=7, rf__n_estimators=3, score=-0.0022947692365039686, total=   0.3s\n",
      "[CV] rf__criterion=mse, rf__max_depth=7, rf__n_estimators=3 ..........\n"
     ]
    },
    {
     "name": "stderr",
     "output_type": "stream",
     "text": [
      "[Parallel(n_jobs=1)]: Done   1 out of   1 | elapsed:    0.3s remaining:    0.0s\n"
     ]
    },
    {
     "name": "stdout",
     "output_type": "stream",
     "text": [
      "[CV]  rf__criterion=mse, rf__max_depth=7, rf__n_estimators=3, score=-0.002351231964813035, total=   0.3s\n",
      "[CV] rf__criterion=mse, rf__max_depth=7, rf__n_estimators=3 ..........\n"
     ]
    },
    {
     "name": "stderr",
     "output_type": "stream",
     "text": [
      "[Parallel(n_jobs=1)]: Done   2 out of   2 | elapsed:    0.5s remaining:    0.0s\n"
     ]
    },
    {
     "name": "stdout",
     "output_type": "stream",
     "text": [
      "[CV]  rf__criterion=mse, rf__max_depth=7, rf__n_estimators=3, score=-0.002539804161008653, total=   0.3s\n"
     ]
    },
    {
     "name": "stderr",
     "output_type": "stream",
     "text": [
      "[Parallel(n_jobs=1)]: Done   3 out of   3 | elapsed:    0.8s remaining:    0.0s\n",
      "[Parallel(n_jobs=1)]: Done   3 out of   3 | elapsed:    0.8s finished\n",
      "/home/rpartsey/development/aml-class-20/venv/lib/python3.6/site-packages/sklearn/utils/validation.py:558: FutureWarning: Beginning in version 0.22, arrays of bytes/strings will be converted to decimal numbers if dtype='numeric'. It is recommended that you convert the array to a float dtype before using it in scikit-learn, for example by using your_array = your_array.astype(np.float64).\n",
      "  FutureWarning)\n",
      "/home/rpartsey/development/aml-class-20/venv/lib/python3.6/site-packages/sklearn/utils/validation.py:558: FutureWarning: Beginning in version 0.22, arrays of bytes/strings will be converted to decimal numbers if dtype='numeric'. It is recommended that you convert the array to a float dtype before using it in scikit-learn, for example by using your_array = your_array.astype(np.float64).\n",
      "  FutureWarning)\n",
      "[Parallel(n_jobs=1)]: Using backend SequentialBackend with 1 concurrent workers.\n"
     ]
    },
    {
     "name": "stdout",
     "output_type": "stream",
     "text": [
      "Fitting 3 folds for each of 1 candidates, totalling 3 fits\n",
      "[CV] rf__criterion=mse, rf__max_depth=10, rf__n_estimators=8 .........\n",
      "[CV]  rf__criterion=mse, rf__max_depth=10, rf__n_estimators=8, score=-0.0021016808340930007, total=   0.2s\n",
      "[CV] rf__criterion=mse, rf__max_depth=10, rf__n_estimators=8 .........\n"
     ]
    },
    {
     "name": "stderr",
     "output_type": "stream",
     "text": [
      "[Parallel(n_jobs=1)]: Done   1 out of   1 | elapsed:    0.2s remaining:    0.0s\n"
     ]
    },
    {
     "name": "stdout",
     "output_type": "stream",
     "text": [
      "[CV]  rf__criterion=mse, rf__max_depth=10, rf__n_estimators=8, score=-0.002194206288644009, total=   0.3s\n",
      "[CV] rf__criterion=mse, rf__max_depth=10, rf__n_estimators=8 .........\n"
     ]
    },
    {
     "name": "stderr",
     "output_type": "stream",
     "text": [
      "[Parallel(n_jobs=1)]: Done   2 out of   2 | elapsed:    0.5s remaining:    0.0s\n"
     ]
    },
    {
     "name": "stdout",
     "output_type": "stream",
     "text": [
      "[CV]  rf__criterion=mse, rf__max_depth=10, rf__n_estimators=8, score=-0.002148429270905224, total=   0.3s\n"
     ]
    },
    {
     "name": "stderr",
     "output_type": "stream",
     "text": [
      "[Parallel(n_jobs=1)]: Done   3 out of   3 | elapsed:    0.8s remaining:    0.0s\n",
      "[Parallel(n_jobs=1)]: Done   3 out of   3 | elapsed:    0.8s finished\n",
      "/home/rpartsey/development/aml-class-20/venv/lib/python3.6/site-packages/sklearn/utils/validation.py:558: FutureWarning: Beginning in version 0.22, arrays of bytes/strings will be converted to decimal numbers if dtype='numeric'. It is recommended that you convert the array to a float dtype before using it in scikit-learn, for example by using your_array = your_array.astype(np.float64).\n",
      "  FutureWarning)\n",
      "/home/rpartsey/development/aml-class-20/venv/lib/python3.6/site-packages/sklearn/utils/validation.py:558: FutureWarning: Beginning in version 0.22, arrays of bytes/strings will be converted to decimal numbers if dtype='numeric'. It is recommended that you convert the array to a float dtype before using it in scikit-learn, for example by using your_array = your_array.astype(np.float64).\n",
      "  FutureWarning)\n",
      "[Parallel(n_jobs=1)]: Using backend SequentialBackend with 1 concurrent workers.\n"
     ]
    },
    {
     "name": "stdout",
     "output_type": "stream",
     "text": [
      "Fitting 3 folds for each of 1 candidates, totalling 3 fits\n",
      "[CV] rf__criterion=mse, rf__max_depth=8, rf__n_estimators=6 ..........\n",
      "[CV]  rf__criterion=mse, rf__max_depth=8, rf__n_estimators=6, score=-0.0021725158910274756, total=   0.2s\n",
      "[CV] rf__criterion=mse, rf__max_depth=8, rf__n_estimators=6 ..........\n"
     ]
    },
    {
     "name": "stderr",
     "output_type": "stream",
     "text": [
      "[Parallel(n_jobs=1)]: Done   1 out of   1 | elapsed:    0.3s remaining:    0.0s\n"
     ]
    },
    {
     "name": "stdout",
     "output_type": "stream",
     "text": [
      "[CV]  rf__criterion=mse, rf__max_depth=8, rf__n_estimators=6, score=-0.0023213023247002683, total=   0.3s\n",
      "[CV] rf__criterion=mse, rf__max_depth=8, rf__n_estimators=6 ..........\n"
     ]
    },
    {
     "name": "stderr",
     "output_type": "stream",
     "text": [
      "[Parallel(n_jobs=1)]: Done   2 out of   2 | elapsed:    0.6s remaining:    0.0s\n"
     ]
    },
    {
     "name": "stdout",
     "output_type": "stream",
     "text": [
      "[CV]  rf__criterion=mse, rf__max_depth=8, rf__n_estimators=6, score=-0.00212349925685044, total=   0.3s\n"
     ]
    },
    {
     "name": "stderr",
     "output_type": "stream",
     "text": [
      "[Parallel(n_jobs=1)]: Done   3 out of   3 | elapsed:    0.9s remaining:    0.0s\n",
      "[Parallel(n_jobs=1)]: Done   3 out of   3 | elapsed:    0.9s finished\n",
      "/home/rpartsey/development/aml-class-20/venv/lib/python3.6/site-packages/sklearn/utils/validation.py:558: FutureWarning: Beginning in version 0.22, arrays of bytes/strings will be converted to decimal numbers if dtype='numeric'. It is recommended that you convert the array to a float dtype before using it in scikit-learn, for example by using your_array = your_array.astype(np.float64).\n",
      "  FutureWarning)\n",
      "/home/rpartsey/development/aml-class-20/venv/lib/python3.6/site-packages/sklearn/utils/validation.py:558: FutureWarning: Beginning in version 0.22, arrays of bytes/strings will be converted to decimal numbers if dtype='numeric'. It is recommended that you convert the array to a float dtype before using it in scikit-learn, for example by using your_array = your_array.astype(np.float64).\n",
      "  FutureWarning)\n"
     ]
    },
    {
     "name": "stdout",
     "output_type": "stream",
     "text": [
      "Fitting 3 folds for each of 1 candidates, totalling 3 fits\n",
      "[CV] rf__criterion=mse, rf__max_depth=2, rf__n_estimators=10 .........\n"
     ]
    },
    {
     "name": "stderr",
     "output_type": "stream",
     "text": [
      "[Parallel(n_jobs=1)]: Using backend SequentialBackend with 1 concurrent workers.\n"
     ]
    },
    {
     "name": "stdout",
     "output_type": "stream",
     "text": [
      "[CV]  rf__criterion=mse, rf__max_depth=2, rf__n_estimators=10, score=-0.001923772501351295, total=   0.3s\n",
      "[CV] rf__criterion=mse, rf__max_depth=2, rf__n_estimators=10 .........\n"
     ]
    },
    {
     "name": "stderr",
     "output_type": "stream",
     "text": [
      "[Parallel(n_jobs=1)]: Done   1 out of   1 | elapsed:    0.3s remaining:    0.0s\n"
     ]
    },
    {
     "name": "stdout",
     "output_type": "stream",
     "text": [
      "[CV]  rf__criterion=mse, rf__max_depth=2, rf__n_estimators=10, score=-0.002033217472239214, total=   0.3s\n",
      "[CV] rf__criterion=mse, rf__max_depth=2, rf__n_estimators=10 .........\n"
     ]
    },
    {
     "name": "stderr",
     "output_type": "stream",
     "text": [
      "[Parallel(n_jobs=1)]: Done   2 out of   2 | elapsed:    0.6s remaining:    0.0s\n"
     ]
    },
    {
     "name": "stdout",
     "output_type": "stream",
     "text": [
      "[CV]  rf__criterion=mse, rf__max_depth=2, rf__n_estimators=10, score=-0.0018886328651628215, total=   0.3s\n"
     ]
    },
    {
     "name": "stderr",
     "output_type": "stream",
     "text": [
      "[Parallel(n_jobs=1)]: Done   3 out of   3 | elapsed:    0.8s remaining:    0.0s\n",
      "[Parallel(n_jobs=1)]: Done   3 out of   3 | elapsed:    0.8s finished\n",
      "/home/rpartsey/development/aml-class-20/venv/lib/python3.6/site-packages/sklearn/utils/validation.py:558: FutureWarning: Beginning in version 0.22, arrays of bytes/strings will be converted to decimal numbers if dtype='numeric'. It is recommended that you convert the array to a float dtype before using it in scikit-learn, for example by using your_array = your_array.astype(np.float64).\n",
      "  FutureWarning)\n",
      "/home/rpartsey/development/aml-class-20/venv/lib/python3.6/site-packages/sklearn/utils/validation.py:558: FutureWarning: Beginning in version 0.22, arrays of bytes/strings will be converted to decimal numbers if dtype='numeric'. It is recommended that you convert the array to a float dtype before using it in scikit-learn, for example by using your_array = your_array.astype(np.float64).\n",
      "  FutureWarning)\n",
      "[Parallel(n_jobs=1)]: Using backend SequentialBackend with 1 concurrent workers.\n"
     ]
    },
    {
     "name": "stdout",
     "output_type": "stream",
     "text": [
      "Fitting 3 folds for each of 1 candidates, totalling 3 fits\n",
      "[CV] rf__criterion=mse, rf__max_depth=5, rf__n_estimators=9 ..........\n",
      "[CV]  rf__criterion=mse, rf__max_depth=5, rf__n_estimators=9, score=-0.001942078416412687, total=   0.3s\n",
      "[CV] rf__criterion=mse, rf__max_depth=5, rf__n_estimators=9 ..........\n"
     ]
    },
    {
     "name": "stderr",
     "output_type": "stream",
     "text": [
      "[Parallel(n_jobs=1)]: Done   1 out of   1 | elapsed:    0.3s remaining:    0.0s\n"
     ]
    },
    {
     "name": "stdout",
     "output_type": "stream",
     "text": [
      "[CV]  rf__criterion=mse, rf__max_depth=5, rf__n_estimators=9, score=-0.002116480538669903, total=   0.3s\n",
      "[CV] rf__criterion=mse, rf__max_depth=5, rf__n_estimators=9 ..........\n"
     ]
    },
    {
     "name": "stderr",
     "output_type": "stream",
     "text": [
      "[Parallel(n_jobs=1)]: Done   2 out of   2 | elapsed:    0.6s remaining:    0.0s\n"
     ]
    },
    {
     "name": "stdout",
     "output_type": "stream",
     "text": [
      "[CV]  rf__criterion=mse, rf__max_depth=5, rf__n_estimators=9, score=-0.0019658328468960865, total=   0.3s\n"
     ]
    },
    {
     "name": "stderr",
     "output_type": "stream",
     "text": [
      "[Parallel(n_jobs=1)]: Done   3 out of   3 | elapsed:    0.9s remaining:    0.0s\n",
      "[Parallel(n_jobs=1)]: Done   3 out of   3 | elapsed:    0.9s finished\n",
      "/home/rpartsey/development/aml-class-20/venv/lib/python3.6/site-packages/sklearn/utils/validation.py:558: FutureWarning: Beginning in version 0.22, arrays of bytes/strings will be converted to decimal numbers if dtype='numeric'. It is recommended that you convert the array to a float dtype before using it in scikit-learn, for example by using your_array = your_array.astype(np.float64).\n",
      "  FutureWarning)\n",
      "/home/rpartsey/development/aml-class-20/venv/lib/python3.6/site-packages/sklearn/utils/validation.py:558: FutureWarning: Beginning in version 0.22, arrays of bytes/strings will be converted to decimal numbers if dtype='numeric'. It is recommended that you convert the array to a float dtype before using it in scikit-learn, for example by using your_array = your_array.astype(np.float64).\n",
      "  FutureWarning)\n",
      "[Parallel(n_jobs=1)]: Using backend SequentialBackend with 1 concurrent workers.\n"
     ]
    },
    {
     "name": "stdout",
     "output_type": "stream",
     "text": [
      "Fitting 3 folds for each of 1 candidates, totalling 3 fits\n",
      "[CV] rf__criterion=mse, rf__max_depth=3, rf__n_estimators=8 ..........\n",
      "[CV]  rf__criterion=mse, rf__max_depth=3, rf__n_estimators=8, score=-0.0018433711616324666, total=   0.3s\n",
      "[CV] rf__criterion=mse, rf__max_depth=3, rf__n_estimators=8 ..........\n"
     ]
    },
    {
     "name": "stderr",
     "output_type": "stream",
     "text": [
      "[Parallel(n_jobs=1)]: Done   1 out of   1 | elapsed:    0.3s remaining:    0.0s\n"
     ]
    },
    {
     "name": "stdout",
     "output_type": "stream",
     "text": [
      "[CV]  rf__criterion=mse, rf__max_depth=3, rf__n_estimators=8, score=-0.0020273137500700505, total=   0.3s\n",
      "[CV] rf__criterion=mse, rf__max_depth=3, rf__n_estimators=8 ..........\n"
     ]
    },
    {
     "name": "stderr",
     "output_type": "stream",
     "text": [
      "[Parallel(n_jobs=1)]: Done   2 out of   2 | elapsed:    0.6s remaining:    0.0s\n"
     ]
    },
    {
     "name": "stdout",
     "output_type": "stream",
     "text": [
      "[CV]  rf__criterion=mse, rf__max_depth=3, rf__n_estimators=8, score=-0.001907497361147272, total=   0.3s\n"
     ]
    },
    {
     "name": "stderr",
     "output_type": "stream",
     "text": [
      "[Parallel(n_jobs=1)]: Done   3 out of   3 | elapsed:    0.9s remaining:    0.0s\n",
      "[Parallel(n_jobs=1)]: Done   3 out of   3 | elapsed:    0.9s finished\n",
      "/home/rpartsey/development/aml-class-20/venv/lib/python3.6/site-packages/sklearn/utils/validation.py:558: FutureWarning: Beginning in version 0.22, arrays of bytes/strings will be converted to decimal numbers if dtype='numeric'. It is recommended that you convert the array to a float dtype before using it in scikit-learn, for example by using your_array = your_array.astype(np.float64).\n",
      "  FutureWarning)\n",
      "/home/rpartsey/development/aml-class-20/venv/lib/python3.6/site-packages/sklearn/utils/validation.py:558: FutureWarning: Beginning in version 0.22, arrays of bytes/strings will be converted to decimal numbers if dtype='numeric'. It is recommended that you convert the array to a float dtype before using it in scikit-learn, for example by using your_array = your_array.astype(np.float64).\n",
      "  FutureWarning)\n",
      "[Parallel(n_jobs=1)]: Using backend SequentialBackend with 1 concurrent workers.\n"
     ]
    },
    {
     "name": "stdout",
     "output_type": "stream",
     "text": [
      "Fitting 3 folds for each of 1 candidates, totalling 3 fits\n",
      "[CV] rf__criterion=mse, rf__max_depth=2, rf__n_estimators=4 ..........\n",
      "[CV]  rf__criterion=mse, rf__max_depth=2, rf__n_estimators=4, score=-0.0019470238712256938, total=   0.2s\n",
      "[CV] rf__criterion=mse, rf__max_depth=2, rf__n_estimators=4 ..........\n"
     ]
    },
    {
     "name": "stderr",
     "output_type": "stream",
     "text": [
      "[Parallel(n_jobs=1)]: Done   1 out of   1 | elapsed:    0.2s remaining:    0.0s\n"
     ]
    },
    {
     "name": "stdout",
     "output_type": "stream",
     "text": [
      "[CV]  rf__criterion=mse, rf__max_depth=2, rf__n_estimators=4, score=-0.002024344315711685, total=   0.3s\n",
      "[CV] rf__criterion=mse, rf__max_depth=2, rf__n_estimators=4 ..........\n"
     ]
    },
    {
     "name": "stderr",
     "output_type": "stream",
     "text": [
      "[Parallel(n_jobs=1)]: Done   2 out of   2 | elapsed:    0.5s remaining:    0.0s\n"
     ]
    },
    {
     "name": "stdout",
     "output_type": "stream",
     "text": [
      "[CV]  rf__criterion=mse, rf__max_depth=2, rf__n_estimators=4, score=-0.001906254910116962, total=   0.3s\n"
     ]
    },
    {
     "name": "stderr",
     "output_type": "stream",
     "text": [
      "[Parallel(n_jobs=1)]: Done   3 out of   3 | elapsed:    0.8s remaining:    0.0s\n",
      "[Parallel(n_jobs=1)]: Done   3 out of   3 | elapsed:    0.8s finished\n",
      "/home/rpartsey/development/aml-class-20/venv/lib/python3.6/site-packages/sklearn/utils/validation.py:558: FutureWarning: Beginning in version 0.22, arrays of bytes/strings will be converted to decimal numbers if dtype='numeric'. It is recommended that you convert the array to a float dtype before using it in scikit-learn, for example by using your_array = your_array.astype(np.float64).\n",
      "  FutureWarning)\n",
      "/home/rpartsey/development/aml-class-20/venv/lib/python3.6/site-packages/sklearn/utils/validation.py:558: FutureWarning: Beginning in version 0.22, arrays of bytes/strings will be converted to decimal numbers if dtype='numeric'. It is recommended that you convert the array to a float dtype before using it in scikit-learn, for example by using your_array = your_array.astype(np.float64).\n",
      "  FutureWarning)\n"
     ]
    },
    {
     "name": "stdout",
     "output_type": "stream",
     "text": [
      "Fitting 3 folds for each of 1 candidates, totalling 3 fits\n",
      "[CV] rf__criterion=mse, rf__max_depth=5, rf__n_estimators=3 ..........\n"
     ]
    },
    {
     "name": "stderr",
     "output_type": "stream",
     "text": [
      "[Parallel(n_jobs=1)]: Using backend SequentialBackend with 1 concurrent workers.\n"
     ]
    },
    {
     "name": "stdout",
     "output_type": "stream",
     "text": [
      "[CV]  rf__criterion=mse, rf__max_depth=5, rf__n_estimators=3, score=-0.0021508753226635352, total=   0.2s\n",
      "[CV] rf__criterion=mse, rf__max_depth=5, rf__n_estimators=3 ..........\n"
     ]
    },
    {
     "name": "stderr",
     "output_type": "stream",
     "text": [
      "[Parallel(n_jobs=1)]: Done   1 out of   1 | elapsed:    0.2s remaining:    0.0s\n"
     ]
    },
    {
     "name": "stdout",
     "output_type": "stream",
     "text": [
      "[CV]  rf__criterion=mse, rf__max_depth=5, rf__n_estimators=3, score=-0.002210353386524855, total=   0.3s\n",
      "[CV] rf__criterion=mse, rf__max_depth=5, rf__n_estimators=3 ..........\n"
     ]
    },
    {
     "name": "stderr",
     "output_type": "stream",
     "text": [
      "[Parallel(n_jobs=1)]: Done   2 out of   2 | elapsed:    0.5s remaining:    0.0s\n"
     ]
    },
    {
     "name": "stdout",
     "output_type": "stream",
     "text": [
      "[CV]  rf__criterion=mse, rf__max_depth=5, rf__n_estimators=3, score=-0.0022773299969431884, total=   0.3s\n"
     ]
    },
    {
     "name": "stderr",
     "output_type": "stream",
     "text": [
      "[Parallel(n_jobs=1)]: Done   3 out of   3 | elapsed:    0.8s remaining:    0.0s\n",
      "[Parallel(n_jobs=1)]: Done   3 out of   3 | elapsed:    0.8s finished\n",
      "/home/rpartsey/development/aml-class-20/venv/lib/python3.6/site-packages/sklearn/utils/validation.py:558: FutureWarning: Beginning in version 0.22, arrays of bytes/strings will be converted to decimal numbers if dtype='numeric'. It is recommended that you convert the array to a float dtype before using it in scikit-learn, for example by using your_array = your_array.astype(np.float64).\n",
      "  FutureWarning)\n",
      "/home/rpartsey/development/aml-class-20/venv/lib/python3.6/site-packages/sklearn/utils/validation.py:558: FutureWarning: Beginning in version 0.22, arrays of bytes/strings will be converted to decimal numbers if dtype='numeric'. It is recommended that you convert the array to a float dtype before using it in scikit-learn, for example by using your_array = your_array.astype(np.float64).\n",
      "  FutureWarning)\n"
     ]
    },
    {
     "name": "stdout",
     "output_type": "stream",
     "text": [
      "Fitting 3 folds for each of 1 candidates, totalling 3 fits\n",
      "[CV] rf__criterion=mse, rf__max_depth=6, rf__n_estimators=10 .........\n"
     ]
    },
    {
     "name": "stderr",
     "output_type": "stream",
     "text": [
      "[Parallel(n_jobs=1)]: Using backend SequentialBackend with 1 concurrent workers.\n"
     ]
    },
    {
     "name": "stdout",
     "output_type": "stream",
     "text": [
      "[CV]  rf__criterion=mse, rf__max_depth=6, rf__n_estimators=10, score=-0.0019328938215996108, total=   0.3s\n",
      "[CV] rf__criterion=mse, rf__max_depth=6, rf__n_estimators=10 .........\n"
     ]
    },
    {
     "name": "stderr",
     "output_type": "stream",
     "text": [
      "[Parallel(n_jobs=1)]: Done   1 out of   1 | elapsed:    0.3s remaining:    0.0s\n"
     ]
    },
    {
     "name": "stdout",
     "output_type": "stream",
     "text": [
      "[CV]  rf__criterion=mse, rf__max_depth=6, rf__n_estimators=10, score=-0.002170665462734321, total=   0.3s\n",
      "[CV] rf__criterion=mse, rf__max_depth=6, rf__n_estimators=10 .........\n"
     ]
    },
    {
     "name": "stderr",
     "output_type": "stream",
     "text": [
      "[Parallel(n_jobs=1)]: Done   2 out of   2 | elapsed:    0.5s remaining:    0.0s\n"
     ]
    },
    {
     "name": "stdout",
     "output_type": "stream",
     "text": [
      "[CV]  rf__criterion=mse, rf__max_depth=6, rf__n_estimators=10, score=-0.001998094478567415, total=   0.2s\n"
     ]
    },
    {
     "name": "stderr",
     "output_type": "stream",
     "text": [
      "[Parallel(n_jobs=1)]: Done   3 out of   3 | elapsed:    0.8s remaining:    0.0s\n",
      "[Parallel(n_jobs=1)]: Done   3 out of   3 | elapsed:    0.8s finished\n",
      "/home/rpartsey/development/aml-class-20/venv/lib/python3.6/site-packages/sklearn/utils/validation.py:558: FutureWarning: Beginning in version 0.22, arrays of bytes/strings will be converted to decimal numbers if dtype='numeric'. It is recommended that you convert the array to a float dtype before using it in scikit-learn, for example by using your_array = your_array.astype(np.float64).\n",
      "  FutureWarning)\n",
      "/home/rpartsey/development/aml-class-20/venv/lib/python3.6/site-packages/sklearn/utils/validation.py:558: FutureWarning: Beginning in version 0.22, arrays of bytes/strings will be converted to decimal numbers if dtype='numeric'. It is recommended that you convert the array to a float dtype before using it in scikit-learn, for example by using your_array = your_array.astype(np.float64).\n",
      "  FutureWarning)\n"
     ]
    },
    {
     "name": "stdout",
     "output_type": "stream",
     "text": [
      "Fitting 3 folds for each of 1 candidates, totalling 3 fits\n",
      "[CV] rf__criterion=mse, rf__max_depth=9, rf__n_estimators=8 ..........\n"
     ]
    },
    {
     "name": "stderr",
     "output_type": "stream",
     "text": [
      "[Parallel(n_jobs=1)]: Using backend SequentialBackend with 1 concurrent workers.\n"
     ]
    },
    {
     "name": "stdout",
     "output_type": "stream",
     "text": [
      "[CV]  rf__criterion=mse, rf__max_depth=9, rf__n_estimators=8, score=-0.002040917965167412, total=   0.2s\n",
      "[CV] rf__criterion=mse, rf__max_depth=9, rf__n_estimators=8 ..........\n"
     ]
    },
    {
     "name": "stderr",
     "output_type": "stream",
     "text": [
      "[Parallel(n_jobs=1)]: Done   1 out of   1 | elapsed:    0.2s remaining:    0.0s\n"
     ]
    },
    {
     "name": "stdout",
     "output_type": "stream",
     "text": [
      "[CV]  rf__criterion=mse, rf__max_depth=9, rf__n_estimators=8, score=-0.00220737887257415, total=   0.3s\n",
      "[CV] rf__criterion=mse, rf__max_depth=9, rf__n_estimators=8 ..........\n"
     ]
    },
    {
     "name": "stderr",
     "output_type": "stream",
     "text": [
      "[Parallel(n_jobs=1)]: Done   2 out of   2 | elapsed:    0.5s remaining:    0.0s\n"
     ]
    },
    {
     "name": "stdout",
     "output_type": "stream",
     "text": [
      "[CV]  rf__criterion=mse, rf__max_depth=9, rf__n_estimators=8, score=-0.002096927171737434, total=   0.3s\n"
     ]
    },
    {
     "name": "stderr",
     "output_type": "stream",
     "text": [
      "[Parallel(n_jobs=1)]: Done   3 out of   3 | elapsed:    0.8s remaining:    0.0s\n",
      "[Parallel(n_jobs=1)]: Done   3 out of   3 | elapsed:    0.8s finished\n",
      "/home/rpartsey/development/aml-class-20/venv/lib/python3.6/site-packages/sklearn/utils/validation.py:558: FutureWarning: Beginning in version 0.22, arrays of bytes/strings will be converted to decimal numbers if dtype='numeric'. It is recommended that you convert the array to a float dtype before using it in scikit-learn, for example by using your_array = your_array.astype(np.float64).\n",
      "  FutureWarning)\n",
      "/home/rpartsey/development/aml-class-20/venv/lib/python3.6/site-packages/sklearn/utils/validation.py:558: FutureWarning: Beginning in version 0.22, arrays of bytes/strings will be converted to decimal numbers if dtype='numeric'. It is recommended that you convert the array to a float dtype before using it in scikit-learn, for example by using your_array = your_array.astype(np.float64).\n",
      "  FutureWarning)\n"
     ]
    },
    {
     "name": "stdout",
     "output_type": "stream",
     "text": [
      "Fitting 3 folds for each of 1 candidates, totalling 3 fits\n",
      "[CV] rf__criterion=mse, rf__max_depth=10, rf__n_estimators=6 .........\n"
     ]
    },
    {
     "name": "stderr",
     "output_type": "stream",
     "text": [
      "[Parallel(n_jobs=1)]: Using backend SequentialBackend with 1 concurrent workers.\n"
     ]
    },
    {
     "name": "stdout",
     "output_type": "stream",
     "text": [
      "[CV]  rf__criterion=mse, rf__max_depth=10, rf__n_estimators=6, score=-0.0021685881102215514, total=   0.2s\n",
      "[CV] rf__criterion=mse, rf__max_depth=10, rf__n_estimators=6 .........\n"
     ]
    },
    {
     "name": "stderr",
     "output_type": "stream",
     "text": [
      "[Parallel(n_jobs=1)]: Done   1 out of   1 | elapsed:    0.2s remaining:    0.0s\n"
     ]
    },
    {
     "name": "stdout",
     "output_type": "stream",
     "text": [
      "[CV]  rf__criterion=mse, rf__max_depth=10, rf__n_estimators=6, score=-0.002358157251925374, total=   0.3s\n",
      "[CV] rf__criterion=mse, rf__max_depth=10, rf__n_estimators=6 .........\n"
     ]
    },
    {
     "name": "stderr",
     "output_type": "stream",
     "text": [
      "[Parallel(n_jobs=1)]: Done   2 out of   2 | elapsed:    0.5s remaining:    0.0s\n"
     ]
    },
    {
     "name": "stdout",
     "output_type": "stream",
     "text": [
      "[CV]  rf__criterion=mse, rf__max_depth=10, rf__n_estimators=6, score=-0.0021411672878693167, total=   0.3s\n"
     ]
    },
    {
     "name": "stderr",
     "output_type": "stream",
     "text": [
      "[Parallel(n_jobs=1)]: Done   3 out of   3 | elapsed:    0.8s remaining:    0.0s\n",
      "[Parallel(n_jobs=1)]: Done   3 out of   3 | elapsed:    0.8s finished\n",
      "/home/rpartsey/development/aml-class-20/venv/lib/python3.6/site-packages/sklearn/utils/validation.py:558: FutureWarning: Beginning in version 0.22, arrays of bytes/strings will be converted to decimal numbers if dtype='numeric'. It is recommended that you convert the array to a float dtype before using it in scikit-learn, for example by using your_array = your_array.astype(np.float64).\n",
      "  FutureWarning)\n",
      "/home/rpartsey/development/aml-class-20/venv/lib/python3.6/site-packages/sklearn/utils/validation.py:558: FutureWarning: Beginning in version 0.22, arrays of bytes/strings will be converted to decimal numbers if dtype='numeric'. It is recommended that you convert the array to a float dtype before using it in scikit-learn, for example by using your_array = your_array.astype(np.float64).\n",
      "  FutureWarning)\n"
     ]
    },
    {
     "name": "stdout",
     "output_type": "stream",
     "text": [
      "Fitting 3 folds for each of 1 candidates, totalling 3 fits\n",
      "[CV] rf__criterion=mse, rf__max_depth=8, rf__n_estimators=1 ..........\n",
      "[CV]  rf__criterion=mse, rf__max_depth=8, rf__n_estimators=1, score=-0.003292375566609705, total=   0.1s\n",
      "[CV] rf__criterion=mse, rf__max_depth=8, rf__n_estimators=1 ..........\n"
     ]
    },
    {
     "name": "stderr",
     "output_type": "stream",
     "text": [
      "[Parallel(n_jobs=1)]: Using backend SequentialBackend with 1 concurrent workers.\n",
      "[Parallel(n_jobs=1)]: Done   1 out of   1 | elapsed:    0.1s remaining:    0.0s\n"
     ]
    },
    {
     "name": "stdout",
     "output_type": "stream",
     "text": [
      "[CV]  rf__criterion=mse, rf__max_depth=8, rf__n_estimators=1, score=-0.003191834562397687, total=   0.1s\n",
      "[CV] rf__criterion=mse, rf__max_depth=8, rf__n_estimators=1 ..........\n",
      "[CV]  rf__criterion=mse, rf__max_depth=8, rf__n_estimators=1, score=-0.003493612874259729, total=   0.2s\n"
     ]
    },
    {
     "name": "stderr",
     "output_type": "stream",
     "text": [
      "[Parallel(n_jobs=1)]: Done   2 out of   2 | elapsed:    0.3s remaining:    0.0s\n",
      "[Parallel(n_jobs=1)]: Done   3 out of   3 | elapsed:    0.5s remaining:    0.0s\n",
      "[Parallel(n_jobs=1)]: Done   3 out of   3 | elapsed:    0.5s finished\n",
      "/home/rpartsey/development/aml-class-20/venv/lib/python3.6/site-packages/sklearn/utils/validation.py:558: FutureWarning: Beginning in version 0.22, arrays of bytes/strings will be converted to decimal numbers if dtype='numeric'. It is recommended that you convert the array to a float dtype before using it in scikit-learn, for example by using your_array = your_array.astype(np.float64).\n",
      "  FutureWarning)\n",
      "/home/rpartsey/development/aml-class-20/venv/lib/python3.6/site-packages/sklearn/utils/validation.py:558: FutureWarning: Beginning in version 0.22, arrays of bytes/strings will be converted to decimal numbers if dtype='numeric'. It is recommended that you convert the array to a float dtype before using it in scikit-learn, for example by using your_array = your_array.astype(np.float64).\n",
      "  FutureWarning)\n"
     ]
    },
    {
     "name": "stdout",
     "output_type": "stream",
     "text": [
      "Fitting 3 folds for each of 1 candidates, totalling 3 fits\n",
      "[CV] rf__criterion=mse, rf__max_depth=4, rf__n_estimators=9 ..........\n"
     ]
    },
    {
     "name": "stderr",
     "output_type": "stream",
     "text": [
      "[Parallel(n_jobs=1)]: Using backend SequentialBackend with 1 concurrent workers.\n"
     ]
    },
    {
     "name": "stdout",
     "output_type": "stream",
     "text": [
      "[CV]  rf__criterion=mse, rf__max_depth=4, rf__n_estimators=9, score=-0.0018877629422099141, total=   0.3s\n",
      "[CV] rf__criterion=mse, rf__max_depth=4, rf__n_estimators=9 ..........\n"
     ]
    },
    {
     "name": "stderr",
     "output_type": "stream",
     "text": [
      "[Parallel(n_jobs=1)]: Done   1 out of   1 | elapsed:    0.3s remaining:    0.0s\n"
     ]
    },
    {
     "name": "stdout",
     "output_type": "stream",
     "text": [
      "[CV]  rf__criterion=mse, rf__max_depth=4, rf__n_estimators=9, score=-0.002053911692717173, total=   0.3s\n",
      "[CV] rf__criterion=mse, rf__max_depth=4, rf__n_estimators=9 ..........\n"
     ]
    },
    {
     "name": "stderr",
     "output_type": "stream",
     "text": [
      "[Parallel(n_jobs=1)]: Done   2 out of   2 | elapsed:    0.5s remaining:    0.0s\n"
     ]
    },
    {
     "name": "stdout",
     "output_type": "stream",
     "text": [
      "[CV]  rf__criterion=mse, rf__max_depth=4, rf__n_estimators=9, score=-0.0019557184003645527, total=   0.3s\n"
     ]
    },
    {
     "name": "stderr",
     "output_type": "stream",
     "text": [
      "[Parallel(n_jobs=1)]: Done   3 out of   3 | elapsed:    0.8s remaining:    0.0s\n",
      "[Parallel(n_jobs=1)]: Done   3 out of   3 | elapsed:    0.8s finished\n",
      "/home/rpartsey/development/aml-class-20/venv/lib/python3.6/site-packages/sklearn/utils/validation.py:558: FutureWarning: Beginning in version 0.22, arrays of bytes/strings will be converted to decimal numbers if dtype='numeric'. It is recommended that you convert the array to a float dtype before using it in scikit-learn, for example by using your_array = your_array.astype(np.float64).\n",
      "  FutureWarning)\n",
      "/home/rpartsey/development/aml-class-20/venv/lib/python3.6/site-packages/sklearn/utils/validation.py:558: FutureWarning: Beginning in version 0.22, arrays of bytes/strings will be converted to decimal numbers if dtype='numeric'. It is recommended that you convert the array to a float dtype before using it in scikit-learn, for example by using your_array = your_array.astype(np.float64).\n",
      "  FutureWarning)\n"
     ]
    },
    {
     "name": "stdout",
     "output_type": "stream",
     "text": [
      "Fitting 3 folds for each of 1 candidates, totalling 3 fits\n",
      "[CV] rf__criterion=mse, rf__max_depth=11, rf__n_estimators=7 .........\n"
     ]
    },
    {
     "name": "stderr",
     "output_type": "stream",
     "text": [
      "[Parallel(n_jobs=1)]: Using backend SequentialBackend with 1 concurrent workers.\n"
     ]
    },
    {
     "name": "stdout",
     "output_type": "stream",
     "text": [
      "[CV]  rf__criterion=mse, rf__max_depth=11, rf__n_estimators=7, score=-0.0021345295345419225, total=   0.2s\n",
      "[CV] rf__criterion=mse, rf__max_depth=11, rf__n_estimators=7 .........\n"
     ]
    },
    {
     "name": "stderr",
     "output_type": "stream",
     "text": [
      "[Parallel(n_jobs=1)]: Done   1 out of   1 | elapsed:    0.3s remaining:    0.0s\n"
     ]
    },
    {
     "name": "stdout",
     "output_type": "stream",
     "text": [
      "[CV]  rf__criterion=mse, rf__max_depth=11, rf__n_estimators=7, score=-0.0022637163304900843, total=   0.3s\n",
      "[CV] rf__criterion=mse, rf__max_depth=11, rf__n_estimators=7 .........\n"
     ]
    },
    {
     "name": "stderr",
     "output_type": "stream",
     "text": [
      "[Parallel(n_jobs=1)]: Done   2 out of   2 | elapsed:    0.5s remaining:    0.0s\n"
     ]
    },
    {
     "name": "stdout",
     "output_type": "stream",
     "text": [
      "[CV]  rf__criterion=mse, rf__max_depth=11, rf__n_estimators=7, score=-0.0021869008472340155, total=   0.3s\n"
     ]
    },
    {
     "name": "stderr",
     "output_type": "stream",
     "text": [
      "[Parallel(n_jobs=1)]: Done   3 out of   3 | elapsed:    0.8s remaining:    0.0s\n",
      "[Parallel(n_jobs=1)]: Done   3 out of   3 | elapsed:    0.8s finished\n",
      "/home/rpartsey/development/aml-class-20/venv/lib/python3.6/site-packages/sklearn/utils/validation.py:558: FutureWarning: Beginning in version 0.22, arrays of bytes/strings will be converted to decimal numbers if dtype='numeric'. It is recommended that you convert the array to a float dtype before using it in scikit-learn, for example by using your_array = your_array.astype(np.float64).\n",
      "  FutureWarning)\n",
      "/home/rpartsey/development/aml-class-20/venv/lib/python3.6/site-packages/sklearn/utils/validation.py:558: FutureWarning: Beginning in version 0.22, arrays of bytes/strings will be converted to decimal numbers if dtype='numeric'. It is recommended that you convert the array to a float dtype before using it in scikit-learn, for example by using your_array = your_array.astype(np.float64).\n",
      "  FutureWarning)\n"
     ]
    },
    {
     "name": "stdout",
     "output_type": "stream",
     "text": [
      "Fitting 3 folds for each of 1 candidates, totalling 3 fits\n",
      "[CV] rf__criterion=mse, rf__max_depth=7, rf__n_estimators=4 ..........\n"
     ]
    },
    {
     "name": "stderr",
     "output_type": "stream",
     "text": [
      "[Parallel(n_jobs=1)]: Using backend SequentialBackend with 1 concurrent workers.\n"
     ]
    },
    {
     "name": "stdout",
     "output_type": "stream",
     "text": [
      "[CV]  rf__criterion=mse, rf__max_depth=7, rf__n_estimators=4, score=-0.002258929280485029, total=   0.2s\n",
      "[CV] rf__criterion=mse, rf__max_depth=7, rf__n_estimators=4 ..........\n"
     ]
    },
    {
     "name": "stderr",
     "output_type": "stream",
     "text": [
      "[Parallel(n_jobs=1)]: Done   1 out of   1 | elapsed:    0.3s remaining:    0.0s\n"
     ]
    },
    {
     "name": "stdout",
     "output_type": "stream",
     "text": [
      "[CV]  rf__criterion=mse, rf__max_depth=7, rf__n_estimators=4, score=-0.0023712373736353943, total=   0.3s\n",
      "[CV] rf__criterion=mse, rf__max_depth=7, rf__n_estimators=4 ..........\n"
     ]
    },
    {
     "name": "stderr",
     "output_type": "stream",
     "text": [
      "[Parallel(n_jobs=1)]: Done   2 out of   2 | elapsed:    0.5s remaining:    0.0s\n"
     ]
    },
    {
     "name": "stdout",
     "output_type": "stream",
     "text": [
      "[CV]  rf__criterion=mse, rf__max_depth=7, rf__n_estimators=4, score=-0.002320542103034414, total=   0.3s\n"
     ]
    },
    {
     "name": "stderr",
     "output_type": "stream",
     "text": [
      "[Parallel(n_jobs=1)]: Done   3 out of   3 | elapsed:    0.8s remaining:    0.0s\n",
      "[Parallel(n_jobs=1)]: Done   3 out of   3 | elapsed:    0.8s finished\n",
      "/home/rpartsey/development/aml-class-20/venv/lib/python3.6/site-packages/sklearn/utils/validation.py:558: FutureWarning: Beginning in version 0.22, arrays of bytes/strings will be converted to decimal numbers if dtype='numeric'. It is recommended that you convert the array to a float dtype before using it in scikit-learn, for example by using your_array = your_array.astype(np.float64).\n",
      "  FutureWarning)\n",
      "/home/rpartsey/development/aml-class-20/venv/lib/python3.6/site-packages/sklearn/utils/validation.py:558: FutureWarning: Beginning in version 0.22, arrays of bytes/strings will be converted to decimal numbers if dtype='numeric'. It is recommended that you convert the array to a float dtype before using it in scikit-learn, for example by using your_array = your_array.astype(np.float64).\n",
      "  FutureWarning)\n"
     ]
    },
    {
     "name": "stdout",
     "output_type": "stream",
     "text": [
      "Fitting 3 folds for each of 1 candidates, totalling 3 fits\n",
      "[CV] rf__criterion=mse, rf__max_depth=12, rf__n_estimators=5 .........\n"
     ]
    },
    {
     "name": "stderr",
     "output_type": "stream",
     "text": [
      "[Parallel(n_jobs=1)]: Using backend SequentialBackend with 1 concurrent workers.\n"
     ]
    },
    {
     "name": "stdout",
     "output_type": "stream",
     "text": [
      "[CV]  rf__criterion=mse, rf__max_depth=12, rf__n_estimators=5, score=-0.0022197980630564457, total=   0.3s\n",
      "[CV] rf__criterion=mse, rf__max_depth=12, rf__n_estimators=5 .........\n"
     ]
    },
    {
     "name": "stderr",
     "output_type": "stream",
     "text": [
      "[Parallel(n_jobs=1)]: Done   1 out of   1 | elapsed:    0.3s remaining:    0.0s\n"
     ]
    },
    {
     "name": "stdout",
     "output_type": "stream",
     "text": [
      "[CV]  rf__criterion=mse, rf__max_depth=12, rf__n_estimators=5, score=-0.002404475981481305, total=   0.2s\n",
      "[CV] rf__criterion=mse, rf__max_depth=12, rf__n_estimators=5 .........\n"
     ]
    },
    {
     "name": "stderr",
     "output_type": "stream",
     "text": [
      "[Parallel(n_jobs=1)]: Done   2 out of   2 | elapsed:    0.5s remaining:    0.0s\n"
     ]
    },
    {
     "name": "stdout",
     "output_type": "stream",
     "text": [
      "[CV]  rf__criterion=mse, rf__max_depth=12, rf__n_estimators=5, score=-0.0023047106234596075, total=   0.3s\n"
     ]
    },
    {
     "name": "stderr",
     "output_type": "stream",
     "text": [
      "[Parallel(n_jobs=1)]: Done   3 out of   3 | elapsed:    0.8s remaining:    0.0s\n",
      "[Parallel(n_jobs=1)]: Done   3 out of   3 | elapsed:    0.8s finished\n",
      "/home/rpartsey/development/aml-class-20/venv/lib/python3.6/site-packages/sklearn/utils/validation.py:558: FutureWarning: Beginning in version 0.22, arrays of bytes/strings will be converted to decimal numbers if dtype='numeric'. It is recommended that you convert the array to a float dtype before using it in scikit-learn, for example by using your_array = your_array.astype(np.float64).\n",
      "  FutureWarning)\n",
      "/home/rpartsey/development/aml-class-20/venv/lib/python3.6/site-packages/sklearn/utils/validation.py:558: FutureWarning: Beginning in version 0.22, arrays of bytes/strings will be converted to decimal numbers if dtype='numeric'. It is recommended that you convert the array to a float dtype before using it in scikit-learn, for example by using your_array = your_array.astype(np.float64).\n",
      "  FutureWarning)\n"
     ]
    },
    {
     "name": "stdout",
     "output_type": "stream",
     "text": [
      "Fitting 3 folds for each of 1 candidates, totalling 3 fits\n",
      "[CV] rf__criterion=mse, rf__max_depth=3, rf__n_estimators=3 ..........\n"
     ]
    },
    {
     "name": "stderr",
     "output_type": "stream",
     "text": [
      "[Parallel(n_jobs=1)]: Using backend SequentialBackend with 1 concurrent workers.\n"
     ]
    },
    {
     "name": "stdout",
     "output_type": "stream",
     "text": [
      "[CV]  rf__criterion=mse, rf__max_depth=3, rf__n_estimators=3, score=-0.001957877505092057, total=   0.2s\n",
      "[CV] rf__criterion=mse, rf__max_depth=3, rf__n_estimators=3 ..........\n"
     ]
    },
    {
     "name": "stderr",
     "output_type": "stream",
     "text": [
      "[Parallel(n_jobs=1)]: Done   1 out of   1 | elapsed:    0.2s remaining:    0.0s\n"
     ]
    },
    {
     "name": "stdout",
     "output_type": "stream",
     "text": [
      "[CV]  rf__criterion=mse, rf__max_depth=3, rf__n_estimators=3, score=-0.0020932520368308377, total=   0.3s\n",
      "[CV] rf__criterion=mse, rf__max_depth=3, rf__n_estimators=3 ..........\n"
     ]
    },
    {
     "name": "stderr",
     "output_type": "stream",
     "text": [
      "[Parallel(n_jobs=1)]: Done   2 out of   2 | elapsed:    0.5s remaining:    0.0s\n"
     ]
    },
    {
     "name": "stdout",
     "output_type": "stream",
     "text": [
      "[CV]  rf__criterion=mse, rf__max_depth=3, rf__n_estimators=3, score=-0.002002746241549064, total=   0.3s\n"
     ]
    },
    {
     "name": "stderr",
     "output_type": "stream",
     "text": [
      "[Parallel(n_jobs=1)]: Done   3 out of   3 | elapsed:    0.8s remaining:    0.0s\n",
      "[Parallel(n_jobs=1)]: Done   3 out of   3 | elapsed:    0.8s finished\n",
      "/home/rpartsey/development/aml-class-20/venv/lib/python3.6/site-packages/sklearn/utils/validation.py:558: FutureWarning: Beginning in version 0.22, arrays of bytes/strings will be converted to decimal numbers if dtype='numeric'. It is recommended that you convert the array to a float dtype before using it in scikit-learn, for example by using your_array = your_array.astype(np.float64).\n",
      "  FutureWarning)\n",
      "/home/rpartsey/development/aml-class-20/venv/lib/python3.6/site-packages/sklearn/utils/validation.py:558: FutureWarning: Beginning in version 0.22, arrays of bytes/strings will be converted to decimal numbers if dtype='numeric'. It is recommended that you convert the array to a float dtype before using it in scikit-learn, for example by using your_array = your_array.astype(np.float64).\n",
      "  FutureWarning)\n"
     ]
    },
    {
     "name": "stdout",
     "output_type": "stream",
     "text": [
      "Fitting 3 folds for each of 1 candidates, totalling 3 fits\n",
      "[CV] rf__criterion=mse, rf__max_depth=2, rf__n_estimators=2 ..........\n"
     ]
    },
    {
     "name": "stderr",
     "output_type": "stream",
     "text": [
      "[Parallel(n_jobs=1)]: Using backend SequentialBackend with 1 concurrent workers.\n"
     ]
    },
    {
     "name": "stdout",
     "output_type": "stream",
     "text": [
      "[CV]  rf__criterion=mse, rf__max_depth=2, rf__n_estimators=2, score=-0.001965813876929868, total=   0.2s\n",
      "[CV] rf__criterion=mse, rf__max_depth=2, rf__n_estimators=2 ..........\n"
     ]
    },
    {
     "name": "stderr",
     "output_type": "stream",
     "text": [
      "[Parallel(n_jobs=1)]: Done   1 out of   1 | elapsed:    0.2s remaining:    0.0s\n"
     ]
    },
    {
     "name": "stdout",
     "output_type": "stream",
     "text": [
      "[CV]  rf__criterion=mse, rf__max_depth=2, rf__n_estimators=2, score=-0.0020353551596531574, total=   0.3s\n",
      "[CV] rf__criterion=mse, rf__max_depth=2, rf__n_estimators=2 ..........\n"
     ]
    },
    {
     "name": "stderr",
     "output_type": "stream",
     "text": [
      "[Parallel(n_jobs=1)]: Done   2 out of   2 | elapsed:    0.6s remaining:    0.0s\n"
     ]
    },
    {
     "name": "stdout",
     "output_type": "stream",
     "text": [
      "[CV]  rf__criterion=mse, rf__max_depth=2, rf__n_estimators=2, score=-0.002131597402572191, total=   0.3s\n"
     ]
    },
    {
     "name": "stderr",
     "output_type": "stream",
     "text": [
      "[Parallel(n_jobs=1)]: Done   3 out of   3 | elapsed:    0.8s remaining:    0.0s\n",
      "[Parallel(n_jobs=1)]: Done   3 out of   3 | elapsed:    0.8s finished\n",
      "/home/rpartsey/development/aml-class-20/venv/lib/python3.6/site-packages/sklearn/utils/validation.py:558: FutureWarning: Beginning in version 0.22, arrays of bytes/strings will be converted to decimal numbers if dtype='numeric'. It is recommended that you convert the array to a float dtype before using it in scikit-learn, for example by using your_array = your_array.astype(np.float64).\n",
      "  FutureWarning)\n",
      "/home/rpartsey/development/aml-class-20/venv/lib/python3.6/site-packages/sklearn/utils/validation.py:558: FutureWarning: Beginning in version 0.22, arrays of bytes/strings will be converted to decimal numbers if dtype='numeric'. It is recommended that you convert the array to a float dtype before using it in scikit-learn, for example by using your_array = your_array.astype(np.float64).\n",
      "  FutureWarning)\n"
     ]
    },
    {
     "name": "stdout",
     "output_type": "stream",
     "text": [
      "Fitting 3 folds for each of 1 candidates, totalling 3 fits\n",
      "[CV] rf__criterion=mse, rf__max_depth=6, rf__n_estimators=1 ..........\n",
      "[CV]  rf__criterion=mse, rf__max_depth=6, rf__n_estimators=1, score=-0.0028324423636221906, total=   0.1s\n",
      "[CV] rf__criterion=mse, rf__max_depth=6, rf__n_estimators=1 ..........\n"
     ]
    },
    {
     "name": "stderr",
     "output_type": "stream",
     "text": [
      "[Parallel(n_jobs=1)]: Using backend SequentialBackend with 1 concurrent workers.\n",
      "[Parallel(n_jobs=1)]: Done   1 out of   1 | elapsed:    0.1s remaining:    0.0s\n"
     ]
    },
    {
     "name": "stdout",
     "output_type": "stream",
     "text": [
      "[CV]  rf__criterion=mse, rf__max_depth=6, rf__n_estimators=1, score=-0.002832217047586178, total=   0.1s\n",
      "[CV] rf__criterion=mse, rf__max_depth=6, rf__n_estimators=1 ..........\n",
      "[CV]  rf__criterion=mse, rf__max_depth=6, rf__n_estimators=1, score=-0.0031329161420953445, total=   0.2s\n"
     ]
    },
    {
     "name": "stderr",
     "output_type": "stream",
     "text": [
      "[Parallel(n_jobs=1)]: Done   2 out of   2 | elapsed:    0.3s remaining:    0.0s\n",
      "[Parallel(n_jobs=1)]: Done   3 out of   3 | elapsed:    0.4s remaining:    0.0s\n",
      "[Parallel(n_jobs=1)]: Done   3 out of   3 | elapsed:    0.4s finished\n",
      "/home/rpartsey/development/aml-class-20/venv/lib/python3.6/site-packages/sklearn/utils/validation.py:558: FutureWarning: Beginning in version 0.22, arrays of bytes/strings will be converted to decimal numbers if dtype='numeric'. It is recommended that you convert the array to a float dtype before using it in scikit-learn, for example by using your_array = your_array.astype(np.float64).\n",
      "  FutureWarning)\n",
      "/home/rpartsey/development/aml-class-20/venv/lib/python3.6/site-packages/sklearn/utils/validation.py:558: FutureWarning: Beginning in version 0.22, arrays of bytes/strings will be converted to decimal numbers if dtype='numeric'. It is recommended that you convert the array to a float dtype before using it in scikit-learn, for example by using your_array = your_array.astype(np.float64).\n",
      "  FutureWarning)\n"
     ]
    },
    {
     "name": "stdout",
     "output_type": "stream",
     "text": [
      "Fitting 3 folds for each of 1 candidates, totalling 3 fits\n",
      "[CV] rf__criterion=mse, rf__max_depth=4, rf__n_estimators=10 .........\n"
     ]
    },
    {
     "name": "stderr",
     "output_type": "stream",
     "text": [
      "[Parallel(n_jobs=1)]: Using backend SequentialBackend with 1 concurrent workers.\n"
     ]
    },
    {
     "name": "stdout",
     "output_type": "stream",
     "text": [
      "[CV]  rf__criterion=mse, rf__max_depth=4, rf__n_estimators=10, score=-0.001879390380962691, total=   0.3s\n",
      "[CV] rf__criterion=mse, rf__max_depth=4, rf__n_estimators=10 .........\n"
     ]
    },
    {
     "name": "stderr",
     "output_type": "stream",
     "text": [
      "[Parallel(n_jobs=1)]: Done   1 out of   1 | elapsed:    0.3s remaining:    0.0s\n"
     ]
    },
    {
     "name": "stdout",
     "output_type": "stream",
     "text": [
      "[CV]  rf__criterion=mse, rf__max_depth=4, rf__n_estimators=10, score=-0.002056105146304664, total=   0.3s\n",
      "[CV] rf__criterion=mse, rf__max_depth=4, rf__n_estimators=10 .........\n"
     ]
    },
    {
     "name": "stderr",
     "output_type": "stream",
     "text": [
      "[Parallel(n_jobs=1)]: Done   2 out of   2 | elapsed:    0.5s remaining:    0.0s\n"
     ]
    },
    {
     "name": "stdout",
     "output_type": "stream",
     "text": [
      "[CV]  rf__criterion=mse, rf__max_depth=4, rf__n_estimators=10, score=-0.0019567870039253464, total=   0.3s\n"
     ]
    },
    {
     "name": "stderr",
     "output_type": "stream",
     "text": [
      "[Parallel(n_jobs=1)]: Done   3 out of   3 | elapsed:    0.8s remaining:    0.0s\n",
      "[Parallel(n_jobs=1)]: Done   3 out of   3 | elapsed:    0.8s finished\n",
      "/home/rpartsey/development/aml-class-20/venv/lib/python3.6/site-packages/sklearn/utils/validation.py:558: FutureWarning: Beginning in version 0.22, arrays of bytes/strings will be converted to decimal numbers if dtype='numeric'. It is recommended that you convert the array to a float dtype before using it in scikit-learn, for example by using your_array = your_array.astype(np.float64).\n",
      "  FutureWarning)\n",
      "/home/rpartsey/development/aml-class-20/venv/lib/python3.6/site-packages/sklearn/utils/validation.py:558: FutureWarning: Beginning in version 0.22, arrays of bytes/strings will be converted to decimal numbers if dtype='numeric'. It is recommended that you convert the array to a float dtype before using it in scikit-learn, for example by using your_array = your_array.astype(np.float64).\n",
      "  FutureWarning)\n"
     ]
    },
    {
     "name": "stdout",
     "output_type": "stream",
     "text": [
      "Fitting 3 folds for each of 1 candidates, totalling 3 fits\n",
      "[CV] rf__criterion=mse, rf__max_depth=9, rf__n_estimators=9 ..........\n"
     ]
    },
    {
     "name": "stderr",
     "output_type": "stream",
     "text": [
      "[Parallel(n_jobs=1)]: Using backend SequentialBackend with 1 concurrent workers.\n"
     ]
    },
    {
     "name": "stdout",
     "output_type": "stream",
     "text": [
      "[CV]  rf__criterion=mse, rf__max_depth=9, rf__n_estimators=9, score=-0.00202117546758642, total=   0.3s\n",
      "[CV] rf__criterion=mse, rf__max_depth=9, rf__n_estimators=9 ..........\n"
     ]
    },
    {
     "name": "stderr",
     "output_type": "stream",
     "text": [
      "[Parallel(n_jobs=1)]: Done   1 out of   1 | elapsed:    0.3s remaining:    0.0s\n"
     ]
    },
    {
     "name": "stdout",
     "output_type": "stream",
     "text": [
      "[CV]  rf__criterion=mse, rf__max_depth=9, rf__n_estimators=9, score=-0.002214141024781427, total=   0.3s\n",
      "[CV] rf__criterion=mse, rf__max_depth=9, rf__n_estimators=9 ..........\n"
     ]
    },
    {
     "name": "stderr",
     "output_type": "stream",
     "text": [
      "[Parallel(n_jobs=1)]: Done   2 out of   2 | elapsed:    0.5s remaining:    0.0s\n"
     ]
    },
    {
     "name": "stdout",
     "output_type": "stream",
     "text": [
      "[CV]  rf__criterion=mse, rf__max_depth=9, rf__n_estimators=9, score=-0.0020634998549706224, total=   0.3s\n"
     ]
    },
    {
     "name": "stderr",
     "output_type": "stream",
     "text": [
      "[Parallel(n_jobs=1)]: Done   3 out of   3 | elapsed:    0.8s remaining:    0.0s\n",
      "[Parallel(n_jobs=1)]: Done   3 out of   3 | elapsed:    0.8s finished\n",
      "/home/rpartsey/development/aml-class-20/venv/lib/python3.6/site-packages/sklearn/utils/validation.py:558: FutureWarning: Beginning in version 0.22, arrays of bytes/strings will be converted to decimal numbers if dtype='numeric'. It is recommended that you convert the array to a float dtype before using it in scikit-learn, for example by using your_array = your_array.astype(np.float64).\n",
      "  FutureWarning)\n",
      "/home/rpartsey/development/aml-class-20/venv/lib/python3.6/site-packages/sklearn/utils/validation.py:558: FutureWarning: Beginning in version 0.22, arrays of bytes/strings will be converted to decimal numbers if dtype='numeric'. It is recommended that you convert the array to a float dtype before using it in scikit-learn, for example by using your_array = your_array.astype(np.float64).\n",
      "  FutureWarning)\n"
     ]
    },
    {
     "name": "stdout",
     "output_type": "stream",
     "text": [
      "Fitting 3 folds for each of 1 candidates, totalling 3 fits\n",
      "[CV] rf__criterion=mse, rf__max_depth=5, rf__n_estimators=8 ..........\n"
     ]
    },
    {
     "name": "stderr",
     "output_type": "stream",
     "text": [
      "[Parallel(n_jobs=1)]: Using backend SequentialBackend with 1 concurrent workers.\n"
     ]
    },
    {
     "name": "stdout",
     "output_type": "stream",
     "text": [
      "[CV]  rf__criterion=mse, rf__max_depth=5, rf__n_estimators=8, score=-0.0019555216659100047, total=   0.3s\n",
      "[CV] rf__criterion=mse, rf__max_depth=5, rf__n_estimators=8 ..........\n"
     ]
    },
    {
     "name": "stderr",
     "output_type": "stream",
     "text": [
      "[Parallel(n_jobs=1)]: Done   1 out of   1 | elapsed:    0.3s remaining:    0.0s\n"
     ]
    },
    {
     "name": "stdout",
     "output_type": "stream",
     "text": [
      "[CV]  rf__criterion=mse, rf__max_depth=5, rf__n_estimators=8, score=-0.0020840149611153465, total=   0.3s\n",
      "[CV] rf__criterion=mse, rf__max_depth=5, rf__n_estimators=8 ..........\n"
     ]
    },
    {
     "name": "stderr",
     "output_type": "stream",
     "text": [
      "[Parallel(n_jobs=1)]: Done   2 out of   2 | elapsed:    0.5s remaining:    0.0s\n"
     ]
    },
    {
     "name": "stdout",
     "output_type": "stream",
     "text": [
      "[CV]  rf__criterion=mse, rf__max_depth=5, rf__n_estimators=8, score=-0.001988561855025539, total=   0.3s\n"
     ]
    },
    {
     "name": "stderr",
     "output_type": "stream",
     "text": [
      "[Parallel(n_jobs=1)]: Done   3 out of   3 | elapsed:    0.8s remaining:    0.0s\n",
      "[Parallel(n_jobs=1)]: Done   3 out of   3 | elapsed:    0.8s finished\n",
      "/home/rpartsey/development/aml-class-20/venv/lib/python3.6/site-packages/sklearn/utils/validation.py:558: FutureWarning: Beginning in version 0.22, arrays of bytes/strings will be converted to decimal numbers if dtype='numeric'. It is recommended that you convert the array to a float dtype before using it in scikit-learn, for example by using your_array = your_array.astype(np.float64).\n",
      "  FutureWarning)\n",
      "/home/rpartsey/development/aml-class-20/venv/lib/python3.6/site-packages/sklearn/utils/validation.py:558: FutureWarning: Beginning in version 0.22, arrays of bytes/strings will be converted to decimal numbers if dtype='numeric'. It is recommended that you convert the array to a float dtype before using it in scikit-learn, for example by using your_array = your_array.astype(np.float64).\n",
      "  FutureWarning)\n"
     ]
    },
    {
     "name": "stdout",
     "output_type": "stream",
     "text": [
      "Fitting 3 folds for each of 1 candidates, totalling 3 fits\n",
      "[CV] rf__criterion=mse, rf__max_depth=14, rf__n_estimators=6 .........\n"
     ]
    },
    {
     "name": "stderr",
     "output_type": "stream",
     "text": [
      "[Parallel(n_jobs=1)]: Using backend SequentialBackend with 1 concurrent workers.\n"
     ]
    },
    {
     "name": "stdout",
     "output_type": "stream",
     "text": [
      "[CV]  rf__criterion=mse, rf__max_depth=14, rf__n_estimators=6, score=-0.002177893277609369, total=   0.3s\n",
      "[CV] rf__criterion=mse, rf__max_depth=14, rf__n_estimators=6 .........\n"
     ]
    },
    {
     "name": "stderr",
     "output_type": "stream",
     "text": [
      "[Parallel(n_jobs=1)]: Done   1 out of   1 | elapsed:    0.3s remaining:    0.0s\n"
     ]
    },
    {
     "name": "stdout",
     "output_type": "stream",
     "text": [
      "[CV]  rf__criterion=mse, rf__max_depth=14, rf__n_estimators=6, score=-0.0024104700791994426, total=   0.3s\n",
      "[CV] rf__criterion=mse, rf__max_depth=14, rf__n_estimators=6 .........\n"
     ]
    },
    {
     "name": "stderr",
     "output_type": "stream",
     "text": [
      "[Parallel(n_jobs=1)]: Done   2 out of   2 | elapsed:    0.6s remaining:    0.0s\n"
     ]
    },
    {
     "name": "stdout",
     "output_type": "stream",
     "text": [
      "[CV]  rf__criterion=mse, rf__max_depth=14, rf__n_estimators=6, score=-0.0022501179177209455, total=   0.2s\n"
     ]
    },
    {
     "name": "stderr",
     "output_type": "stream",
     "text": [
      "[Parallel(n_jobs=1)]: Done   3 out of   3 | elapsed:    0.8s remaining:    0.0s\n",
      "[Parallel(n_jobs=1)]: Done   3 out of   3 | elapsed:    0.8s finished\n",
      "/home/rpartsey/development/aml-class-20/venv/lib/python3.6/site-packages/sklearn/utils/validation.py:558: FutureWarning: Beginning in version 0.22, arrays of bytes/strings will be converted to decimal numbers if dtype='numeric'. It is recommended that you convert the array to a float dtype before using it in scikit-learn, for example by using your_array = your_array.astype(np.float64).\n",
      "  FutureWarning)\n",
      "/home/rpartsey/development/aml-class-20/venv/lib/python3.6/site-packages/sklearn/utils/validation.py:558: FutureWarning: Beginning in version 0.22, arrays of bytes/strings will be converted to decimal numbers if dtype='numeric'. It is recommended that you convert the array to a float dtype before using it in scikit-learn, for example by using your_array = your_array.astype(np.float64).\n",
      "  FutureWarning)\n"
     ]
    },
    {
     "name": "stdout",
     "output_type": "stream",
     "text": [
      "Fitting 3 folds for each of 1 candidates, totalling 3 fits\n",
      "[CV] rf__criterion=mse, rf__max_depth=10, rf__n_estimators=7 .........\n"
     ]
    },
    {
     "name": "stderr",
     "output_type": "stream",
     "text": [
      "[Parallel(n_jobs=1)]: Using backend SequentialBackend with 1 concurrent workers.\n"
     ]
    },
    {
     "name": "stdout",
     "output_type": "stream",
     "text": [
      "[CV]  rf__criterion=mse, rf__max_depth=10, rf__n_estimators=7, score=-0.0021400959085261296, total=   0.2s\n",
      "[CV] rf__criterion=mse, rf__max_depth=10, rf__n_estimators=7 .........\n"
     ]
    },
    {
     "name": "stderr",
     "output_type": "stream",
     "text": [
      "[Parallel(n_jobs=1)]: Done   1 out of   1 | elapsed:    0.2s remaining:    0.0s\n"
     ]
    },
    {
     "name": "stdout",
     "output_type": "stream",
     "text": [
      "[CV]  rf__criterion=mse, rf__max_depth=10, rf__n_estimators=7, score=-0.0022294901149471436, total=   0.3s\n",
      "[CV] rf__criterion=mse, rf__max_depth=10, rf__n_estimators=7 .........\n"
     ]
    },
    {
     "name": "stderr",
     "output_type": "stream",
     "text": [
      "[Parallel(n_jobs=1)]: Done   2 out of   2 | elapsed:    0.5s remaining:    0.0s\n"
     ]
    },
    {
     "name": "stdout",
     "output_type": "stream",
     "text": [
      "[CV]  rf__criterion=mse, rf__max_depth=10, rf__n_estimators=7, score=-0.002145664919373773, total=   0.2s\n"
     ]
    },
    {
     "name": "stderr",
     "output_type": "stream",
     "text": [
      "[Parallel(n_jobs=1)]: Done   3 out of   3 | elapsed:    0.8s remaining:    0.0s\n",
      "[Parallel(n_jobs=1)]: Done   3 out of   3 | elapsed:    0.8s finished\n",
      "/home/rpartsey/development/aml-class-20/venv/lib/python3.6/site-packages/sklearn/utils/validation.py:558: FutureWarning: Beginning in version 0.22, arrays of bytes/strings will be converted to decimal numbers if dtype='numeric'. It is recommended that you convert the array to a float dtype before using it in scikit-learn, for example by using your_array = your_array.astype(np.float64).\n",
      "  FutureWarning)\n",
      "/home/rpartsey/development/aml-class-20/venv/lib/python3.6/site-packages/sklearn/utils/validation.py:558: FutureWarning: Beginning in version 0.22, arrays of bytes/strings will be converted to decimal numbers if dtype='numeric'. It is recommended that you convert the array to a float dtype before using it in scikit-learn, for example by using your_array = your_array.astype(np.float64).\n",
      "  FutureWarning)\n"
     ]
    },
    {
     "name": "stdout",
     "output_type": "stream",
     "text": [
      "Fitting 3 folds for each of 1 candidates, totalling 3 fits\n",
      "[CV] rf__criterion=mse, rf__max_depth=11, rf__n_estimators=3 .........\n"
     ]
    },
    {
     "name": "stderr",
     "output_type": "stream",
     "text": [
      "[Parallel(n_jobs=1)]: Using backend SequentialBackend with 1 concurrent workers.\n"
     ]
    },
    {
     "name": "stdout",
     "output_type": "stream",
     "text": [
      "[CV]  rf__criterion=mse, rf__max_depth=11, rf__n_estimators=3, score=-0.002279643343314024, total=   0.2s\n",
      "[CV] rf__criterion=mse, rf__max_depth=11, rf__n_estimators=3 .........\n"
     ]
    },
    {
     "name": "stderr",
     "output_type": "stream",
     "text": [
      "[Parallel(n_jobs=1)]: Done   1 out of   1 | elapsed:    0.3s remaining:    0.0s\n"
     ]
    },
    {
     "name": "stdout",
     "output_type": "stream",
     "text": [
      "[CV]  rf__criterion=mse, rf__max_depth=11, rf__n_estimators=3, score=-0.0026782317164316494, total=   0.3s\n",
      "[CV] rf__criterion=mse, rf__max_depth=11, rf__n_estimators=3 .........\n"
     ]
    },
    {
     "name": "stderr",
     "output_type": "stream",
     "text": [
      "[Parallel(n_jobs=1)]: Done   2 out of   2 | elapsed:    0.5s remaining:    0.0s\n"
     ]
    },
    {
     "name": "stdout",
     "output_type": "stream",
     "text": [
      "[CV]  rf__criterion=mse, rf__max_depth=11, rf__n_estimators=3, score=-0.002618837725332189, total=   0.3s\n"
     ]
    },
    {
     "name": "stderr",
     "output_type": "stream",
     "text": [
      "[Parallel(n_jobs=1)]: Done   3 out of   3 | elapsed:    0.8s remaining:    0.0s\n",
      "[Parallel(n_jobs=1)]: Done   3 out of   3 | elapsed:    0.8s finished\n",
      "/home/rpartsey/development/aml-class-20/venv/lib/python3.6/site-packages/sklearn/utils/validation.py:558: FutureWarning: Beginning in version 0.22, arrays of bytes/strings will be converted to decimal numbers if dtype='numeric'. It is recommended that you convert the array to a float dtype before using it in scikit-learn, for example by using your_array = your_array.astype(np.float64).\n",
      "  FutureWarning)\n",
      "/home/rpartsey/development/aml-class-20/venv/lib/python3.6/site-packages/sklearn/utils/validation.py:558: FutureWarning: Beginning in version 0.22, arrays of bytes/strings will be converted to decimal numbers if dtype='numeric'. It is recommended that you convert the array to a float dtype before using it in scikit-learn, for example by using your_array = your_array.astype(np.float64).\n",
      "  FutureWarning)\n"
     ]
    },
    {
     "name": "stdout",
     "output_type": "stream",
     "text": [
      "Fitting 3 folds for each of 1 candidates, totalling 3 fits\n",
      "[CV] rf__criterion=mse, rf__max_depth=3, rf__n_estimators=10 .........\n"
     ]
    },
    {
     "name": "stderr",
     "output_type": "stream",
     "text": [
      "[Parallel(n_jobs=1)]: Using backend SequentialBackend with 1 concurrent workers.\n"
     ]
    },
    {
     "name": "stdout",
     "output_type": "stream",
     "text": [
      "[CV]  rf__criterion=mse, rf__max_depth=3, rf__n_estimators=10, score=-0.0018428612585241577, total=   0.3s\n",
      "[CV] rf__criterion=mse, rf__max_depth=3, rf__n_estimators=10 .........\n"
     ]
    },
    {
     "name": "stderr",
     "output_type": "stream",
     "text": [
      "[Parallel(n_jobs=1)]: Done   1 out of   1 | elapsed:    0.3s remaining:    0.0s\n"
     ]
    },
    {
     "name": "stdout",
     "output_type": "stream",
     "text": [
      "[CV]  rf__criterion=mse, rf__max_depth=3, rf__n_estimators=10, score=-0.002021033205671014, total=   0.3s\n",
      "[CV] rf__criterion=mse, rf__max_depth=3, rf__n_estimators=10 .........\n"
     ]
    },
    {
     "name": "stderr",
     "output_type": "stream",
     "text": [
      "[Parallel(n_jobs=1)]: Done   2 out of   2 | elapsed:    0.6s remaining:    0.0s\n"
     ]
    },
    {
     "name": "stdout",
     "output_type": "stream",
     "text": [
      "[CV]  rf__criterion=mse, rf__max_depth=3, rf__n_estimators=10, score=-0.0018991400715562734, total=   0.3s\n"
     ]
    },
    {
     "name": "stderr",
     "output_type": "stream",
     "text": [
      "[Parallel(n_jobs=1)]: Done   3 out of   3 | elapsed:    0.8s remaining:    0.0s\n",
      "[Parallel(n_jobs=1)]: Done   3 out of   3 | elapsed:    0.8s finished\n",
      "/home/rpartsey/development/aml-class-20/venv/lib/python3.6/site-packages/sklearn/utils/validation.py:558: FutureWarning: Beginning in version 0.22, arrays of bytes/strings will be converted to decimal numbers if dtype='numeric'. It is recommended that you convert the array to a float dtype before using it in scikit-learn, for example by using your_array = your_array.astype(np.float64).\n",
      "  FutureWarning)\n",
      "/home/rpartsey/development/aml-class-20/venv/lib/python3.6/site-packages/sklearn/utils/validation.py:558: FutureWarning: Beginning in version 0.22, arrays of bytes/strings will be converted to decimal numbers if dtype='numeric'. It is recommended that you convert the array to a float dtype before using it in scikit-learn, for example by using your_array = your_array.astype(np.float64).\n",
      "  FutureWarning)\n"
     ]
    },
    {
     "name": "stdout",
     "output_type": "stream",
     "text": [
      "Fitting 3 folds for each of 1 candidates, totalling 3 fits\n",
      "[CV] rf__criterion=mse, rf__max_depth=2, rf__n_estimators=8 ..........\n"
     ]
    },
    {
     "name": "stderr",
     "output_type": "stream",
     "text": [
      "[Parallel(n_jobs=1)]: Using backend SequentialBackend with 1 concurrent workers.\n"
     ]
    },
    {
     "name": "stdout",
     "output_type": "stream",
     "text": [
      "[CV]  rf__criterion=mse, rf__max_depth=2, rf__n_estimators=8, score=-0.0019104705177701588, total=   0.3s\n",
      "[CV] rf__criterion=mse, rf__max_depth=2, rf__n_estimators=8 ..........\n"
     ]
    },
    {
     "name": "stderr",
     "output_type": "stream",
     "text": [
      "[Parallel(n_jobs=1)]: Done   1 out of   1 | elapsed:    0.3s remaining:    0.0s\n"
     ]
    },
    {
     "name": "stdout",
     "output_type": "stream",
     "text": [
      "[CV]  rf__criterion=mse, rf__max_depth=2, rf__n_estimators=8, score=-0.0020348342099901005, total=   0.3s\n",
      "[CV] rf__criterion=mse, rf__max_depth=2, rf__n_estimators=8 ..........\n"
     ]
    },
    {
     "name": "stderr",
     "output_type": "stream",
     "text": [
      "[Parallel(n_jobs=1)]: Done   2 out of   2 | elapsed:    0.6s remaining:    0.0s\n"
     ]
    },
    {
     "name": "stdout",
     "output_type": "stream",
     "text": [
      "[CV]  rf__criterion=mse, rf__max_depth=2, rf__n_estimators=8, score=-0.001890404821900538, total=   0.3s\n"
     ]
    },
    {
     "name": "stderr",
     "output_type": "stream",
     "text": [
      "[Parallel(n_jobs=1)]: Done   3 out of   3 | elapsed:    0.8s remaining:    0.0s\n",
      "[Parallel(n_jobs=1)]: Done   3 out of   3 | elapsed:    0.8s finished\n",
      "/home/rpartsey/development/aml-class-20/venv/lib/python3.6/site-packages/sklearn/utils/validation.py:558: FutureWarning: Beginning in version 0.22, arrays of bytes/strings will be converted to decimal numbers if dtype='numeric'. It is recommended that you convert the array to a float dtype before using it in scikit-learn, for example by using your_array = your_array.astype(np.float64).\n",
      "  FutureWarning)\n",
      "/home/rpartsey/development/aml-class-20/venv/lib/python3.6/site-packages/sklearn/utils/validation.py:558: FutureWarning: Beginning in version 0.22, arrays of bytes/strings will be converted to decimal numbers if dtype='numeric'. It is recommended that you convert the array to a float dtype before using it in scikit-learn, for example by using your_array = your_array.astype(np.float64).\n",
      "  FutureWarning)\n"
     ]
    },
    {
     "name": "stdout",
     "output_type": "stream",
     "text": [
      "Fitting 3 folds for each of 1 candidates, totalling 3 fits\n",
      "[CV] rf__criterion=mse, rf__max_depth=7, rf__n_estimators=2 ..........\n"
     ]
    },
    {
     "name": "stderr",
     "output_type": "stream",
     "text": [
      "[Parallel(n_jobs=1)]: Using backend SequentialBackend with 1 concurrent workers.\n"
     ]
    },
    {
     "name": "stdout",
     "output_type": "stream",
     "text": [
      "[CV]  rf__criterion=mse, rf__max_depth=7, rf__n_estimators=2, score=-0.00252428308290104, total=   0.3s\n",
      "[CV] rf__criterion=mse, rf__max_depth=7, rf__n_estimators=2 ..........\n"
     ]
    },
    {
     "name": "stderr",
     "output_type": "stream",
     "text": [
      "[Parallel(n_jobs=1)]: Done   1 out of   1 | elapsed:    0.3s remaining:    0.0s\n"
     ]
    },
    {
     "name": "stdout",
     "output_type": "stream",
     "text": [
      "[CV]  rf__criterion=mse, rf__max_depth=7, rf__n_estimators=2, score=-0.002353334776859386, total=   0.3s\n",
      "[CV] rf__criterion=mse, rf__max_depth=7, rf__n_estimators=2 ..........\n"
     ]
    },
    {
     "name": "stderr",
     "output_type": "stream",
     "text": [
      "[Parallel(n_jobs=1)]: Done   2 out of   2 | elapsed:    0.5s remaining:    0.0s\n"
     ]
    },
    {
     "name": "stdout",
     "output_type": "stream",
     "text": [
      "[CV]  rf__criterion=mse, rf__max_depth=7, rf__n_estimators=2, score=-0.00245971466458137, total=   0.2s\n"
     ]
    },
    {
     "name": "stderr",
     "output_type": "stream",
     "text": [
      "[Parallel(n_jobs=1)]: Done   3 out of   3 | elapsed:    0.8s remaining:    0.0s\n",
      "[Parallel(n_jobs=1)]: Done   3 out of   3 | elapsed:    0.8s finished\n",
      "/home/rpartsey/development/aml-class-20/venv/lib/python3.6/site-packages/sklearn/utils/validation.py:558: FutureWarning: Beginning in version 0.22, arrays of bytes/strings will be converted to decimal numbers if dtype='numeric'. It is recommended that you convert the array to a float dtype before using it in scikit-learn, for example by using your_array = your_array.astype(np.float64).\n",
      "  FutureWarning)\n",
      "/home/rpartsey/development/aml-class-20/venv/lib/python3.6/site-packages/sklearn/utils/validation.py:558: FutureWarning: Beginning in version 0.22, arrays of bytes/strings will be converted to decimal numbers if dtype='numeric'. It is recommended that you convert the array to a float dtype before using it in scikit-learn, for example by using your_array = your_array.astype(np.float64).\n",
      "  FutureWarning)\n"
     ]
    },
    {
     "name": "stdout",
     "output_type": "stream",
     "text": [
      "Fitting 3 folds for each of 1 candidates, totalling 3 fits\n",
      "[CV] rf__criterion=mse, rf__max_depth=8, rf__n_estimators=4 ..........\n"
     ]
    },
    {
     "name": "stderr",
     "output_type": "stream",
     "text": [
      "[Parallel(n_jobs=1)]: Using backend SequentialBackend with 1 concurrent workers.\n"
     ]
    },
    {
     "name": "stdout",
     "output_type": "stream",
     "text": [
      "[CV]  rf__criterion=mse, rf__max_depth=8, rf__n_estimators=4, score=-0.0023586430913462553, total=   0.3s\n",
      "[CV] rf__criterion=mse, rf__max_depth=8, rf__n_estimators=4 ..........\n"
     ]
    },
    {
     "name": "stderr",
     "output_type": "stream",
     "text": [
      "[Parallel(n_jobs=1)]: Done   1 out of   1 | elapsed:    0.3s remaining:    0.0s\n"
     ]
    },
    {
     "name": "stdout",
     "output_type": "stream",
     "text": [
      "[CV]  rf__criterion=mse, rf__max_depth=8, rf__n_estimators=4, score=-0.0024408460108677277, total=   0.3s\n",
      "[CV] rf__criterion=mse, rf__max_depth=8, rf__n_estimators=4 ..........\n"
     ]
    },
    {
     "name": "stderr",
     "output_type": "stream",
     "text": [
      "[Parallel(n_jobs=1)]: Done   2 out of   2 | elapsed:    0.5s remaining:    0.0s\n"
     ]
    },
    {
     "name": "stdout",
     "output_type": "stream",
     "text": [
      "[CV]  rf__criterion=mse, rf__max_depth=8, rf__n_estimators=4, score=-0.002350654145853393, total=   0.2s\n"
     ]
    },
    {
     "name": "stderr",
     "output_type": "stream",
     "text": [
      "[Parallel(n_jobs=1)]: Done   3 out of   3 | elapsed:    0.8s remaining:    0.0s\n",
      "[Parallel(n_jobs=1)]: Done   3 out of   3 | elapsed:    0.8s finished\n",
      "/home/rpartsey/development/aml-class-20/venv/lib/python3.6/site-packages/sklearn/utils/validation.py:558: FutureWarning: Beginning in version 0.22, arrays of bytes/strings will be converted to decimal numbers if dtype='numeric'. It is recommended that you convert the array to a float dtype before using it in scikit-learn, for example by using your_array = your_array.astype(np.float64).\n",
      "  FutureWarning)\n",
      "/home/rpartsey/development/aml-class-20/venv/lib/python3.6/site-packages/skopt/optimizer/optimizer.py:409: UserWarning: The objective has been evaluated at this point before.\n",
      "  warnings.warn(\"The objective has been evaluated \"\n",
      "/home/rpartsey/development/aml-class-20/venv/lib/python3.6/site-packages/sklearn/utils/validation.py:558: FutureWarning: Beginning in version 0.22, arrays of bytes/strings will be converted to decimal numbers if dtype='numeric'. It is recommended that you convert the array to a float dtype before using it in scikit-learn, for example by using your_array = your_array.astype(np.float64).\n",
      "  FutureWarning)\n"
     ]
    },
    {
     "name": "stdout",
     "output_type": "stream",
     "text": [
      "Fitting 3 folds for each of 1 candidates, totalling 3 fits\n",
      "[CV] rf__criterion=mse, rf__max_depth=12, rf__n_estimators=5 .........\n"
     ]
    },
    {
     "name": "stderr",
     "output_type": "stream",
     "text": [
      "[Parallel(n_jobs=1)]: Using backend SequentialBackend with 1 concurrent workers.\n"
     ]
    },
    {
     "name": "stdout",
     "output_type": "stream",
     "text": [
      "[CV]  rf__criterion=mse, rf__max_depth=12, rf__n_estimators=5, score=-0.0022197980630564457, total=   0.2s\n",
      "[CV] rf__criterion=mse, rf__max_depth=12, rf__n_estimators=5 .........\n"
     ]
    },
    {
     "name": "stderr",
     "output_type": "stream",
     "text": [
      "[Parallel(n_jobs=1)]: Done   1 out of   1 | elapsed:    0.2s remaining:    0.0s\n"
     ]
    },
    {
     "name": "stdout",
     "output_type": "stream",
     "text": [
      "[CV]  rf__criterion=mse, rf__max_depth=12, rf__n_estimators=5, score=-0.002404475981481305, total=   0.3s\n",
      "[CV] rf__criterion=mse, rf__max_depth=12, rf__n_estimators=5 .........\n"
     ]
    },
    {
     "name": "stderr",
     "output_type": "stream",
     "text": [
      "[Parallel(n_jobs=1)]: Done   2 out of   2 | elapsed:    0.5s remaining:    0.0s\n"
     ]
    },
    {
     "name": "stdout",
     "output_type": "stream",
     "text": [
      "[CV]  rf__criterion=mse, rf__max_depth=12, rf__n_estimators=5, score=-0.0023047106234596075, total=   0.3s\n"
     ]
    },
    {
     "name": "stderr",
     "output_type": "stream",
     "text": [
      "[Parallel(n_jobs=1)]: Done   3 out of   3 | elapsed:    0.8s remaining:    0.0s\n",
      "[Parallel(n_jobs=1)]: Done   3 out of   3 | elapsed:    0.8s finished\n",
      "/home/rpartsey/development/aml-class-20/venv/lib/python3.6/site-packages/sklearn/utils/validation.py:558: FutureWarning: Beginning in version 0.22, arrays of bytes/strings will be converted to decimal numbers if dtype='numeric'. It is recommended that you convert the array to a float dtype before using it in scikit-learn, for example by using your_array = your_array.astype(np.float64).\n",
      "  FutureWarning)\n",
      "/home/rpartsey/development/aml-class-20/venv/lib/python3.6/site-packages/skopt/optimizer/optimizer.py:409: UserWarning: The objective has been evaluated at this point before.\n",
      "  warnings.warn(\"The objective has been evaluated \"\n",
      "/home/rpartsey/development/aml-class-20/venv/lib/python3.6/site-packages/sklearn/utils/validation.py:558: FutureWarning: Beginning in version 0.22, arrays of bytes/strings will be converted to decimal numbers if dtype='numeric'. It is recommended that you convert the array to a float dtype before using it in scikit-learn, for example by using your_array = your_array.astype(np.float64).\n",
      "  FutureWarning)\n"
     ]
    },
    {
     "name": "stdout",
     "output_type": "stream",
     "text": [
      "Fitting 3 folds for each of 1 candidates, totalling 3 fits\n",
      "[CV] rf__criterion=mse, rf__max_depth=4, rf__n_estimators=9 ..........\n"
     ]
    },
    {
     "name": "stderr",
     "output_type": "stream",
     "text": [
      "[Parallel(n_jobs=1)]: Using backend SequentialBackend with 1 concurrent workers.\n"
     ]
    },
    {
     "name": "stdout",
     "output_type": "stream",
     "text": [
      "[CV]  rf__criterion=mse, rf__max_depth=4, rf__n_estimators=9, score=-0.0018877629422099141, total=   0.3s\n",
      "[CV] rf__criterion=mse, rf__max_depth=4, rf__n_estimators=9 ..........\n"
     ]
    },
    {
     "name": "stderr",
     "output_type": "stream",
     "text": [
      "[Parallel(n_jobs=1)]: Done   1 out of   1 | elapsed:    0.3s remaining:    0.0s\n"
     ]
    },
    {
     "name": "stdout",
     "output_type": "stream",
     "text": [
      "[CV]  rf__criterion=mse, rf__max_depth=4, rf__n_estimators=9, score=-0.0020539116927171725, total=   0.3s\n",
      "[CV] rf__criterion=mse, rf__max_depth=4, rf__n_estimators=9 ..........\n"
     ]
    },
    {
     "name": "stderr",
     "output_type": "stream",
     "text": [
      "[Parallel(n_jobs=1)]: Done   2 out of   2 | elapsed:    0.5s remaining:    0.0s\n"
     ]
    },
    {
     "name": "stdout",
     "output_type": "stream",
     "text": [
      "[CV]  rf__criterion=mse, rf__max_depth=4, rf__n_estimators=9, score=-0.0019557184003645527, total=   0.3s\n"
     ]
    },
    {
     "name": "stderr",
     "output_type": "stream",
     "text": [
      "[Parallel(n_jobs=1)]: Done   3 out of   3 | elapsed:    0.8s remaining:    0.0s\n",
      "[Parallel(n_jobs=1)]: Done   3 out of   3 | elapsed:    0.8s finished\n",
      "/home/rpartsey/development/aml-class-20/venv/lib/python3.6/site-packages/sklearn/utils/validation.py:558: FutureWarning: Beginning in version 0.22, arrays of bytes/strings will be converted to decimal numbers if dtype='numeric'. It is recommended that you convert the array to a float dtype before using it in scikit-learn, for example by using your_array = your_array.astype(np.float64).\n",
      "  FutureWarning)\n",
      "/home/rpartsey/development/aml-class-20/venv/lib/python3.6/site-packages/sklearn/utils/validation.py:558: FutureWarning: Beginning in version 0.22, arrays of bytes/strings will be converted to decimal numbers if dtype='numeric'. It is recommended that you convert the array to a float dtype before using it in scikit-learn, for example by using your_array = your_array.astype(np.float64).\n",
      "  FutureWarning)\n"
     ]
    },
    {
     "name": "stdout",
     "output_type": "stream",
     "text": [
      "Fitting 3 folds for each of 1 candidates, totalling 3 fits\n",
      "[CV] rf__criterion=mse, rf__max_depth=5, rf__n_estimators=1 ..........\n",
      "[CV]  rf__criterion=mse, rf__max_depth=5, rf__n_estimators=1, score=-0.0027078902163793655, total=   0.2s\n",
      "[CV] rf__criterion=mse, rf__max_depth=5, rf__n_estimators=1 ..........\n"
     ]
    },
    {
     "name": "stderr",
     "output_type": "stream",
     "text": [
      "[Parallel(n_jobs=1)]: Using backend SequentialBackend with 1 concurrent workers.\n",
      "[Parallel(n_jobs=1)]: Done   1 out of   1 | elapsed:    0.2s remaining:    0.0s\n"
     ]
    },
    {
     "name": "stdout",
     "output_type": "stream",
     "text": [
      "[CV]  rf__criterion=mse, rf__max_depth=5, rf__n_estimators=1, score=-0.002751046792539266, total=   0.1s\n",
      "[CV] rf__criterion=mse, rf__max_depth=5, rf__n_estimators=1 ..........\n",
      "[CV]  rf__criterion=mse, rf__max_depth=5, rf__n_estimators=1, score=-0.002855966469823197, total=   0.2s\n"
     ]
    },
    {
     "name": "stderr",
     "output_type": "stream",
     "text": [
      "[Parallel(n_jobs=1)]: Done   2 out of   2 | elapsed:    0.3s remaining:    0.0s\n",
      "[Parallel(n_jobs=1)]: Done   3 out of   3 | elapsed:    0.5s remaining:    0.0s\n",
      "[Parallel(n_jobs=1)]: Done   3 out of   3 | elapsed:    0.5s finished\n",
      "/home/rpartsey/development/aml-class-20/venv/lib/python3.6/site-packages/sklearn/utils/validation.py:558: FutureWarning: Beginning in version 0.22, arrays of bytes/strings will be converted to decimal numbers if dtype='numeric'. It is recommended that you convert the array to a float dtype before using it in scikit-learn, for example by using your_array = your_array.astype(np.float64).\n",
      "  FutureWarning)\n",
      "/home/rpartsey/development/aml-class-20/venv/lib/python3.6/site-packages/sklearn/utils/validation.py:558: FutureWarning: Beginning in version 0.22, arrays of bytes/strings will be converted to decimal numbers if dtype='numeric'. It is recommended that you convert the array to a float dtype before using it in scikit-learn, for example by using your_array = your_array.astype(np.float64).\n",
      "  FutureWarning)\n"
     ]
    },
    {
     "name": "stdout",
     "output_type": "stream",
     "text": [
      "Fitting 3 folds for each of 1 candidates, totalling 3 fits\n",
      "[CV] rf__criterion=mse, rf__max_depth=9, rf__n_estimators=7 ..........\n"
     ]
    },
    {
     "name": "stderr",
     "output_type": "stream",
     "text": [
      "[Parallel(n_jobs=1)]: Using backend SequentialBackend with 1 concurrent workers.\n"
     ]
    },
    {
     "name": "stdout",
     "output_type": "stream",
     "text": [
      "[CV]  rf__criterion=mse, rf__max_depth=9, rf__n_estimators=7, score=-0.002086824860675914, total=   0.3s\n",
      "[CV] rf__criterion=mse, rf__max_depth=9, rf__n_estimators=7 ..........\n"
     ]
    },
    {
     "name": "stderr",
     "output_type": "stream",
     "text": [
      "[Parallel(n_jobs=1)]: Done   1 out of   1 | elapsed:    0.3s remaining:    0.0s\n"
     ]
    },
    {
     "name": "stdout",
     "output_type": "stream",
     "text": [
      "[CV]  rf__criterion=mse, rf__max_depth=9, rf__n_estimators=7, score=-0.0022308256726120347, total=   0.2s\n",
      "[CV] rf__criterion=mse, rf__max_depth=9, rf__n_estimators=7 ..........\n"
     ]
    },
    {
     "name": "stderr",
     "output_type": "stream",
     "text": [
      "[Parallel(n_jobs=1)]: Done   2 out of   2 | elapsed:    0.5s remaining:    0.0s\n"
     ]
    },
    {
     "name": "stdout",
     "output_type": "stream",
     "text": [
      "[CV]  rf__criterion=mse, rf__max_depth=9, rf__n_estimators=7, score=-0.002095797560387101, total=   0.3s\n"
     ]
    },
    {
     "name": "stderr",
     "output_type": "stream",
     "text": [
      "[Parallel(n_jobs=1)]: Done   3 out of   3 | elapsed:    0.8s remaining:    0.0s\n",
      "[Parallel(n_jobs=1)]: Done   3 out of   3 | elapsed:    0.8s finished\n",
      "/home/rpartsey/development/aml-class-20/venv/lib/python3.6/site-packages/sklearn/utils/validation.py:558: FutureWarning: Beginning in version 0.22, arrays of bytes/strings will be converted to decimal numbers if dtype='numeric'. It is recommended that you convert the array to a float dtype before using it in scikit-learn, for example by using your_array = your_array.astype(np.float64).\n",
      "  FutureWarning)\n",
      "/home/rpartsey/development/aml-class-20/venv/lib/python3.6/site-packages/sklearn/utils/validation.py:558: FutureWarning: Beginning in version 0.22, arrays of bytes/strings will be converted to decimal numbers if dtype='numeric'. It is recommended that you convert the array to a float dtype before using it in scikit-learn, for example by using your_array = your_array.astype(np.float64).\n",
      "  FutureWarning)\n"
     ]
    },
    {
     "name": "stdout",
     "output_type": "stream",
     "text": [
      "Fitting 3 folds for each of 1 candidates, totalling 3 fits\n",
      "[CV] rf__criterion=mse, rf__max_depth=10, rf__n_estimators=4 .........\n"
     ]
    },
    {
     "name": "stderr",
     "output_type": "stream",
     "text": [
      "[Parallel(n_jobs=1)]: Using backend SequentialBackend with 1 concurrent workers.\n"
     ]
    },
    {
     "name": "stdout",
     "output_type": "stream",
     "text": [
      "[CV]  rf__criterion=mse, rf__max_depth=10, rf__n_estimators=4, score=-0.0022690504424367334, total=   0.2s\n",
      "[CV] rf__criterion=mse, rf__max_depth=10, rf__n_estimators=4 .........\n"
     ]
    },
    {
     "name": "stderr",
     "output_type": "stream",
     "text": [
      "[Parallel(n_jobs=1)]: Done   1 out of   1 | elapsed:    0.2s remaining:    0.0s\n"
     ]
    },
    {
     "name": "stdout",
     "output_type": "stream",
     "text": [
      "[CV]  rf__criterion=mse, rf__max_depth=10, rf__n_estimators=4, score=-0.0025023680176180815, total=   0.2s\n",
      "[CV] rf__criterion=mse, rf__max_depth=10, rf__n_estimators=4 .........\n"
     ]
    },
    {
     "name": "stderr",
     "output_type": "stream",
     "text": [
      "[Parallel(n_jobs=1)]: Done   2 out of   2 | elapsed:    0.5s remaining:    0.0s\n"
     ]
    },
    {
     "name": "stdout",
     "output_type": "stream",
     "text": [
      "[CV]  rf__criterion=mse, rf__max_depth=10, rf__n_estimators=4, score=-0.002368701270742122, total=   0.2s\n"
     ]
    },
    {
     "name": "stderr",
     "output_type": "stream",
     "text": [
      "[Parallel(n_jobs=1)]: Done   3 out of   3 | elapsed:    0.7s remaining:    0.0s\n",
      "[Parallel(n_jobs=1)]: Done   3 out of   3 | elapsed:    0.7s finished\n",
      "/home/rpartsey/development/aml-class-20/venv/lib/python3.6/site-packages/sklearn/utils/validation.py:558: FutureWarning: Beginning in version 0.22, arrays of bytes/strings will be converted to decimal numbers if dtype='numeric'. It is recommended that you convert the array to a float dtype before using it in scikit-learn, for example by using your_array = your_array.astype(np.float64).\n",
      "  FutureWarning)\n",
      "/home/rpartsey/development/aml-class-20/venv/lib/python3.6/site-packages/sklearn/utils/validation.py:558: FutureWarning: Beginning in version 0.22, arrays of bytes/strings will be converted to decimal numbers if dtype='numeric'. It is recommended that you convert the array to a float dtype before using it in scikit-learn, for example by using your_array = your_array.astype(np.float64).\n",
      "  FutureWarning)\n"
     ]
    },
    {
     "name": "stdout",
     "output_type": "stream",
     "text": [
      "Fitting 3 folds for each of 1 candidates, totalling 3 fits\n",
      "[CV] rf__criterion=mse, rf__max_depth=6, rf__n_estimators=6 ..........\n"
     ]
    },
    {
     "name": "stderr",
     "output_type": "stream",
     "text": [
      "[Parallel(n_jobs=1)]: Using backend SequentialBackend with 1 concurrent workers.\n"
     ]
    },
    {
     "name": "stdout",
     "output_type": "stream",
     "text": [
      "[CV]  rf__criterion=mse, rf__max_depth=6, rf__n_estimators=6, score=-0.0019678297652861894, total=   0.2s\n",
      "[CV] rf__criterion=mse, rf__max_depth=6, rf__n_estimators=6 ..........\n"
     ]
    },
    {
     "name": "stderr",
     "output_type": "stream",
     "text": [
      "[Parallel(n_jobs=1)]: Done   1 out of   1 | elapsed:    0.2s remaining:    0.0s\n"
     ]
    },
    {
     "name": "stdout",
     "output_type": "stream",
     "text": [
      "[CV]  rf__criterion=mse, rf__max_depth=6, rf__n_estimators=6, score=-0.002249204801184379, total=   0.3s\n",
      "[CV] rf__criterion=mse, rf__max_depth=6, rf__n_estimators=6 ..........\n"
     ]
    },
    {
     "name": "stderr",
     "output_type": "stream",
     "text": [
      "[Parallel(n_jobs=1)]: Done   2 out of   2 | elapsed:    0.5s remaining:    0.0s\n"
     ]
    },
    {
     "name": "stdout",
     "output_type": "stream",
     "text": [
      "[CV]  rf__criterion=mse, rf__max_depth=6, rf__n_estimators=6, score=-0.0020279223621742027, total=   0.2s\n"
     ]
    },
    {
     "name": "stderr",
     "output_type": "stream",
     "text": [
      "[Parallel(n_jobs=1)]: Done   3 out of   3 | elapsed:    0.7s remaining:    0.0s\n",
      "[Parallel(n_jobs=1)]: Done   3 out of   3 | elapsed:    0.7s finished\n",
      "/home/rpartsey/development/aml-class-20/venv/lib/python3.6/site-packages/sklearn/utils/validation.py:558: FutureWarning: Beginning in version 0.22, arrays of bytes/strings will be converted to decimal numbers if dtype='numeric'. It is recommended that you convert the array to a float dtype before using it in scikit-learn, for example by using your_array = your_array.astype(np.float64).\n",
      "  FutureWarning)\n",
      "/home/rpartsey/development/aml-class-20/venv/lib/python3.6/site-packages/sklearn/utils/validation.py:558: FutureWarning: Beginning in version 0.22, arrays of bytes/strings will be converted to decimal numbers if dtype='numeric'. It is recommended that you convert the array to a float dtype before using it in scikit-learn, for example by using your_array = your_array.astype(np.float64).\n",
      "  FutureWarning)\n"
     ]
    },
    {
     "name": "stdout",
     "output_type": "stream",
     "text": [
      "Fitting 3 folds for each of 1 candidates, totalling 3 fits\n",
      "[CV] rf__criterion=mse, rf__max_depth=3, rf__n_estimators=9 ..........\n"
     ]
    },
    {
     "name": "stderr",
     "output_type": "stream",
     "text": [
      "[Parallel(n_jobs=1)]: Using backend SequentialBackend with 1 concurrent workers.\n"
     ]
    },
    {
     "name": "stdout",
     "output_type": "stream",
     "text": [
      "[CV]  rf__criterion=mse, rf__max_depth=3, rf__n_estimators=9, score=-0.001843860296276293, total=   0.2s\n",
      "[CV] rf__criterion=mse, rf__max_depth=3, rf__n_estimators=9 ..........\n"
     ]
    },
    {
     "name": "stderr",
     "output_type": "stream",
     "text": [
      "[Parallel(n_jobs=1)]: Done   1 out of   1 | elapsed:    0.2s remaining:    0.0s\n"
     ]
    },
    {
     "name": "stdout",
     "output_type": "stream",
     "text": [
      "[CV]  rf__criterion=mse, rf__max_depth=3, rf__n_estimators=9, score=-0.002042846999206787, total=   0.2s\n",
      "[CV] rf__criterion=mse, rf__max_depth=3, rf__n_estimators=9 ..........\n"
     ]
    },
    {
     "name": "stderr",
     "output_type": "stream",
     "text": [
      "[Parallel(n_jobs=1)]: Done   2 out of   2 | elapsed:    0.5s remaining:    0.0s\n"
     ]
    },
    {
     "name": "stdout",
     "output_type": "stream",
     "text": [
      "[CV]  rf__criterion=mse, rf__max_depth=3, rf__n_estimators=9, score=-0.0019011457023528336, total=   0.3s\n"
     ]
    },
    {
     "name": "stderr",
     "output_type": "stream",
     "text": [
      "[Parallel(n_jobs=1)]: Done   3 out of   3 | elapsed:    0.7s remaining:    0.0s\n",
      "[Parallel(n_jobs=1)]: Done   3 out of   3 | elapsed:    0.7s finished\n",
      "/home/rpartsey/development/aml-class-20/venv/lib/python3.6/site-packages/sklearn/utils/validation.py:558: FutureWarning: Beginning in version 0.22, arrays of bytes/strings will be converted to decimal numbers if dtype='numeric'. It is recommended that you convert the array to a float dtype before using it in scikit-learn, for example by using your_array = your_array.astype(np.float64).\n",
      "  FutureWarning)\n",
      "/home/rpartsey/development/aml-class-20/venv/lib/python3.6/site-packages/sklearn/utils/validation.py:558: FutureWarning: Beginning in version 0.22, arrays of bytes/strings will be converted to decimal numbers if dtype='numeric'. It is recommended that you convert the array to a float dtype before using it in scikit-learn, for example by using your_array = your_array.astype(np.float64).\n",
      "  FutureWarning)\n"
     ]
    },
    {
     "name": "stdout",
     "output_type": "stream",
     "text": [
      "Fitting 3 folds for each of 1 candidates, totalling 3 fits\n",
      "[CV] rf__criterion=mse, rf__max_depth=14, rf__n_estimators=3 .........\n"
     ]
    },
    {
     "name": "stderr",
     "output_type": "stream",
     "text": [
      "[Parallel(n_jobs=1)]: Using backend SequentialBackend with 1 concurrent workers.\n"
     ]
    },
    {
     "name": "stdout",
     "output_type": "stream",
     "text": [
      "[CV]  rf__criterion=mse, rf__max_depth=14, rf__n_estimators=3, score=-0.0023921634425536384, total=   0.2s\n",
      "[CV] rf__criterion=mse, rf__max_depth=14, rf__n_estimators=3 .........\n"
     ]
    },
    {
     "name": "stderr",
     "output_type": "stream",
     "text": [
      "[Parallel(n_jobs=1)]: Done   1 out of   1 | elapsed:    0.2s remaining:    0.0s\n"
     ]
    },
    {
     "name": "stdout",
     "output_type": "stream",
     "text": [
      "[CV]  rf__criterion=mse, rf__max_depth=14, rf__n_estimators=3, score=-0.002686110799599005, total=   0.3s\n",
      "[CV] rf__criterion=mse, rf__max_depth=14, rf__n_estimators=3 .........\n"
     ]
    },
    {
     "name": "stderr",
     "output_type": "stream",
     "text": [
      "[Parallel(n_jobs=1)]: Done   2 out of   2 | elapsed:    0.5s remaining:    0.0s\n"
     ]
    },
    {
     "name": "stdout",
     "output_type": "stream",
     "text": [
      "[CV]  rf__criterion=mse, rf__max_depth=14, rf__n_estimators=3, score=-0.002648559490370284, total=   0.3s\n"
     ]
    },
    {
     "name": "stderr",
     "output_type": "stream",
     "text": [
      "[Parallel(n_jobs=1)]: Done   3 out of   3 | elapsed:    0.8s remaining:    0.0s\n",
      "[Parallel(n_jobs=1)]: Done   3 out of   3 | elapsed:    0.8s finished\n",
      "/home/rpartsey/development/aml-class-20/venv/lib/python3.6/site-packages/sklearn/utils/validation.py:558: FutureWarning: Beginning in version 0.22, arrays of bytes/strings will be converted to decimal numbers if dtype='numeric'. It is recommended that you convert the array to a float dtype before using it in scikit-learn, for example by using your_array = your_array.astype(np.float64).\n",
      "  FutureWarning)\n",
      "/home/rpartsey/development/aml-class-20/venv/lib/python3.6/site-packages/sklearn/utils/validation.py:558: FutureWarning: Beginning in version 0.22, arrays of bytes/strings will be converted to decimal numbers if dtype='numeric'. It is recommended that you convert the array to a float dtype before using it in scikit-learn, for example by using your_array = your_array.astype(np.float64).\n",
      "  FutureWarning)\n"
     ]
    },
    {
     "name": "stdout",
     "output_type": "stream",
     "text": [
      "Fitting 3 folds for each of 1 candidates, totalling 3 fits\n",
      "[CV] rf__criterion=mse, rf__max_depth=11, rf__n_estimators=2 .........\n"
     ]
    },
    {
     "name": "stderr",
     "output_type": "stream",
     "text": [
      "[Parallel(n_jobs=1)]: Using backend SequentialBackend with 1 concurrent workers.\n"
     ]
    },
    {
     "name": "stdout",
     "output_type": "stream",
     "text": [
      "[CV]  rf__criterion=mse, rf__max_depth=11, rf__n_estimators=2, score=-0.0024988163067952893, total=   0.2s\n",
      "[CV] rf__criterion=mse, rf__max_depth=11, rf__n_estimators=2 .........\n"
     ]
    },
    {
     "name": "stderr",
     "output_type": "stream",
     "text": [
      "[Parallel(n_jobs=1)]: Done   1 out of   1 | elapsed:    0.2s remaining:    0.0s\n"
     ]
    },
    {
     "name": "stdout",
     "output_type": "stream",
     "text": [
      "[CV]  rf__criterion=mse, rf__max_depth=11, rf__n_estimators=2, score=-0.002790220340015786, total=   0.3s\n",
      "[CV] rf__criterion=mse, rf__max_depth=11, rf__n_estimators=2 .........\n"
     ]
    },
    {
     "name": "stderr",
     "output_type": "stream",
     "text": [
      "[Parallel(n_jobs=1)]: Done   2 out of   2 | elapsed:    0.5s remaining:    0.0s\n"
     ]
    },
    {
     "name": "stdout",
     "output_type": "stream",
     "text": [
      "[CV]  rf__criterion=mse, rf__max_depth=11, rf__n_estimators=2, score=-0.0027612675347086953, total=   0.3s\n"
     ]
    },
    {
     "name": "stderr",
     "output_type": "stream",
     "text": [
      "[Parallel(n_jobs=1)]: Done   3 out of   3 | elapsed:    0.8s remaining:    0.0s\n",
      "[Parallel(n_jobs=1)]: Done   3 out of   3 | elapsed:    0.8s finished\n",
      "/home/rpartsey/development/aml-class-20/venv/lib/python3.6/site-packages/sklearn/utils/validation.py:558: FutureWarning: Beginning in version 0.22, arrays of bytes/strings will be converted to decimal numbers if dtype='numeric'. It is recommended that you convert the array to a float dtype before using it in scikit-learn, for example by using your_array = your_array.astype(np.float64).\n",
      "  FutureWarning)\n",
      "/home/rpartsey/development/aml-class-20/venv/lib/python3.6/site-packages/sklearn/utils/validation.py:558: FutureWarning: Beginning in version 0.22, arrays of bytes/strings will be converted to decimal numbers if dtype='numeric'. It is recommended that you convert the array to a float dtype before using it in scikit-learn, for example by using your_array = your_array.astype(np.float64).\n",
      "  FutureWarning)\n"
     ]
    },
    {
     "name": "stdout",
     "output_type": "stream",
     "text": [
      "Fitting 3 folds for each of 1 candidates, totalling 3 fits\n",
      "[CV] rf__criterion=mse, rf__max_depth=7, rf__n_estimators=5 ..........\n"
     ]
    },
    {
     "name": "stderr",
     "output_type": "stream",
     "text": [
      "[Parallel(n_jobs=1)]: Using backend SequentialBackend with 1 concurrent workers.\n"
     ]
    },
    {
     "name": "stdout",
     "output_type": "stream",
     "text": [
      "[CV]  rf__criterion=mse, rf__max_depth=7, rf__n_estimators=5, score=-0.0021582000175136185, total=   0.2s\n",
      "[CV] rf__criterion=mse, rf__max_depth=7, rf__n_estimators=5 ..........\n"
     ]
    },
    {
     "name": "stderr",
     "output_type": "stream",
     "text": [
      "[Parallel(n_jobs=1)]: Done   1 out of   1 | elapsed:    0.2s remaining:    0.0s\n"
     ]
    },
    {
     "name": "stdout",
     "output_type": "stream",
     "text": [
      "[CV]  rf__criterion=mse, rf__max_depth=7, rf__n_estimators=5, score=-0.0023228269754347695, total=   0.3s\n",
      "[CV] rf__criterion=mse, rf__max_depth=7, rf__n_estimators=5 ..........\n"
     ]
    },
    {
     "name": "stderr",
     "output_type": "stream",
     "text": [
      "[Parallel(n_jobs=1)]: Done   2 out of   2 | elapsed:    0.5s remaining:    0.0s\n"
     ]
    },
    {
     "name": "stdout",
     "output_type": "stream",
     "text": [
      "[CV]  rf__criterion=mse, rf__max_depth=7, rf__n_estimators=5, score=-0.002193527079883789, total=   0.2s\n"
     ]
    },
    {
     "name": "stderr",
     "output_type": "stream",
     "text": [
      "[Parallel(n_jobs=1)]: Done   3 out of   3 | elapsed:    0.7s remaining:    0.0s\n",
      "[Parallel(n_jobs=1)]: Done   3 out of   3 | elapsed:    0.7s finished\n",
      "/home/rpartsey/development/aml-class-20/venv/lib/python3.6/site-packages/sklearn/utils/validation.py:558: FutureWarning: Beginning in version 0.22, arrays of bytes/strings will be converted to decimal numbers if dtype='numeric'. It is recommended that you convert the array to a float dtype before using it in scikit-learn, for example by using your_array = your_array.astype(np.float64).\n",
      "  FutureWarning)\n"
     ]
    },
    {
     "name": "stdout",
     "output_type": "stream",
     "text": [
      "best params: OrderedDict([('rf__criterion', 'mse'), ('rf__max_depth', 3), ('rf__n_estimators', 10)])\n",
      "mean_squared_error: 0.0018733607459699968\n",
      "r2_score: 0.2739621790685218\n"
     ]
    }
   ],
   "source": [
    "numeric_pipeline = Pipeline(steps=[\n",
    "    ('imputer', SimpleImputer(strategy='median')),\n",
    "    ('scaler', MinMaxScaler()),\n",
    "#     ('poly', PolynomialFeatures(2))\n",
    "])\n",
    "\n",
    "categorical_pipeline = Pipeline(steps=[\n",
    "    ('imputer', SimpleImputer(strategy='constant', fill_value='missing')),\n",
    "    ('onehot', OneHotEncoder(handle_unknown='ignore')),\n",
    "])\n",
    "\n",
    "\n",
    "preprocessor = ColumnTransformer(transformers=[\n",
    "    ('num', numeric_pipeline, numeric_features),\n",
    "    ('cat', categorical_pipeline, categorical_features),\n",
    "])\n",
    "\n",
    "param_grid = { \n",
    "    'lr__alpha': Real(0.001, 1, prior='uniform'),\n",
    "    'lr__l1_ratio': Real(0.001, 1, prior='uniform'),\n",
    "}\n",
    "\n",
    "est = Pipeline(steps=[\n",
    "    ('preprocessor', preprocessor),\n",
    "    ('rf', RandomForestRegressor(n_estimators=10, n_jobs=-1, random_state=RANDOM_STATE)),\n",
    "])\n",
    "\n",
    "param_grid = {\n",
    "    'rf__criterion': ['mse'],\n",
    "    'rf__n_estimators': list(range(1, 10 +1)),\n",
    "    'rf__max_depth': list(range(2, 15))\n",
    "}\n",
    "\n",
    "\n",
    "bs = BayesSearchCV(est, param_grid, \n",
    "                  scoring='neg_mean_squared_error', cv=3, refit=True, verbose=10)\n",
    "\n",
    "bs.fit(X_train, Y_train)\n",
    "\n",
    "\n",
    "print(\n",
    "    f'best params: {bs.best_params_}\\n'\n",
    "    f'mean_squared_error: {mean_squared_error(Y_test, bs.predict(X_test))}\\n'\n",
    "    f'r2_score: {r2_score(Y_test, bs.predict(X_test))}'\n",
    ")"
   ]
  },
  {
   "cell_type": "markdown",
   "metadata": {},
   "source": [
    "## Experiment 4"
   ]
  },
  {
   "cell_type": "code",
   "execution_count": 50,
   "metadata": {},
   "outputs": [
    {
     "name": "stdout",
     "output_type": "stream",
     "text": [
      "Fitting 3 folds for each of 1 candidates, totalling 3 fits\n",
      "[CV] rf__criterion=mse, rf__max_depth=8, rf__n_estimators=6 ..........\n"
     ]
    },
    {
     "name": "stderr",
     "output_type": "stream",
     "text": [
      "[Parallel(n_jobs=1)]: Using backend SequentialBackend with 1 concurrent workers.\n"
     ]
    },
    {
     "name": "stdout",
     "output_type": "stream",
     "text": [
      "[CV]  rf__criterion=mse, rf__max_depth=8, rf__n_estimators=6, score=-0.002099465105789322, total=   0.2s\n",
      "[CV] rf__criterion=mse, rf__max_depth=8, rf__n_estimators=6 ..........\n"
     ]
    },
    {
     "name": "stderr",
     "output_type": "stream",
     "text": [
      "[Parallel(n_jobs=1)]: Done   1 out of   1 | elapsed:    0.2s remaining:    0.0s\n"
     ]
    },
    {
     "name": "stdout",
     "output_type": "stream",
     "text": [
      "[CV]  rf__criterion=mse, rf__max_depth=8, rf__n_estimators=6, score=-0.0023065001725788357, total=   0.4s\n",
      "[CV] rf__criterion=mse, rf__max_depth=8, rf__n_estimators=6 ..........\n"
     ]
    },
    {
     "name": "stderr",
     "output_type": "stream",
     "text": [
      "[Parallel(n_jobs=1)]: Done   2 out of   2 | elapsed:    0.6s remaining:    0.0s\n"
     ]
    },
    {
     "name": "stdout",
     "output_type": "stream",
     "text": [
      "[CV]  rf__criterion=mse, rf__max_depth=8, rf__n_estimators=6, score=-0.0021736983251178345, total=   0.4s\n",
      "Fitting 3 folds for each of 1 candidates, totalling 3 fits\n",
      "[CV] rf__criterion=mse, rf__max_depth=7, rf__n_estimators=7 ..........\n"
     ]
    },
    {
     "name": "stderr",
     "output_type": "stream",
     "text": [
      "[Parallel(n_jobs=1)]: Done   3 out of   3 | elapsed:    1.0s remaining:    0.0s\n",
      "[Parallel(n_jobs=1)]: Done   3 out of   3 | elapsed:    1.0s finished\n",
      "[Parallel(n_jobs=1)]: Using backend SequentialBackend with 1 concurrent workers.\n"
     ]
    },
    {
     "name": "stdout",
     "output_type": "stream",
     "text": [
      "[CV]  rf__criterion=mse, rf__max_depth=7, rf__n_estimators=7, score=-0.001933457570914174, total=   0.3s\n",
      "[CV] rf__criterion=mse, rf__max_depth=7, rf__n_estimators=7 ..........\n"
     ]
    },
    {
     "name": "stderr",
     "output_type": "stream",
     "text": [
      "[Parallel(n_jobs=1)]: Done   1 out of   1 | elapsed:    0.3s remaining:    0.0s\n"
     ]
    },
    {
     "name": "stdout",
     "output_type": "stream",
     "text": [
      "[CV]  rf__criterion=mse, rf__max_depth=7, rf__n_estimators=7, score=-0.002159901740910291, total=   0.4s\n",
      "[CV] rf__criterion=mse, rf__max_depth=7, rf__n_estimators=7 ..........\n"
     ]
    },
    {
     "name": "stderr",
     "output_type": "stream",
     "text": [
      "[Parallel(n_jobs=1)]: Done   2 out of   2 | elapsed:    0.7s remaining:    0.0s\n"
     ]
    },
    {
     "name": "stdout",
     "output_type": "stream",
     "text": [
      "[CV]  rf__criterion=mse, rf__max_depth=7, rf__n_estimators=7, score=-0.0020948162746027067, total=   0.4s\n",
      "Fitting 3 folds for each of 1 candidates, totalling 3 fits\n",
      "[CV] rf__criterion=mse, rf__max_depth=4, rf__n_estimators=9 ..........\n"
     ]
    },
    {
     "name": "stderr",
     "output_type": "stream",
     "text": [
      "[Parallel(n_jobs=1)]: Done   3 out of   3 | elapsed:    1.1s remaining:    0.0s\n",
      "[Parallel(n_jobs=1)]: Done   3 out of   3 | elapsed:    1.1s finished\n",
      "[Parallel(n_jobs=1)]: Using backend SequentialBackend with 1 concurrent workers.\n"
     ]
    },
    {
     "name": "stdout",
     "output_type": "stream",
     "text": [
      "[CV]  rf__criterion=mse, rf__max_depth=4, rf__n_estimators=9, score=-0.0018888707209757797, total=   0.2s\n",
      "[CV] rf__criterion=mse, rf__max_depth=4, rf__n_estimators=9 ..........\n"
     ]
    },
    {
     "name": "stderr",
     "output_type": "stream",
     "text": [
      "[Parallel(n_jobs=1)]: Done   1 out of   1 | elapsed:    0.3s remaining:    0.0s\n"
     ]
    },
    {
     "name": "stdout",
     "output_type": "stream",
     "text": [
      "[CV]  rf__criterion=mse, rf__max_depth=4, rf__n_estimators=9, score=-0.0020310092532765415, total=   0.2s\n",
      "[CV] rf__criterion=mse, rf__max_depth=4, rf__n_estimators=9 ..........\n"
     ]
    },
    {
     "name": "stderr",
     "output_type": "stream",
     "text": [
      "[Parallel(n_jobs=1)]: Done   2 out of   2 | elapsed:    0.5s remaining:    0.0s\n"
     ]
    },
    {
     "name": "stdout",
     "output_type": "stream",
     "text": [
      "[CV]  rf__criterion=mse, rf__max_depth=4, rf__n_estimators=9, score=-0.0019205790551838668, total=   0.2s\n",
      "Fitting 3 folds for each of 1 candidates, totalling 3 fits\n",
      "[CV] rf__criterion=mse, rf__max_depth=2, rf__n_estimators=5 ..........\n"
     ]
    },
    {
     "name": "stderr",
     "output_type": "stream",
     "text": [
      "[Parallel(n_jobs=1)]: Done   3 out of   3 | elapsed:    0.7s remaining:    0.0s\n",
      "[Parallel(n_jobs=1)]: Done   3 out of   3 | elapsed:    0.7s finished\n",
      "[Parallel(n_jobs=1)]: Using backend SequentialBackend with 1 concurrent workers.\n"
     ]
    },
    {
     "name": "stdout",
     "output_type": "stream",
     "text": [
      "[CV]  rf__criterion=mse, rf__max_depth=2, rf__n_estimators=5, score=-0.001914973243737303, total=   0.2s\n",
      "[CV] rf__criterion=mse, rf__max_depth=2, rf__n_estimators=5 ..........\n"
     ]
    },
    {
     "name": "stderr",
     "output_type": "stream",
     "text": [
      "[Parallel(n_jobs=1)]: Done   1 out of   1 | elapsed:    0.2s remaining:    0.0s\n"
     ]
    },
    {
     "name": "stdout",
     "output_type": "stream",
     "text": [
      "[CV]  rf__criterion=mse, rf__max_depth=2, rf__n_estimators=5, score=-0.002004236502182522, total=   0.2s\n",
      "[CV] rf__criterion=mse, rf__max_depth=2, rf__n_estimators=5 ..........\n"
     ]
    },
    {
     "name": "stderr",
     "output_type": "stream",
     "text": [
      "[Parallel(n_jobs=1)]: Done   2 out of   2 | elapsed:    0.5s remaining:    0.0s\n"
     ]
    },
    {
     "name": "stdout",
     "output_type": "stream",
     "text": [
      "[CV]  rf__criterion=mse, rf__max_depth=2, rf__n_estimators=5, score=-0.0019296072614995788, total=   0.2s\n",
      "Fitting 3 folds for each of 1 candidates, totalling 3 fits\n",
      "[CV] rf__criterion=mse, rf__max_depth=7, rf__n_estimators=7 ..........\n"
     ]
    },
    {
     "name": "stderr",
     "output_type": "stream",
     "text": [
      "[Parallel(n_jobs=1)]: Done   3 out of   3 | elapsed:    0.7s remaining:    0.0s\n",
      "[Parallel(n_jobs=1)]: Done   3 out of   3 | elapsed:    0.7s finished\n",
      "[Parallel(n_jobs=1)]: Using backend SequentialBackend with 1 concurrent workers.\n"
     ]
    },
    {
     "name": "stdout",
     "output_type": "stream",
     "text": [
      "[CV]  rf__criterion=mse, rf__max_depth=7, rf__n_estimators=7, score=-0.001933457570914174, total=   0.4s\n",
      "[CV] rf__criterion=mse, rf__max_depth=7, rf__n_estimators=7 ..........\n"
     ]
    },
    {
     "name": "stderr",
     "output_type": "stream",
     "text": [
      "[Parallel(n_jobs=1)]: Done   1 out of   1 | elapsed:    0.4s remaining:    0.0s\n"
     ]
    },
    {
     "name": "stdout",
     "output_type": "stream",
     "text": [
      "[CV]  rf__criterion=mse, rf__max_depth=7, rf__n_estimators=7, score=-0.002159901740910291, total=   0.4s\n",
      "[CV] rf__criterion=mse, rf__max_depth=7, rf__n_estimators=7 ..........\n"
     ]
    },
    {
     "name": "stderr",
     "output_type": "stream",
     "text": [
      "[Parallel(n_jobs=1)]: Done   2 out of   2 | elapsed:    0.8s remaining:    0.0s\n"
     ]
    },
    {
     "name": "stdout",
     "output_type": "stream",
     "text": [
      "[CV]  rf__criterion=mse, rf__max_depth=7, rf__n_estimators=7, score=-0.0020948162746027067, total=   0.4s\n",
      "Fitting 3 folds for each of 1 candidates, totalling 3 fits\n",
      "[CV] rf__criterion=mse, rf__max_depth=4, rf__n_estimators=5 ..........\n"
     ]
    },
    {
     "name": "stderr",
     "output_type": "stream",
     "text": [
      "[Parallel(n_jobs=1)]: Done   3 out of   3 | elapsed:    1.1s remaining:    0.0s\n",
      "[Parallel(n_jobs=1)]: Done   3 out of   3 | elapsed:    1.1s finished\n",
      "[Parallel(n_jobs=1)]: Using backend SequentialBackend with 1 concurrent workers.\n"
     ]
    },
    {
     "name": "stdout",
     "output_type": "stream",
     "text": [
      "[CV]  rf__criterion=mse, rf__max_depth=4, rf__n_estimators=5, score=-0.001950083875209994, total=   0.2s\n",
      "[CV] rf__criterion=mse, rf__max_depth=4, rf__n_estimators=5 ..........\n"
     ]
    },
    {
     "name": "stderr",
     "output_type": "stream",
     "text": [
      "[Parallel(n_jobs=1)]: Done   1 out of   1 | elapsed:    0.3s remaining:    0.0s\n"
     ]
    },
    {
     "name": "stdout",
     "output_type": "stream",
     "text": [
      "[CV]  rf__criterion=mse, rf__max_depth=4, rf__n_estimators=5, score=-0.0020634635502469667, total=   0.2s\n",
      "[CV] rf__criterion=mse, rf__max_depth=4, rf__n_estimators=5 ..........\n"
     ]
    },
    {
     "name": "stderr",
     "output_type": "stream",
     "text": [
      "[Parallel(n_jobs=1)]: Done   2 out of   2 | elapsed:    0.5s remaining:    0.0s\n"
     ]
    },
    {
     "name": "stdout",
     "output_type": "stream",
     "text": [
      "[CV]  rf__criterion=mse, rf__max_depth=4, rf__n_estimators=5, score=-0.0020126078662443233, total=   0.2s\n",
      "Fitting 3 folds for each of 1 candidates, totalling 3 fits\n",
      "[CV] rf__criterion=mse, rf__max_depth=5, rf__n_estimators=3 ..........\n"
     ]
    },
    {
     "name": "stderr",
     "output_type": "stream",
     "text": [
      "[Parallel(n_jobs=1)]: Done   3 out of   3 | elapsed:    0.8s remaining:    0.0s\n",
      "[Parallel(n_jobs=1)]: Done   3 out of   3 | elapsed:    0.8s finished\n",
      "[Parallel(n_jobs=1)]: Using backend SequentialBackend with 1 concurrent workers.\n"
     ]
    },
    {
     "name": "stdout",
     "output_type": "stream",
     "text": [
      "[CV]  rf__criterion=mse, rf__max_depth=5, rf__n_estimators=3, score=-0.00206170342976318, total=   0.2s\n",
      "[CV] rf__criterion=mse, rf__max_depth=5, rf__n_estimators=3 ..........\n"
     ]
    },
    {
     "name": "stderr",
     "output_type": "stream",
     "text": [
      "[Parallel(n_jobs=1)]: Done   1 out of   1 | elapsed:    0.2s remaining:    0.0s\n"
     ]
    },
    {
     "name": "stdout",
     "output_type": "stream",
     "text": [
      "[CV]  rf__criterion=mse, rf__max_depth=5, rf__n_estimators=3, score=-0.002272824137644387, total=   0.3s\n",
      "[CV] rf__criterion=mse, rf__max_depth=5, rf__n_estimators=3 ..........\n"
     ]
    },
    {
     "name": "stderr",
     "output_type": "stream",
     "text": [
      "[Parallel(n_jobs=1)]: Done   2 out of   2 | elapsed:    0.5s remaining:    0.0s\n"
     ]
    },
    {
     "name": "stdout",
     "output_type": "stream",
     "text": [
      "[CV]  rf__criterion=mse, rf__max_depth=5, rf__n_estimators=3, score=-0.002284652626324875, total=   0.2s\n",
      "Fitting 3 folds for each of 1 candidates, totalling 3 fits\n",
      "[CV] rf__criterion=mse, rf__max_depth=12, rf__n_estimators=4 .........\n"
     ]
    },
    {
     "name": "stderr",
     "output_type": "stream",
     "text": [
      "[Parallel(n_jobs=1)]: Done   3 out of   3 | elapsed:    0.8s remaining:    0.0s\n",
      "[Parallel(n_jobs=1)]: Done   3 out of   3 | elapsed:    0.8s finished\n",
      "[Parallel(n_jobs=1)]: Using backend SequentialBackend with 1 concurrent workers.\n"
     ]
    },
    {
     "name": "stdout",
     "output_type": "stream",
     "text": [
      "[CV]  rf__criterion=mse, rf__max_depth=12, rf__n_estimators=4, score=-0.002263467115108322, total=   0.3s\n",
      "[CV] rf__criterion=mse, rf__max_depth=12, rf__n_estimators=4 .........\n"
     ]
    },
    {
     "name": "stderr",
     "output_type": "stream",
     "text": [
      "[Parallel(n_jobs=1)]: Done   1 out of   1 | elapsed:    0.3s remaining:    0.0s\n"
     ]
    },
    {
     "name": "stdout",
     "output_type": "stream",
     "text": [
      "[CV]  rf__criterion=mse, rf__max_depth=12, rf__n_estimators=4, score=-0.0024000738784739485, total=   0.3s\n",
      "[CV] rf__criterion=mse, rf__max_depth=12, rf__n_estimators=4 .........\n"
     ]
    },
    {
     "name": "stderr",
     "output_type": "stream",
     "text": [
      "[Parallel(n_jobs=1)]: Done   2 out of   2 | elapsed:    0.5s remaining:    0.0s\n"
     ]
    },
    {
     "name": "stdout",
     "output_type": "stream",
     "text": [
      "[CV]  rf__criterion=mse, rf__max_depth=12, rf__n_estimators=4, score=-0.002416358190077204, total=   0.2s\n",
      "Fitting 3 folds for each of 1 candidates, totalling 3 fits\n",
      "[CV] rf__criterion=mse, rf__max_depth=8, rf__n_estimators=9 ..........\n"
     ]
    },
    {
     "name": "stderr",
     "output_type": "stream",
     "text": [
      "[Parallel(n_jobs=1)]: Done   3 out of   3 | elapsed:    0.8s remaining:    0.0s\n",
      "[Parallel(n_jobs=1)]: Done   3 out of   3 | elapsed:    0.8s finished\n",
      "[Parallel(n_jobs=1)]: Using backend SequentialBackend with 1 concurrent workers.\n"
     ]
    },
    {
     "name": "stdout",
     "output_type": "stream",
     "text": [
      "[CV]  rf__criterion=mse, rf__max_depth=8, rf__n_estimators=9, score=-0.0020212820970397435, total=   0.3s\n",
      "[CV] rf__criterion=mse, rf__max_depth=8, rf__n_estimators=9 ..........\n"
     ]
    },
    {
     "name": "stderr",
     "output_type": "stream",
     "text": [
      "[Parallel(n_jobs=1)]: Done   1 out of   1 | elapsed:    0.3s remaining:    0.0s\n"
     ]
    },
    {
     "name": "stdout",
     "output_type": "stream",
     "text": [
      "[CV]  rf__criterion=mse, rf__max_depth=8, rf__n_estimators=9, score=-0.002206190419176397, total=   0.4s\n",
      "[CV] rf__criterion=mse, rf__max_depth=8, rf__n_estimators=9 ..........\n"
     ]
    },
    {
     "name": "stderr",
     "output_type": "stream",
     "text": [
      "[Parallel(n_jobs=1)]: Done   2 out of   2 | elapsed:    0.7s remaining:    0.0s\n"
     ]
    },
    {
     "name": "stdout",
     "output_type": "stream",
     "text": [
      "[CV]  rf__criterion=mse, rf__max_depth=8, rf__n_estimators=9, score=-0.00205395432558431, total=   0.4s\n",
      "Fitting 3 folds for each of 1 candidates, totalling 3 fits\n",
      "[CV] rf__criterion=mse, rf__max_depth=3, rf__n_estimators=8 ..........\n"
     ]
    },
    {
     "name": "stderr",
     "output_type": "stream",
     "text": [
      "[Parallel(n_jobs=1)]: Done   3 out of   3 | elapsed:    1.1s remaining:    0.0s\n",
      "[Parallel(n_jobs=1)]: Done   3 out of   3 | elapsed:    1.1s finished\n",
      "[Parallel(n_jobs=1)]: Using backend SequentialBackend with 1 concurrent workers.\n"
     ]
    },
    {
     "name": "stdout",
     "output_type": "stream",
     "text": [
      "[CV]  rf__criterion=mse, rf__max_depth=3, rf__n_estimators=8, score=-0.001868238320183778, total=   0.3s\n",
      "[CV] rf__criterion=mse, rf__max_depth=3, rf__n_estimators=8 ..........\n"
     ]
    },
    {
     "name": "stderr",
     "output_type": "stream",
     "text": [
      "[Parallel(n_jobs=1)]: Done   1 out of   1 | elapsed:    0.3s remaining:    0.0s\n"
     ]
    },
    {
     "name": "stdout",
     "output_type": "stream",
     "text": [
      "[CV]  rf__criterion=mse, rf__max_depth=3, rf__n_estimators=8, score=-0.001974297758813213, total=   0.3s\n",
      "[CV] rf__criterion=mse, rf__max_depth=3, rf__n_estimators=8 ..........\n"
     ]
    },
    {
     "name": "stderr",
     "output_type": "stream",
     "text": [
      "[Parallel(n_jobs=1)]: Done   2 out of   2 | elapsed:    0.5s remaining:    0.0s\n"
     ]
    },
    {
     "name": "stdout",
     "output_type": "stream",
     "text": [
      "[CV]  rf__criterion=mse, rf__max_depth=3, rf__n_estimators=8, score=-0.0019314789571698778, total=   0.3s\n"
     ]
    },
    {
     "name": "stderr",
     "output_type": "stream",
     "text": [
      "[Parallel(n_jobs=1)]: Done   3 out of   3 | elapsed:    0.8s remaining:    0.0s\n",
      "[Parallel(n_jobs=1)]: Done   3 out of   3 | elapsed:    0.8s finished\n",
      "/home/rpartsey/development/aml-class-20/venv/lib/python3.6/site-packages/sklearn/utils/validation.py:558: FutureWarning: Beginning in version 0.22, arrays of bytes/strings will be converted to decimal numbers if dtype='numeric'. It is recommended that you convert the array to a float dtype before using it in scikit-learn, for example by using your_array = your_array.astype(np.float64).\n",
      "  FutureWarning)\n",
      "[Parallel(n_jobs=1)]: Using backend SequentialBackend with 1 concurrent workers.\n"
     ]
    },
    {
     "name": "stdout",
     "output_type": "stream",
     "text": [
      "Fitting 3 folds for each of 1 candidates, totalling 3 fits\n",
      "[CV] rf__criterion=mse, rf__max_depth=14, rf__n_estimators=10 ........\n",
      "[CV]  rf__criterion=mse, rf__max_depth=14, rf__n_estimators=10, score=-0.002054181244314586, total=   0.5s\n",
      "[CV] rf__criterion=mse, rf__max_depth=14, rf__n_estimators=10 ........\n"
     ]
    },
    {
     "name": "stderr",
     "output_type": "stream",
     "text": [
      "[Parallel(n_jobs=1)]: Done   1 out of   1 | elapsed:    0.5s remaining:    0.0s\n"
     ]
    },
    {
     "name": "stdout",
     "output_type": "stream",
     "text": [
      "[CV]  rf__criterion=mse, rf__max_depth=14, rf__n_estimators=10, score=-0.0022044817345058415, total=   0.5s\n",
      "[CV] rf__criterion=mse, rf__max_depth=14, rf__n_estimators=10 ........\n"
     ]
    },
    {
     "name": "stderr",
     "output_type": "stream",
     "text": [
      "[Parallel(n_jobs=1)]: Done   2 out of   2 | elapsed:    1.0s remaining:    0.0s\n"
     ]
    },
    {
     "name": "stdout",
     "output_type": "stream",
     "text": [
      "[CV]  rf__criterion=mse, rf__max_depth=14, rf__n_estimators=10, score=-0.002064450827046337, total=   0.5s\n"
     ]
    },
    {
     "name": "stderr",
     "output_type": "stream",
     "text": [
      "[Parallel(n_jobs=1)]: Done   3 out of   3 | elapsed:    1.4s remaining:    0.0s\n",
      "[Parallel(n_jobs=1)]: Done   3 out of   3 | elapsed:    1.4s finished\n",
      "/home/rpartsey/development/aml-class-20/venv/lib/python3.6/site-packages/sklearn/utils/validation.py:558: FutureWarning: Beginning in version 0.22, arrays of bytes/strings will be converted to decimal numbers if dtype='numeric'. It is recommended that you convert the array to a float dtype before using it in scikit-learn, for example by using your_array = your_array.astype(np.float64).\n",
      "  FutureWarning)\n",
      "/home/rpartsey/development/aml-class-20/venv/lib/python3.6/site-packages/sklearn/utils/validation.py:558: FutureWarning: Beginning in version 0.22, arrays of bytes/strings will be converted to decimal numbers if dtype='numeric'. It is recommended that you convert the array to a float dtype before using it in scikit-learn, for example by using your_array = your_array.astype(np.float64).\n",
      "  FutureWarning)\n",
      "[Parallel(n_jobs=1)]: Using backend SequentialBackend with 1 concurrent workers.\n"
     ]
    },
    {
     "name": "stdout",
     "output_type": "stream",
     "text": [
      "Fitting 3 folds for each of 1 candidates, totalling 3 fits\n",
      "[CV] rf__criterion=mse, rf__max_depth=9, rf__n_estimators=2 ..........\n",
      "[CV]  rf__criterion=mse, rf__max_depth=9, rf__n_estimators=2, score=-0.0025236772611031016, total=   0.3s\n",
      "[CV] rf__criterion=mse, rf__max_depth=9, rf__n_estimators=2 ..........\n"
     ]
    },
    {
     "name": "stderr",
     "output_type": "stream",
     "text": [
      "[Parallel(n_jobs=1)]: Done   1 out of   1 | elapsed:    0.3s remaining:    0.0s\n"
     ]
    },
    {
     "name": "stdout",
     "output_type": "stream",
     "text": [
      "[CV]  rf__criterion=mse, rf__max_depth=9, rf__n_estimators=2, score=-0.0027623563412949954, total=   0.3s\n",
      "[CV] rf__criterion=mse, rf__max_depth=9, rf__n_estimators=2 ..........\n"
     ]
    },
    {
     "name": "stderr",
     "output_type": "stream",
     "text": [
      "[Parallel(n_jobs=1)]: Done   2 out of   2 | elapsed:    0.5s remaining:    0.0s\n"
     ]
    },
    {
     "name": "stdout",
     "output_type": "stream",
     "text": [
      "[CV]  rf__criterion=mse, rf__max_depth=9, rf__n_estimators=2, score=-0.002522002855212993, total=   0.3s\n"
     ]
    },
    {
     "name": "stderr",
     "output_type": "stream",
     "text": [
      "[Parallel(n_jobs=1)]: Done   3 out of   3 | elapsed:    0.8s remaining:    0.0s\n",
      "[Parallel(n_jobs=1)]: Done   3 out of   3 | elapsed:    0.8s finished\n",
      "/home/rpartsey/development/aml-class-20/venv/lib/python3.6/site-packages/sklearn/utils/validation.py:558: FutureWarning: Beginning in version 0.22, arrays of bytes/strings will be converted to decimal numbers if dtype='numeric'. It is recommended that you convert the array to a float dtype before using it in scikit-learn, for example by using your_array = your_array.astype(np.float64).\n",
      "  FutureWarning)\n",
      "/home/rpartsey/development/aml-class-20/venv/lib/python3.6/site-packages/sklearn/utils/validation.py:558: FutureWarning: Beginning in version 0.22, arrays of bytes/strings will be converted to decimal numbers if dtype='numeric'. It is recommended that you convert the array to a float dtype before using it in scikit-learn, for example by using your_array = your_array.astype(np.float64).\n",
      "  FutureWarning)\n",
      "[Parallel(n_jobs=1)]: Using backend SequentialBackend with 1 concurrent workers.\n"
     ]
    },
    {
     "name": "stdout",
     "output_type": "stream",
     "text": [
      "Fitting 3 folds for each of 1 candidates, totalling 3 fits\n",
      "[CV] rf__criterion=mse, rf__max_depth=6, rf__n_estimators=1 ..........\n",
      "[CV]  rf__criterion=mse, rf__max_depth=6, rf__n_estimators=1, score=-0.00286974179945092, total=   0.1s\n",
      "[CV] rf__criterion=mse, rf__max_depth=6, rf__n_estimators=1 ..........\n"
     ]
    },
    {
     "name": "stderr",
     "output_type": "stream",
     "text": [
      "[Parallel(n_jobs=1)]: Done   1 out of   1 | elapsed:    0.1s remaining:    0.0s\n",
      "[Parallel(n_jobs=1)]: Done   2 out of   2 | elapsed:    0.3s remaining:    0.0s\n"
     ]
    },
    {
     "name": "stdout",
     "output_type": "stream",
     "text": [
      "[CV]  rf__criterion=mse, rf__max_depth=6, rf__n_estimators=1, score=-0.0032682624204079004, total=   0.1s\n",
      "[CV] rf__criterion=mse, rf__max_depth=6, rf__n_estimators=1 ..........\n",
      "[CV]  rf__criterion=mse, rf__max_depth=6, rf__n_estimators=1, score=-0.0029829460859234964, total=   0.2s\n"
     ]
    },
    {
     "name": "stderr",
     "output_type": "stream",
     "text": [
      "[Parallel(n_jobs=1)]: Done   3 out of   3 | elapsed:    0.4s remaining:    0.0s\n",
      "[Parallel(n_jobs=1)]: Done   3 out of   3 | elapsed:    0.4s finished\n",
      "/home/rpartsey/development/aml-class-20/venv/lib/python3.6/site-packages/sklearn/utils/validation.py:558: FutureWarning: Beginning in version 0.22, arrays of bytes/strings will be converted to decimal numbers if dtype='numeric'. It is recommended that you convert the array to a float dtype before using it in scikit-learn, for example by using your_array = your_array.astype(np.float64).\n",
      "  FutureWarning)\n",
      "/home/rpartsey/development/aml-class-20/venv/lib/python3.6/site-packages/sklearn/utils/validation.py:558: FutureWarning: Beginning in version 0.22, arrays of bytes/strings will be converted to decimal numbers if dtype='numeric'. It is recommended that you convert the array to a float dtype before using it in scikit-learn, for example by using your_array = your_array.astype(np.float64).\n",
      "  FutureWarning)\n",
      "[Parallel(n_jobs=1)]: Using backend SequentialBackend with 1 concurrent workers.\n"
     ]
    },
    {
     "name": "stdout",
     "output_type": "stream",
     "text": [
      "Fitting 3 folds for each of 1 candidates, totalling 3 fits\n",
      "[CV] rf__criterion=mse, rf__max_depth=11, rf__n_estimators=8 .........\n",
      "[CV]  rf__criterion=mse, rf__max_depth=11, rf__n_estimators=8, score=-0.002061081453080122, total=   0.4s\n",
      "[CV] rf__criterion=mse, rf__max_depth=11, rf__n_estimators=8 .........\n"
     ]
    },
    {
     "name": "stderr",
     "output_type": "stream",
     "text": [
      "[Parallel(n_jobs=1)]: Done   1 out of   1 | elapsed:    0.4s remaining:    0.0s\n"
     ]
    },
    {
     "name": "stdout",
     "output_type": "stream",
     "text": [
      "[CV]  rf__criterion=mse, rf__max_depth=11, rf__n_estimators=8, score=-0.0022481447927420834, total=   0.5s\n",
      "[CV] rf__criterion=mse, rf__max_depth=11, rf__n_estimators=8 .........\n"
     ]
    },
    {
     "name": "stderr",
     "output_type": "stream",
     "text": [
      "[Parallel(n_jobs=1)]: Done   2 out of   2 | elapsed:    0.8s remaining:    0.0s\n"
     ]
    },
    {
     "name": "stdout",
     "output_type": "stream",
     "text": [
      "[CV]  rf__criterion=mse, rf__max_depth=11, rf__n_estimators=8, score=-0.002092817764490797, total=   0.3s\n"
     ]
    },
    {
     "name": "stderr",
     "output_type": "stream",
     "text": [
      "[Parallel(n_jobs=1)]: Done   3 out of   3 | elapsed:    1.2s remaining:    0.0s\n",
      "[Parallel(n_jobs=1)]: Done   3 out of   3 | elapsed:    1.2s finished\n",
      "/home/rpartsey/development/aml-class-20/venv/lib/python3.6/site-packages/sklearn/utils/validation.py:558: FutureWarning: Beginning in version 0.22, arrays of bytes/strings will be converted to decimal numbers if dtype='numeric'. It is recommended that you convert the array to a float dtype before using it in scikit-learn, for example by using your_array = your_array.astype(np.float64).\n",
      "  FutureWarning)\n",
      "/home/rpartsey/development/aml-class-20/venv/lib/python3.6/site-packages/sklearn/utils/validation.py:558: FutureWarning: Beginning in version 0.22, arrays of bytes/strings will be converted to decimal numbers if dtype='numeric'. It is recommended that you convert the array to a float dtype before using it in scikit-learn, for example by using your_array = your_array.astype(np.float64).\n",
      "  FutureWarning)\n",
      "[Parallel(n_jobs=1)]: Using backend SequentialBackend with 1 concurrent workers.\n"
     ]
    },
    {
     "name": "stdout",
     "output_type": "stream",
     "text": [
      "Fitting 3 folds for each of 1 candidates, totalling 3 fits\n",
      "[CV] rf__criterion=mse, rf__max_depth=13, rf__n_estimators=10 ........\n",
      "[CV]  rf__criterion=mse, rf__max_depth=13, rf__n_estimators=10, score=-0.00202247822491732, total=   0.6s\n",
      "[CV] rf__criterion=mse, rf__max_depth=13, rf__n_estimators=10 ........\n"
     ]
    },
    {
     "name": "stderr",
     "output_type": "stream",
     "text": [
      "[Parallel(n_jobs=1)]: Done   1 out of   1 | elapsed:    0.6s remaining:    0.0s\n"
     ]
    },
    {
     "name": "stdout",
     "output_type": "stream",
     "text": [
      "[CV]  rf__criterion=mse, rf__max_depth=13, rf__n_estimators=10, score=-0.002203972483179235, total=   0.5s\n",
      "[CV] rf__criterion=mse, rf__max_depth=13, rf__n_estimators=10 ........\n"
     ]
    },
    {
     "name": "stderr",
     "output_type": "stream",
     "text": [
      "[Parallel(n_jobs=1)]: Done   2 out of   2 | elapsed:    1.1s remaining:    0.0s\n"
     ]
    },
    {
     "name": "stdout",
     "output_type": "stream",
     "text": [
      "[CV]  rf__criterion=mse, rf__max_depth=13, rf__n_estimators=10, score=-0.0020567470645441836, total=   0.7s\n"
     ]
    },
    {
     "name": "stderr",
     "output_type": "stream",
     "text": [
      "[Parallel(n_jobs=1)]: Done   3 out of   3 | elapsed:    1.8s remaining:    0.0s\n",
      "[Parallel(n_jobs=1)]: Done   3 out of   3 | elapsed:    1.8s finished\n",
      "/home/rpartsey/development/aml-class-20/venv/lib/python3.6/site-packages/sklearn/utils/validation.py:558: FutureWarning: Beginning in version 0.22, arrays of bytes/strings will be converted to decimal numbers if dtype='numeric'. It is recommended that you convert the array to a float dtype before using it in scikit-learn, for example by using your_array = your_array.astype(np.float64).\n",
      "  FutureWarning)\n",
      "/home/rpartsey/development/aml-class-20/venv/lib/python3.6/site-packages/sklearn/utils/validation.py:558: FutureWarning: Beginning in version 0.22, arrays of bytes/strings will be converted to decimal numbers if dtype='numeric'. It is recommended that you convert the array to a float dtype before using it in scikit-learn, for example by using your_array = your_array.astype(np.float64).\n",
      "  FutureWarning)\n",
      "[Parallel(n_jobs=1)]: Using backend SequentialBackend with 1 concurrent workers.\n"
     ]
    },
    {
     "name": "stdout",
     "output_type": "stream",
     "text": [
      "Fitting 3 folds for each of 1 candidates, totalling 3 fits\n",
      "[CV] rf__criterion=mse, rf__max_depth=10, rf__n_estimators=6 .........\n",
      "[CV]  rf__criterion=mse, rf__max_depth=10, rf__n_estimators=6, score=-0.0021165739762838594, total=   0.4s\n",
      "[CV] rf__criterion=mse, rf__max_depth=10, rf__n_estimators=6 .........\n"
     ]
    },
    {
     "name": "stderr",
     "output_type": "stream",
     "text": [
      "[Parallel(n_jobs=1)]: Done   1 out of   1 | elapsed:    0.4s remaining:    0.0s\n"
     ]
    },
    {
     "name": "stdout",
     "output_type": "stream",
     "text": [
      "[CV]  rf__criterion=mse, rf__max_depth=10, rf__n_estimators=6, score=-0.002272165858332735, total=   0.3s\n",
      "[CV] rf__criterion=mse, rf__max_depth=10, rf__n_estimators=6 .........\n"
     ]
    },
    {
     "name": "stderr",
     "output_type": "stream",
     "text": [
      "[Parallel(n_jobs=1)]: Done   2 out of   2 | elapsed:    0.7s remaining:    0.0s\n"
     ]
    },
    {
     "name": "stdout",
     "output_type": "stream",
     "text": [
      "[CV]  rf__criterion=mse, rf__max_depth=10, rf__n_estimators=6, score=-0.0021909377384402226, total=   0.3s\n"
     ]
    },
    {
     "name": "stderr",
     "output_type": "stream",
     "text": [
      "[Parallel(n_jobs=1)]: Done   3 out of   3 | elapsed:    1.0s remaining:    0.0s\n",
      "[Parallel(n_jobs=1)]: Done   3 out of   3 | elapsed:    1.0s finished\n",
      "/home/rpartsey/development/aml-class-20/venv/lib/python3.6/site-packages/sklearn/utils/validation.py:558: FutureWarning: Beginning in version 0.22, arrays of bytes/strings will be converted to decimal numbers if dtype='numeric'. It is recommended that you convert the array to a float dtype before using it in scikit-learn, for example by using your_array = your_array.astype(np.float64).\n",
      "  FutureWarning)\n",
      "/home/rpartsey/development/aml-class-20/venv/lib/python3.6/site-packages/sklearn/utils/validation.py:558: FutureWarning: Beginning in version 0.22, arrays of bytes/strings will be converted to decimal numbers if dtype='numeric'. It is recommended that you convert the array to a float dtype before using it in scikit-learn, for example by using your_array = your_array.astype(np.float64).\n",
      "  FutureWarning)\n"
     ]
    },
    {
     "name": "stdout",
     "output_type": "stream",
     "text": [
      "Fitting 3 folds for each of 1 candidates, totalling 3 fits\n",
      "[CV] rf__criterion=mse, rf__max_depth=3, rf__n_estimators=3 ..........\n"
     ]
    },
    {
     "name": "stderr",
     "output_type": "stream",
     "text": [
      "[Parallel(n_jobs=1)]: Using backend SequentialBackend with 1 concurrent workers.\n"
     ]
    },
    {
     "name": "stdout",
     "output_type": "stream",
     "text": [
      "[CV]  rf__criterion=mse, rf__max_depth=3, rf__n_estimators=3, score=-0.0018833797946313866, total=   0.3s\n",
      "[CV] rf__criterion=mse, rf__max_depth=3, rf__n_estimators=3 ..........\n"
     ]
    },
    {
     "name": "stderr",
     "output_type": "stream",
     "text": [
      "[Parallel(n_jobs=1)]: Done   1 out of   1 | elapsed:    0.3s remaining:    0.0s\n"
     ]
    },
    {
     "name": "stdout",
     "output_type": "stream",
     "text": [
      "[CV]  rf__criterion=mse, rf__max_depth=3, rf__n_estimators=3, score=-0.0020392493600944984, total=   0.3s\n",
      "[CV] rf__criterion=mse, rf__max_depth=3, rf__n_estimators=3 ..........\n"
     ]
    },
    {
     "name": "stderr",
     "output_type": "stream",
     "text": [
      "[Parallel(n_jobs=1)]: Done   2 out of   2 | elapsed:    0.5s remaining:    0.0s\n"
     ]
    },
    {
     "name": "stdout",
     "output_type": "stream",
     "text": [
      "[CV]  rf__criterion=mse, rf__max_depth=3, rf__n_estimators=3, score=-0.0020413182058439654, total=   0.3s\n"
     ]
    },
    {
     "name": "stderr",
     "output_type": "stream",
     "text": [
      "[Parallel(n_jobs=1)]: Done   3 out of   3 | elapsed:    0.8s remaining:    0.0s\n",
      "[Parallel(n_jobs=1)]: Done   3 out of   3 | elapsed:    0.8s finished\n",
      "/home/rpartsey/development/aml-class-20/venv/lib/python3.6/site-packages/sklearn/utils/validation.py:558: FutureWarning: Beginning in version 0.22, arrays of bytes/strings will be converted to decimal numbers if dtype='numeric'. It is recommended that you convert the array to a float dtype before using it in scikit-learn, for example by using your_array = your_array.astype(np.float64).\n",
      "  FutureWarning)\n",
      "/home/rpartsey/development/aml-class-20/venv/lib/python3.6/site-packages/sklearn/utils/validation.py:558: FutureWarning: Beginning in version 0.22, arrays of bytes/strings will be converted to decimal numbers if dtype='numeric'. It is recommended that you convert the array to a float dtype before using it in scikit-learn, for example by using your_array = your_array.astype(np.float64).\n",
      "  FutureWarning)\n",
      "[Parallel(n_jobs=1)]: Using backend SequentialBackend with 1 concurrent workers.\n"
     ]
    },
    {
     "name": "stdout",
     "output_type": "stream",
     "text": [
      "Fitting 3 folds for each of 1 candidates, totalling 3 fits\n",
      "[CV] rf__criterion=mse, rf__max_depth=2, rf__n_estimators=4 ..........\n",
      "[CV]  rf__criterion=mse, rf__max_depth=2, rf__n_estimators=4, score=-0.0019144445427001873, total=   0.3s\n",
      "[CV] rf__criterion=mse, rf__max_depth=2, rf__n_estimators=4 ..........\n"
     ]
    },
    {
     "name": "stderr",
     "output_type": "stream",
     "text": [
      "[Parallel(n_jobs=1)]: Done   1 out of   1 | elapsed:    0.3s remaining:    0.0s\n"
     ]
    },
    {
     "name": "stdout",
     "output_type": "stream",
     "text": [
      "[CV]  rf__criterion=mse, rf__max_depth=2, rf__n_estimators=4, score=-0.002009752773907486, total=   0.3s\n",
      "[CV] rf__criterion=mse, rf__max_depth=2, rf__n_estimators=4 ..........\n"
     ]
    },
    {
     "name": "stderr",
     "output_type": "stream",
     "text": [
      "[Parallel(n_jobs=1)]: Done   2 out of   2 | elapsed:    0.5s remaining:    0.0s\n"
     ]
    },
    {
     "name": "stdout",
     "output_type": "stream",
     "text": [
      "[CV]  rf__criterion=mse, rf__max_depth=2, rf__n_estimators=4, score=-0.0019752927134350615, total=   0.2s\n"
     ]
    },
    {
     "name": "stderr",
     "output_type": "stream",
     "text": [
      "[Parallel(n_jobs=1)]: Done   3 out of   3 | elapsed:    0.8s remaining:    0.0s\n",
      "[Parallel(n_jobs=1)]: Done   3 out of   3 | elapsed:    0.8s finished\n",
      "/home/rpartsey/development/aml-class-20/venv/lib/python3.6/site-packages/sklearn/utils/validation.py:558: FutureWarning: Beginning in version 0.22, arrays of bytes/strings will be converted to decimal numbers if dtype='numeric'. It is recommended that you convert the array to a float dtype before using it in scikit-learn, for example by using your_array = your_array.astype(np.float64).\n",
      "  FutureWarning)\n",
      "/home/rpartsey/development/aml-class-20/venv/lib/python3.6/site-packages/sklearn/utils/validation.py:558: FutureWarning: Beginning in version 0.22, arrays of bytes/strings will be converted to decimal numbers if dtype='numeric'. It is recommended that you convert the array to a float dtype before using it in scikit-learn, for example by using your_array = your_array.astype(np.float64).\n",
      "  FutureWarning)\n"
     ]
    },
    {
     "name": "stdout",
     "output_type": "stream",
     "text": [
      "Fitting 3 folds for each of 1 candidates, totalling 3 fits\n",
      "[CV] rf__criterion=mse, rf__max_depth=13, rf__n_estimators=2 .........\n"
     ]
    },
    {
     "name": "stderr",
     "output_type": "stream",
     "text": [
      "[Parallel(n_jobs=1)]: Using backend SequentialBackend with 1 concurrent workers.\n"
     ]
    },
    {
     "name": "stdout",
     "output_type": "stream",
     "text": [
      "[CV]  rf__criterion=mse, rf__max_depth=13, rf__n_estimators=2, score=-0.0025037813309494706, total=   0.3s\n",
      "[CV] rf__criterion=mse, rf__max_depth=13, rf__n_estimators=2 .........\n"
     ]
    },
    {
     "name": "stderr",
     "output_type": "stream",
     "text": [
      "[Parallel(n_jobs=1)]: Done   1 out of   1 | elapsed:    0.3s remaining:    0.0s\n"
     ]
    },
    {
     "name": "stdout",
     "output_type": "stream",
     "text": [
      "[CV]  rf__criterion=mse, rf__max_depth=13, rf__n_estimators=2, score=-0.0028964677751496673, total=   0.2s\n",
      "[CV] rf__criterion=mse, rf__max_depth=13, rf__n_estimators=2 .........\n"
     ]
    },
    {
     "name": "stderr",
     "output_type": "stream",
     "text": [
      "[Parallel(n_jobs=1)]: Done   2 out of   2 | elapsed:    0.5s remaining:    0.0s\n"
     ]
    },
    {
     "name": "stdout",
     "output_type": "stream",
     "text": [
      "[CV]  rf__criterion=mse, rf__max_depth=13, rf__n_estimators=2, score=-0.0028493668503707333, total=   0.4s\n"
     ]
    },
    {
     "name": "stderr",
     "output_type": "stream",
     "text": [
      "[Parallel(n_jobs=1)]: Done   3 out of   3 | elapsed:    0.9s remaining:    0.0s\n",
      "[Parallel(n_jobs=1)]: Done   3 out of   3 | elapsed:    0.9s finished\n",
      "/home/rpartsey/development/aml-class-20/venv/lib/python3.6/site-packages/sklearn/utils/validation.py:558: FutureWarning: Beginning in version 0.22, arrays of bytes/strings will be converted to decimal numbers if dtype='numeric'. It is recommended that you convert the array to a float dtype before using it in scikit-learn, for example by using your_array = your_array.astype(np.float64).\n",
      "  FutureWarning)\n",
      "/home/rpartsey/development/aml-class-20/venv/lib/python3.6/site-packages/sklearn/utils/validation.py:558: FutureWarning: Beginning in version 0.22, arrays of bytes/strings will be converted to decimal numbers if dtype='numeric'. It is recommended that you convert the array to a float dtype before using it in scikit-learn, for example by using your_array = your_array.astype(np.float64).\n",
      "  FutureWarning)\n"
     ]
    },
    {
     "name": "stdout",
     "output_type": "stream",
     "text": [
      "Fitting 3 folds for each of 1 candidates, totalling 3 fits\n",
      "[CV] rf__criterion=mse, rf__max_depth=14, rf__n_estimators=1 .........\n",
      "[CV]  rf__criterion=mse, rf__max_depth=14, rf__n_estimators=1, score=-0.003552760683760684, total=   0.2s\n",
      "[CV] rf__criterion=mse, rf__max_depth=14, rf__n_estimators=1 .........\n"
     ]
    },
    {
     "name": "stderr",
     "output_type": "stream",
     "text": [
      "[Parallel(n_jobs=1)]: Using backend SequentialBackend with 1 concurrent workers.\n",
      "[Parallel(n_jobs=1)]: Done   1 out of   1 | elapsed:    0.2s remaining:    0.0s\n"
     ]
    },
    {
     "name": "stdout",
     "output_type": "stream",
     "text": [
      "[CV]  rf__criterion=mse, rf__max_depth=14, rf__n_estimators=1, score=-0.004000277125907912, total=   0.1s\n",
      "[CV] rf__criterion=mse, rf__max_depth=14, rf__n_estimators=1 .........\n",
      "[CV]  rf__criterion=mse, rf__max_depth=14, rf__n_estimators=1, score=-0.0037535514470639275, total=   0.2s\n"
     ]
    },
    {
     "name": "stderr",
     "output_type": "stream",
     "text": [
      "[Parallel(n_jobs=1)]: Done   2 out of   2 | elapsed:    0.3s remaining:    0.0s\n",
      "[Parallel(n_jobs=1)]: Done   3 out of   3 | elapsed:    0.5s remaining:    0.0s\n",
      "[Parallel(n_jobs=1)]: Done   3 out of   3 | elapsed:    0.5s finished\n",
      "/home/rpartsey/development/aml-class-20/venv/lib/python3.6/site-packages/sklearn/utils/validation.py:558: FutureWarning: Beginning in version 0.22, arrays of bytes/strings will be converted to decimal numbers if dtype='numeric'. It is recommended that you convert the array to a float dtype before using it in scikit-learn, for example by using your_array = your_array.astype(np.float64).\n",
      "  FutureWarning)\n",
      "/home/rpartsey/development/aml-class-20/venv/lib/python3.6/site-packages/sklearn/utils/validation.py:558: FutureWarning: Beginning in version 0.22, arrays of bytes/strings will be converted to decimal numbers if dtype='numeric'. It is recommended that you convert the array to a float dtype before using it in scikit-learn, for example by using your_array = your_array.astype(np.float64).\n",
      "  FutureWarning)\n",
      "[Parallel(n_jobs=1)]: Using backend SequentialBackend with 1 concurrent workers.\n"
     ]
    },
    {
     "name": "stdout",
     "output_type": "stream",
     "text": [
      "Fitting 3 folds for each of 1 candidates, totalling 3 fits\n",
      "[CV] rf__criterion=mse, rf__max_depth=11, rf__n_estimators=5 .........\n",
      "[CV]  rf__criterion=mse, rf__max_depth=11, rf__n_estimators=5, score=-0.002248833543087162, total=   0.4s\n",
      "[CV] rf__criterion=mse, rf__max_depth=11, rf__n_estimators=5 .........\n"
     ]
    },
    {
     "name": "stderr",
     "output_type": "stream",
     "text": [
      "[Parallel(n_jobs=1)]: Done   1 out of   1 | elapsed:    0.4s remaining:    0.0s\n"
     ]
    },
    {
     "name": "stdout",
     "output_type": "stream",
     "text": [
      "[CV]  rf__criterion=mse, rf__max_depth=11, rf__n_estimators=5, score=-0.002383171997175899, total=   0.4s\n",
      "[CV] rf__criterion=mse, rf__max_depth=11, rf__n_estimators=5 .........\n"
     ]
    },
    {
     "name": "stderr",
     "output_type": "stream",
     "text": [
      "[Parallel(n_jobs=1)]: Done   2 out of   2 | elapsed:    0.8s remaining:    0.0s\n"
     ]
    },
    {
     "name": "stdout",
     "output_type": "stream",
     "text": [
      "[CV]  rf__criterion=mse, rf__max_depth=11, rf__n_estimators=5, score=-0.0022149072055019053, total=   0.4s\n"
     ]
    },
    {
     "name": "stderr",
     "output_type": "stream",
     "text": [
      "[Parallel(n_jobs=1)]: Done   3 out of   3 | elapsed:    1.1s remaining:    0.0s\n",
      "[Parallel(n_jobs=1)]: Done   3 out of   3 | elapsed:    1.1s finished\n",
      "/home/rpartsey/development/aml-class-20/venv/lib/python3.6/site-packages/sklearn/utils/validation.py:558: FutureWarning: Beginning in version 0.22, arrays of bytes/strings will be converted to decimal numbers if dtype='numeric'. It is recommended that you convert the array to a float dtype before using it in scikit-learn, for example by using your_array = your_array.astype(np.float64).\n",
      "  FutureWarning)\n",
      "/home/rpartsey/development/aml-class-20/venv/lib/python3.6/site-packages/sklearn/utils/validation.py:558: FutureWarning: Beginning in version 0.22, arrays of bytes/strings will be converted to decimal numbers if dtype='numeric'. It is recommended that you convert the array to a float dtype before using it in scikit-learn, for example by using your_array = your_array.astype(np.float64).\n",
      "  FutureWarning)\n"
     ]
    },
    {
     "name": "stdout",
     "output_type": "stream",
     "text": [
      "Fitting 3 folds for each of 1 candidates, totalling 3 fits\n",
      "[CV] rf__criterion=mse, rf__max_depth=10, rf__n_estimators=9 .........\n"
     ]
    },
    {
     "name": "stderr",
     "output_type": "stream",
     "text": [
      "[Parallel(n_jobs=1)]: Using backend SequentialBackend with 1 concurrent workers.\n"
     ]
    },
    {
     "name": "stdout",
     "output_type": "stream",
     "text": [
      "[CV]  rf__criterion=mse, rf__max_depth=10, rf__n_estimators=9, score=-0.0020410055496648473, total=   0.5s\n",
      "[CV] rf__criterion=mse, rf__max_depth=10, rf__n_estimators=9 .........\n"
     ]
    },
    {
     "name": "stderr",
     "output_type": "stream",
     "text": [
      "[Parallel(n_jobs=1)]: Done   1 out of   1 | elapsed:    0.5s remaining:    0.0s\n"
     ]
    },
    {
     "name": "stdout",
     "output_type": "stream",
     "text": [
      "[CV]  rf__criterion=mse, rf__max_depth=10, rf__n_estimators=9, score=-0.0022031029057003725, total=   0.4s\n",
      "[CV] rf__criterion=mse, rf__max_depth=10, rf__n_estimators=9 .........\n"
     ]
    },
    {
     "name": "stderr",
     "output_type": "stream",
     "text": [
      "[Parallel(n_jobs=1)]: Done   2 out of   2 | elapsed:    0.9s remaining:    0.0s\n"
     ]
    },
    {
     "name": "stdout",
     "output_type": "stream",
     "text": [
      "[CV]  rf__criterion=mse, rf__max_depth=10, rf__n_estimators=9, score=-0.00204566562088947, total=   0.4s\n"
     ]
    },
    {
     "name": "stderr",
     "output_type": "stream",
     "text": [
      "[Parallel(n_jobs=1)]: Done   3 out of   3 | elapsed:    1.4s remaining:    0.0s\n",
      "[Parallel(n_jobs=1)]: Done   3 out of   3 | elapsed:    1.4s finished\n",
      "/home/rpartsey/development/aml-class-20/venv/lib/python3.6/site-packages/sklearn/utils/validation.py:558: FutureWarning: Beginning in version 0.22, arrays of bytes/strings will be converted to decimal numbers if dtype='numeric'. It is recommended that you convert the array to a float dtype before using it in scikit-learn, for example by using your_array = your_array.astype(np.float64).\n",
      "  FutureWarning)\n",
      "/home/rpartsey/development/aml-class-20/venv/lib/python3.6/site-packages/sklearn/utils/validation.py:558: FutureWarning: Beginning in version 0.22, arrays of bytes/strings will be converted to decimal numbers if dtype='numeric'. It is recommended that you convert the array to a float dtype before using it in scikit-learn, for example by using your_array = your_array.astype(np.float64).\n",
      "  FutureWarning)\n"
     ]
    },
    {
     "name": "stdout",
     "output_type": "stream",
     "text": [
      "Fitting 3 folds for each of 1 candidates, totalling 3 fits\n",
      "[CV] rf__criterion=mse, rf__max_depth=5, rf__n_estimators=8 ..........\n"
     ]
    },
    {
     "name": "stderr",
     "output_type": "stream",
     "text": [
      "[Parallel(n_jobs=1)]: Using backend SequentialBackend with 1 concurrent workers.\n"
     ]
    },
    {
     "name": "stdout",
     "output_type": "stream",
     "text": [
      "[CV]  rf__criterion=mse, rf__max_depth=5, rf__n_estimators=8, score=-0.001914604494436249, total=   0.4s\n",
      "[CV] rf__criterion=mse, rf__max_depth=5, rf__n_estimators=8 ..........\n"
     ]
    },
    {
     "name": "stderr",
     "output_type": "stream",
     "text": [
      "[Parallel(n_jobs=1)]: Done   1 out of   1 | elapsed:    0.4s remaining:    0.0s\n"
     ]
    },
    {
     "name": "stdout",
     "output_type": "stream",
     "text": [
      "[CV]  rf__criterion=mse, rf__max_depth=5, rf__n_estimators=8, score=-0.002120475228438786, total=   0.4s\n",
      "[CV] rf__criterion=mse, rf__max_depth=5, rf__n_estimators=8 ..........\n"
     ]
    },
    {
     "name": "stderr",
     "output_type": "stream",
     "text": [
      "[Parallel(n_jobs=1)]: Done   2 out of   2 | elapsed:    0.7s remaining:    0.0s\n"
     ]
    },
    {
     "name": "stdout",
     "output_type": "stream",
     "text": [
      "[CV]  rf__criterion=mse, rf__max_depth=5, rf__n_estimators=8, score=-0.0019907397412035417, total=   0.4s\n"
     ]
    },
    {
     "name": "stderr",
     "output_type": "stream",
     "text": [
      "[Parallel(n_jobs=1)]: Done   3 out of   3 | elapsed:    1.1s remaining:    0.0s\n",
      "[Parallel(n_jobs=1)]: Done   3 out of   3 | elapsed:    1.1s finished\n",
      "/home/rpartsey/development/aml-class-20/venv/lib/python3.6/site-packages/sklearn/utils/validation.py:558: FutureWarning: Beginning in version 0.22, arrays of bytes/strings will be converted to decimal numbers if dtype='numeric'. It is recommended that you convert the array to a float dtype before using it in scikit-learn, for example by using your_array = your_array.astype(np.float64).\n",
      "  FutureWarning)\n",
      "/home/rpartsey/development/aml-class-20/venv/lib/python3.6/site-packages/sklearn/utils/validation.py:558: FutureWarning: Beginning in version 0.22, arrays of bytes/strings will be converted to decimal numbers if dtype='numeric'. It is recommended that you convert the array to a float dtype before using it in scikit-learn, for example by using your_array = your_array.astype(np.float64).\n",
      "  FutureWarning)\n"
     ]
    },
    {
     "name": "stdout",
     "output_type": "stream",
     "text": [
      "Fitting 3 folds for each of 1 candidates, totalling 3 fits\n",
      "[CV] rf__criterion=mse, rf__max_depth=12, rf__n_estimators=7 .........\n"
     ]
    },
    {
     "name": "stderr",
     "output_type": "stream",
     "text": [
      "[Parallel(n_jobs=1)]: Using backend SequentialBackend with 1 concurrent workers.\n"
     ]
    },
    {
     "name": "stdout",
     "output_type": "stream",
     "text": [
      "[CV]  rf__criterion=mse, rf__max_depth=12, rf__n_estimators=7, score=-0.0020906055396740413, total=   0.4s\n",
      "[CV] rf__criterion=mse, rf__max_depth=12, rf__n_estimators=7 .........\n"
     ]
    },
    {
     "name": "stderr",
     "output_type": "stream",
     "text": [
      "[Parallel(n_jobs=1)]: Done   1 out of   1 | elapsed:    0.4s remaining:    0.0s\n"
     ]
    },
    {
     "name": "stdout",
     "output_type": "stream",
     "text": [
      "[CV]  rf__criterion=mse, rf__max_depth=12, rf__n_estimators=7, score=-0.0022268168897000666, total=   0.4s\n",
      "[CV] rf__criterion=mse, rf__max_depth=12, rf__n_estimators=7 .........\n"
     ]
    },
    {
     "name": "stderr",
     "output_type": "stream",
     "text": [
      "[Parallel(n_jobs=1)]: Done   2 out of   2 | elapsed:    0.7s remaining:    0.0s\n"
     ]
    },
    {
     "name": "stdout",
     "output_type": "stream",
     "text": [
      "[CV]  rf__criterion=mse, rf__max_depth=12, rf__n_estimators=7, score=-0.0021184816192248916, total=   0.5s\n"
     ]
    },
    {
     "name": "stderr",
     "output_type": "stream",
     "text": [
      "[Parallel(n_jobs=1)]: Done   3 out of   3 | elapsed:    1.2s remaining:    0.0s\n",
      "[Parallel(n_jobs=1)]: Done   3 out of   3 | elapsed:    1.2s finished\n",
      "/home/rpartsey/development/aml-class-20/venv/lib/python3.6/site-packages/sklearn/utils/validation.py:558: FutureWarning: Beginning in version 0.22, arrays of bytes/strings will be converted to decimal numbers if dtype='numeric'. It is recommended that you convert the array to a float dtype before using it in scikit-learn, for example by using your_array = your_array.astype(np.float64).\n",
      "  FutureWarning)\n",
      "/home/rpartsey/development/aml-class-20/venv/lib/python3.6/site-packages/sklearn/utils/validation.py:558: FutureWarning: Beginning in version 0.22, arrays of bytes/strings will be converted to decimal numbers if dtype='numeric'. It is recommended that you convert the array to a float dtype before using it in scikit-learn, for example by using your_array = your_array.astype(np.float64).\n",
      "  FutureWarning)\n"
     ]
    },
    {
     "name": "stdout",
     "output_type": "stream",
     "text": [
      "Fitting 3 folds for each of 1 candidates, totalling 3 fits\n",
      "[CV] rf__criterion=mse, rf__max_depth=9, rf__n_estimators=10 .........\n"
     ]
    },
    {
     "name": "stderr",
     "output_type": "stream",
     "text": [
      "[Parallel(n_jobs=1)]: Using backend SequentialBackend with 1 concurrent workers.\n"
     ]
    },
    {
     "name": "stdout",
     "output_type": "stream",
     "text": [
      "[CV]  rf__criterion=mse, rf__max_depth=9, rf__n_estimators=10, score=-0.002048358953820378, total=   0.4s\n",
      "[CV] rf__criterion=mse, rf__max_depth=9, rf__n_estimators=10 .........\n"
     ]
    },
    {
     "name": "stderr",
     "output_type": "stream",
     "text": [
      "[Parallel(n_jobs=1)]: Done   1 out of   1 | elapsed:    0.4s remaining:    0.0s\n"
     ]
    },
    {
     "name": "stdout",
     "output_type": "stream",
     "text": [
      "[CV]  rf__criterion=mse, rf__max_depth=9, rf__n_estimators=10, score=-0.0021456522932904176, total=   0.5s\n",
      "[CV] rf__criterion=mse, rf__max_depth=9, rf__n_estimators=10 .........\n"
     ]
    },
    {
     "name": "stderr",
     "output_type": "stream",
     "text": [
      "[Parallel(n_jobs=1)]: Done   2 out of   2 | elapsed:    0.8s remaining:    0.0s\n"
     ]
    },
    {
     "name": "stdout",
     "output_type": "stream",
     "text": [
      "[CV]  rf__criterion=mse, rf__max_depth=9, rf__n_estimators=10, score=-0.0020245397913098854, total=   0.4s\n"
     ]
    },
    {
     "name": "stderr",
     "output_type": "stream",
     "text": [
      "[Parallel(n_jobs=1)]: Done   3 out of   3 | elapsed:    1.2s remaining:    0.0s\n",
      "[Parallel(n_jobs=1)]: Done   3 out of   3 | elapsed:    1.2s finished\n",
      "/home/rpartsey/development/aml-class-20/venv/lib/python3.6/site-packages/sklearn/utils/validation.py:558: FutureWarning: Beginning in version 0.22, arrays of bytes/strings will be converted to decimal numbers if dtype='numeric'. It is recommended that you convert the array to a float dtype before using it in scikit-learn, for example by using your_array = your_array.astype(np.float64).\n",
      "  FutureWarning)\n",
      "/home/rpartsey/development/aml-class-20/venv/lib/python3.6/site-packages/sklearn/utils/validation.py:558: FutureWarning: Beginning in version 0.22, arrays of bytes/strings will be converted to decimal numbers if dtype='numeric'. It is recommended that you convert the array to a float dtype before using it in scikit-learn, for example by using your_array = your_array.astype(np.float64).\n",
      "  FutureWarning)\n"
     ]
    },
    {
     "name": "stdout",
     "output_type": "stream",
     "text": [
      "Fitting 3 folds for each of 1 candidates, totalling 3 fits\n",
      "[CV] rf__criterion=mse, rf__max_depth=6, rf__n_estimators=3 ..........\n"
     ]
    },
    {
     "name": "stderr",
     "output_type": "stream",
     "text": [
      "[Parallel(n_jobs=1)]: Using backend SequentialBackend with 1 concurrent workers.\n"
     ]
    },
    {
     "name": "stdout",
     "output_type": "stream",
     "text": [
      "[CV]  rf__criterion=mse, rf__max_depth=6, rf__n_estimators=3, score=-0.0021445862524539995, total=   0.2s\n",
      "[CV] rf__criterion=mse, rf__max_depth=6, rf__n_estimators=3 ..........\n"
     ]
    },
    {
     "name": "stderr",
     "output_type": "stream",
     "text": [
      "[Parallel(n_jobs=1)]: Done   1 out of   1 | elapsed:    0.2s remaining:    0.0s\n"
     ]
    },
    {
     "name": "stdout",
     "output_type": "stream",
     "text": [
      "[CV]  rf__criterion=mse, rf__max_depth=6, rf__n_estimators=3, score=-0.002380376986157215, total=   0.3s\n",
      "[CV] rf__criterion=mse, rf__max_depth=6, rf__n_estimators=3 ..........\n"
     ]
    },
    {
     "name": "stderr",
     "output_type": "stream",
     "text": [
      "[Parallel(n_jobs=1)]: Done   2 out of   2 | elapsed:    0.5s remaining:    0.0s\n"
     ]
    },
    {
     "name": "stdout",
     "output_type": "stream",
     "text": [
      "[CV]  rf__criterion=mse, rf__max_depth=6, rf__n_estimators=3, score=-0.0022988911496051824, total=   0.3s\n"
     ]
    },
    {
     "name": "stderr",
     "output_type": "stream",
     "text": [
      "[Parallel(n_jobs=1)]: Done   3 out of   3 | elapsed:    0.8s remaining:    0.0s\n",
      "[Parallel(n_jobs=1)]: Done   3 out of   3 | elapsed:    0.8s finished\n",
      "/home/rpartsey/development/aml-class-20/venv/lib/python3.6/site-packages/sklearn/utils/validation.py:558: FutureWarning: Beginning in version 0.22, arrays of bytes/strings will be converted to decimal numbers if dtype='numeric'. It is recommended that you convert the array to a float dtype before using it in scikit-learn, for example by using your_array = your_array.astype(np.float64).\n",
      "  FutureWarning)\n",
      "/home/rpartsey/development/aml-class-20/venv/lib/python3.6/site-packages/sklearn/utils/validation.py:558: FutureWarning: Beginning in version 0.22, arrays of bytes/strings will be converted to decimal numbers if dtype='numeric'. It is recommended that you convert the array to a float dtype before using it in scikit-learn, for example by using your_array = your_array.astype(np.float64).\n",
      "  FutureWarning)\n"
     ]
    },
    {
     "name": "stdout",
     "output_type": "stream",
     "text": [
      "Fitting 3 folds for each of 1 candidates, totalling 3 fits\n",
      "[CV] rf__criterion=mse, rf__max_depth=3, rf__n_estimators=4 ..........\n"
     ]
    },
    {
     "name": "stderr",
     "output_type": "stream",
     "text": [
      "[Parallel(n_jobs=1)]: Using backend SequentialBackend with 1 concurrent workers.\n"
     ]
    },
    {
     "name": "stdout",
     "output_type": "stream",
     "text": [
      "[CV]  rf__criterion=mse, rf__max_depth=3, rf__n_estimators=4, score=-0.0019110074558463083, total=   0.2s\n",
      "[CV] rf__criterion=mse, rf__max_depth=3, rf__n_estimators=4 ..........\n"
     ]
    },
    {
     "name": "stderr",
     "output_type": "stream",
     "text": [
      "[Parallel(n_jobs=1)]: Done   1 out of   1 | elapsed:    0.3s remaining:    0.0s\n"
     ]
    },
    {
     "name": "stdout",
     "output_type": "stream",
     "text": [
      "[CV]  rf__criterion=mse, rf__max_depth=3, rf__n_estimators=4, score=-0.0020111924917651128, total=   0.3s\n",
      "[CV] rf__criterion=mse, rf__max_depth=3, rf__n_estimators=4 ..........\n"
     ]
    },
    {
     "name": "stderr",
     "output_type": "stream",
     "text": [
      "[Parallel(n_jobs=1)]: Done   2 out of   2 | elapsed:    0.5s remaining:    0.0s\n"
     ]
    },
    {
     "name": "stdout",
     "output_type": "stream",
     "text": [
      "[CV]  rf__criterion=mse, rf__max_depth=3, rf__n_estimators=4, score=-0.00202046508313052, total=   0.2s\n"
     ]
    },
    {
     "name": "stderr",
     "output_type": "stream",
     "text": [
      "[Parallel(n_jobs=1)]: Done   3 out of   3 | elapsed:    0.8s remaining:    0.0s\n",
      "[Parallel(n_jobs=1)]: Done   3 out of   3 | elapsed:    0.8s finished\n",
      "/home/rpartsey/development/aml-class-20/venv/lib/python3.6/site-packages/sklearn/utils/validation.py:558: FutureWarning: Beginning in version 0.22, arrays of bytes/strings will be converted to decimal numbers if dtype='numeric'. It is recommended that you convert the array to a float dtype before using it in scikit-learn, for example by using your_array = your_array.astype(np.float64).\n",
      "  FutureWarning)\n",
      "/home/rpartsey/development/aml-class-20/venv/lib/python3.6/site-packages/sklearn/utils/validation.py:558: FutureWarning: Beginning in version 0.22, arrays of bytes/strings will be converted to decimal numbers if dtype='numeric'. It is recommended that you convert the array to a float dtype before using it in scikit-learn, for example by using your_array = your_array.astype(np.float64).\n",
      "  FutureWarning)\n"
     ]
    },
    {
     "name": "stdout",
     "output_type": "stream",
     "text": [
      "Fitting 3 folds for each of 1 candidates, totalling 3 fits\n",
      "[CV] rf__criterion=mse, rf__max_depth=2, rf__n_estimators=6 ..........\n"
     ]
    },
    {
     "name": "stderr",
     "output_type": "stream",
     "text": [
      "[Parallel(n_jobs=1)]: Using backend SequentialBackend with 1 concurrent workers.\n"
     ]
    },
    {
     "name": "stdout",
     "output_type": "stream",
     "text": [
      "[CV]  rf__criterion=mse, rf__max_depth=2, rf__n_estimators=6, score=-0.001932983010966702, total=   0.3s\n",
      "[CV] rf__criterion=mse, rf__max_depth=2, rf__n_estimators=6 ..........\n"
     ]
    },
    {
     "name": "stderr",
     "output_type": "stream",
     "text": [
      "[Parallel(n_jobs=1)]: Done   1 out of   1 | elapsed:    0.3s remaining:    0.0s\n"
     ]
    },
    {
     "name": "stdout",
     "output_type": "stream",
     "text": [
      "[CV]  rf__criterion=mse, rf__max_depth=2, rf__n_estimators=6, score=-0.002008085153484257, total=   0.3s\n",
      "[CV] rf__criterion=mse, rf__max_depth=2, rf__n_estimators=6 ..........\n"
     ]
    },
    {
     "name": "stderr",
     "output_type": "stream",
     "text": [
      "[Parallel(n_jobs=1)]: Done   2 out of   2 | elapsed:    0.6s remaining:    0.0s\n"
     ]
    },
    {
     "name": "stdout",
     "output_type": "stream",
     "text": [
      "[CV]  rf__criterion=mse, rf__max_depth=2, rf__n_estimators=6, score=-0.0019238348475444991, total=   0.3s\n"
     ]
    },
    {
     "name": "stderr",
     "output_type": "stream",
     "text": [
      "[Parallel(n_jobs=1)]: Done   3 out of   3 | elapsed:    0.9s remaining:    0.0s\n",
      "[Parallel(n_jobs=1)]: Done   3 out of   3 | elapsed:    0.9s finished\n",
      "/home/rpartsey/development/aml-class-20/venv/lib/python3.6/site-packages/sklearn/utils/validation.py:558: FutureWarning: Beginning in version 0.22, arrays of bytes/strings will be converted to decimal numbers if dtype='numeric'. It is recommended that you convert the array to a float dtype before using it in scikit-learn, for example by using your_array = your_array.astype(np.float64).\n",
      "  FutureWarning)\n",
      "/home/rpartsey/development/aml-class-20/venv/lib/python3.6/site-packages/sklearn/utils/validation.py:558: FutureWarning: Beginning in version 0.22, arrays of bytes/strings will be converted to decimal numbers if dtype='numeric'. It is recommended that you convert the array to a float dtype before using it in scikit-learn, for example by using your_array = your_array.astype(np.float64).\n",
      "  FutureWarning)\n"
     ]
    },
    {
     "name": "stdout",
     "output_type": "stream",
     "text": [
      "Fitting 3 folds for each of 1 candidates, totalling 3 fits\n",
      "[CV] rf__criterion=mse, rf__max_depth=4, rf__n_estimators=2 ..........\n"
     ]
    },
    {
     "name": "stderr",
     "output_type": "stream",
     "text": [
      "[Parallel(n_jobs=1)]: Using backend SequentialBackend with 1 concurrent workers.\n"
     ]
    },
    {
     "name": "stdout",
     "output_type": "stream",
     "text": [
      "[CV]  rf__criterion=mse, rf__max_depth=4, rf__n_estimators=2, score=-0.0019909290602361848, total=   0.3s\n",
      "[CV] rf__criterion=mse, rf__max_depth=4, rf__n_estimators=2 ..........\n"
     ]
    },
    {
     "name": "stderr",
     "output_type": "stream",
     "text": [
      "[Parallel(n_jobs=1)]: Done   1 out of   1 | elapsed:    0.3s remaining:    0.0s\n"
     ]
    },
    {
     "name": "stdout",
     "output_type": "stream",
     "text": [
      "[CV]  rf__criterion=mse, rf__max_depth=4, rf__n_estimators=2, score=-0.0022865947502684085, total=   0.3s\n",
      "[CV] rf__criterion=mse, rf__max_depth=4, rf__n_estimators=2 ..........\n"
     ]
    },
    {
     "name": "stderr",
     "output_type": "stream",
     "text": [
      "[Parallel(n_jobs=1)]: Done   2 out of   2 | elapsed:    0.6s remaining:    0.0s\n"
     ]
    },
    {
     "name": "stdout",
     "output_type": "stream",
     "text": [
      "[CV]  rf__criterion=mse, rf__max_depth=4, rf__n_estimators=2, score=-0.0021770259564322294, total=   0.3s\n"
     ]
    },
    {
     "name": "stderr",
     "output_type": "stream",
     "text": [
      "[Parallel(n_jobs=1)]: Done   3 out of   3 | elapsed:    0.8s remaining:    0.0s\n",
      "[Parallel(n_jobs=1)]: Done   3 out of   3 | elapsed:    0.8s finished\n",
      "/home/rpartsey/development/aml-class-20/venv/lib/python3.6/site-packages/sklearn/utils/validation.py:558: FutureWarning: Beginning in version 0.22, arrays of bytes/strings will be converted to decimal numbers if dtype='numeric'. It is recommended that you convert the array to a float dtype before using it in scikit-learn, for example by using your_array = your_array.astype(np.float64).\n",
      "  FutureWarning)\n",
      "/home/rpartsey/development/aml-class-20/venv/lib/python3.6/site-packages/sklearn/utils/validation.py:558: FutureWarning: Beginning in version 0.22, arrays of bytes/strings will be converted to decimal numbers if dtype='numeric'. It is recommended that you convert the array to a float dtype before using it in scikit-learn, for example by using your_array = your_array.astype(np.float64).\n",
      "  FutureWarning)\n"
     ]
    },
    {
     "name": "stdout",
     "output_type": "stream",
     "text": [
      "Fitting 3 folds for each of 1 candidates, totalling 3 fits\n",
      "[CV] rf__criterion=mse, rf__max_depth=7, rf__n_estimators=1 ..........\n",
      "[CV]  rf__criterion=mse, rf__max_depth=7, rf__n_estimators=1, score=-0.0029539860926234935, total=   0.2s\n",
      "[CV] rf__criterion=mse, rf__max_depth=7, rf__n_estimators=1 ..........\n"
     ]
    },
    {
     "name": "stderr",
     "output_type": "stream",
     "text": [
      "[Parallel(n_jobs=1)]: Using backend SequentialBackend with 1 concurrent workers.\n",
      "[Parallel(n_jobs=1)]: Done   1 out of   1 | elapsed:    0.2s remaining:    0.0s\n"
     ]
    },
    {
     "name": "stdout",
     "output_type": "stream",
     "text": [
      "[CV]  rf__criterion=mse, rf__max_depth=7, rf__n_estimators=1, score=-0.003257087505207648, total=   0.2s\n",
      "[CV] rf__criterion=mse, rf__max_depth=7, rf__n_estimators=1 ..........\n",
      "[CV]  rf__criterion=mse, rf__max_depth=7, rf__n_estimators=1, score=-0.0028581555913491, total=   0.1s\n"
     ]
    },
    {
     "name": "stderr",
     "output_type": "stream",
     "text": [
      "[Parallel(n_jobs=1)]: Done   2 out of   2 | elapsed:    0.3s remaining:    0.0s\n",
      "[Parallel(n_jobs=1)]: Done   3 out of   3 | elapsed:    0.5s remaining:    0.0s\n",
      "[Parallel(n_jobs=1)]: Done   3 out of   3 | elapsed:    0.5s finished\n",
      "/home/rpartsey/development/aml-class-20/venv/lib/python3.6/site-packages/sklearn/utils/validation.py:558: FutureWarning: Beginning in version 0.22, arrays of bytes/strings will be converted to decimal numbers if dtype='numeric'. It is recommended that you convert the array to a float dtype before using it in scikit-learn, for example by using your_array = your_array.astype(np.float64).\n",
      "  FutureWarning)\n",
      "/home/rpartsey/development/aml-class-20/venv/lib/python3.6/site-packages/sklearn/utils/validation.py:558: FutureWarning: Beginning in version 0.22, arrays of bytes/strings will be converted to decimal numbers if dtype='numeric'. It is recommended that you convert the array to a float dtype before using it in scikit-learn, for example by using your_array = your_array.astype(np.float64).\n",
      "  FutureWarning)\n"
     ]
    },
    {
     "name": "stdout",
     "output_type": "stream",
     "text": [
      "Fitting 3 folds for each of 1 candidates, totalling 3 fits\n",
      "[CV] rf__criterion=mse, rf__max_depth=5, rf__n_estimators=9 ..........\n"
     ]
    },
    {
     "name": "stderr",
     "output_type": "stream",
     "text": [
      "[Parallel(n_jobs=1)]: Using backend SequentialBackend with 1 concurrent workers.\n"
     ]
    },
    {
     "name": "stdout",
     "output_type": "stream",
     "text": [
      "[CV]  rf__criterion=mse, rf__max_depth=5, rf__n_estimators=9, score=-0.0019081551926426784, total=   0.4s\n",
      "[CV] rf__criterion=mse, rf__max_depth=5, rf__n_estimators=9 ..........\n"
     ]
    },
    {
     "name": "stderr",
     "output_type": "stream",
     "text": [
      "[Parallel(n_jobs=1)]: Done   1 out of   1 | elapsed:    0.4s remaining:    0.0s\n"
     ]
    },
    {
     "name": "stdout",
     "output_type": "stream",
     "text": [
      "[CV]  rf__criterion=mse, rf__max_depth=5, rf__n_estimators=9, score=-0.0020874049579086324, total=   0.4s\n",
      "[CV] rf__criterion=mse, rf__max_depth=5, rf__n_estimators=9 ..........\n"
     ]
    },
    {
     "name": "stderr",
     "output_type": "stream",
     "text": [
      "[Parallel(n_jobs=1)]: Done   2 out of   2 | elapsed:    0.8s remaining:    0.0s\n"
     ]
    },
    {
     "name": "stdout",
     "output_type": "stream",
     "text": [
      "[CV]  rf__criterion=mse, rf__max_depth=5, rf__n_estimators=9, score=-0.0019501614474354279, total=   0.4s\n"
     ]
    },
    {
     "name": "stderr",
     "output_type": "stream",
     "text": [
      "[Parallel(n_jobs=1)]: Done   3 out of   3 | elapsed:    1.1s remaining:    0.0s\n",
      "[Parallel(n_jobs=1)]: Done   3 out of   3 | elapsed:    1.1s finished\n",
      "/home/rpartsey/development/aml-class-20/venv/lib/python3.6/site-packages/sklearn/utils/validation.py:558: FutureWarning: Beginning in version 0.22, arrays of bytes/strings will be converted to decimal numbers if dtype='numeric'. It is recommended that you convert the array to a float dtype before using it in scikit-learn, for example by using your_array = your_array.astype(np.float64).\n",
      "  FutureWarning)\n",
      "/home/rpartsey/development/aml-class-20/venv/lib/python3.6/site-packages/sklearn/utils/validation.py:558: FutureWarning: Beginning in version 0.22, arrays of bytes/strings will be converted to decimal numbers if dtype='numeric'. It is recommended that you convert the array to a float dtype before using it in scikit-learn, for example by using your_array = your_array.astype(np.float64).\n",
      "  FutureWarning)\n"
     ]
    },
    {
     "name": "stdout",
     "output_type": "stream",
     "text": [
      "Fitting 3 folds for each of 1 candidates, totalling 3 fits\n",
      "[CV] rf__criterion=mse, rf__max_depth=8, rf__n_estimators=8 ..........\n"
     ]
    },
    {
     "name": "stderr",
     "output_type": "stream",
     "text": [
      "[Parallel(n_jobs=1)]: Using backend SequentialBackend with 1 concurrent workers.\n"
     ]
    },
    {
     "name": "stdout",
     "output_type": "stream",
     "text": [
      "[CV]  rf__criterion=mse, rf__max_depth=8, rf__n_estimators=8, score=-0.0020438613155960685, total=   0.4s\n",
      "[CV] rf__criterion=mse, rf__max_depth=8, rf__n_estimators=8 ..........\n"
     ]
    },
    {
     "name": "stderr",
     "output_type": "stream",
     "text": [
      "[Parallel(n_jobs=1)]: Done   1 out of   1 | elapsed:    0.4s remaining:    0.0s\n"
     ]
    },
    {
     "name": "stdout",
     "output_type": "stream",
     "text": [
      "[CV]  rf__criterion=mse, rf__max_depth=8, rf__n_estimators=8, score=-0.0022365991135562236, total=   0.4s\n",
      "[CV] rf__criterion=mse, rf__max_depth=8, rf__n_estimators=8 ..........\n"
     ]
    },
    {
     "name": "stderr",
     "output_type": "stream",
     "text": [
      "[Parallel(n_jobs=1)]: Done   2 out of   2 | elapsed:    0.7s remaining:    0.0s\n"
     ]
    },
    {
     "name": "stdout",
     "output_type": "stream",
     "text": [
      "[CV]  rf__criterion=mse, rf__max_depth=8, rf__n_estimators=8, score=-0.0020599601081961296, total=   0.4s\n"
     ]
    },
    {
     "name": "stderr",
     "output_type": "stream",
     "text": [
      "[Parallel(n_jobs=1)]: Done   3 out of   3 | elapsed:    1.1s remaining:    0.0s\n",
      "[Parallel(n_jobs=1)]: Done   3 out of   3 | elapsed:    1.1s finished\n",
      "/home/rpartsey/development/aml-class-20/venv/lib/python3.6/site-packages/sklearn/utils/validation.py:558: FutureWarning: Beginning in version 0.22, arrays of bytes/strings will be converted to decimal numbers if dtype='numeric'. It is recommended that you convert the array to a float dtype before using it in scikit-learn, for example by using your_array = your_array.astype(np.float64).\n",
      "  FutureWarning)\n",
      "/home/rpartsey/development/aml-class-20/venv/lib/python3.6/site-packages/sklearn/utils/validation.py:558: FutureWarning: Beginning in version 0.22, arrays of bytes/strings will be converted to decimal numbers if dtype='numeric'. It is recommended that you convert the array to a float dtype before using it in scikit-learn, for example by using your_array = your_array.astype(np.float64).\n",
      "  FutureWarning)\n"
     ]
    },
    {
     "name": "stdout",
     "output_type": "stream",
     "text": [
      "Fitting 3 folds for each of 1 candidates, totalling 3 fits\n",
      "[CV] rf__criterion=mse, rf__max_depth=10, rf__n_estimators=5 .........\n"
     ]
    },
    {
     "name": "stderr",
     "output_type": "stream",
     "text": [
      "[Parallel(n_jobs=1)]: Using backend SequentialBackend with 1 concurrent workers.\n"
     ]
    },
    {
     "name": "stdout",
     "output_type": "stream",
     "text": [
      "[CV]  rf__criterion=mse, rf__max_depth=10, rf__n_estimators=5, score=-0.0022364231145044233, total=   0.4s\n",
      "[CV] rf__criterion=mse, rf__max_depth=10, rf__n_estimators=5 .........\n"
     ]
    },
    {
     "name": "stderr",
     "output_type": "stream",
     "text": [
      "[Parallel(n_jobs=1)]: Done   1 out of   1 | elapsed:    0.4s remaining:    0.0s\n"
     ]
    },
    {
     "name": "stdout",
     "output_type": "stream",
     "text": [
      "[CV]  rf__criterion=mse, rf__max_depth=10, rf__n_estimators=5, score=-0.0023526841333804402, total=   0.4s\n",
      "[CV] rf__criterion=mse, rf__max_depth=10, rf__n_estimators=5 .........\n"
     ]
    },
    {
     "name": "stderr",
     "output_type": "stream",
     "text": [
      "[Parallel(n_jobs=1)]: Done   2 out of   2 | elapsed:    0.7s remaining:    0.0s\n"
     ]
    },
    {
     "name": "stdout",
     "output_type": "stream",
     "text": [
      "[CV]  rf__criterion=mse, rf__max_depth=10, rf__n_estimators=5, score=-0.002224032815388055, total=   0.4s\n"
     ]
    },
    {
     "name": "stderr",
     "output_type": "stream",
     "text": [
      "[Parallel(n_jobs=1)]: Done   3 out of   3 | elapsed:    1.1s remaining:    0.0s\n",
      "[Parallel(n_jobs=1)]: Done   3 out of   3 | elapsed:    1.1s finished\n",
      "/home/rpartsey/development/aml-class-20/venv/lib/python3.6/site-packages/sklearn/utils/validation.py:558: FutureWarning: Beginning in version 0.22, arrays of bytes/strings will be converted to decimal numbers if dtype='numeric'. It is recommended that you convert the array to a float dtype before using it in scikit-learn, for example by using your_array = your_array.astype(np.float64).\n",
      "  FutureWarning)\n",
      "/home/rpartsey/development/aml-class-20/venv/lib/python3.6/site-packages/sklearn/utils/validation.py:558: FutureWarning: Beginning in version 0.22, arrays of bytes/strings will be converted to decimal numbers if dtype='numeric'. It is recommended that you convert the array to a float dtype before using it in scikit-learn, for example by using your_array = your_array.astype(np.float64).\n",
      "  FutureWarning)\n"
     ]
    },
    {
     "name": "stdout",
     "output_type": "stream",
     "text": [
      "Fitting 3 folds for each of 1 candidates, totalling 3 fits\n",
      "[CV] rf__criterion=mse, rf__max_depth=11, rf__n_estimators=7 .........\n"
     ]
    },
    {
     "name": "stderr",
     "output_type": "stream",
     "text": [
      "[Parallel(n_jobs=1)]: Using backend SequentialBackend with 1 concurrent workers.\n"
     ]
    },
    {
     "name": "stdout",
     "output_type": "stream",
     "text": [
      "[CV]  rf__criterion=mse, rf__max_depth=11, rf__n_estimators=7, score=-0.002089729982074868, total=   0.4s\n",
      "[CV] rf__criterion=mse, rf__max_depth=11, rf__n_estimators=7 .........\n"
     ]
    },
    {
     "name": "stderr",
     "output_type": "stream",
     "text": [
      "[Parallel(n_jobs=1)]: Done   1 out of   1 | elapsed:    0.4s remaining:    0.0s\n"
     ]
    },
    {
     "name": "stdout",
     "output_type": "stream",
     "text": [
      "[CV]  rf__criterion=mse, rf__max_depth=11, rf__n_estimators=7, score=-0.0022790007848416697, total=   0.4s\n",
      "[CV] rf__criterion=mse, rf__max_depth=11, rf__n_estimators=7 .........\n"
     ]
    },
    {
     "name": "stderr",
     "output_type": "stream",
     "text": [
      "[Parallel(n_jobs=1)]: Done   2 out of   2 | elapsed:    0.7s remaining:    0.0s\n"
     ]
    },
    {
     "name": "stdout",
     "output_type": "stream",
     "text": [
      "[CV]  rf__criterion=mse, rf__max_depth=11, rf__n_estimators=7, score=-0.002132275275478431, total=   0.5s\n"
     ]
    },
    {
     "name": "stderr",
     "output_type": "stream",
     "text": [
      "[Parallel(n_jobs=1)]: Done   3 out of   3 | elapsed:    1.2s remaining:    0.0s\n",
      "[Parallel(n_jobs=1)]: Done   3 out of   3 | elapsed:    1.2s finished\n",
      "/home/rpartsey/development/aml-class-20/venv/lib/python3.6/site-packages/sklearn/utils/validation.py:558: FutureWarning: Beginning in version 0.22, arrays of bytes/strings will be converted to decimal numbers if dtype='numeric'. It is recommended that you convert the array to a float dtype before using it in scikit-learn, for example by using your_array = your_array.astype(np.float64).\n",
      "  FutureWarning)\n",
      "/home/rpartsey/development/aml-class-20/venv/lib/python3.6/site-packages/sklearn/utils/validation.py:558: FutureWarning: Beginning in version 0.22, arrays of bytes/strings will be converted to decimal numbers if dtype='numeric'. It is recommended that you convert the array to a float dtype before using it in scikit-learn, for example by using your_array = your_array.astype(np.float64).\n",
      "  FutureWarning)\n"
     ]
    },
    {
     "name": "stdout",
     "output_type": "stream",
     "text": [
      "Fitting 3 folds for each of 1 candidates, totalling 3 fits\n",
      "[CV] rf__criterion=mse, rf__max_depth=12, rf__n_estimators=10 ........\n"
     ]
    },
    {
     "name": "stderr",
     "output_type": "stream",
     "text": [
      "[Parallel(n_jobs=1)]: Using backend SequentialBackend with 1 concurrent workers.\n"
     ]
    },
    {
     "name": "stdout",
     "output_type": "stream",
     "text": [
      "[CV]  rf__criterion=mse, rf__max_depth=12, rf__n_estimators=10, score=-0.0020465325522574587, total=   0.5s\n",
      "[CV] rf__criterion=mse, rf__max_depth=12, rf__n_estimators=10 ........\n"
     ]
    },
    {
     "name": "stderr",
     "output_type": "stream",
     "text": [
      "[Parallel(n_jobs=1)]: Done   1 out of   1 | elapsed:    0.5s remaining:    0.0s\n"
     ]
    },
    {
     "name": "stdout",
     "output_type": "stream",
     "text": [
      "[CV]  rf__criterion=mse, rf__max_depth=12, rf__n_estimators=10, score=-0.002194184801769543, total=   0.6s\n",
      "[CV] rf__criterion=mse, rf__max_depth=12, rf__n_estimators=10 ........\n"
     ]
    },
    {
     "name": "stderr",
     "output_type": "stream",
     "text": [
      "[Parallel(n_jobs=1)]: Done   2 out of   2 | elapsed:    1.1s remaining:    0.0s\n"
     ]
    },
    {
     "name": "stdout",
     "output_type": "stream",
     "text": [
      "[CV]  rf__criterion=mse, rf__max_depth=12, rf__n_estimators=10, score=-0.002039915823605899, total=   0.5s\n"
     ]
    },
    {
     "name": "stderr",
     "output_type": "stream",
     "text": [
      "[Parallel(n_jobs=1)]: Done   3 out of   3 | elapsed:    1.5s remaining:    0.0s\n",
      "[Parallel(n_jobs=1)]: Done   3 out of   3 | elapsed:    1.5s finished\n",
      "/home/rpartsey/development/aml-class-20/venv/lib/python3.6/site-packages/sklearn/utils/validation.py:558: FutureWarning: Beginning in version 0.22, arrays of bytes/strings will be converted to decimal numbers if dtype='numeric'. It is recommended that you convert the array to a float dtype before using it in scikit-learn, for example by using your_array = your_array.astype(np.float64).\n",
      "  FutureWarning)\n",
      "/home/rpartsey/development/aml-class-20/venv/lib/python3.6/site-packages/sklearn/utils/validation.py:558: FutureWarning: Beginning in version 0.22, arrays of bytes/strings will be converted to decimal numbers if dtype='numeric'. It is recommended that you convert the array to a float dtype before using it in scikit-learn, for example by using your_array = your_array.astype(np.float64).\n",
      "  FutureWarning)\n"
     ]
    },
    {
     "name": "stdout",
     "output_type": "stream",
     "text": [
      "Fitting 3 folds for each of 1 candidates, totalling 3 fits\n",
      "[CV] rf__criterion=mse, rf__max_depth=3, rf__n_estimators=6 ..........\n"
     ]
    },
    {
     "name": "stderr",
     "output_type": "stream",
     "text": [
      "[Parallel(n_jobs=1)]: Using backend SequentialBackend with 1 concurrent workers.\n"
     ]
    },
    {
     "name": "stdout",
     "output_type": "stream",
     "text": [
      "[CV]  rf__criterion=mse, rf__max_depth=3, rf__n_estimators=6, score=-0.0018776474109699019, total=   0.2s\n",
      "[CV] rf__criterion=mse, rf__max_depth=3, rf__n_estimators=6 ..........\n"
     ]
    },
    {
     "name": "stderr",
     "output_type": "stream",
     "text": [
      "[Parallel(n_jobs=1)]: Done   1 out of   1 | elapsed:    0.3s remaining:    0.0s\n"
     ]
    },
    {
     "name": "stdout",
     "output_type": "stream",
     "text": [
      "[CV]  rf__criterion=mse, rf__max_depth=3, rf__n_estimators=6, score=-0.0019881024176477305, total=   0.4s\n",
      "[CV] rf__criterion=mse, rf__max_depth=3, rf__n_estimators=6 ..........\n"
     ]
    },
    {
     "name": "stderr",
     "output_type": "stream",
     "text": [
      "[Parallel(n_jobs=1)]: Done   2 out of   2 | elapsed:    0.6s remaining:    0.0s\n"
     ]
    },
    {
     "name": "stdout",
     "output_type": "stream",
     "text": [
      "[CV]  rf__criterion=mse, rf__max_depth=3, rf__n_estimators=6, score=-0.0019439741108518574, total=   0.3s\n"
     ]
    },
    {
     "name": "stderr",
     "output_type": "stream",
     "text": [
      "[Parallel(n_jobs=1)]: Done   3 out of   3 | elapsed:    0.9s remaining:    0.0s\n",
      "[Parallel(n_jobs=1)]: Done   3 out of   3 | elapsed:    0.9s finished\n",
      "/home/rpartsey/development/aml-class-20/venv/lib/python3.6/site-packages/sklearn/utils/validation.py:558: FutureWarning: Beginning in version 0.22, arrays of bytes/strings will be converted to decimal numbers if dtype='numeric'. It is recommended that you convert the array to a float dtype before using it in scikit-learn, for example by using your_array = your_array.astype(np.float64).\n",
      "  FutureWarning)\n",
      "/home/rpartsey/development/aml-class-20/venv/lib/python3.6/site-packages/sklearn/utils/validation.py:558: FutureWarning: Beginning in version 0.22, arrays of bytes/strings will be converted to decimal numbers if dtype='numeric'. It is recommended that you convert the array to a float dtype before using it in scikit-learn, for example by using your_array = your_array.astype(np.float64).\n",
      "  FutureWarning)\n"
     ]
    },
    {
     "name": "stdout",
     "output_type": "stream",
     "text": [
      "Fitting 3 folds for each of 1 candidates, totalling 3 fits\n",
      "[CV] rf__criterion=mse, rf__max_depth=9, rf__n_estimators=4 ..........\n"
     ]
    },
    {
     "name": "stderr",
     "output_type": "stream",
     "text": [
      "[Parallel(n_jobs=1)]: Using backend SequentialBackend with 1 concurrent workers.\n"
     ]
    },
    {
     "name": "stdout",
     "output_type": "stream",
     "text": [
      "[CV]  rf__criterion=mse, rf__max_depth=9, rf__n_estimators=4, score=-0.0023367977605330266, total=   0.2s\n",
      "[CV] rf__criterion=mse, rf__max_depth=9, rf__n_estimators=4 ..........\n"
     ]
    },
    {
     "name": "stderr",
     "output_type": "stream",
     "text": [
      "[Parallel(n_jobs=1)]: Done   1 out of   1 | elapsed:    0.3s remaining:    0.0s\n"
     ]
    },
    {
     "name": "stdout",
     "output_type": "stream",
     "text": [
      "[CV]  rf__criterion=mse, rf__max_depth=9, rf__n_estimators=4, score=-0.00236747573372257, total=   0.4s\n",
      "[CV] rf__criterion=mse, rf__max_depth=9, rf__n_estimators=4 ..........\n"
     ]
    },
    {
     "name": "stderr",
     "output_type": "stream",
     "text": [
      "[Parallel(n_jobs=1)]: Done   2 out of   2 | elapsed:    0.6s remaining:    0.0s\n"
     ]
    },
    {
     "name": "stdout",
     "output_type": "stream",
     "text": [
      "[CV]  rf__criterion=mse, rf__max_depth=9, rf__n_estimators=4, score=-0.002317899937681519, total=   0.4s\n"
     ]
    },
    {
     "name": "stderr",
     "output_type": "stream",
     "text": [
      "[Parallel(n_jobs=1)]: Done   3 out of   3 | elapsed:    1.0s remaining:    0.0s\n",
      "[Parallel(n_jobs=1)]: Done   3 out of   3 | elapsed:    1.0s finished\n",
      "/home/rpartsey/development/aml-class-20/venv/lib/python3.6/site-packages/sklearn/utils/validation.py:558: FutureWarning: Beginning in version 0.22, arrays of bytes/strings will be converted to decimal numbers if dtype='numeric'. It is recommended that you convert the array to a float dtype before using it in scikit-learn, for example by using your_array = your_array.astype(np.float64).\n",
      "  FutureWarning)\n",
      "/home/rpartsey/development/aml-class-20/venv/lib/python3.6/site-packages/sklearn/utils/validation.py:558: FutureWarning: Beginning in version 0.22, arrays of bytes/strings will be converted to decimal numbers if dtype='numeric'. It is recommended that you convert the array to a float dtype before using it in scikit-learn, for example by using your_array = your_array.astype(np.float64).\n",
      "  FutureWarning)\n"
     ]
    },
    {
     "name": "stdout",
     "output_type": "stream",
     "text": [
      "Fitting 3 folds for each of 1 candidates, totalling 3 fits\n",
      "[CV] rf__criterion=mse, rf__max_depth=13, rf__n_estimators=3 .........\n"
     ]
    },
    {
     "name": "stderr",
     "output_type": "stream",
     "text": [
      "[Parallel(n_jobs=1)]: Using backend SequentialBackend with 1 concurrent workers.\n"
     ]
    },
    {
     "name": "stdout",
     "output_type": "stream",
     "text": [
      "[CV]  rf__criterion=mse, rf__max_depth=13, rf__n_estimators=3, score=-0.002383409665812387, total=   0.3s\n",
      "[CV] rf__criterion=mse, rf__max_depth=13, rf__n_estimators=3 .........\n"
     ]
    },
    {
     "name": "stderr",
     "output_type": "stream",
     "text": [
      "[Parallel(n_jobs=1)]: Done   1 out of   1 | elapsed:    0.3s remaining:    0.0s\n"
     ]
    },
    {
     "name": "stdout",
     "output_type": "stream",
     "text": [
      "[CV]  rf__criterion=mse, rf__max_depth=13, rf__n_estimators=3, score=-0.002630186183823882, total=   0.4s\n",
      "[CV] rf__criterion=mse, rf__max_depth=13, rf__n_estimators=3 .........\n"
     ]
    },
    {
     "name": "stderr",
     "output_type": "stream",
     "text": [
      "[Parallel(n_jobs=1)]: Done   2 out of   2 | elapsed:    0.6s remaining:    0.0s\n"
     ]
    },
    {
     "name": "stdout",
     "output_type": "stream",
     "text": [
      "[CV]  rf__criterion=mse, rf__max_depth=13, rf__n_estimators=3, score=-0.0026175232883399835, total=   0.4s\n"
     ]
    },
    {
     "name": "stderr",
     "output_type": "stream",
     "text": [
      "[Parallel(n_jobs=1)]: Done   3 out of   3 | elapsed:    1.0s remaining:    0.0s\n",
      "[Parallel(n_jobs=1)]: Done   3 out of   3 | elapsed:    1.0s finished\n",
      "/home/rpartsey/development/aml-class-20/venv/lib/python3.6/site-packages/sklearn/utils/validation.py:558: FutureWarning: Beginning in version 0.22, arrays of bytes/strings will be converted to decimal numbers if dtype='numeric'. It is recommended that you convert the array to a float dtype before using it in scikit-learn, for example by using your_array = your_array.astype(np.float64).\n",
      "  FutureWarning)\n",
      "/home/rpartsey/development/aml-class-20/venv/lib/python3.6/site-packages/sklearn/utils/validation.py:558: FutureWarning: Beginning in version 0.22, arrays of bytes/strings will be converted to decimal numbers if dtype='numeric'. It is recommended that you convert the array to a float dtype before using it in scikit-learn, for example by using your_array = your_array.astype(np.float64).\n",
      "  FutureWarning)\n"
     ]
    },
    {
     "name": "stdout",
     "output_type": "stream",
     "text": [
      "Fitting 3 folds for each of 1 candidates, totalling 3 fits\n",
      "[CV] rf__criterion=mse, rf__max_depth=6, rf__n_estimators=2 ..........\n"
     ]
    },
    {
     "name": "stderr",
     "output_type": "stream",
     "text": [
      "[Parallel(n_jobs=1)]: Using backend SequentialBackend with 1 concurrent workers.\n"
     ]
    },
    {
     "name": "stdout",
     "output_type": "stream",
     "text": [
      "[CV]  rf__criterion=mse, rf__max_depth=6, rf__n_estimators=2, score=-0.0023193523858912424, total=   0.3s\n",
      "[CV] rf__criterion=mse, rf__max_depth=6, rf__n_estimators=2 ..........\n"
     ]
    },
    {
     "name": "stderr",
     "output_type": "stream",
     "text": [
      "[Parallel(n_jobs=1)]: Done   1 out of   1 | elapsed:    0.3s remaining:    0.0s\n"
     ]
    },
    {
     "name": "stdout",
     "output_type": "stream",
     "text": [
      "[CV]  rf__criterion=mse, rf__max_depth=6, rf__n_estimators=2, score=-0.002496569195169095, total=   0.4s\n",
      "[CV] rf__criterion=mse, rf__max_depth=6, rf__n_estimators=2 ..........\n"
     ]
    },
    {
     "name": "stderr",
     "output_type": "stream",
     "text": [
      "[Parallel(n_jobs=1)]: Done   2 out of   2 | elapsed:    0.6s remaining:    0.0s\n"
     ]
    },
    {
     "name": "stdout",
     "output_type": "stream",
     "text": [
      "[CV]  rf__criterion=mse, rf__max_depth=6, rf__n_estimators=2, score=-0.0024900909737109343, total=   0.3s\n"
     ]
    },
    {
     "name": "stderr",
     "output_type": "stream",
     "text": [
      "[Parallel(n_jobs=1)]: Done   3 out of   3 | elapsed:    0.9s remaining:    0.0s\n",
      "[Parallel(n_jobs=1)]: Done   3 out of   3 | elapsed:    0.9s finished\n",
      "/home/rpartsey/development/aml-class-20/venv/lib/python3.6/site-packages/sklearn/utils/validation.py:558: FutureWarning: Beginning in version 0.22, arrays of bytes/strings will be converted to decimal numbers if dtype='numeric'. It is recommended that you convert the array to a float dtype before using it in scikit-learn, for example by using your_array = your_array.astype(np.float64).\n",
      "  FutureWarning)\n",
      "/home/rpartsey/development/aml-class-20/venv/lib/python3.6/site-packages/skopt/optimizer/optimizer.py:409: UserWarning: The objective has been evaluated at this point before.\n",
      "  warnings.warn(\"The objective has been evaluated \"\n",
      "/home/rpartsey/development/aml-class-20/venv/lib/python3.6/site-packages/sklearn/utils/validation.py:558: FutureWarning: Beginning in version 0.22, arrays of bytes/strings will be converted to decimal numbers if dtype='numeric'. It is recommended that you convert the array to a float dtype before using it in scikit-learn, for example by using your_array = your_array.astype(np.float64).\n",
      "  FutureWarning)\n"
     ]
    },
    {
     "name": "stdout",
     "output_type": "stream",
     "text": [
      "Fitting 3 folds for each of 1 candidates, totalling 3 fits\n",
      "[CV] rf__criterion=mse, rf__max_depth=14, rf__n_estimators=1 .........\n",
      "[CV]  rf__criterion=mse, rf__max_depth=14, rf__n_estimators=1, score=-0.003552760683760684, total=   0.2s\n",
      "[CV] rf__criterion=mse, rf__max_depth=14, rf__n_estimators=1 .........\n"
     ]
    },
    {
     "name": "stderr",
     "output_type": "stream",
     "text": [
      "[Parallel(n_jobs=1)]: Using backend SequentialBackend with 1 concurrent workers.\n",
      "[Parallel(n_jobs=1)]: Done   1 out of   1 | elapsed:    0.2s remaining:    0.0s\n"
     ]
    },
    {
     "name": "stdout",
     "output_type": "stream",
     "text": [
      "[CV]  rf__criterion=mse, rf__max_depth=14, rf__n_estimators=1, score=-0.004000277125907912, total=   0.1s\n",
      "[CV] rf__criterion=mse, rf__max_depth=14, rf__n_estimators=1 .........\n",
      "[CV]  rf__criterion=mse, rf__max_depth=14, rf__n_estimators=1, score=-0.0037535514470639275, total=   0.1s\n"
     ]
    },
    {
     "name": "stderr",
     "output_type": "stream",
     "text": [
      "[Parallel(n_jobs=1)]: Done   2 out of   2 | elapsed:    0.3s remaining:    0.0s\n",
      "[Parallel(n_jobs=1)]: Done   3 out of   3 | elapsed:    0.5s remaining:    0.0s\n",
      "[Parallel(n_jobs=1)]: Done   3 out of   3 | elapsed:    0.5s finished\n",
      "/home/rpartsey/development/aml-class-20/venv/lib/python3.6/site-packages/sklearn/utils/validation.py:558: FutureWarning: Beginning in version 0.22, arrays of bytes/strings will be converted to decimal numbers if dtype='numeric'. It is recommended that you convert the array to a float dtype before using it in scikit-learn, for example by using your_array = your_array.astype(np.float64).\n",
      "  FutureWarning)\n",
      "/home/rpartsey/development/aml-class-20/venv/lib/python3.6/site-packages/sklearn/utils/validation.py:558: FutureWarning: Beginning in version 0.22, arrays of bytes/strings will be converted to decimal numbers if dtype='numeric'. It is recommended that you convert the array to a float dtype before using it in scikit-learn, for example by using your_array = your_array.astype(np.float64).\n",
      "  FutureWarning)\n"
     ]
    },
    {
     "name": "stdout",
     "output_type": "stream",
     "text": [
      "Fitting 3 folds for each of 1 candidates, totalling 3 fits\n",
      "[CV] rf__criterion=mse, rf__max_depth=2, rf__n_estimators=9 ..........\n"
     ]
    },
    {
     "name": "stderr",
     "output_type": "stream",
     "text": [
      "[Parallel(n_jobs=1)]: Using backend SequentialBackend with 1 concurrent workers.\n"
     ]
    },
    {
     "name": "stdout",
     "output_type": "stream",
     "text": [
      "[CV]  rf__criterion=mse, rf__max_depth=2, rf__n_estimators=9, score=-0.0019361396704593683, total=   0.3s\n",
      "[CV] rf__criterion=mse, rf__max_depth=2, rf__n_estimators=9 ..........\n"
     ]
    },
    {
     "name": "stderr",
     "output_type": "stream",
     "text": [
      "[Parallel(n_jobs=1)]: Done   1 out of   1 | elapsed:    0.3s remaining:    0.0s\n"
     ]
    },
    {
     "name": "stdout",
     "output_type": "stream",
     "text": [
      "[CV]  rf__criterion=mse, rf__max_depth=2, rf__n_estimators=9, score=-0.0020040753516879072, total=   0.3s\n",
      "[CV] rf__criterion=mse, rf__max_depth=2, rf__n_estimators=9 ..........\n"
     ]
    },
    {
     "name": "stderr",
     "output_type": "stream",
     "text": [
      "[Parallel(n_jobs=1)]: Done   2 out of   2 | elapsed:    0.5s remaining:    0.0s\n"
     ]
    },
    {
     "name": "stdout",
     "output_type": "stream",
     "text": [
      "[CV]  rf__criterion=mse, rf__max_depth=2, rf__n_estimators=9, score=-0.0019012072006066637, total=   0.4s\n"
     ]
    },
    {
     "name": "stderr",
     "output_type": "stream",
     "text": [
      "[Parallel(n_jobs=1)]: Done   3 out of   3 | elapsed:    0.9s remaining:    0.0s\n",
      "[Parallel(n_jobs=1)]: Done   3 out of   3 | elapsed:    0.9s finished\n",
      "/home/rpartsey/development/aml-class-20/venv/lib/python3.6/site-packages/sklearn/utils/validation.py:558: FutureWarning: Beginning in version 0.22, arrays of bytes/strings will be converted to decimal numbers if dtype='numeric'. It is recommended that you convert the array to a float dtype before using it in scikit-learn, for example by using your_array = your_array.astype(np.float64).\n",
      "  FutureWarning)\n",
      "/home/rpartsey/development/aml-class-20/venv/lib/python3.6/site-packages/sklearn/utils/validation.py:558: FutureWarning: Beginning in version 0.22, arrays of bytes/strings will be converted to decimal numbers if dtype='numeric'. It is recommended that you convert the array to a float dtype before using it in scikit-learn, for example by using your_array = your_array.astype(np.float64).\n",
      "  FutureWarning)\n"
     ]
    },
    {
     "name": "stdout",
     "output_type": "stream",
     "text": [
      "Fitting 3 folds for each of 1 candidates, totalling 3 fits\n",
      "[CV] rf__criterion=mse, rf__max_depth=4, rf__n_estimators=8 ..........\n"
     ]
    },
    {
     "name": "stderr",
     "output_type": "stream",
     "text": [
      "[Parallel(n_jobs=1)]: Using backend SequentialBackend with 1 concurrent workers.\n"
     ]
    },
    {
     "name": "stdout",
     "output_type": "stream",
     "text": [
      "[CV]  rf__criterion=mse, rf__max_depth=4, rf__n_estimators=8, score=-0.0019045436953883219, total=   0.2s\n",
      "[CV] rf__criterion=mse, rf__max_depth=4, rf__n_estimators=8 ..........\n"
     ]
    },
    {
     "name": "stderr",
     "output_type": "stream",
     "text": [
      "[Parallel(n_jobs=1)]: Done   1 out of   1 | elapsed:    0.3s remaining:    0.0s\n"
     ]
    },
    {
     "name": "stdout",
     "output_type": "stream",
     "text": [
      "[CV]  rf__criterion=mse, rf__max_depth=4, rf__n_estimators=8, score=-0.002032218756791381, total=   0.4s\n",
      "[CV] rf__criterion=mse, rf__max_depth=4, rf__n_estimators=8 ..........\n"
     ]
    },
    {
     "name": "stderr",
     "output_type": "stream",
     "text": [
      "[Parallel(n_jobs=1)]: Done   2 out of   2 | elapsed:    0.6s remaining:    0.0s\n"
     ]
    },
    {
     "name": "stdout",
     "output_type": "stream",
     "text": [
      "[CV]  rf__criterion=mse, rf__max_depth=4, rf__n_estimators=8, score=-0.001936880920913827, total=   0.2s\n"
     ]
    },
    {
     "name": "stderr",
     "output_type": "stream",
     "text": [
      "[Parallel(n_jobs=1)]: Done   3 out of   3 | elapsed:    0.9s remaining:    0.0s\n",
      "[Parallel(n_jobs=1)]: Done   3 out of   3 | elapsed:    0.9s finished\n",
      "/home/rpartsey/development/aml-class-20/venv/lib/python3.6/site-packages/sklearn/utils/validation.py:558: FutureWarning: Beginning in version 0.22, arrays of bytes/strings will be converted to decimal numbers if dtype='numeric'. It is recommended that you convert the array to a float dtype before using it in scikit-learn, for example by using your_array = your_array.astype(np.float64).\n",
      "  FutureWarning)\n",
      "/home/rpartsey/development/aml-class-20/venv/lib/python3.6/site-packages/sklearn/utils/validation.py:558: FutureWarning: Beginning in version 0.22, arrays of bytes/strings will be converted to decimal numbers if dtype='numeric'. It is recommended that you convert the array to a float dtype before using it in scikit-learn, for example by using your_array = your_array.astype(np.float64).\n",
      "  FutureWarning)\n"
     ]
    },
    {
     "name": "stdout",
     "output_type": "stream",
     "text": [
      "Fitting 3 folds for each of 1 candidates, totalling 3 fits\n",
      "[CV] rf__criterion=mse, rf__max_depth=5, rf__n_estimators=6 ..........\n"
     ]
    },
    {
     "name": "stderr",
     "output_type": "stream",
     "text": [
      "[Parallel(n_jobs=1)]: Using backend SequentialBackend with 1 concurrent workers.\n"
     ]
    },
    {
     "name": "stdout",
     "output_type": "stream",
     "text": [
      "[CV]  rf__criterion=mse, rf__max_depth=5, rf__n_estimators=6, score=-0.001899922136186563, total=   0.4s\n",
      "[CV] rf__criterion=mse, rf__max_depth=5, rf__n_estimators=6 ..........\n"
     ]
    },
    {
     "name": "stderr",
     "output_type": "stream",
     "text": [
      "[Parallel(n_jobs=1)]: Done   1 out of   1 | elapsed:    0.4s remaining:    0.0s\n"
     ]
    },
    {
     "name": "stdout",
     "output_type": "stream",
     "text": [
      "[CV]  rf__criterion=mse, rf__max_depth=5, rf__n_estimators=6, score=-0.0021388412931256325, total=   0.3s\n",
      "[CV] rf__criterion=mse, rf__max_depth=5, rf__n_estimators=6 ..........\n"
     ]
    },
    {
     "name": "stderr",
     "output_type": "stream",
     "text": [
      "[Parallel(n_jobs=1)]: Done   2 out of   2 | elapsed:    0.6s remaining:    0.0s\n"
     ]
    },
    {
     "name": "stdout",
     "output_type": "stream",
     "text": [
      "[CV]  rf__criterion=mse, rf__max_depth=5, rf__n_estimators=6, score=-0.002064840193520608, total=   0.3s\n"
     ]
    },
    {
     "name": "stderr",
     "output_type": "stream",
     "text": [
      "[Parallel(n_jobs=1)]: Done   3 out of   3 | elapsed:    1.0s remaining:    0.0s\n",
      "[Parallel(n_jobs=1)]: Done   3 out of   3 | elapsed:    1.0s finished\n",
      "/home/rpartsey/development/aml-class-20/venv/lib/python3.6/site-packages/sklearn/utils/validation.py:558: FutureWarning: Beginning in version 0.22, arrays of bytes/strings will be converted to decimal numbers if dtype='numeric'. It is recommended that you convert the array to a float dtype before using it in scikit-learn, for example by using your_array = your_array.astype(np.float64).\n",
      "  FutureWarning)\n",
      "/home/rpartsey/development/aml-class-20/venv/lib/python3.6/site-packages/sklearn/utils/validation.py:558: FutureWarning: Beginning in version 0.22, arrays of bytes/strings will be converted to decimal numbers if dtype='numeric'. It is recommended that you convert the array to a float dtype before using it in scikit-learn, for example by using your_array = your_array.astype(np.float64).\n",
      "  FutureWarning)\n"
     ]
    },
    {
     "name": "stdout",
     "output_type": "stream",
     "text": [
      "Fitting 3 folds for each of 1 candidates, totalling 3 fits\n",
      "[CV] rf__criterion=mse, rf__max_depth=2, rf__n_estimators=10 .........\n"
     ]
    },
    {
     "name": "stderr",
     "output_type": "stream",
     "text": [
      "[Parallel(n_jobs=1)]: Using backend SequentialBackend with 1 concurrent workers.\n"
     ]
    },
    {
     "name": "stdout",
     "output_type": "stream",
     "text": [
      "[CV]  rf__criterion=mse, rf__max_depth=2, rf__n_estimators=10, score=-0.0019219780298496683, total=   0.4s\n",
      "[CV] rf__criterion=mse, rf__max_depth=2, rf__n_estimators=10 .........\n"
     ]
    },
    {
     "name": "stderr",
     "output_type": "stream",
     "text": [
      "[Parallel(n_jobs=1)]: Done   1 out of   1 | elapsed:    0.4s remaining:    0.0s\n"
     ]
    },
    {
     "name": "stdout",
     "output_type": "stream",
     "text": [
      "[CV]  rf__criterion=mse, rf__max_depth=2, rf__n_estimators=10, score=-0.001988413191774166, total=   0.2s\n",
      "[CV] rf__criterion=mse, rf__max_depth=2, rf__n_estimators=10 .........\n"
     ]
    },
    {
     "name": "stderr",
     "output_type": "stream",
     "text": [
      "[Parallel(n_jobs=1)]: Done   2 out of   2 | elapsed:    0.7s remaining:    0.0s\n"
     ]
    },
    {
     "name": "stdout",
     "output_type": "stream",
     "text": [
      "[CV]  rf__criterion=mse, rf__max_depth=2, rf__n_estimators=10, score=-0.001888124752917757, total=   0.4s\n"
     ]
    },
    {
     "name": "stderr",
     "output_type": "stream",
     "text": [
      "[Parallel(n_jobs=1)]: Done   3 out of   3 | elapsed:    1.1s remaining:    0.0s\n",
      "[Parallel(n_jobs=1)]: Done   3 out of   3 | elapsed:    1.1s finished\n",
      "/home/rpartsey/development/aml-class-20/venv/lib/python3.6/site-packages/sklearn/utils/validation.py:558: FutureWarning: Beginning in version 0.22, arrays of bytes/strings will be converted to decimal numbers if dtype='numeric'. It is recommended that you convert the array to a float dtype before using it in scikit-learn, for example by using your_array = your_array.astype(np.float64).\n",
      "  FutureWarning)\n",
      "/home/rpartsey/development/aml-class-20/venv/lib/python3.6/site-packages/sklearn/utils/validation.py:558: FutureWarning: Beginning in version 0.22, arrays of bytes/strings will be converted to decimal numbers if dtype='numeric'. It is recommended that you convert the array to a float dtype before using it in scikit-learn, for example by using your_array = your_array.astype(np.float64).\n",
      "  FutureWarning)\n"
     ]
    },
    {
     "name": "stdout",
     "output_type": "stream",
     "text": [
      "Fitting 3 folds for each of 1 candidates, totalling 3 fits\n",
      "[CV] rf__criterion=mse, rf__max_depth=3, rf__n_estimators=7 ..........\n"
     ]
    },
    {
     "name": "stderr",
     "output_type": "stream",
     "text": [
      "[Parallel(n_jobs=1)]: Using backend SequentialBackend with 1 concurrent workers.\n"
     ]
    },
    {
     "name": "stdout",
     "output_type": "stream",
     "text": [
      "[CV]  rf__criterion=mse, rf__max_depth=3, rf__n_estimators=7, score=-0.0018625046451215643, total=   0.3s\n",
      "[CV] rf__criterion=mse, rf__max_depth=3, rf__n_estimators=7 ..........\n"
     ]
    },
    {
     "name": "stderr",
     "output_type": "stream",
     "text": [
      "[Parallel(n_jobs=1)]: Done   1 out of   1 | elapsed:    0.3s remaining:    0.0s\n"
     ]
    },
    {
     "name": "stdout",
     "output_type": "stream",
     "text": [
      "[CV]  rf__criterion=mse, rf__max_depth=3, rf__n_estimators=7, score=-0.0019854154237786844, total=   0.4s\n",
      "[CV] rf__criterion=mse, rf__max_depth=3, rf__n_estimators=7 ..........\n"
     ]
    },
    {
     "name": "stderr",
     "output_type": "stream",
     "text": [
      "[Parallel(n_jobs=1)]: Done   2 out of   2 | elapsed:    0.7s remaining:    0.0s\n"
     ]
    },
    {
     "name": "stdout",
     "output_type": "stream",
     "text": [
      "[CV]  rf__criterion=mse, rf__max_depth=3, rf__n_estimators=7, score=-0.001935340089251104, total=   0.3s\n"
     ]
    },
    {
     "name": "stderr",
     "output_type": "stream",
     "text": [
      "[Parallel(n_jobs=1)]: Done   3 out of   3 | elapsed:    0.9s remaining:    0.0s\n",
      "[Parallel(n_jobs=1)]: Done   3 out of   3 | elapsed:    0.9s finished\n",
      "/home/rpartsey/development/aml-class-20/venv/lib/python3.6/site-packages/sklearn/utils/validation.py:558: FutureWarning: Beginning in version 0.22, arrays of bytes/strings will be converted to decimal numbers if dtype='numeric'. It is recommended that you convert the array to a float dtype before using it in scikit-learn, for example by using your_array = your_array.astype(np.float64).\n",
      "  FutureWarning)\n",
      "/home/rpartsey/development/aml-class-20/venv/lib/python3.6/site-packages/sklearn/utils/validation.py:558: FutureWarning: Beginning in version 0.22, arrays of bytes/strings will be converted to decimal numbers if dtype='numeric'. It is recommended that you convert the array to a float dtype before using it in scikit-learn, for example by using your_array = your_array.astype(np.float64).\n",
      "  FutureWarning)\n"
     ]
    },
    {
     "name": "stdout",
     "output_type": "stream",
     "text": [
      "Fitting 3 folds for each of 1 candidates, totalling 3 fits\n",
      "[CV] rf__criterion=mse, rf__max_depth=8, rf__n_estimators=5 ..........\n"
     ]
    },
    {
     "name": "stderr",
     "output_type": "stream",
     "text": [
      "[Parallel(n_jobs=1)]: Using backend SequentialBackend with 1 concurrent workers.\n"
     ]
    },
    {
     "name": "stdout",
     "output_type": "stream",
     "text": [
      "[CV]  rf__criterion=mse, rf__max_depth=8, rf__n_estimators=5, score=-0.0022013669781783237, total=   0.4s\n",
      "[CV] rf__criterion=mse, rf__max_depth=8, rf__n_estimators=5 ..........\n"
     ]
    },
    {
     "name": "stderr",
     "output_type": "stream",
     "text": [
      "[Parallel(n_jobs=1)]: Done   1 out of   1 | elapsed:    0.4s remaining:    0.0s\n"
     ]
    },
    {
     "name": "stdout",
     "output_type": "stream",
     "text": [
      "[CV]  rf__criterion=mse, rf__max_depth=8, rf__n_estimators=5, score=-0.002393517023012413, total=   0.3s\n",
      "[CV] rf__criterion=mse, rf__max_depth=8, rf__n_estimators=5 ..........\n"
     ]
    },
    {
     "name": "stderr",
     "output_type": "stream",
     "text": [
      "[Parallel(n_jobs=1)]: Done   2 out of   2 | elapsed:    0.7s remaining:    0.0s\n"
     ]
    },
    {
     "name": "stdout",
     "output_type": "stream",
     "text": [
      "[CV]  rf__criterion=mse, rf__max_depth=8, rf__n_estimators=5, score=-0.002233119927295168, total=   0.4s\n"
     ]
    },
    {
     "name": "stderr",
     "output_type": "stream",
     "text": [
      "[Parallel(n_jobs=1)]: Done   3 out of   3 | elapsed:    1.1s remaining:    0.0s\n",
      "[Parallel(n_jobs=1)]: Done   3 out of   3 | elapsed:    1.1s finished\n",
      "/home/rpartsey/development/aml-class-20/venv/lib/python3.6/site-packages/sklearn/utils/validation.py:558: FutureWarning: Beginning in version 0.22, arrays of bytes/strings will be converted to decimal numbers if dtype='numeric'. It is recommended that you convert the array to a float dtype before using it in scikit-learn, for example by using your_array = your_array.astype(np.float64).\n",
      "  FutureWarning)\n",
      "/home/rpartsey/development/aml-class-20/venv/lib/python3.6/site-packages/sklearn/utils/validation.py:558: FutureWarning: Beginning in version 0.22, arrays of bytes/strings will be converted to decimal numbers if dtype='numeric'. It is recommended that you convert the array to a float dtype before using it in scikit-learn, for example by using your_array = your_array.astype(np.float64).\n",
      "  FutureWarning)\n"
     ]
    },
    {
     "name": "stdout",
     "output_type": "stream",
     "text": [
      "Fitting 3 folds for each of 1 candidates, totalling 3 fits\n",
      "[CV] rf__criterion=mse, rf__max_depth=10, rf__n_estimators=4 .........\n"
     ]
    },
    {
     "name": "stderr",
     "output_type": "stream",
     "text": [
      "[Parallel(n_jobs=1)]: Using backend SequentialBackend with 1 concurrent workers.\n"
     ]
    },
    {
     "name": "stdout",
     "output_type": "stream",
     "text": [
      "[CV]  rf__criterion=mse, rf__max_depth=10, rf__n_estimators=4, score=-0.002284006351384673, total=   0.3s\n",
      "[CV] rf__criterion=mse, rf__max_depth=10, rf__n_estimators=4 .........\n"
     ]
    },
    {
     "name": "stderr",
     "output_type": "stream",
     "text": [
      "[Parallel(n_jobs=1)]: Done   1 out of   1 | elapsed:    0.4s remaining:    0.0s\n"
     ]
    },
    {
     "name": "stdout",
     "output_type": "stream",
     "text": [
      "[CV]  rf__criterion=mse, rf__max_depth=10, rf__n_estimators=4, score=-0.0023682289721678263, total=   0.3s\n",
      "[CV] rf__criterion=mse, rf__max_depth=10, rf__n_estimators=4 .........\n"
     ]
    },
    {
     "name": "stderr",
     "output_type": "stream",
     "text": [
      "[Parallel(n_jobs=1)]: Done   2 out of   2 | elapsed:    0.7s remaining:    0.0s\n"
     ]
    },
    {
     "name": "stdout",
     "output_type": "stream",
     "text": [
      "[CV]  rf__criterion=mse, rf__max_depth=10, rf__n_estimators=4, score=-0.0023626819706629404, total=   0.2s\n"
     ]
    },
    {
     "name": "stderr",
     "output_type": "stream",
     "text": [
      "[Parallel(n_jobs=1)]: Done   3 out of   3 | elapsed:    0.9s remaining:    0.0s\n",
      "[Parallel(n_jobs=1)]: Done   3 out of   3 | elapsed:    0.9s finished\n",
      "/home/rpartsey/development/aml-class-20/venv/lib/python3.6/site-packages/sklearn/utils/validation.py:558: FutureWarning: Beginning in version 0.22, arrays of bytes/strings will be converted to decimal numbers if dtype='numeric'. It is recommended that you convert the array to a float dtype before using it in scikit-learn, for example by using your_array = your_array.astype(np.float64).\n",
      "  FutureWarning)\n",
      "/home/rpartsey/development/aml-class-20/venv/lib/python3.6/site-packages/sklearn/utils/validation.py:558: FutureWarning: Beginning in version 0.22, arrays of bytes/strings will be converted to decimal numbers if dtype='numeric'. It is recommended that you convert the array to a float dtype before using it in scikit-learn, for example by using your_array = your_array.astype(np.float64).\n",
      "  FutureWarning)\n"
     ]
    },
    {
     "name": "stdout",
     "output_type": "stream",
     "text": [
      "Fitting 3 folds for each of 1 candidates, totalling 3 fits\n",
      "[CV] rf__criterion=mse, rf__max_depth=11, rf__n_estimators=9 .........\n"
     ]
    },
    {
     "name": "stderr",
     "output_type": "stream",
     "text": [
      "[Parallel(n_jobs=1)]: Using backend SequentialBackend with 1 concurrent workers.\n"
     ]
    },
    {
     "name": "stdout",
     "output_type": "stream",
     "text": [
      "[CV]  rf__criterion=mse, rf__max_depth=11, rf__n_estimators=9, score=-0.0020476149920307506, total=   0.4s\n",
      "[CV] rf__criterion=mse, rf__max_depth=11, rf__n_estimators=9 .........\n"
     ]
    },
    {
     "name": "stderr",
     "output_type": "stream",
     "text": [
      "[Parallel(n_jobs=1)]: Done   1 out of   1 | elapsed:    0.5s remaining:    0.0s\n"
     ]
    },
    {
     "name": "stdout",
     "output_type": "stream",
     "text": [
      "[CV]  rf__criterion=mse, rf__max_depth=11, rf__n_estimators=9, score=-0.0022106460693700194, total=   0.4s\n",
      "[CV] rf__criterion=mse, rf__max_depth=11, rf__n_estimators=9 .........\n"
     ]
    },
    {
     "name": "stderr",
     "output_type": "stream",
     "text": [
      "[Parallel(n_jobs=1)]: Done   2 out of   2 | elapsed:    0.9s remaining:    0.0s\n"
     ]
    },
    {
     "name": "stdout",
     "output_type": "stream",
     "text": [
      "[CV]  rf__criterion=mse, rf__max_depth=11, rf__n_estimators=9, score=-0.0020642232448684302, total=   0.4s\n"
     ]
    },
    {
     "name": "stderr",
     "output_type": "stream",
     "text": [
      "[Parallel(n_jobs=1)]: Done   3 out of   3 | elapsed:    1.3s remaining:    0.0s\n",
      "[Parallel(n_jobs=1)]: Done   3 out of   3 | elapsed:    1.3s finished\n",
      "/home/rpartsey/development/aml-class-20/venv/lib/python3.6/site-packages/sklearn/utils/validation.py:558: FutureWarning: Beginning in version 0.22, arrays of bytes/strings will be converted to decimal numbers if dtype='numeric'. It is recommended that you convert the array to a float dtype before using it in scikit-learn, for example by using your_array = your_array.astype(np.float64).\n",
      "  FutureWarning)\n",
      "/home/rpartsey/development/aml-class-20/venv/lib/python3.6/site-packages/sklearn/utils/validation.py:558: FutureWarning: Beginning in version 0.22, arrays of bytes/strings will be converted to decimal numbers if dtype='numeric'. It is recommended that you convert the array to a float dtype before using it in scikit-learn, for example by using your_array = your_array.astype(np.float64).\n",
      "  FutureWarning)\n"
     ]
    },
    {
     "name": "stdout",
     "output_type": "stream",
     "text": [
      "Fitting 3 folds for each of 1 candidates, totalling 3 fits\n",
      "[CV] rf__criterion=mse, rf__max_depth=12, rf__n_estimators=3 .........\n"
     ]
    },
    {
     "name": "stderr",
     "output_type": "stream",
     "text": [
      "[Parallel(n_jobs=1)]: Using backend SequentialBackend with 1 concurrent workers.\n"
     ]
    },
    {
     "name": "stdout",
     "output_type": "stream",
     "text": [
      "[CV]  rf__criterion=mse, rf__max_depth=12, rf__n_estimators=3, score=-0.0023998929158027173, total=   0.2s\n",
      "[CV] rf__criterion=mse, rf__max_depth=12, rf__n_estimators=3 .........\n"
     ]
    },
    {
     "name": "stderr",
     "output_type": "stream",
     "text": [
      "[Parallel(n_jobs=1)]: Done   1 out of   1 | elapsed:    0.2s remaining:    0.0s\n"
     ]
    },
    {
     "name": "stdout",
     "output_type": "stream",
     "text": [
      "[CV]  rf__criterion=mse, rf__max_depth=12, rf__n_estimators=3, score=-0.0025849175467954795, total=   0.2s\n",
      "[CV] rf__criterion=mse, rf__max_depth=12, rf__n_estimators=3 .........\n"
     ]
    },
    {
     "name": "stderr",
     "output_type": "stream",
     "text": [
      "[Parallel(n_jobs=1)]: Done   2 out of   2 | elapsed:    0.5s remaining:    0.0s\n"
     ]
    },
    {
     "name": "stdout",
     "output_type": "stream",
     "text": [
      "[CV]  rf__criterion=mse, rf__max_depth=12, rf__n_estimators=3, score=-0.002571549488466586, total=   0.2s\n"
     ]
    },
    {
     "name": "stderr",
     "output_type": "stream",
     "text": [
      "[Parallel(n_jobs=1)]: Done   3 out of   3 | elapsed:    0.7s remaining:    0.0s\n",
      "[Parallel(n_jobs=1)]: Done   3 out of   3 | elapsed:    0.7s finished\n",
      "/home/rpartsey/development/aml-class-20/venv/lib/python3.6/site-packages/sklearn/utils/validation.py:558: FutureWarning: Beginning in version 0.22, arrays of bytes/strings will be converted to decimal numbers if dtype='numeric'. It is recommended that you convert the array to a float dtype before using it in scikit-learn, for example by using your_array = your_array.astype(np.float64).\n",
      "  FutureWarning)\n",
      "/home/rpartsey/development/aml-class-20/venv/lib/python3.6/site-packages/sklearn/utils/validation.py:558: FutureWarning: Beginning in version 0.22, arrays of bytes/strings will be converted to decimal numbers if dtype='numeric'. It is recommended that you convert the array to a float dtype before using it in scikit-learn, for example by using your_array = your_array.astype(np.float64).\n",
      "  FutureWarning)\n"
     ]
    },
    {
     "name": "stdout",
     "output_type": "stream",
     "text": [
      "Fitting 3 folds for each of 1 candidates, totalling 3 fits\n",
      "[CV] rf__criterion=mse, rf__max_depth=7, rf__n_estimators=2 ..........\n"
     ]
    },
    {
     "name": "stderr",
     "output_type": "stream",
     "text": [
      "[Parallel(n_jobs=1)]: Using backend SequentialBackend with 1 concurrent workers.\n"
     ]
    },
    {
     "name": "stdout",
     "output_type": "stream",
     "text": [
      "[CV]  rf__criterion=mse, rf__max_depth=7, rf__n_estimators=2, score=-0.0023781224680901603, total=   0.2s\n",
      "[CV] rf__criterion=mse, rf__max_depth=7, rf__n_estimators=2 ..........\n"
     ]
    },
    {
     "name": "stderr",
     "output_type": "stream",
     "text": [
      "[Parallel(n_jobs=1)]: Done   1 out of   1 | elapsed:    0.2s remaining:    0.0s\n"
     ]
    },
    {
     "name": "stdout",
     "output_type": "stream",
     "text": [
      "[CV]  rf__criterion=mse, rf__max_depth=7, rf__n_estimators=2, score=-0.002452723957507795, total=   0.3s\n",
      "[CV] rf__criterion=mse, rf__max_depth=7, rf__n_estimators=2 ..........\n"
     ]
    },
    {
     "name": "stderr",
     "output_type": "stream",
     "text": [
      "[Parallel(n_jobs=1)]: Done   2 out of   2 | elapsed:    0.5s remaining:    0.0s\n"
     ]
    },
    {
     "name": "stdout",
     "output_type": "stream",
     "text": [
      "[CV]  rf__criterion=mse, rf__max_depth=7, rf__n_estimators=2, score=-0.002521487140731811, total=   0.2s\n"
     ]
    },
    {
     "name": "stderr",
     "output_type": "stream",
     "text": [
      "[Parallel(n_jobs=1)]: Done   3 out of   3 | elapsed:    0.8s remaining:    0.0s\n",
      "[Parallel(n_jobs=1)]: Done   3 out of   3 | elapsed:    0.8s finished\n",
      "/home/rpartsey/development/aml-class-20/venv/lib/python3.6/site-packages/sklearn/utils/validation.py:558: FutureWarning: Beginning in version 0.22, arrays of bytes/strings will be converted to decimal numbers if dtype='numeric'. It is recommended that you convert the array to a float dtype before using it in scikit-learn, for example by using your_array = your_array.astype(np.float64).\n",
      "  FutureWarning)\n"
     ]
    },
    {
     "name": "stdout",
     "output_type": "stream",
     "text": [
      "best params: OrderedDict([('rf__criterion', 'mse'), ('rf__max_depth', 3), ('rf__n_estimators', 8)])\n",
      "mean_squared_error: 0.002053150263083261\n",
      "r2_score: 0.20428313326165104\n"
     ]
    }
   ],
   "source": [
    "numeric_pipeline = Pipeline(steps=[\n",
    "    ('imputer', SimpleImputer(strategy='median')),\n",
    "    ('scaler', MinMaxScaler()),\n",
    "    ('poly', PolynomialFeatures(2))\n",
    "])\n",
    "\n",
    "categorical_pipeline = Pipeline(steps=[\n",
    "    ('imputer', SimpleImputer(strategy='constant', fill_value='missing')),\n",
    "    ('onehot', OneHotEncoder(handle_unknown='ignore')),\n",
    "])\n",
    "\n",
    "\n",
    "preprocessor = ColumnTransformer(transformers=[\n",
    "    ('num', numeric_pipeline, numeric_features),\n",
    "    ('cat', categorical_pipeline, categorical_features),\n",
    "])\n",
    "\n",
    "param_grid = { \n",
    "    'lr__alpha': Real(0.001, 1, prior='uniform'),\n",
    "    'lr__l1_ratio': Real(0.001, 1, prior='uniform'),\n",
    "}\n",
    "\n",
    "est = Pipeline(steps=[\n",
    "    ('preprocessor', preprocessor),\n",
    "    ('rf', RandomForestRegressor(n_estimators=10, n_jobs=-1, random_state=RANDOM_STATE)),\n",
    "])\n",
    "\n",
    "param_grid = {\n",
    "    'rf__criterion': ['mse'],\n",
    "    'rf__n_estimators': list(range(1, 10 +1)),\n",
    "    'rf__max_depth': list(range(2, 15))\n",
    "}\n",
    "\n",
    "\n",
    "bs = BayesSearchCV(est, param_grid, \n",
    "                  scoring='neg_mean_squared_error', cv=3, refit=True, verbose=10)\n",
    "\n",
    "bs.fit(X_train, Y_train)\n",
    "\n",
    "\n",
    "print(\n",
    "    f'best params: {bs.best_params_}\\n'\n",
    "    f'mean_squared_error: {mean_squared_error(Y_test, bs.predict(X_test))}\\n'\n",
    "    f'r2_score: {r2_score(Y_test, bs.predict(X_test))}'\n",
    ")"
   ]
  },
  {
   "cell_type": "markdown",
   "metadata": {},
   "source": [
    "# Results\n",
    "\n",
    "| Experiment Id |  Description                                  | MSE     | R^2     |\n",
    "|---------------|-----------------------------------------------|---------|---------|\n",
    "| Baseline      | Mean of Y_test                                | 0.00258 | 0.0     |\n",
    "| 1             | ElasticNet                                    | 0.00242 | 0.06398 |\n",
    "| 2             | ElasticNet + PolynomialFeatures(2)            | 0.00225 | 0.12631 |\n",
    "| 3             | RandomForestRegressor                         | 0.00187 | 0.27396 |\n",
    "| 4             | RandomForestRegressor + PolynomialFeatures(2) | 0.00205 | 0.20428 |"
   ]
  }
 ],
 "metadata": {
  "kernelspec": {
   "display_name": "Python 3",
   "language": "python",
   "name": "python3"
  },
  "language_info": {
   "codemirror_mode": {
    "name": "ipython",
    "version": 3
   },
   "file_extension": ".py",
   "mimetype": "text/x-python",
   "name": "python",
   "nbconvert_exporter": "python",
   "pygments_lexer": "ipython3",
   "version": "3.6.11"
  }
 },
 "nbformat": 4,
 "nbformat_minor": 4
}
